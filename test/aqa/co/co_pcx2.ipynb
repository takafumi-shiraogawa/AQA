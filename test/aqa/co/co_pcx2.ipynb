{
 "cells": [
  {
   "attachments": {},
   "cell_type": "markdown",
   "metadata": {},
   "source": [
    "This notebook compares analytical and numerical evaluations of alchemical derivatives of a CO molecule up to the third order in KSDFT.  \n",
    "The results are summerized in the last section."
   ]
  },
  {
   "cell_type": "code",
   "execution_count": 1,
   "metadata": {},
   "outputs": [
    {
     "data": {
      "text/plain": [
       "'2.2.1'"
      ]
     },
     "execution_count": 1,
     "metadata": {},
     "output_type": "execute_result"
    }
   ],
   "source": [
    "from pyscf import gto,scf\n",
    "import numpy as np\n",
    "import pyscf\n",
    "\n",
    "pyscf.__version__"
   ]
  },
  {
   "cell_type": "code",
   "execution_count": 2,
   "metadata": {},
   "outputs": [],
   "source": [
    "from FcMole import FcM_like"
   ]
  },
  {
   "cell_type": "code",
   "execution_count": 3,
   "metadata": {},
   "outputs": [],
   "source": [
    "target_mol = \"C 0 0 0; O 0 0 2.1\"\n",
    "dft_functional = \"pbe0\"  # \"lda,vwn\"\n",
    "# basis_set = \"def2-TZVP\"\n",
    "import basis_set_exchange as bse\n",
    "basis_set = bse.get_basis('pcX-2',fmt=\"nwchem\")"
   ]
  },
  {
   "attachments": {},
   "cell_type": "markdown",
   "metadata": {},
   "source": [
    "### Analytical evaluation"
   ]
  },
  {
   "cell_type": "code",
   "execution_count": 4,
   "metadata": {},
   "outputs": [],
   "source": [
    "%load_ext autoreload\n",
    "from AP_class import APDFT_perturbator as AP"
   ]
  },
  {
   "cell_type": "code",
   "execution_count": 5,
   "metadata": {},
   "outputs": [
    {
     "name": "stdout",
     "output_type": "stream",
     "text": [
      "converged SCF energy = -113.231744670484\n"
     ]
    }
   ],
   "source": [
    "mol_NN=gto.M(atom=target_mol,unit=\"Bohr\",basis=basis_set)\n",
    "mf_nn=scf.RKS(mol_NN)\n",
    "mf_nn.xc = dft_functional\n",
    "mf_nn.scf()\n",
    "# mf_nn.conv_tol = 1e-12\n",
    "# mf_nn.grids.level = 6\n",
    "# mf_nn.nuc_grad_method().kernel()\n",
    "ap_nn=AP(mf_nn,sites=[0,1],flag_response_property=True)"
   ]
  },
  {
   "cell_type": "code",
   "execution_count": 6,
   "metadata": {},
   "outputs": [],
   "source": [
    "analytical_1st_alchemical_derivative = ap_nn.build_gradient()\n",
    "analytical_2nd_alchemical_derivative = ap_nn.build_hessian()\n",
    "analytical_3rd_alchemical_derivative = ap_nn.build_cubic()"
   ]
  },
  {
   "attachments": {},
   "cell_type": "markdown",
   "metadata": {},
   "source": [
    "Inefficient alchemical force in KS-DFT which calculates the response matrix for nuclear coordinates"
   ]
  },
  {
   "cell_type": "code",
   "execution_count": 7,
   "metadata": {},
   "outputs": [],
   "source": [
    "inefficient_analytical_alchemical_force = np.zeros((2, 2, 3))\n",
    "inefficient_analytical_alchemical_force[0] = ap_nn.build_inefficient_alchemical_force(0)\n",
    "inefficient_analytical_alchemical_force[1] = ap_nn.build_inefficient_alchemical_force(1)"
   ]
  },
  {
   "attachments": {},
   "cell_type": "markdown",
   "metadata": {},
   "source": [
    "Efficient alchemical force in KS-DFT which calculates the response matrix for nuclear coordinates"
   ]
  },
  {
   "cell_type": "code",
   "execution_count": 8,
   "metadata": {},
   "outputs": [],
   "source": [
    "efficient_analytical_alchemical_force = np.zeros((2, 2, 3))\n",
    "efficient_analytical_alchemical_force[0] = ap_nn.build_alchemical_force(0)\n",
    "efficient_analytical_alchemical_force[1] = ap_nn.build_alchemical_force(1)"
   ]
  },
  {
   "cell_type": "markdown",
   "metadata": {},
   "source": [
    "Electric dipole derivatives $\\partial ^2 E/ \\partial Z_I \\partial \\mathbf{F}$"
   ]
  },
  {
   "cell_type": "code",
   "execution_count": 9,
   "metadata": {},
   "outputs": [],
   "source": [
    "elec_electric_dipole_gradient_z = ap_nn.build_elec_electric_dipole_gradient(perturb_electron_density='Z')\n",
    "elec_electric_dipole_gradient_f = ap_nn.build_elec_electric_dipole_gradient(perturb_electron_density='F')"
   ]
  },
  {
   "cell_type": "markdown",
   "metadata": {},
   "source": [
    "Electric polarizability derivatives $\\partial ^3 E/ \\partial Z_I \\partial ^2 \\mathbf{F}$"
   ]
  },
  {
   "cell_type": "code",
   "execution_count": 10,
   "metadata": {},
   "outputs": [],
   "source": [
    "elec_electric_pol_gradient = ap_nn.build_electric_polarizability_gradient()"
   ]
  },
  {
   "attachments": {},
   "cell_type": "markdown",
   "metadata": {},
   "source": [
    "### Numerical evaluation"
   ]
  },
  {
   "cell_type": "code",
   "execution_count": 11,
   "metadata": {},
   "outputs": [],
   "source": [
    "%autoreload 2\n",
    "mol_NN=gto.M(atom=target_mol,unit=\"Bohr\",basis=basis_set)\n",
    "fc_param = 0.001\n",
    "fcs1 = [fc_param, 0.0]\n",
    "fcs2 = [-fc_param, 0.0]\n",
    "fcs3 = [0.0, fc_param]\n",
    "fcs4 = [0.0, -fc_param]"
   ]
  },
  {
   "attachments": {},
   "cell_type": "markdown",
   "metadata": {},
   "source": [
    "##### Efficient numerical alchemical force"
   ]
  },
  {
   "cell_type": "code",
   "execution_count": 12,
   "metadata": {},
   "outputs": [
    {
     "name": "stdout",
     "output_type": "stream",
     "text": [
      "converged SCF energy = -113.231744610727\n"
     ]
    },
    {
     "name": "stderr",
     "output_type": "stream",
     "text": [
      "/home/takafumi/program/pyscf/pyscf/gto/mole.py:1213: UserWarning: Function mol.dumps drops attribute with_rinv_at_nucleus because it is not JSON-serializable\n",
      "  warnings.warn(msg)\n"
     ]
    },
    {
     "name": "stdout",
     "output_type": "stream",
     "text": [
      "converged SCF energy = -113.246440595758\n",
      "converged SCF energy = -113.217051598173\n",
      "converged SCF energy = -113.254005307678\n",
      "converged SCF energy = -113.209487562025\n"
     ]
    }
   ],
   "source": [
    "fmol1=FcM_like(mol_NN,fcs=fcs1)\n",
    "fmol2=FcM_like(mol_NN,fcs=fcs2)\n",
    "fmol3=FcM_like(mol_NN,fcs=fcs3)\n",
    "fmol4=FcM_like(mol_NN,fcs=fcs4)\n",
    "mf=scf.RKS(mol_NN)\n",
    "mf1=scf.RKS(fmol1)\n",
    "mf2=scf.RKS(fmol2)\n",
    "mf3=scf.RKS(fmol3)\n",
    "mf4=scf.RKS(fmol4)\n",
    "mf.xc = dft_functional\n",
    "mf1.xc = dft_functional\n",
    "mf2.xc = dft_functional\n",
    "mf3.xc = dft_functional\n",
    "mf4.xc = dft_functional\n",
    "# mf.conv_tol = 1e-12\n",
    "# mf1.conv_tol = 1e-12\n",
    "# mf2.conv_tol = 1e-12\n",
    "# mf3.conv_tol = 1e-12\n",
    "# mf4.conv_tol = 1e-12\n",
    "# mf.grids.level = 6\n",
    "# mf1.grids.level = 6\n",
    "# mf2.grids.level = 6\n",
    "# mf3.grids.level = 6\n",
    "# mf4.grids.level = 6\n",
    "# Without dm0=mf.init_guess_by_1e(), some SCFs do not converge.\n",
    "e=mf.scf(dm0=mf.init_guess_by_1e())\n",
    "e1=mf1.scf(dm0=mf1.init_guess_by_1e())\n",
    "e2=mf2.scf(dm0=mf2.init_guess_by_1e())\n",
    "e3=mf3.scf(dm0=mf3.init_guess_by_1e())\n",
    "e4=mf4.scf(dm0=mf4.init_guess_by_1e())"
   ]
  },
  {
   "cell_type": "code",
   "execution_count": 13,
   "metadata": {},
   "outputs": [
    {
     "name": "stdout",
     "output_type": "stream",
     "text": [
      "--------------- RKS gradients ---------------\n",
      "         x                y                z\n",
      "0 C     0.0000000000    -0.0000000000     0.0290752699\n",
      "1 O    -0.0000000000     0.0000000000    -0.0290813083\n",
      "----------------------------------------------\n",
      "--------------- RKS gradients ---------------\n",
      "         x                y                z\n",
      "0 C    -0.0000000000    -0.0000000000     0.0288517909\n",
      "1 O     0.0000000000     0.0000000000    -0.0288578264\n",
      "----------------------------------------------\n",
      "--------------- RKS gradients ---------------\n",
      "         x                y                z\n",
      "0 C    -0.0000000000    -0.0000000000     0.0292987915\n",
      "1 O     0.0000000000     0.0000000000    -0.0293048327\n",
      "----------------------------------------------\n",
      "--------------- RKS gradients ---------------\n",
      "         x                y                z\n",
      "0 C     0.0000000000     0.0000000000     0.0290286955\n",
      "1 O    -0.0000000000    -0.0000000000    -0.0290347423\n",
      "----------------------------------------------\n",
      "--------------- RKS gradients ---------------\n",
      "         x                y                z\n",
      "0 C     0.0000000000     0.0000000000     0.0291220202\n",
      "1 O    -0.0000000000    -0.0000000000    -0.0291280502\n",
      "----------------------------------------------\n"
     ]
    }
   ],
   "source": [
    "nuc_grad = mf.nuc_grad_method().kernel()\n",
    "nuc_grad1 = mf1.nuc_grad_method().kernel()\n",
    "nuc_grad2 = mf2.nuc_grad_method().kernel()\n",
    "nuc_grad3 = mf3.nuc_grad_method().kernel()\n",
    "nuc_grad4 = mf4.nuc_grad_method().kernel()"
   ]
  },
  {
   "cell_type": "code",
   "execution_count": 14,
   "metadata": {},
   "outputs": [],
   "source": [
    "efficient_numerical_alchemical_force = np.zeros((2, 2, 3))\n",
    "efficient_numerical_alchemical_force[0] = (nuc_grad1 - nuc_grad2) / (2 * fc_param)\n",
    "efficient_numerical_alchemical_force[1] = (nuc_grad3 - nuc_grad4) / (2 * fc_param)"
   ]
  },
  {
   "attachments": {},
   "cell_type": "markdown",
   "metadata": {},
   "source": [
    "#### Numerical alchemical derivatives"
   ]
  },
  {
   "cell_type": "code",
   "execution_count": 15,
   "metadata": {},
   "outputs": [],
   "source": [
    "numerical_1st_alchemical_derivative = np.zeros((2))\n",
    "numerical_1st_alchemical_derivative[0] = (e1 - e2) / (2 * fc_param)\n",
    "numerical_1st_alchemical_derivative[1] = (e3 - e4) / (2 * fc_param)"
   ]
  },
  {
   "attachments": {},
   "cell_type": "markdown",
   "metadata": {},
   "source": [
    "#### Numerical alchemical hardness"
   ]
  },
  {
   "cell_type": "code",
   "execution_count": 16,
   "metadata": {},
   "outputs": [],
   "source": [
    "ap_nn=AP(mf,sites=[0,1])\n",
    "ap_nn1=AP(mf1,sites=[0,1],flag_response_property=True,charges_for_center=[6,8])\n",
    "ap_nn2=AP(mf2,sites=[0,1],flag_response_property=True,charges_for_center=[6,8])\n",
    "ap_nn3=AP(mf3,sites=[0,1],flag_response_property=True,charges_for_center=[6,8])\n",
    "ap_nn4=AP(mf4,sites=[0,1],flag_response_property=True,charges_for_center=[6,8])\n",
    "an = ap_nn.build_gradient()\n",
    "an1 = ap_nn1.build_gradient()\n",
    "an2 = ap_nn2.build_gradient()\n",
    "an3 = ap_nn3.build_gradient()\n",
    "an4 = ap_nn4.build_gradient()\n",
    "ann = ap_nn.build_hessian()\n",
    "ann1 = ap_nn1.build_hessian()\n",
    "ann2 = ap_nn2.build_hessian()\n",
    "ann3 = ap_nn3.build_hessian()\n",
    "ann4 = ap_nn4.build_hessian()\n",
    "dipole1 = ap_nn1.ref_elec_electric_dipole_moment * -1\n",
    "dipole2 = ap_nn2.ref_elec_electric_dipole_moment * -1\n",
    "dipole3 = ap_nn3.ref_elec_electric_dipole_moment * -1\n",
    "dipole4 = ap_nn4.ref_elec_electric_dipole_moment * -1\n",
    "pol1 = ap_nn1.ref_elec_electric_polarizability * -1\n",
    "pol2 = ap_nn2.ref_elec_electric_polarizability * -1\n",
    "pol3 = ap_nn3.ref_elec_electric_polarizability * -1\n",
    "pol4 = ap_nn4.ref_elec_electric_polarizability * -1"
   ]
  },
  {
   "cell_type": "code",
   "execution_count": 17,
   "metadata": {},
   "outputs": [],
   "source": [
    "numerical_2nd_alchemical_derivative = np.zeros((2, 2))\n",
    "numerical_2nd_alchemical_derivative[0] = (an1 - an2) / (2 * fc_param)\n",
    "numerical_2nd_alchemical_derivative[1] = (an3 - an4) / (2 * fc_param)"
   ]
  },
  {
   "attachments": {},
   "cell_type": "markdown",
   "metadata": {},
   "source": [
    "#### Numerical alchemical hardness derivatives"
   ]
  },
  {
   "cell_type": "code",
   "execution_count": 18,
   "metadata": {},
   "outputs": [],
   "source": [
    "numerical_3rd_alchemical_derivative = np.zeros((2, 2, 2))\n",
    "numerical_3rd_alchemical_derivative[0, :, :] = (ann1 - ann2) / (2 * fc_param)\n",
    "numerical_3rd_alchemical_derivative[1, :, :] = (ann3 - ann4) / (2 * fc_param)"
   ]
  },
  {
   "attachments": {},
   "cell_type": "markdown",
   "metadata": {},
   "source": [
    "#### Inefficient numerical alchemical force"
   ]
  },
  {
   "cell_type": "code",
   "execution_count": 19,
   "metadata": {},
   "outputs": [
    {
     "name": "stdout",
     "output_type": "stream",
     "text": [
      "converged SCF energy = -113.231714896515\n",
      "converged SCF energy = -113.231773036051\n",
      "converged SCF energy = -113.231773036051\n",
      "converged SCF energy = -113.231714896515\n"
     ]
    }
   ],
   "source": [
    "mol_NN1=gto.M(atom=\"C 0 0 0.001; O 0 0 2.1\",unit=\"Bohr\",basis=basis_set)\n",
    "mol_NN2=gto.M(atom=\"C 0 0 -0.001; O 0 0 2.1\",unit=\"Bohr\",basis=basis_set)\n",
    "mol_NN3=gto.M(atom=\"C 0 0 0; O 0 0 2.101\",unit=\"Bohr\",basis=basis_set)\n",
    "mol_NN4=gto.M(atom=\"C 0 0 0; O 0 0 2.099\",unit=\"Bohr\",basis=basis_set)\n",
    "mf_nn1=scf.RKS(mol_NN1)\n",
    "mf_nn2=scf.RKS(mol_NN2)\n",
    "mf_nn3=scf.RKS(mol_NN3)\n",
    "mf_nn4=scf.RKS(mol_NN4)\n",
    "mf_nn1.xc = dft_functional\n",
    "mf_nn2.xc = dft_functional\n",
    "mf_nn3.xc = dft_functional\n",
    "mf_nn4.xc = dft_functional\n",
    "mf_nn1.scf()\n",
    "mf_nn2.scf()\n",
    "mf_nn3.scf()\n",
    "mf_nn4.scf()\n",
    "ap_nn1=AP(mf_nn1,sites=[0,1])\n",
    "ap_nn2=AP(mf_nn2,sites=[0,1])\n",
    "ap_nn3=AP(mf_nn3,sites=[0,1])\n",
    "ap_nn4=AP(mf_nn4,sites=[0,1])\n",
    "ad1 = ap_nn1.build_gradient()\n",
    "ad2 = ap_nn2.build_gradient()\n",
    "ad3 = ap_nn3.build_gradient()\n",
    "ad4 = ap_nn4.build_gradient()"
   ]
  },
  {
   "cell_type": "code",
   "execution_count": 20,
   "metadata": {},
   "outputs": [],
   "source": [
    "inefficient_numerical_alchemical_force = np.zeros((2, 2))  # only z axis components\n",
    "inefficient_numerical_alchemical_force[:, 0] = (ad1 - ad2) / (2 * fc_param)\n",
    "inefficient_numerical_alchemical_force[:, 1] = (ad3 - ad4) / (2 * fc_param)"
   ]
  },
  {
   "cell_type": "code",
   "execution_count": 21,
   "metadata": {},
   "outputs": [],
   "source": [
    "numer_elec_electric_dipole_gradient = np.zeros((2, 3))\n",
    "numer_elec_electric_dipole_gradient[0] = (dipole1 - dipole2) / (2 * fc_param)\n",
    "numer_elec_electric_dipole_gradient[1] = (dipole3 - dipole4) / (2 * fc_param)"
   ]
  },
  {
   "cell_type": "code",
   "execution_count": 22,
   "metadata": {},
   "outputs": [],
   "source": [
    "numer_elec_electric_pol_gradient = np.zeros((2, 3, 3))\n",
    "numer_elec_electric_pol_gradient[0] = (pol1 - pol2) / (2 * fc_param)\n",
    "numer_elec_electric_pol_gradient[1] = (pol3 - pol4) / (2 * fc_param)"
   ]
  },
  {
   "cell_type": "markdown",
   "metadata": {},
   "source": [
    "## Comparison of analytical and numerical evaluations"
   ]
  },
  {
   "cell_type": "markdown",
   "metadata": {},
   "source": [
    "$ \\partial E/\\partial Z_i $"
   ]
  },
  {
   "cell_type": "code",
   "execution_count": 23,
   "metadata": {},
   "outputs": [
    {
     "name": "stdout",
     "output_type": "stream",
     "text": [
      "[-14.69449855 -22.25887343]\n"
     ]
    }
   ],
   "source": [
    "print(analytical_1st_alchemical_derivative)"
   ]
  },
  {
   "cell_type": "markdown",
   "metadata": {},
   "source": [
    "$ (\\partial E/\\partial Z_i)_\\mathrm{analytical} $ - $ (\\partial E/\\partial Z_i)_\\mathrm{numerical} $"
   ]
  },
  {
   "cell_type": "code",
   "execution_count": 24,
   "metadata": {},
   "outputs": [
    {
     "name": "stdout",
     "output_type": "stream",
     "text": [
      "[ 2.43462971e-07 -6.00392791e-07]\n"
     ]
    }
   ],
   "source": [
    "print(analytical_1st_alchemical_derivative - numerical_1st_alchemical_derivative)"
   ]
  },
  {
   "cell_type": "markdown",
   "metadata": {},
   "source": [
    "$\\partial^2E/\\partial Z_i\\partial Z_j$"
   ]
  },
  {
   "cell_type": "code",
   "execution_count": 25,
   "metadata": {},
   "outputs": [
    {
     "name": "stdout",
     "output_type": "stream",
     "text": [
      "[[-2.97247707  0.45684296]\n",
      " [ 0.45684296 -3.64824864]]\n"
     ]
    }
   ],
   "source": [
    "print(analytical_2nd_alchemical_derivative)"
   ]
  },
  {
   "cell_type": "markdown",
   "metadata": {},
   "source": [
    "$(\\partial^2E/\\partial Z_i\\partial Z_j)_\\mathrm{analytical}$ - $(\\partial^2E/\\partial Z_i\\partial Z_j)_\\mathrm{numerical}$"
   ]
  },
  {
   "cell_type": "code",
   "execution_count": 26,
   "metadata": {},
   "outputs": [
    {
     "name": "stdout",
     "output_type": "stream",
     "text": [
      "[[ 6.15265903e-06 -1.95087793e-05]\n",
      " [ 2.99294388e-06 -7.24907511e-06]]\n"
     ]
    }
   ],
   "source": [
    "print(analytical_2nd_alchemical_derivative - numerical_2nd_alchemical_derivative)"
   ]
  },
  {
   "cell_type": "markdown",
   "metadata": {},
   "source": [
    "$\\partial^3E/\\partial Z_i\\partial Z_j\\partial Z_k$"
   ]
  },
  {
   "cell_type": "code",
   "execution_count": 27,
   "metadata": {},
   "outputs": [
    {
     "name": "stdout",
     "output_type": "stream",
     "text": [
      "[[[-0.20640009  0.11823329]\n",
      "  [ 0.11823329  0.08695088]]\n",
      "\n",
      " [[ 0.11823329  0.08695088]\n",
      "  [ 0.08695088 -0.21972794]]]\n"
     ]
    }
   ],
   "source": [
    "print(analytical_3rd_alchemical_derivative)"
   ]
  },
  {
   "cell_type": "markdown",
   "metadata": {},
   "source": [
    "$(\\partial^3E/\\partial Z_i\\partial Z_j\\partial Z_k)_\\mathrm{analytical}$ - $(\\partial^3E/\\partial Z_i\\partial Z_j\\partial Z_k)_\\mathrm{numerical}$"
   ]
  },
  {
   "cell_type": "code",
   "execution_count": 28,
   "metadata": {},
   "outputs": [
    {
     "name": "stdout",
     "output_type": "stream",
     "text": [
      "[[[ 2.01063655e-06  2.35563893e-07]\n",
      "  [ 2.35563893e-07 -4.62388347e-07]]\n",
      "\n",
      " [[ 8.72882508e-07  2.44112372e-07]\n",
      "  [ 2.44112372e-07 -3.65192599e-07]]]\n"
     ]
    }
   ],
   "source": [
    "print(analytical_3rd_alchemical_derivative - numerical_3rd_alchemical_derivative)"
   ]
  },
  {
   "cell_type": "markdown",
   "metadata": {},
   "source": [
    "$\\partial^2E/\\partial Z_i\\partial R_j$"
   ]
  },
  {
   "cell_type": "code",
   "execution_count": 29,
   "metadata": {},
   "outputs": [
    {
     "name": "stdout",
     "output_type": "stream",
     "text": [
      "[[[-1.50760059e-14 -9.51351765e-14 -2.23495259e-01]\n",
      "  [ 1.51582599e-14  9.51612247e-14  2.23498077e-01]]\n",
      "\n",
      " [[ 1.41036059e-13 -1.03564289e-13 -4.66604450e-02]\n",
      "  [-1.40682135e-13  1.03472292e-13  4.66520177e-02]]]\n"
     ]
    }
   ],
   "source": [
    "print(efficient_analytical_alchemical_force)"
   ]
  },
  {
   "cell_type": "markdown",
   "metadata": {},
   "source": [
    "$(\\partial^2E/\\partial Z_i\\partial R_j)_\\mathrm{analytical}$ - $(\\partial^2E/\\partial Z_i\\partial R_j)_\\mathrm{numerical}$"
   ]
  },
  {
   "cell_type": "code",
   "execution_count": 30,
   "metadata": {},
   "outputs": [
    {
     "name": "stdout",
     "output_type": "stream",
     "text": [
      "[[[-1.38854382e-12  9.94914802e-13  5.04179004e-06]\n",
      "  [ 1.22058931e-12 -2.91266232e-13 -5.08202108e-06]]\n",
      "\n",
      " [[ 5.78868073e-13 -5.20717026e-12  1.93308889e-06]\n",
      "  [-2.73201750e-13  5.42365809e-12 -1.94148468e-06]]]\n"
     ]
    }
   ],
   "source": [
    "print(efficient_analytical_alchemical_force - efficient_numerical_alchemical_force)"
   ]
  },
  {
   "cell_type": "markdown",
   "metadata": {},
   "source": [
    "$\\partial^2E/\\partial Z_i\\partial R_j$"
   ]
  },
  {
   "cell_type": "code",
   "execution_count": 31,
   "metadata": {},
   "outputs": [
    {
     "name": "stdout",
     "output_type": "stream",
     "text": [
      "[[[-1.50734325e-14 -9.51287797e-14 -2.23495259e-01]\n",
      "  [ 1.51510156e-14  9.51609635e-14  2.23498077e-01]]\n",
      "\n",
      " [[ 1.41053514e-13 -1.03568484e-13 -4.66604441e-02]\n",
      "  [-1.40664395e-13  1.03458470e-13  4.66520168e-02]]]\n"
     ]
    }
   ],
   "source": [
    "print(inefficient_analytical_alchemical_force)"
   ]
  },
  {
   "cell_type": "markdown",
   "metadata": {},
   "source": [
    "$(\\partial^2E/\\partial Z_i\\partial R_j)_\\mathrm{analytical}$ - $(\\partial^2E/\\partial Z_i\\partial R_j)_\\mathrm{numerical}$"
   ]
  },
  {
   "cell_type": "code",
   "execution_count": 32,
   "metadata": {},
   "outputs": [
    {
     "name": "stdout",
     "output_type": "stream",
     "text": [
      "[[ 5.64846060e-06 -2.83030876e-06]\n",
      " [-1.07578930e-05  2.32983493e-06]]\n"
     ]
    }
   ],
   "source": [
    "print(inefficient_analytical_alchemical_force[:, :, 2] - inefficient_numerical_alchemical_force)"
   ]
  },
  {
   "cell_type": "markdown",
   "metadata": {},
   "source": [
    "$(\\partial ^2 E/ \\partial Z_I \\partial \\mathbf{F})_\\mathrm{analytical}$"
   ]
  },
  {
   "cell_type": "code",
   "execution_count": 33,
   "metadata": {},
   "outputs": [
    {
     "name": "stdout",
     "output_type": "stream",
     "text": [
      "[[ 2.28380933e-14 -1.02141902e-13 -6.58025487e-01]\n",
      " [ 3.07790443e-13 -5.12289082e-14  1.19452177e+00]]\n"
     ]
    }
   ],
   "source": [
    "print(elec_electric_dipole_gradient_f)"
   ]
  },
  {
   "cell_type": "code",
   "execution_count": 34,
   "metadata": {},
   "outputs": [
    {
     "name": "stdout",
     "output_type": "stream",
     "text": [
      "[[ 2.27719361e-14 -1.01910326e-13 -6.58025487e-01]\n",
      " [ 3.08021486e-13 -5.12984307e-14  1.19452177e+00]]\n"
     ]
    }
   ],
   "source": [
    "print(elec_electric_dipole_gradient_z)"
   ]
  },
  {
   "cell_type": "markdown",
   "metadata": {},
   "source": [
    "$(\\partial ^2 E/ \\partial Z_I \\partial \\mathbf{F})_\\mathrm{analytical}$ - $(\\partial ^2 E/ \\partial Z_I \\partial \\mathbf{F})_\\mathrm{numerical}$"
   ]
  },
  {
   "cell_type": "code",
   "execution_count": 35,
   "metadata": {},
   "outputs": [
    {
     "name": "stdout",
     "output_type": "stream",
     "text": [
      "[[-3.09935843e-11 -5.65701264e-11  3.04231699e-05]\n",
      " [ 6.47596065e-11  1.07134585e-11  1.44385444e-05]]\n"
     ]
    }
   ],
   "source": [
    "print(elec_electric_dipole_gradient_f - numer_elec_electric_dipole_gradient)"
   ]
  },
  {
   "cell_type": "code",
   "execution_count": 36,
   "metadata": {},
   "outputs": [
    {
     "name": "stdout",
     "output_type": "stream",
     "text": [
      "[[-3.09936505e-11 -5.65698948e-11  3.04233211e-05]\n",
      " [ 6.47598376e-11  1.07133890e-11  1.44372652e-05]]\n"
     ]
    }
   ],
   "source": [
    "print(elec_electric_dipole_gradient_z - numer_elec_electric_dipole_gradient)"
   ]
  },
  {
   "cell_type": "markdown",
   "metadata": {},
   "source": [
    "$(\\partial ^3 E/ \\partial Z_I \\partial ^2 \\mathbf{F})_\\mathrm{analytical}$"
   ]
  },
  {
   "cell_type": "code",
   "execution_count": 37,
   "metadata": {},
   "outputs": [
    {
     "name": "stdout",
     "output_type": "stream",
     "text": [
      "[[[ 6.91330618e+00 -1.74440217e-13 -5.45702537e-14]\n",
      "  [-1.74440217e-13  6.91330618e+00  2.83125696e-13]\n",
      "  [-5.45702537e-14  2.83125696e-13  6.35332248e+00]]\n",
      "\n",
      " [[ 3.16207069e+00 -3.14367857e-13  1.32270441e-12]\n",
      "  [-3.14367857e-13  3.16207069e+00 -7.34142840e-13]\n",
      "  [ 1.32270441e-12 -7.34142840e-13  7.36584289e+00]]]\n"
     ]
    }
   ],
   "source": [
    "print(elec_electric_pol_gradient)"
   ]
  },
  {
   "cell_type": "markdown",
   "metadata": {},
   "source": [
    "$(\\partial ^3 E/ \\partial Z_I \\partial ^2 \\mathbf{F})_\\mathrm{analytical}$ - $(\\partial ^3 E/ \\partial Z_I \\partial ^2 \\mathbf{F})_\\mathrm{numerical}$"
   ]
  },
  {
   "cell_type": "code",
   "execution_count": 38,
   "metadata": {},
   "outputs": [
    {
     "name": "stdout",
     "output_type": "stream",
     "text": [
      "[[[-1.05312001e-05  3.56623484e-10  9.06634668e-10]\n",
      "  [ 3.56623484e-10 -1.05281862e-05 -4.98390635e-10]\n",
      "  [ 9.06634668e-10 -4.98390635e-10  8.13403593e-05]]\n",
      "\n",
      " [[ 4.58669462e-07  2.78714192e-11  4.83359315e-11]\n",
      "  [ 2.78714192e-11  4.58666097e-07  3.97630918e-11]\n",
      "  [ 4.83359315e-11  3.97630918e-11  3.67467674e-05]]]\n"
     ]
    }
   ],
   "source": [
    "print(elec_electric_pol_gradient - numer_elec_electric_pol_gradient)"
   ]
  }
 ],
 "metadata": {
  "kernelspec": {
   "display_name": "aqa",
   "language": "python",
   "name": "python3"
  },
  "language_info": {
   "codemirror_mode": {
    "name": "ipython",
    "version": 3
   },
   "file_extension": ".py",
   "mimetype": "text/x-python",
   "name": "python",
   "nbconvert_exporter": "python",
   "pygments_lexer": "ipython3",
   "version": "3.11.3"
  }
 },
 "nbformat": 4,
 "nbformat_minor": 4
}
