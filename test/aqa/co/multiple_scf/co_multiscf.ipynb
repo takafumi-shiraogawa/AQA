{
 "cells": [
  {
   "attachments": {},
   "cell_type": "markdown",
   "metadata": {},
   "source": [
    "SCF calculations of electronic energies of isoelectronic compounds of CO"
   ]
  },
  {
   "cell_type": "code",
   "execution_count": 1,
   "metadata": {},
   "outputs": [],
   "source": [
    "import basis_set_exchange as bse\n",
    "\n",
    "target_mol = \"\"\"\n",
    " C                 0.00000000    0.00000000    0.00000000\n",
    " O                 0.00000000    0.00000000    1.10000000\n",
    "\"\"\"\n",
    "dft_functional = \"pbe0\"\n",
    "# name_basis_set = \"def2-TZVP\"\n",
    "name_basis_set = {\"H\":bse.get_basis(\"pc-2\",fmt=\"nwchem\",elements=[1]),\n",
    "                  'Be':bse.get_basis(\"pcX-2\",fmt=\"nwchem\",elements=[4]),\n",
    "                  'B':bse.get_basis(\"pcX-2\",fmt=\"nwchem\",elements=[5]),\n",
    "                  'C':bse.get_basis(\"pcX-2\",fmt=\"nwchem\",elements=[6]),\n",
    "                  'N':bse.get_basis(\"pcX-2\",fmt=\"nwchem\",elements=[7]),\n",
    "                  'O':bse.get_basis(\"pcX-2\",fmt=\"nwchem\",elements=[8]),\n",
    "                  'F':bse.get_basis(\"pcX-2\",fmt=\"nwchem\",elements=[9]),\n",
    "                  'Ne':bse.get_basis(\"pcX-2\",fmt=\"nwchem\",elements=[10])}"
   ]
  },
  {
   "cell_type": "markdown",
   "metadata": {},
   "source": [
    "Calculate electronic energies from the given nuc_charges_ves"
   ]
  },
  {
   "cell_type": "markdown",
   "metadata": {},
   "source": [
    "CO,\n",
    "NN,\n",
    "BF,\n",
    "OC,\n",
    "BeNe"
   ]
  },
  {
   "cell_type": "markdown",
   "metadata": {},
   "source": [
    "Calculate electronic energies by reading target_molecules.inp"
   ]
  },
  {
   "cell_type": "code",
   "execution_count": 2,
   "metadata": {},
   "outputs": [
    {
     "name": "stdout",
     "output_type": "stream",
     "text": [
      "mod_SCF is True.\n",
      "converged SCF energy = -113.230797527533\n",
      "mod_SCF is True.\n",
      "converged SCF energy = -109.445281158139\n",
      "mod_SCF is True.\n",
      "converged SCF energy = -124.5461223455\n",
      "mod_SCF is True.\n",
      "converged SCF energy = -113.230797527533\n",
      "mod_SCF is True.\n",
      "converged SCF energy = -143.287331816871\n",
      "\n",
      "CO, NN, BF, OC, BeNe\n",
      "[-136.32216673 -133.01772055 -146.19428097 -136.32216673 -162.53013949]\n"
     ]
    }
   ],
   "source": [
    "from alch_calc_utils import calc_scf_ele_energies_from_nuc_charge_vecs, write_scf_ele_ene_dat\n",
    "\n",
    "sites = [0, 1]\n",
    "ele_enes = (calc_scf_ele_energies_from_nuc_charge_vecs(\n",
    "      target_mol, sites, nuc_charges_vecs=None, dft_functional=\"PBE0\", name_basis_set=name_basis_set,\n",
    "      bse_off=True))\n",
    "write_scf_ele_ene_dat(ele_enes)\n",
    "\n",
    "print()\n",
    "print(\"CO, NN, BF, OC, BeNe\")\n",
    "print(ele_enes)"
   ]
  }
 ],
 "metadata": {
  "kernelspec": {
   "display_name": "aqa",
   "language": "python",
   "name": "python3"
  },
  "language_info": {
   "codemirror_mode": {
    "name": "ipython",
    "version": 3
   },
   "file_extension": ".py",
   "mimetype": "text/x-python",
   "name": "python",
   "nbconvert_exporter": "python",
   "pygments_lexer": "ipython3",
   "version": "3.11.3"
  }
 },
 "nbformat": 4,
 "nbformat_minor": 4
}
