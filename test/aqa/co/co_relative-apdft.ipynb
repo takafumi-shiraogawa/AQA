{
 "cells": [
  {
   "cell_type": "markdown",
   "metadata": {},
   "source": [
    "## Summary"
   ]
  },
  {
   "attachments": {},
   "cell_type": "markdown",
   "metadata": {},
   "source": [
    "Analytical alchemical estimate of relative energy between N2 and BF with reference CO is performed.  \n",
    "Analytical gradient w.r.t. nuclear coordinates is calculated to check the convergence of wavefunction.\n",
    "\n",
    "The results of the alchemical estimate of $\\mathrm{(N_2 - BF\\textrm{ relative energy})_{alchemy}} - \\mathrm{(N_2 - BF\\textrm{ relative energy})_{SCF}} =\\Delta E$ are  \n",
    "| Included terms | $\\Delta E$ (Hartree) |\n",
    "| -- | -- |\n",
    "| Hellmann-Feynman                  | 0.02037  |\n",
    "| Hellmann-Feynman + 3rd derivative | -0.0057 |\n",
    "\n",
    "For small CO, the mutation of two atomic species can be seen as a very large perturbation. Surprisingly, however, with the 3rd energy derivative, the error is of the order of mHa."
   ]
  },
  {
   "cell_type": "markdown",
   "metadata": {},
   "source": [
    "## Calculation"
   ]
  },
  {
   "cell_type": "code",
   "execution_count": 1,
   "metadata": {},
   "outputs": [
    {
     "data": {
      "text/plain": [
       "'2.2.1'"
      ]
     },
     "execution_count": 1,
     "metadata": {},
     "output_type": "execute_result"
    }
   ],
   "source": [
    "from pyscf import gto,scf\n",
    "import pyscf\n",
    "import numpy as np\n",
    "import basis_set_exchange as bse\n",
    "\n",
    "pyscf.__version__"
   ]
  },
  {
   "cell_type": "code",
   "execution_count": 2,
   "metadata": {},
   "outputs": [],
   "source": [
    "from AP_class import APDFT_perturbator as AP"
   ]
  },
  {
   "cell_type": "code",
   "execution_count": 3,
   "metadata": {},
   "outputs": [],
   "source": [
    "basis_set = bse.get_basis('pcX-2',fmt=\"nwchem\")\n",
    "# basis_set = \"def2-TZVP\"\n",
    "dft_func = \"pbe0\""
   ]
  },
  {
   "cell_type": "code",
   "execution_count": 4,
   "metadata": {},
   "outputs": [
    {
     "name": "stdout",
     "output_type": "stream",
     "text": [
      "[[0.         0.         0.        ]\n",
      " [0.         0.         2.07869874]]\n",
      "converged SCF energy = -113.230797527533\n",
      "--------------- RKS gradients ---------------\n",
      "         x                y                z\n",
      "0 C    -0.0000000000    -0.0000000000     0.0602666334\n",
      "1 O     0.0000000000     0.0000000000    -0.0602708853\n",
      "----------------------------------------------\n"
     ]
    }
   ],
   "source": [
    "mol_CO=gto.M(atom= \"C 0 0 0; O 0 0 1.1\",basis=basis_set)\n",
    "print(mol_CO.atom_coords())\n",
    "mf_co=scf.RKS(mol_CO)\n",
    "mf_co.xc = dft_func\n",
    "mf_co.scf()\n",
    "mf_co.nuc_grad_method().kernel()\n",
    "ap_co=AP(mf_co,sites=[0,1])"
   ]
  },
  {
   "attachments": {},
   "cell_type": "markdown",
   "metadata": {},
   "source": [
    "Calculate $\\partial E/\\partial Z_i$, hessian $\\partial^2E/\\partial Z_i\\partial Z_j$ and cubic derivatives $\\partial^3E/\\partial Z_i\\partial Z_j\\partial Z_k$"
   ]
  },
  {
   "cell_type": "code",
   "execution_count": 5,
   "metadata": {},
   "outputs": [
    {
     "name": "stdout",
     "output_type": "stream",
     "text": [
      "[-18.5478735  -25.14633724]\n",
      "[[-2.97157942 -0.02342743]\n",
      " [-0.02342743 -3.64448551]]\n",
      "[[[-0.20456914  0.11836782]\n",
      "  [ 0.11836782  0.08776343]]\n",
      "\n",
      " [[ 0.11836782  0.08776343]\n",
      "  [ 0.08776343 -0.21809864]]]\n"
     ]
    }
   ],
   "source": [
    "print(ap_co.build_elec_gradient())\n",
    "print(ap_co.build_elec_hessian())\n",
    "print(ap_co.build_cubic())"
   ]
  },
  {
   "cell_type": "markdown",
   "metadata": {},
   "source": [
    "### BF"
   ]
  },
  {
   "cell_type": "markdown",
   "metadata": {},
   "source": [
    "APDFT"
   ]
  },
  {
   "cell_type": "code",
   "execution_count": 6,
   "metadata": {},
   "outputs": [],
   "source": [
    "bf_apdft0 = ap_co.elec_APDFT0(np.asarray([-1,1]))\n",
    "bf_apdft1 = ap_co.elec_APDFT1(np.asarray([-1,1]))\n",
    "bf_apdft2 = ap_co.elec_APDFT2(np.asarray([-1,1]))\n",
    "bf_apdft3 = ap_co.elec_APDFT3(np.asarray([-1,1]))"
   ]
  },
  {
   "cell_type": "markdown",
   "metadata": {},
   "source": [
    "SCF"
   ]
  },
  {
   "cell_type": "code",
   "execution_count": 7,
   "metadata": {},
   "outputs": [
    {
     "name": "stdout",
     "output_type": "stream",
     "text": [
      "converged SCF energy = -124.546122345499\n",
      "--------------- RKS gradients ---------------\n",
      "         x                y                z\n",
      "0 B     0.0000000000    -0.0000000000     0.2857554094\n",
      "1 F    -0.0000000000     0.0000000000    -0.2857954779\n",
      "----------------------------------------------\n"
     ]
    }
   ],
   "source": [
    "mol_BF=gto.M(atom= \"B 0 0 0; F 0 0 1.1\",basis=basis_set)\n",
    "mf_bf=scf.RKS(mol_BF)\n",
    "mf_bf.xc = dft_func\n",
    "mf_bf.scf()\n",
    "mf_bf.nuc_grad_method().kernel()\n",
    "bf_energy = mf_bf.e_tot - mf_bf.energy_nuc()"
   ]
  },
  {
   "cell_type": "markdown",
   "metadata": {},
   "source": [
    "### N2"
   ]
  },
  {
   "cell_type": "markdown",
   "metadata": {},
   "source": [
    "APDFT"
   ]
  },
  {
   "cell_type": "code",
   "execution_count": 8,
   "metadata": {},
   "outputs": [],
   "source": [
    "n2_apdft0 = ap_co.elec_APDFT0(np.asarray([1,-1]))\n",
    "n2_apdft1 = ap_co.elec_APDFT1(np.asarray([1,-1]))\n",
    "n2_apdft2 = ap_co.elec_APDFT2(np.asarray([1,-1]))\n",
    "n2_apdft3 = ap_co.elec_APDFT3(np.asarray([1,-1]))\n",
    "n2_apdft0 = ap_co.elec_APDFT0(np.asarray([1,-1]))"
   ]
  },
  {
   "cell_type": "markdown",
   "metadata": {},
   "source": [
    "SCF"
   ]
  },
  {
   "cell_type": "code",
   "execution_count": 9,
   "metadata": {},
   "outputs": [
    {
     "name": "stdout",
     "output_type": "stream",
     "text": [
      "converged SCF energy = -109.445281158139\n",
      "--------------- RKS gradients ---------------\n",
      "         x                y                z\n",
      "0 N    -0.0000000000     0.0000000000    -0.0315355714\n",
      "1 N     0.0000000000    -0.0000000000     0.0315355714\n",
      "----------------------------------------------\n"
     ]
    }
   ],
   "source": [
    "mol_NN=gto.M(atom= \"N 0 0 0; N 0 0 1.1\",basis=basis_set)\n",
    "mf_nn=scf.RKS(mol_NN)\n",
    "mf_nn.xc = dft_func\n",
    "mf_nn.scf()\n",
    "mf_nn.nuc_grad_method().kernel()\n",
    "n2_energy = mf_nn.e_tot - mf_nn.energy_nuc()"
   ]
  },
  {
   "cell_type": "markdown",
   "metadata": {},
   "source": [
    "Relative estimate of N2-BF energy"
   ]
  },
  {
   "cell_type": "code",
   "execution_count": 10,
   "metadata": {},
   "outputs": [],
   "source": [
    "n2_bf_relative_apdft1 = ap_co.relative_elec_APDFT1(np.asarray([1,-1]))\n",
    "n2_bf_relative_apdft3 = ap_co.relative_elec_APDFT3(np.asarray([1,-1]))"
   ]
  },
  {
   "cell_type": "markdown",
   "metadata": {},
   "source": [
    "## Accuracy"
   ]
  },
  {
   "cell_type": "markdown",
   "metadata": {},
   "source": [
    "BF"
   ]
  },
  {
   "cell_type": "code",
   "execution_count": 11,
   "metadata": {},
   "outputs": [
    {
     "name": "stdout",
     "output_type": "stream",
     "text": [
      "9.872114242729907\n",
      "3.2736505043952775\n",
      "-0.010954534989878084\n",
      "0.0020927459560482475\n"
     ]
    }
   ],
   "source": [
    "print(bf_apdft0 - bf_energy)\n",
    "print(bf_apdft1 - bf_energy)\n",
    "print(bf_apdft2 - bf_energy)\n",
    "print(bf_apdft3 - bf_energy)"
   ]
  },
  {
   "cell_type": "markdown",
   "metadata": {},
   "source": [
    "N2"
   ]
  },
  {
   "cell_type": "code",
   "execution_count": 12,
   "metadata": {},
   "outputs": [
    {
     "name": "stdout",
     "output_type": "stream",
     "text": [
      "-3.3044461776488276\n",
      "3.294017560685802\n",
      "0.009412521300646404\n",
      "-0.003634759645279928\n"
     ]
    }
   ],
   "source": [
    "print(n2_apdft0 - n2_energy)\n",
    "print(n2_apdft1 - n2_energy)\n",
    "print(n2_apdft2 - n2_energy)\n",
    "print(n2_apdft3 - n2_energy)"
   ]
  },
  {
   "cell_type": "markdown",
   "metadata": {},
   "source": [
    "N2 - BF relative energy"
   ]
  },
  {
   "cell_type": "code",
   "execution_count": 13,
   "metadata": {},
   "outputs": [
    {
     "name": "stdout",
     "output_type": "stream",
     "text": [
      "SCF\n",
      "13.176560420378735\n",
      "\n",
      "APDFT\n",
      "APDFT0: 0.0\n",
      "APDFT1: 13.19692747666926\n",
      "APDFT2: 13.19692747666926\n",
      "APDFT3: 13.170832914777407\n",
      "\n",
      "Relative alchemical estimate\n",
      "Hellmann-Feynman                 : 13.19692747666923\n",
      "Hellmann-Feynman + 3rd derivative: 13.170832914777368\n"
     ]
    }
   ],
   "source": [
    "print(\"SCF\")\n",
    "print(n2_energy - bf_energy)\n",
    "print()\n",
    "print(\"APDFT\")\n",
    "print(\"APDFT0:\", n2_apdft0 - bf_apdft0)\n",
    "print(\"APDFT1:\", n2_apdft1 - bf_apdft1)\n",
    "print(\"APDFT2:\", n2_apdft2 - bf_apdft2)\n",
    "print(\"APDFT3:\", n2_apdft3 - bf_apdft3)\n",
    "print()\n",
    "print(\"Relative alchemical estimate\")\n",
    "print(\"Hellmann-Feynman                 :\", n2_bf_relative_apdft1)\n",
    "print(\"Hellmann-Feynman + 3rd derivative:\", n2_bf_relative_apdft3)"
   ]
  },
  {
   "cell_type": "markdown",
   "metadata": {},
   "source": [
    "$\\mathrm{(N_2 - BF\\textrm{ relative energy})_{alchemy}} - \\mathrm{(N_2 - BF\\textrm{ relative energy})_{SCF}}$"
   ]
  },
  {
   "cell_type": "code",
   "execution_count": 14,
   "metadata": {},
   "outputs": [
    {
     "name": "stdout",
     "output_type": "stream",
     "text": [
      "APDFT\n",
      "APDFT0: -13.176560420378735\n",
      "APDFT1: 0.020367056290524488\n",
      "APDFT2: 0.020367056290524488\n",
      "APDFT3: -0.0057275056013281755\n",
      "\n",
      "Relative alchemical estimate\n",
      "Hellmann-Feynman                 : 0.020367056290496066\n",
      "Hellmann-Feynman + 3rd derivative: -0.005727505601367255\n"
     ]
    }
   ],
   "source": [
    "print(\"APDFT\")\n",
    "print(\"APDFT0:\", n2_apdft0 - bf_apdft0 - (n2_energy - bf_energy))\n",
    "print(\"APDFT1:\", n2_apdft1 - bf_apdft1 - (n2_energy - bf_energy))\n",
    "print(\"APDFT2:\", n2_apdft2 - bf_apdft2 - (n2_energy - bf_energy))\n",
    "print(\"APDFT3:\", n2_apdft3 - bf_apdft3 - (n2_energy - bf_energy))\n",
    "print()\n",
    "print(\"Relative alchemical estimate\")\n",
    "print(\"Hellmann-Feynman                 :\", n2_bf_relative_apdft1 - (n2_energy - bf_energy))\n",
    "print(\"Hellmann-Feynman + 3rd derivative:\", n2_bf_relative_apdft3 - (n2_energy - bf_energy))"
   ]
  }
 ],
 "metadata": {
  "kernelspec": {
   "display_name": "aqa",
   "language": "python",
   "name": "python3"
  },
  "language_info": {
   "codemirror_mode": {
    "name": "ipython",
    "version": 3
   },
   "file_extension": ".py",
   "mimetype": "text/x-python",
   "name": "python",
   "nbconvert_exporter": "python",
   "pygments_lexer": "ipython3",
   "version": "3.11.3"
  }
 },
 "nbformat": 4,
 "nbformat_minor": 4
}
