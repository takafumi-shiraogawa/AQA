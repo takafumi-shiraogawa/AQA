{
 "cells": [
  {
   "attachments": {},
   "cell_type": "markdown",
   "metadata": {},
   "source": [
    "This notebook compares analytical and numerical evaluations of alchemical derivatives of a CO molecule up to the third order in KSDFT.  \n",
    "The results are summerized in the last section."
   ]
  },
  {
   "cell_type": "code",
   "execution_count": 1,
   "metadata": {},
   "outputs": [
    {
     "data": {
      "text/plain": [
       "'2.2.1'"
      ]
     },
     "execution_count": 1,
     "metadata": {},
     "output_type": "execute_result"
    }
   ],
   "source": [
    "from pyscf import gto,scf\n",
    "import numpy as np\n",
    "import pyscf\n",
    "\n",
    "pyscf.__version__"
   ]
  },
  {
   "cell_type": "code",
   "execution_count": 2,
   "metadata": {},
   "outputs": [],
   "source": [
    "from FcMole import FcM_like"
   ]
  },
  {
   "cell_type": "code",
   "execution_count": 3,
   "metadata": {},
   "outputs": [],
   "source": [
    "target_mol = \"C 0 0 0; O 0 0 2.1\"\n",
    "dft_functional = \"pbe0\"  # \"lda,vwn\"\n",
    "basis_set = \"def2-TZVP\""
   ]
  },
  {
   "attachments": {},
   "cell_type": "markdown",
   "metadata": {},
   "source": [
    "### Analytical evaluation"
   ]
  },
  {
   "cell_type": "code",
   "execution_count": 4,
   "metadata": {},
   "outputs": [],
   "source": [
    "%load_ext autoreload\n",
    "from AP_class import APDFT_perturbator as AP"
   ]
  },
  {
   "cell_type": "code",
   "execution_count": 5,
   "metadata": {},
   "outputs": [
    {
     "name": "stdout",
     "output_type": "stream",
     "text": [
      "converged SCF energy = -113.230628178699\n"
     ]
    }
   ],
   "source": [
    "mol_NN=gto.M(atom=target_mol,unit=\"Bohr\",basis=basis_set)\n",
    "mf_nn=scf.RKS(mol_NN)\n",
    "mf_nn.xc = dft_functional\n",
    "mf_nn.scf()\n",
    "# mf_nn.conv_tol = 1e-12\n",
    "# mf_nn.grids.level = 6\n",
    "# mf_nn.nuc_grad_method().kernel()\n",
    "ap_nn=AP(mf_nn,sites=[0,1],flag_response_property=True)"
   ]
  },
  {
   "cell_type": "code",
   "execution_count": 6,
   "metadata": {},
   "outputs": [],
   "source": [
    "analytical_1st_alchemical_derivative = ap_nn.build_gradient()\n",
    "analytical_2nd_alchemical_derivative = ap_nn.build_hessian()\n",
    "analytical_3rd_alchemical_derivative = ap_nn.build_cubic()"
   ]
  },
  {
   "attachments": {},
   "cell_type": "markdown",
   "metadata": {},
   "source": [
    "Inefficient alchemical force in KS-DFT which calculates the response matrix for nuclear coordinates"
   ]
  },
  {
   "cell_type": "code",
   "execution_count": 7,
   "metadata": {},
   "outputs": [],
   "source": [
    "inefficient_analytical_alchemical_force = np.zeros((2, 2, 3))\n",
    "inefficient_analytical_alchemical_force[0] = ap_nn.build_inefficient_alchemical_force(0)\n",
    "inefficient_analytical_alchemical_force[1] = ap_nn.build_inefficient_alchemical_force(1)"
   ]
  },
  {
   "attachments": {},
   "cell_type": "markdown",
   "metadata": {},
   "source": [
    "Efficient alchemical force in KS-DFT which calculates the response matrix for nuclear coordinates"
   ]
  },
  {
   "cell_type": "code",
   "execution_count": 8,
   "metadata": {},
   "outputs": [],
   "source": [
    "efficient_analytical_alchemical_force = np.zeros((2, 2, 3))\n",
    "efficient_analytical_alchemical_force[0] = ap_nn.build_alchemical_force(0)\n",
    "efficient_analytical_alchemical_force[1] = ap_nn.build_alchemical_force(1)"
   ]
  },
  {
   "cell_type": "markdown",
   "metadata": {},
   "source": [
    "Electric dipole derivatives $\\partial ^2 E/ \\partial Z_I \\partial \\mathbf{F}$"
   ]
  },
  {
   "cell_type": "code",
   "execution_count": 9,
   "metadata": {},
   "outputs": [],
   "source": [
    "elec_electric_dipole_gradient_z = ap_nn.build_elec_electric_dipole_gradient(perturb_electron_density='Z')\n",
    "elec_electric_dipole_gradient_f = ap_nn.build_elec_electric_dipole_gradient(perturb_electron_density='F')"
   ]
  },
  {
   "cell_type": "markdown",
   "metadata": {},
   "source": [
    "Electric polarizability derivatives $\\partial ^3 E/ \\partial Z_I \\partial ^2 \\mathbf{F}$"
   ]
  },
  {
   "cell_type": "code",
   "execution_count": 10,
   "metadata": {},
   "outputs": [],
   "source": [
    "elec_electric_pol_gradient = ap_nn.build_electric_polarizability_gradient()"
   ]
  },
  {
   "attachments": {},
   "cell_type": "markdown",
   "metadata": {},
   "source": [
    "### Numerical evaluation"
   ]
  },
  {
   "cell_type": "code",
   "execution_count": 11,
   "metadata": {},
   "outputs": [],
   "source": [
    "%autoreload 2\n",
    "mol_NN=gto.M(atom=target_mol,unit=\"Bohr\",basis=basis_set)\n",
    "fc_param = 0.001\n",
    "fcs1 = [fc_param, 0.0]\n",
    "fcs2 = [-fc_param, 0.0]\n",
    "fcs3 = [0.0, fc_param]\n",
    "fcs4 = [0.0, -fc_param]"
   ]
  },
  {
   "attachments": {},
   "cell_type": "markdown",
   "metadata": {},
   "source": [
    "##### Efficient numerical alchemical force"
   ]
  },
  {
   "cell_type": "code",
   "execution_count": 12,
   "metadata": {},
   "outputs": [
    {
     "name": "stdout",
     "output_type": "stream",
     "text": [
      "converged SCF energy = -113.230628155977\n"
     ]
    },
    {
     "name": "stderr",
     "output_type": "stream",
     "text": [
      "/home/takafumi/program/pyscf/pyscf/gto/mole.py:1213: UserWarning: Function mol.dumps drops attribute with_rinv_at_nucleus because it is not JSON-serializable\n",
      "  warnings.warn(msg)\n"
     ]
    },
    {
     "name": "stdout",
     "output_type": "stream",
     "text": [
      "converged SCF energy = -113.24532210054\n",
      "converged SCF energy = -113.215937114715\n",
      "converged SCF energy = -113.252886091873\n",
      "converged SCF energy = -113.208373772775\n"
     ]
    }
   ],
   "source": [
    "fmol1=FcM_like(mol_NN,fcs=fcs1)\n",
    "fmol2=FcM_like(mol_NN,fcs=fcs2)\n",
    "fmol3=FcM_like(mol_NN,fcs=fcs3)\n",
    "fmol4=FcM_like(mol_NN,fcs=fcs4)\n",
    "mf=scf.RKS(mol_NN)\n",
    "mf1=scf.RKS(fmol1)\n",
    "mf2=scf.RKS(fmol2)\n",
    "mf3=scf.RKS(fmol3)\n",
    "mf4=scf.RKS(fmol4)\n",
    "mf.xc = dft_functional\n",
    "mf1.xc = dft_functional\n",
    "mf2.xc = dft_functional\n",
    "mf3.xc = dft_functional\n",
    "mf4.xc = dft_functional\n",
    "# mf.conv_tol = 1e-12\n",
    "# mf1.conv_tol = 1e-12\n",
    "# mf2.conv_tol = 1e-12\n",
    "# mf3.conv_tol = 1e-12\n",
    "# mf4.conv_tol = 1e-12\n",
    "# mf.grids.level = 6\n",
    "# mf1.grids.level = 6\n",
    "# mf2.grids.level = 6\n",
    "# mf3.grids.level = 6\n",
    "# mf4.grids.level = 6\n",
    "# Without dm0=mf.init_guess_by_1e(), some SCFs do not converge.\n",
    "e=mf.scf(dm0=mf.init_guess_by_1e())\n",
    "e1=mf1.scf(dm0=mf1.init_guess_by_1e())\n",
    "e2=mf2.scf(dm0=mf2.init_guess_by_1e())\n",
    "e3=mf3.scf(dm0=mf3.init_guess_by_1e())\n",
    "e4=mf4.scf(dm0=mf4.init_guess_by_1e())"
   ]
  },
  {
   "cell_type": "code",
   "execution_count": 13,
   "metadata": {},
   "outputs": [
    {
     "name": "stdout",
     "output_type": "stream",
     "text": [
      "--------------- RKS gradients ---------------\n",
      "         x                y                z\n",
      "0 C    -0.0000000000     0.0000000000     0.0310986662\n",
      "1 O     0.0000000000    -0.0000000000    -0.0311071694\n",
      "----------------------------------------------\n",
      "--------------- RKS gradients ---------------\n",
      "         x                y                z\n",
      "0 C    -0.0000000000    -0.0000000000     0.0308773925\n",
      "1 O    -0.0000000000    -0.0000000000    -0.0308858934\n",
      "----------------------------------------------\n",
      "--------------- RKS gradients ---------------\n",
      "         x                y                z\n",
      "0 C    -0.0000000000     0.0000000000     0.0313199783\n",
      "1 O     0.0000000000    -0.0000000000    -0.0313284839\n",
      "----------------------------------------------\n",
      "--------------- RKS gradients ---------------\n",
      "         x                y                z\n",
      "0 C     0.0000000000    -0.0000000000     0.0310518205\n",
      "1 O    -0.0000000000    -0.0000000000    -0.0310603332\n",
      "----------------------------------------------\n",
      "--------------- RKS gradients ---------------\n",
      "         x                y                z\n",
      "0 C    -0.0000000000     0.0000000000     0.0311456780\n",
      "1 O     0.0000000000     0.0000000000    -0.0311541718\n",
      "----------------------------------------------\n"
     ]
    }
   ],
   "source": [
    "nuc_grad = mf.nuc_grad_method().kernel()\n",
    "nuc_grad1 = mf1.nuc_grad_method().kernel()\n",
    "nuc_grad2 = mf2.nuc_grad_method().kernel()\n",
    "nuc_grad3 = mf3.nuc_grad_method().kernel()\n",
    "nuc_grad4 = mf4.nuc_grad_method().kernel()"
   ]
  },
  {
   "cell_type": "code",
   "execution_count": 14,
   "metadata": {},
   "outputs": [],
   "source": [
    "efficient_numerical_alchemical_force = np.zeros((2, 2, 3))\n",
    "efficient_numerical_alchemical_force[0] = (nuc_grad1 - nuc_grad2) / (2 * fc_param)\n",
    "efficient_numerical_alchemical_force[1] = (nuc_grad3 - nuc_grad4) / (2 * fc_param)"
   ]
  },
  {
   "attachments": {},
   "cell_type": "markdown",
   "metadata": {},
   "source": [
    "#### Numerical alchemical derivatives"
   ]
  },
  {
   "cell_type": "code",
   "execution_count": 15,
   "metadata": {},
   "outputs": [],
   "source": [
    "numerical_1st_alchemical_derivative = np.zeros((2))\n",
    "numerical_1st_alchemical_derivative[0] = (e1 - e2) / (2 * fc_param)\n",
    "numerical_1st_alchemical_derivative[1] = (e3 - e4) / (2 * fc_param)"
   ]
  },
  {
   "attachments": {},
   "cell_type": "markdown",
   "metadata": {},
   "source": [
    "#### Numerical alchemical hardness"
   ]
  },
  {
   "cell_type": "code",
   "execution_count": 16,
   "metadata": {},
   "outputs": [],
   "source": [
    "ap_nn=AP(mf,sites=[0,1])\n",
    "ap_nn1=AP(mf1,sites=[0,1],flag_response_property=True,charges_for_center=[6,8])\n",
    "ap_nn2=AP(mf2,sites=[0,1],flag_response_property=True,charges_for_center=[6,8])\n",
    "ap_nn3=AP(mf3,sites=[0,1],flag_response_property=True,charges_for_center=[6,8])\n",
    "ap_nn4=AP(mf4,sites=[0,1],flag_response_property=True,charges_for_center=[6,8])\n",
    "an = ap_nn.build_gradient()\n",
    "an1 = ap_nn1.build_gradient()\n",
    "an2 = ap_nn2.build_gradient()\n",
    "an3 = ap_nn3.build_gradient()\n",
    "an4 = ap_nn4.build_gradient()\n",
    "ann = ap_nn.build_hessian()\n",
    "ann1 = ap_nn1.build_hessian()\n",
    "ann2 = ap_nn2.build_hessian()\n",
    "ann3 = ap_nn3.build_hessian()\n",
    "ann4 = ap_nn4.build_hessian()\n",
    "dipole1 = ap_nn1.ref_elec_electric_dipole_moment * -1\n",
    "dipole2 = ap_nn2.ref_elec_electric_dipole_moment * -1\n",
    "dipole3 = ap_nn3.ref_elec_electric_dipole_moment * -1\n",
    "dipole4 = ap_nn4.ref_elec_electric_dipole_moment * -1\n",
    "pol1 = ap_nn1.ref_elec_electric_polarizability * -1\n",
    "pol2 = ap_nn2.ref_elec_electric_polarizability * -1\n",
    "pol3 = ap_nn3.ref_elec_electric_polarizability * -1\n",
    "pol4 = ap_nn4.ref_elec_electric_polarizability * -1"
   ]
  },
  {
   "cell_type": "code",
   "execution_count": 17,
   "metadata": {},
   "outputs": [],
   "source": [
    "numerical_2nd_alchemical_derivative = np.zeros((2, 2))\n",
    "numerical_2nd_alchemical_derivative[0] = (an1 - an2) / (2 * fc_param)\n",
    "numerical_2nd_alchemical_derivative[1] = (an3 - an4) / (2 * fc_param)"
   ]
  },
  {
   "attachments": {},
   "cell_type": "markdown",
   "metadata": {},
   "source": [
    "#### Numerical alchemical hardness derivatives"
   ]
  },
  {
   "cell_type": "code",
   "execution_count": 18,
   "metadata": {},
   "outputs": [],
   "source": [
    "numerical_3rd_alchemical_derivative = np.zeros((2, 2, 2))\n",
    "numerical_3rd_alchemical_derivative[0, :, :] = (ann1 - ann2) / (2 * fc_param)\n",
    "numerical_3rd_alchemical_derivative[1, :, :] = (ann3 - ann4) / (2 * fc_param)"
   ]
  },
  {
   "attachments": {},
   "cell_type": "markdown",
   "metadata": {},
   "source": [
    "#### Inefficient numerical alchemical force"
   ]
  },
  {
   "cell_type": "code",
   "execution_count": 19,
   "metadata": {},
   "outputs": [
    {
     "name": "stdout",
     "output_type": "stream",
     "text": [
      "converged SCF energy = -113.230596374025\n",
      "converged SCF energy = -113.230658567281\n",
      "converged SCF energy = -113.230658567281\n",
      "converged SCF energy = -113.230596374025\n"
     ]
    }
   ],
   "source": [
    "mol_NN1=gto.M(atom=\"C 0 0 0.001; O 0 0 2.1\",unit=\"Bohr\",basis=basis_set)\n",
    "mol_NN2=gto.M(atom=\"C 0 0 -0.001; O 0 0 2.1\",unit=\"Bohr\",basis=basis_set)\n",
    "mol_NN3=gto.M(atom=\"C 0 0 0; O 0 0 2.101\",unit=\"Bohr\",basis=basis_set)\n",
    "mol_NN4=gto.M(atom=\"C 0 0 0; O 0 0 2.099\",unit=\"Bohr\",basis=basis_set)\n",
    "mf_nn1=scf.RKS(mol_NN1)\n",
    "mf_nn2=scf.RKS(mol_NN2)\n",
    "mf_nn3=scf.RKS(mol_NN3)\n",
    "mf_nn4=scf.RKS(mol_NN4)\n",
    "mf_nn1.xc = dft_functional\n",
    "mf_nn2.xc = dft_functional\n",
    "mf_nn3.xc = dft_functional\n",
    "mf_nn4.xc = dft_functional\n",
    "mf_nn1.scf()\n",
    "mf_nn2.scf()\n",
    "mf_nn3.scf()\n",
    "mf_nn4.scf()\n",
    "ap_nn1=AP(mf_nn1,sites=[0,1])\n",
    "ap_nn2=AP(mf_nn2,sites=[0,1])\n",
    "ap_nn3=AP(mf_nn3,sites=[0,1])\n",
    "ap_nn4=AP(mf_nn4,sites=[0,1])\n",
    "ad1 = ap_nn1.build_gradient()\n",
    "ad2 = ap_nn2.build_gradient()\n",
    "ad3 = ap_nn3.build_gradient()\n",
    "ad4 = ap_nn4.build_gradient()"
   ]
  },
  {
   "cell_type": "code",
   "execution_count": 20,
   "metadata": {},
   "outputs": [],
   "source": [
    "inefficient_numerical_alchemical_force = np.zeros((2, 2))  # only z axis components\n",
    "inefficient_numerical_alchemical_force[:, 0] = (ad1 - ad2) / (2 * fc_param)\n",
    "inefficient_numerical_alchemical_force[:, 1] = (ad3 - ad4) / (2 * fc_param)"
   ]
  },
  {
   "cell_type": "markdown",
   "metadata": {},
   "source": [
    "#### Numerical alchemical electric dipole moment"
   ]
  },
  {
   "cell_type": "code",
   "execution_count": 21,
   "metadata": {},
   "outputs": [],
   "source": [
    "numer_elec_electric_dipole_gradient = np.zeros((2, 3))\n",
    "numer_elec_electric_dipole_gradient[0] = (dipole1 - dipole2) / (2 * fc_param)\n",
    "numer_elec_electric_dipole_gradient[1] = (dipole3 - dipole4) / (2 * fc_param)"
   ]
  },
  {
   "cell_type": "markdown",
   "metadata": {},
   "source": [
    "#### Numerical alchemical electric polarizability"
   ]
  },
  {
   "cell_type": "code",
   "execution_count": 22,
   "metadata": {},
   "outputs": [],
   "source": [
    "numer_elec_electric_pol_gradient = np.zeros((2, 3, 3))\n",
    "numer_elec_electric_pol_gradient[0] = (pol1 - pol2) / (2 * fc_param)\n",
    "numer_elec_electric_pol_gradient[1] = (pol3 - pol4) / (2 * fc_param)"
   ]
  },
  {
   "cell_type": "markdown",
   "metadata": {},
   "source": [
    "## Comparison of analytical and numerical evaluations"
   ]
  },
  {
   "cell_type": "markdown",
   "metadata": {},
   "source": [
    "$ \\partial E/\\partial Z_i $"
   ]
  },
  {
   "cell_type": "code",
   "execution_count": 23,
   "metadata": {},
   "outputs": [
    {
     "name": "stdout",
     "output_type": "stream",
     "text": [
      "[-14.69249288 -22.25615977]\n"
     ]
    }
   ],
   "source": [
    "print(analytical_1st_alchemical_derivative)"
   ]
  },
  {
   "cell_type": "markdown",
   "metadata": {},
   "source": [
    "$ (\\partial E/\\partial Z_i)_\\mathrm{analytical} $ - $ (\\partial E/\\partial Z_i)_\\mathrm{numerical} $"
   ]
  },
  {
   "cell_type": "code",
   "execution_count": 24,
   "metadata": {},
   "outputs": [
    {
     "name": "stdout",
     "output_type": "stream",
     "text": [
      "[ 3.54426248e-08 -2.25065445e-07]\n"
     ]
    }
   ],
   "source": [
    "print(analytical_1st_alchemical_derivative - numerical_1st_alchemical_derivative)"
   ]
  },
  {
   "cell_type": "markdown",
   "metadata": {},
   "source": [
    "$\\partial^2E/\\partial Z_i\\partial Z_j$"
   ]
  },
  {
   "cell_type": "code",
   "execution_count": 25,
   "metadata": {},
   "outputs": [
    {
     "name": "stdout",
     "output_type": "stream",
     "text": [
      "[[-2.90330004  0.45093826]\n",
      " [ 0.45093826 -3.55269453]]\n"
     ]
    }
   ],
   "source": [
    "print(analytical_2nd_alchemical_derivative)"
   ]
  },
  {
   "cell_type": "markdown",
   "metadata": {},
   "source": [
    "$(\\partial^2E/\\partial Z_i\\partial Z_j)_\\mathrm{analytical}$ - $(\\partial^2E/\\partial Z_i\\partial Z_j)_\\mathrm{numerical}$"
   ]
  },
  {
   "cell_type": "code",
   "execution_count": 26,
   "metadata": {},
   "outputs": [
    {
     "name": "stdout",
     "output_type": "stream",
     "text": [
      "[[-8.95880407e-06  1.97619012e-05]\n",
      " [-8.09630862e-07  2.34879672e-06]]\n"
     ]
    }
   ],
   "source": [
    "print(analytical_2nd_alchemical_derivative - numerical_2nd_alchemical_derivative)"
   ]
  },
  {
   "cell_type": "markdown",
   "metadata": {},
   "source": [
    "$\\partial^3E/\\partial Z_i\\partial Z_j\\partial Z_k$"
   ]
  },
  {
   "cell_type": "code",
   "execution_count": 27,
   "metadata": {},
   "outputs": [
    {
     "name": "stdout",
     "output_type": "stream",
     "text": [
      "[[[-0.11581771  0.12437604]\n",
      "  [ 0.12437604  0.08834225]]\n",
      "\n",
      " [[ 0.12437604  0.08834225]\n",
      "  [ 0.08834225 -0.1445824 ]]]\n"
     ]
    }
   ],
   "source": [
    "print(analytical_3rd_alchemical_derivative)"
   ]
  },
  {
   "cell_type": "markdown",
   "metadata": {},
   "source": [
    "$(\\partial^3E/\\partial Z_i\\partial Z_j\\partial Z_k)_\\mathrm{analytical}$ - $(\\partial^3E/\\partial Z_i\\partial Z_j\\partial Z_k)_\\mathrm{numerical}$"
   ]
  },
  {
   "cell_type": "code",
   "execution_count": 28,
   "metadata": {},
   "outputs": [
    {
     "name": "stdout",
     "output_type": "stream",
     "text": [
      "[[[-1.83988841e-06  1.89353258e-07]\n",
      "  [ 1.89353258e-07  5.97889162e-07]]\n",
      "\n",
      " [[-2.15695681e-07  1.43636284e-08]\n",
      "  [ 1.43636284e-08  1.13489562e-09]]]\n"
     ]
    }
   ],
   "source": [
    "print(analytical_3rd_alchemical_derivative - numerical_3rd_alchemical_derivative)"
   ]
  },
  {
   "cell_type": "markdown",
   "metadata": {},
   "source": [
    "$\\partial^2E/\\partial Z_i\\partial R_j$"
   ]
  },
  {
   "cell_type": "code",
   "execution_count": 29,
   "metadata": {},
   "outputs": [
    {
     "name": "stdout",
     "output_type": "stream",
     "text": [
      "[[[ 1.25872373e-15 -1.00375460e-15 -2.21297562e-01]\n",
      "  [-1.24727024e-15  1.05751096e-15  2.21299962e-01]]\n",
      "\n",
      " [[-2.97232832e-16 -1.48051554e-17 -4.69293497e-02]\n",
      "  [ 4.65917479e-16 -3.25902654e-17  4.69198747e-02]]]\n"
     ]
    }
   ],
   "source": [
    "print(efficient_analytical_alchemical_force)"
   ]
  },
  {
   "cell_type": "markdown",
   "metadata": {},
   "source": [
    "$(\\partial^2E/\\partial Z_i\\partial R_j)_\\mathrm{analytical}$ - $(\\partial^2E/\\partial Z_i\\partial R_j)_\\mathrm{numerical}$"
   ]
  },
  {
   "cell_type": "code",
   "execution_count": 30,
   "metadata": {},
   "outputs": [
    {
     "name": "stdout",
     "output_type": "stream",
     "text": [
      "[[[ 6.63093316e-14  3.50538971e-13 -4.68935989e-06]\n",
      "  [ 1.76611159e-13 -2.17094622e-13  4.71123099e-06]]\n",
      "\n",
      " [[-1.53398683e-13  4.25289936e-13 -5.64109706e-07]\n",
      "  [ 2.91268378e-13  1.41577930e-13  5.65860407e-07]]]\n"
     ]
    }
   ],
   "source": [
    "print(efficient_analytical_alchemical_force - efficient_numerical_alchemical_force)"
   ]
  },
  {
   "cell_type": "markdown",
   "metadata": {},
   "source": [
    "$\\partial^2E/\\partial Z_i\\partial R_j$"
   ]
  },
  {
   "cell_type": "code",
   "execution_count": 31,
   "metadata": {},
   "outputs": [
    {
     "name": "stdout",
     "output_type": "stream",
     "text": [
      "[[[ 1.25487194e-15 -1.00464977e-15 -2.21297562e-01]\n",
      "  [-1.25301720e-15  1.04360023e-15  2.21299962e-01]]\n",
      "\n",
      " [[-2.82138809e-16 -2.34814269e-17 -4.69293493e-02]\n",
      "  [ 4.50175182e-16  1.02988363e-17  4.69198743e-02]]]\n"
     ]
    }
   ],
   "source": [
    "print(inefficient_analytical_alchemical_force)"
   ]
  },
  {
   "cell_type": "markdown",
   "metadata": {},
   "source": [
    "$(\\partial^2E/\\partial Z_i\\partial R_j)_\\mathrm{analytical}$ - $(\\partial^2E/\\partial Z_i\\partial R_j)_\\mathrm{numerical}$"
   ]
  },
  {
   "cell_type": "code",
   "execution_count": 32,
   "metadata": {},
   "outputs": [
    {
     "name": "stdout",
     "output_type": "stream",
     "text": [
      "[[ 3.98804231e-06 -1.58747751e-06]\n",
      " [-7.44098771e-06 -2.03394238e-06]]\n"
     ]
    }
   ],
   "source": [
    "print(inefficient_analytical_alchemical_force[:, :, 2] - inefficient_numerical_alchemical_force)"
   ]
  },
  {
   "cell_type": "markdown",
   "metadata": {},
   "source": [
    "$(\\partial ^2 E/ \\partial Z_I \\partial \\mathbf{F})_\\mathrm{analytical}$"
   ]
  },
  {
   "cell_type": "code",
   "execution_count": 33,
   "metadata": {},
   "outputs": [
    {
     "name": "stdout",
     "output_type": "stream",
     "text": [
      "[[-4.95683077e-14  1.51829940e-14 -6.11496323e-01]\n",
      " [-2.14202222e-14  4.43975360e-15  1.22309849e+00]]\n"
     ]
    }
   ],
   "source": [
    "print(elec_electric_dipole_gradient_f)"
   ]
  },
  {
   "cell_type": "code",
   "execution_count": 34,
   "metadata": {},
   "outputs": [
    {
     "name": "stdout",
     "output_type": "stream",
     "text": [
      "[[-4.97539129e-14  1.53411198e-14 -6.11496323e-01]\n",
      " [-2.09748656e-14  4.06829375e-15  1.22309849e+00]]\n"
     ]
    }
   ],
   "source": [
    "print(elec_electric_dipole_gradient_z)"
   ]
  },
  {
   "cell_type": "markdown",
   "metadata": {},
   "source": [
    "$(\\partial ^2 E/ \\partial Z_I \\partial \\mathbf{F})_\\mathrm{analytical}$ - $(\\partial ^2 E/ \\partial Z_I \\partial \\mathbf{F})_\\mathrm{numerical}$"
   ]
  },
  {
   "cell_type": "code",
   "execution_count": 35,
   "metadata": {},
   "outputs": [
    {
     "name": "stdout",
     "output_type": "stream",
     "text": [
      "[[ 3.66345447e-12 -4.33211484e-12 -3.49972763e-05]\n",
      " [ 2.33107023e-12  4.54996506e-12 -3.58491558e-06]]\n"
     ]
    }
   ],
   "source": [
    "print(elec_electric_dipole_gradient_f - numer_elec_electric_dipole_gradient)"
   ]
  },
  {
   "cell_type": "code",
   "execution_count": 36,
   "metadata": {},
   "outputs": [
    {
     "name": "stdout",
     "output_type": "stream",
     "text": [
      "[[ 3.66326887e-12 -4.33195671e-12 -3.49972582e-05]\n",
      " [ 2.33151559e-12  4.54959360e-12 -3.58609665e-06]]\n"
     ]
    }
   ],
   "source": [
    "print(elec_electric_dipole_gradient_z - numer_elec_electric_dipole_gradient)"
   ]
  },
  {
   "cell_type": "markdown",
   "metadata": {},
   "source": [
    "$(\\partial ^3 E/ \\partial Z_I \\partial ^2 \\mathbf{F})_\\mathrm{analytical}$"
   ]
  },
  {
   "cell_type": "code",
   "execution_count": 37,
   "metadata": {},
   "outputs": [
    {
     "name": "stdout",
     "output_type": "stream",
     "text": [
      "[[[ 8.02446178e+00  6.34989528e-15 -3.74987920e-13]\n",
      "  [ 6.34989528e-15  8.02446178e+00  9.80459818e-14]\n",
      "  [-3.74987920e-13  9.80459818e-14  6.92300681e+00]]\n",
      "\n",
      " [[ 4.26378205e+00  2.76883495e-15 -2.36687154e-13]\n",
      "  [ 2.76883495e-15  4.26378205e+00  6.17838904e-14]\n",
      "  [-2.36687154e-13  6.17838904e-14  7.73087896e+00]]]\n"
     ]
    }
   ],
   "source": [
    "print(elec_electric_pol_gradient)"
   ]
  },
  {
   "cell_type": "markdown",
   "metadata": {},
   "source": [
    "$(\\partial ^3 E/ \\partial Z_I \\partial ^2 \\mathbf{F})_\\mathrm{analytical}$ - $(\\partial ^3 E/ \\partial Z_I \\partial ^2 \\mathbf{F})_\\mathrm{numerical}$"
   ]
  },
  {
   "cell_type": "code",
   "execution_count": 38,
   "metadata": {},
   "outputs": [
    {
     "name": "stdout",
     "output_type": "stream",
     "text": [
      "[[[ 1.51630452e-05  4.75949222e-12  8.01417120e-11]\n",
      "  [ 4.75949222e-12  1.51630106e-05 -3.67908078e-11]\n",
      "  [ 8.01417120e-11 -3.67908078e-11 -5.39926677e-05]]\n",
      "\n",
      " [[ 3.76168027e-07 -1.28758183e-11  2.76931870e-11]\n",
      "  [-1.28758183e-11  3.76202700e-07 -6.42042354e-12]\n",
      "  [ 2.76931870e-11 -6.42042354e-12 -8.53473703e-06]]]\n"
     ]
    }
   ],
   "source": [
    "print(elec_electric_pol_gradient - numer_elec_electric_pol_gradient)"
   ]
  }
 ],
 "metadata": {
  "kernelspec": {
   "display_name": "aqa",
   "language": "python",
   "name": "python3"
  },
  "language_info": {
   "codemirror_mode": {
    "name": "ipython",
    "version": 3
   },
   "file_extension": ".py",
   "mimetype": "text/x-python",
   "name": "python",
   "nbconvert_exporter": "python",
   "pygments_lexer": "ipython3",
   "version": "3.11.3"
  }
 },
 "nbformat": 4,
 "nbformat_minor": 4
}
