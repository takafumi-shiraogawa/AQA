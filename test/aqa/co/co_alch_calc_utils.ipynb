{
 "cells": [
  {
   "attachments": {},
   "cell_type": "markdown",
   "metadata": {},
   "source": [
    "Test of alchemical calculater class"
   ]
  },
  {
   "cell_type": "code",
   "execution_count": 1,
   "metadata": {},
   "outputs": [],
   "source": [
    "target_mol = \"C 0 0 0; O 0 0 1.1\"\n",
    "dft_functional = \"pbe0\"  # \"lda,vwn\"\n",
    "name_basis_set = \"def2-TZVP\"\n",
    "nuc_charges_vec = [1, -1]"
   ]
  },
  {
   "cell_type": "code",
   "execution_count": 2,
   "metadata": {},
   "outputs": [],
   "source": [
    "from aqa.alch_calc import alchemical_calculator as ac"
   ]
  },
  {
   "cell_type": "code",
   "execution_count": 3,
   "metadata": {},
   "outputs": [
    {
     "name": "stdout",
     "output_type": "stream",
     "text": [
      "converged SCF energy = -113.22963605615\n"
     ]
    }
   ],
   "source": [
    "ac_mol = ac(target_mol, name_basis_set, dft_functional, sites=[0,1], flag_response_property=True)"
   ]
  },
  {
   "cell_type": "code",
   "execution_count": 4,
   "metadata": {},
   "outputs": [],
   "source": [
    "ac_mol.calc_all_derivatives()"
   ]
  },
  {
   "cell_type": "code",
   "execution_count": 5,
   "metadata": {},
   "outputs": [
    {
     "data": {
      "text/plain": [
       "-136.3210052599316"
      ]
     },
     "execution_count": 5,
     "metadata": {},
     "output_type": "execute_result"
    }
   ],
   "source": [
    "ac_mol.get_elec_APDFT0(nuc_charges_vec)"
   ]
  },
  {
   "cell_type": "code",
   "execution_count": 6,
   "metadata": {},
   "outputs": [
    {
     "data": {
      "text/plain": [
       "-129.72319723215054"
      ]
     },
     "execution_count": 6,
     "metadata": {},
     "output_type": "execute_result"
    }
   ],
   "source": [
    "ac_mol.get_elec_APDFT1(nuc_charges_vec)"
   ]
  },
  {
   "cell_type": "code",
   "execution_count": 7,
   "metadata": {},
   "outputs": [
    {
     "data": {
      "text/plain": [
       "-132.91969801549317"
      ]
     },
     "execution_count": 7,
     "metadata": {},
     "output_type": "execute_result"
    }
   ],
   "source": [
    "ac_mol.get_elec_APDFT2(nuc_charges_vec)"
   ]
  },
  {
   "cell_type": "code",
   "execution_count": 8,
   "metadata": {},
   "outputs": [
    {
     "data": {
      "text/plain": [
       "-132.93261319993223"
      ]
     },
     "execution_count": 8,
     "metadata": {},
     "output_type": "execute_result"
    }
   ],
   "source": [
    "ac_mol.get_elec_APDFT3(nuc_charges_vec)"
   ]
  },
  {
   "cell_type": "code",
   "execution_count": 9,
   "metadata": {},
   "outputs": [
    {
     "data": {
      "text/plain": [
       "13.19561605556212"
      ]
     },
     "execution_count": 9,
     "metadata": {},
     "output_type": "execute_result"
    }
   ],
   "source": [
    "ac_mol.get_relative_elec_APDFT1(nuc_charges_vec)"
   ]
  },
  {
   "cell_type": "code",
   "execution_count": 10,
   "metadata": {},
   "outputs": [
    {
     "data": {
      "text/plain": [
       "13.169785686683994"
      ]
     },
     "execution_count": 10,
     "metadata": {},
     "output_type": "execute_result"
    }
   ],
   "source": [
    "ac_mol.get_relative_elec_APDFT3(nuc_charges_vec)"
   ]
  },
  {
   "cell_type": "code",
   "execution_count": 11,
   "metadata": {},
   "outputs": [
    {
     "name": "stdout",
     "output_type": "stream",
     "text": [
      "[-18.54582024 -25.14362827]\n",
      "[[-2.90249893 -0.02931984]\n",
      " [-0.02931984 -3.54914232]]\n",
      "[[[-0.11447945  0.12454158]\n",
      "  [ 0.12454158  0.08918759]]\n",
      "\n",
      " [[ 0.12454158  0.08918759]\n",
      "  [ 0.08918759 -0.14305032]]]\n"
     ]
    }
   ],
   "source": [
    "from aqa.alch_calc_utils import get_multi_ele_energies, write_csv_output_APDFT_energies, write_csv_output_ele_ene_derivatives\n",
    "\n",
    "ele_enes_apdft = get_multi_ele_energies(ac_mol)\n",
    "write_csv_output_APDFT_energies(ele_enes_apdft)\n",
    "\n",
    "print(ac_mol.ap.gradient)\n",
    "print(ac_mol.ap.hessian)\n",
    "print(ac_mol.ap.cubic)\n",
    "write_csv_output_ele_ene_derivatives(ac_mol)"
   ]
  },
  {
   "cell_type": "code",
   "execution_count": 12,
   "metadata": {},
   "outputs": [
    {
     "name": "stdout",
     "output_type": "stream",
     "text": [
      "[[-4.24797921e-15 -3.51515984e-15 -5.97727798e-01]\n",
      " [-7.05254978e-16 -1.32775089e-15  1.20356673e+00]]\n",
      "\n",
      "[[[ 8.06578463e+00 -5.91642030e-15 -7.59273019e-14]\n",
      "  [-5.91642030e-15  8.06578463e+00  1.23063687e-14]\n",
      "  [-7.59273019e-14  1.23063687e-14  6.92461091e+00]]\n",
      "\n",
      " [[ 4.26525004e+00 -1.58301036e-15 -1.44122742e-15]\n",
      "  [-1.58301036e-15  4.26525004e+00  7.49623103e-15]\n",
      "  [-1.44122742e-15  7.49623103e-15  7.65533162e+00]]]\n"
     ]
    }
   ],
   "source": [
    "from aqa.alch_calc_utils import get_multi_response_properties, write_csv_output_APDFT_response_properties, write_csv_output_ele_response_property_derivatives\n",
    "\n",
    "electric_dipoles_apdft, electric_pols_apdft = get_multi_response_properties(ac_mol)\n",
    "write_csv_output_APDFT_response_properties(electric_dipoles_apdft, electric_pols_apdft)\n",
    "write_csv_output_ele_response_property_derivatives(ac_mol)\n",
    "\n",
    "print(ac_mol.ap.electric_dipole_gradient)\n",
    "print()\n",
    "print(ac_mol.ap.electric_polarizability_gradient)"
   ]
  }
 ],
 "metadata": {
  "kernelspec": {
   "display_name": "aqa",
   "language": "python",
   "name": "python3"
  },
  "language_info": {
   "codemirror_mode": {
    "name": "ipython",
    "version": 3
   },
   "file_extension": ".py",
   "mimetype": "text/x-python",
   "name": "python",
   "nbconvert_exporter": "python",
   "pygments_lexer": "ipython3",
   "version": "3.11.3"
  }
 },
 "nbformat": 4,
 "nbformat_minor": 4
}