{
 "cells": [
  {
   "attachments": {},
   "cell_type": "markdown",
   "metadata": {},
   "source": [
    "Test of the even order estimate of electronic energy (Eq. (2) in von Lilienfeld, Domenichini, arXiv 2023)\n",
    "\n",
    "The results are as follows:\n",
    "\n",
    "| Order | APDFT | Eq. 2 |\n",
    "| -- | -- | -- |\n",
    "| 1 | -3.30 | 6.57 |\n",
    "| 2 | 3.30 | - |\n",
    "| 3 | 0.10 | 0.17 |\n",
    "| 4 | 0.09 |  |"
   ]
  },
  {
   "cell_type": "markdown",
   "metadata": {},
   "source": [
    "# Calculation"
   ]
  },
  {
   "cell_type": "code",
   "execution_count": 1,
   "metadata": {},
   "outputs": [],
   "source": [
    "from pyscf import scf, gto\n",
    "import basis_set_exchange as bse"
   ]
  },
  {
   "cell_type": "code",
   "execution_count": 2,
   "metadata": {},
   "outputs": [],
   "source": [
    "target_mol = \"C 0 0 0; O 0 0 1.1\"\n",
    "left_mol = \"B 0 0 0; F 0 0 1.1\"\n",
    "dft_functional = \"pbe0\"  # \"lda,vwn\"\n",
    "name_basis_set = \"def2-TZVP\"\n",
    "nuc_charges_vec = [1,-1]"
   ]
  },
  {
   "cell_type": "code",
   "execution_count": 3,
   "metadata": {},
   "outputs": [],
   "source": [
    "from aqa.alch_calc import alchemical_calculator as ac"
   ]
  },
  {
   "cell_type": "code",
   "execution_count": 4,
   "metadata": {},
   "outputs": [
    {
     "name": "stdout",
     "output_type": "stream",
     "text": [
      "converged SCF energy = -124.542814473917\n"
     ]
    }
   ],
   "source": [
    "left_mol_BF = gto.M(atom=left_mol, basis=bse.get_basis(name_basis_set, fmt=\"nwchem\"))\n",
    "left_mf = scf.RKS(left_mol_BF)\n",
    "left_mf.xc = dft_functional\n",
    "left_mf.scf()\n",
    "left_elec_energy = left_mf.e_tot - left_mf.energy_nuc()"
   ]
  },
  {
   "cell_type": "code",
   "execution_count": 5,
   "metadata": {},
   "outputs": [
    {
     "name": "stdout",
     "output_type": "stream",
     "text": [
      "converged SCF energy = -113.22963605615\n"
     ]
    }
   ],
   "source": [
    "ac_mol = ac(target_mol, name_basis_set, dft_functional, sites=[0,1], left_elec_energy=left_elec_energy)"
   ]
  },
  {
   "cell_type": "code",
   "execution_count": 6,
   "metadata": {},
   "outputs": [],
   "source": [
    "ac_mol.calc_all_derivatives()"
   ]
  },
  {
   "cell_type": "code",
   "execution_count": 7,
   "metadata": {},
   "outputs": [],
   "source": [
    "ene_apdft0 = ac_mol.get_elec_APDFT0(nuc_charges_vec)\n",
    "ene_apdft1 = ac_mol.get_elec_APDFT1(nuc_charges_vec)\n",
    "ene_apdft2 = ac_mol.get_elec_APDFT2(nuc_charges_vec)\n",
    "ene_apdft3 = ac_mol.get_elec_APDFT3(nuc_charges_vec)"
   ]
  },
  {
   "cell_type": "code",
   "execution_count": 8,
   "metadata": {},
   "outputs": [],
   "source": [
    "even_ene_apdft0 = ac_mol.get_even_elec_APDFT0(nuc_charges_vec)\n",
    "even_ene_apdft2 = ac_mol.get_even_elec_APDFT2(nuc_charges_vec)"
   ]
  },
  {
   "cell_type": "code",
   "execution_count": 9,
   "metadata": {},
   "outputs": [
    {
     "name": "stdout",
     "output_type": "stream",
     "text": [
      "converged SCF energy = -109.445984711877\n"
     ]
    }
   ],
   "source": [
    "right_mol_N2 = gto.M(atom=\"N 0 0 0; N 0 0 1.1\", basis=bse.get_basis(name_basis_set, fmt=\"nwchem\"))\n",
    "right_mf = scf.RKS(right_mol_N2)\n",
    "right_mf.xc = dft_functional\n",
    "right_mf.scf()\n",
    "right_elec_energy = right_mf.e_tot - right_mf.energy_nuc()"
   ]
  },
  {
   "cell_type": "markdown",
   "metadata": {},
   "source": [
    "# Accuracy"
   ]
  },
  {
   "cell_type": "code",
   "execution_count": 10,
   "metadata": {},
   "outputs": [
    {
     "name": "stdout",
     "output_type": "stream",
     "text": [
      "APDFT\n",
      "-3.302581152527864\n",
      "3.2952268752531495\n",
      "0.09872609191052106\n",
      "0.08581090747145481\n",
      "\n",
      "Even order estimate (Eq. (2))\n",
      "6.567386690002877\n",
      "0.17438512331762013\n"
     ]
    }
   ],
   "source": [
    "print(\"APDFT\")\n",
    "print(ene_apdft0 - right_elec_energy)\n",
    "print(ene_apdft1 - right_elec_energy)\n",
    "print(ene_apdft2 - right_elec_energy)\n",
    "print(ene_apdft3 - right_elec_energy)\n",
    "print()\n",
    "print(\"Even order estimate (Eq. (2))\")\n",
    "print(even_ene_apdft0 - right_elec_energy)\n",
    "print(even_ene_apdft2 - right_elec_energy)"
   ]
  }
 ],
 "metadata": {
  "kernelspec": {
   "display_name": "aqa",
   "language": "python",
   "name": "python3"
  },
  "language_info": {
   "codemirror_mode": {
    "name": "ipython",
    "version": 3
   },
   "file_extension": ".py",
   "mimetype": "text/x-python",
   "name": "python",
   "nbconvert_exporter": "python",
   "pygments_lexer": "ipython3",
   "version": "3.11.3"
  }
 },
 "nbformat": 4,
 "nbformat_minor": 4
}