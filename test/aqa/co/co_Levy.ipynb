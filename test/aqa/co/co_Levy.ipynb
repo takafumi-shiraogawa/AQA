{
 "cells": [
  {
   "cell_type": "markdown",
   "metadata": {},
   "source": [
    "#### Test of Levy's equation"
   ]
  },
  {
   "cell_type": "markdown",
   "metadata": {},
   "source": [
    "Levy's approach needs SCF calculations of two molecules, but does not require a reference molecule."
   ]
  },
  {
   "cell_type": "code",
   "execution_count": 1,
   "metadata": {},
   "outputs": [],
   "source": [
    "from aqa.alch_calc import alchemical_calculator\n",
    "from aqa.alch_calc_utils import Levy_estimate_relative_energies, Levy_estimate_relative_energies_pairs_list"
   ]
  },
  {
   "cell_type": "markdown",
   "metadata": {},
   "source": [
    "E(N2) - N(BF)"
   ]
  },
  {
   "cell_type": "code",
   "execution_count": 2,
   "metadata": {},
   "outputs": [
    {
     "name": "stdout",
     "output_type": "stream",
     "text": [
      "converged SCF energy = -109.445281158139\n",
      "converged SCF energy = -124.5461223455\n"
     ]
    },
    {
     "data": {
      "text/plain": [
       "{'enantiomers': [13.1239757386613], 'diastereomers': []}"
      ]
     },
     "execution_count": 2,
     "metadata": {},
     "output_type": "execute_result"
    }
   ],
   "source": [
    "path_xyz_file = \"./co.xyz\"\n",
    "dft_functional = \"pbe0\"\n",
    "name_basis_set = \"pcX-2\"\n",
    "# [[[] for atoms ] for molecules ] for distinguishing alchemical isomers\n",
    "mol_pair_indexes = [[[1, 2]]]\n",
    "Levy_estimate_relative_energies_pairs_list(path_xyz_file, dft_functional,\n",
    "                                           name_basis_set, mol_pair_indexes,\n",
    "                                           mutation_sites=None)"
   ]
  },
  {
   "cell_type": "code",
   "execution_count": 3,
   "metadata": {},
   "outputs": [
    {
     "name": "stdout",
     "output_type": "stream",
     "text": [
      "converged SCF energy = -124.5461223455\n",
      "converged SCF energy = -109.445281158139\n"
     ]
    }
   ],
   "source": [
    "ac_BF = alchemical_calculator(mol_coord=[[\"B\", (0, 0, 0)], [\"F\", (0, 0, 1.1)]], dft_functional=\"pbe0\",\n",
    "                              name_basis_set=\"pcX-2\", AP_skip=True)\n",
    "ac_NN = alchemical_calculator(mol_coord=[[\"N\", (0, 0, 0)], [\"N\", (0, 0, 1.1)]], dft_functional=\"pbe0\",\n",
    "                              name_basis_set=\"pcX-2\", AP_skip=True)"
   ]
  },
  {
   "cell_type": "markdown",
   "metadata": {},
   "source": [
    "E(BF) - N(N2)"
   ]
  },
  {
   "cell_type": "code",
   "execution_count": 4,
   "metadata": {},
   "outputs": [
    {
     "data": {
      "text/plain": [
       "-13.1239757386613"
      ]
     },
     "execution_count": 4,
     "metadata": {},
     "output_type": "execute_result"
    }
   ],
   "source": [
    "Levy_estimate_relative_energies(ac_BF, ac_NN)"
   ]
  },
  {
   "cell_type": "markdown",
   "metadata": {},
   "source": [
    "E(N2) - N(BF)"
   ]
  },
  {
   "cell_type": "code",
   "execution_count": 5,
   "metadata": {},
   "outputs": [
    {
     "data": {
      "text/plain": [
       "13.1239757386613"
      ]
     },
     "execution_count": 5,
     "metadata": {},
     "output_type": "execute_result"
    }
   ],
   "source": [
    "Levy_estimate_relative_energies(ac_BF, ac_NN, flag_rev_order=True)"
   ]
  }
 ],
 "metadata": {
  "kernelspec": {
   "display_name": "aqa",
   "language": "python",
   "name": "python3"
  },
  "language_info": {
   "codemirror_mode": {
    "name": "ipython",
    "version": 3
   },
   "file_extension": ".py",
   "mimetype": "text/x-python",
   "name": "python",
   "nbconvert_exporter": "python",
   "pygments_lexer": "ipython3",
   "version": "3.11.3"
  }
 },
 "nbformat": 4,
 "nbformat_minor": 4
}