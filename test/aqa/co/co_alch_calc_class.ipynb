{
 "cells": [
  {
   "attachments": {},
   "cell_type": "markdown",
   "metadata": {},
   "source": [
    "Test of alchemical calculater class"
   ]
  },
  {
   "cell_type": "code",
   "execution_count": 1,
   "metadata": {},
   "outputs": [],
   "source": [
    "target_mol = \"C 0 0 0; O 0 0 1.1\"\n",
    "dft_functional = \"pbe0\"  # \"lda,vwn\"\n",
    "name_basis_set = \"def2-TZVP\"\n",
    "nuc_charges_vec = [1, -1]"
   ]
  },
  {
   "cell_type": "code",
   "execution_count": 2,
   "metadata": {},
   "outputs": [],
   "source": [
    "from aqa.alch_calc import alchemical_calculator as ac"
   ]
  },
  {
   "cell_type": "code",
   "execution_count": 3,
   "metadata": {},
   "outputs": [
    {
     "name": "stdout",
     "output_type": "stream",
     "text": [
      "converged SCF energy = -113.229636035167\n"
     ]
    }
   ],
   "source": [
    "ac_mol = ac(target_mol, name_basis_set, dft_functional, sites=[0,1], guess=\"1e\",\n",
    "            flag_response_property=True)"
   ]
  },
  {
   "cell_type": "code",
   "execution_count": 4,
   "metadata": {},
   "outputs": [],
   "source": [
    "ac_mol.calc_all_derivatives()"
   ]
  },
  {
   "cell_type": "code",
   "execution_count": 5,
   "metadata": {},
   "outputs": [
    {
     "name": "stdout",
     "output_type": "stream",
     "text": [
      "/home/takafumi/program/pyscf/pyscf/gto/mole.py\n"
     ]
    }
   ],
   "source": [
    "import inspect\n",
    "print(inspect.getfile(ac_mol.mol.with_rinv_at_nucleus))"
   ]
  },
  {
   "cell_type": "code",
   "execution_count": 6,
   "metadata": {},
   "outputs": [
    {
     "data": {
      "text/plain": [
       "-136.32100523894925"
      ]
     },
     "execution_count": 6,
     "metadata": {},
     "output_type": "execute_result"
    }
   ],
   "source": [
    "ac_mol.get_elec_APDFT0(nuc_charges_vec)"
   ]
  },
  {
   "cell_type": "code",
   "execution_count": 7,
   "metadata": {},
   "outputs": [
    {
     "data": {
      "text/plain": [
       "-129.72319608741495"
      ]
     },
     "execution_count": 7,
     "metadata": {},
     "output_type": "execute_result"
    }
   ],
   "source": [
    "ac_mol.get_elec_APDFT1(nuc_charges_vec)"
   ]
  },
  {
   "cell_type": "code",
   "execution_count": 8,
   "metadata": {},
   "outputs": [
    {
     "data": {
      "text/plain": [
       "-132.91969683831977"
      ]
     },
     "execution_count": 8,
     "metadata": {},
     "output_type": "execute_result"
    }
   ],
   "source": [
    "ac_mol.get_elec_APDFT2(nuc_charges_vec)"
   ]
  },
  {
   "cell_type": "code",
   "execution_count": 9,
   "metadata": {},
   "outputs": [
    {
     "data": {
      "text/plain": [
       "-132.9326120392592"
      ]
     },
     "execution_count": 9,
     "metadata": {},
     "output_type": "execute_result"
    }
   ],
   "source": [
    "ac_mol.get_elec_APDFT3(nuc_charges_vec)"
   ]
  },
  {
   "cell_type": "code",
   "execution_count": 10,
   "metadata": {},
   "outputs": [
    {
     "data": {
      "text/plain": [
       "13.195618303068606"
      ]
     },
     "execution_count": 10,
     "metadata": {},
     "output_type": "execute_result"
    }
   ],
   "source": [
    "ac_mol.get_relative_elec_APDFT1(nuc_charges_vec)"
   ]
  },
  {
   "cell_type": "code",
   "execution_count": 11,
   "metadata": {},
   "outputs": [
    {
     "data": {
      "text/plain": [
       "13.169787901189718"
      ]
     },
     "execution_count": 11,
     "metadata": {},
     "output_type": "execute_result"
    }
   ],
   "source": [
    "ac_mol.get_relative_elec_APDFT3(nuc_charges_vec)"
   ]
  },
  {
   "cell_type": "code",
   "execution_count": 12,
   "metadata": {},
   "outputs": [
    {
     "data": {
      "text/plain": [
       "array([-18.54581983, -25.14362898])"
      ]
     },
     "execution_count": 12,
     "metadata": {},
     "output_type": "execute_result"
    }
   ],
   "source": [
    "ac_mol.ap.build_elec_gradient()"
   ]
  },
  {
   "cell_type": "code",
   "execution_count": 13,
   "metadata": {},
   "outputs": [
    {
     "name": "stdout",
     "output_type": "stream",
     "text": [
      "[[-2.90249887 -0.02931986]\n",
      " [-0.02931986 -3.54914235]]\n"
     ]
    }
   ],
   "source": [
    "analytical_hessian = ac_mol.ap.build_elec_hessian()\n",
    "print(analytical_hessian)"
   ]
  },
  {
   "cell_type": "code",
   "execution_count": 14,
   "metadata": {},
   "outputs": [
    {
     "name": "stdout",
     "output_type": "stream",
     "text": [
      "[2.46120379e-16 2.63754639e-15 8.30480604e-02]\n"
     ]
    }
   ],
   "source": [
    "if ac_mol.flag_response_property:\n",
    "    print(ac_mol.get_elec_electric_dipole_APDFT0(nuc_charges_vec))"
   ]
  },
  {
   "cell_type": "code",
   "execution_count": 15,
   "metadata": {},
   "outputs": [
    {
     "name": "stdout",
     "output_type": "stream",
     "text": [
      "[2.29110318e-15 2.11232864e-15 1.88434219e+00]\n"
     ]
    }
   ],
   "source": [
    "if ac_mol.flag_response_property:\n",
    "    print(ac_mol.get_elec_electric_dipole_APDFT1(nuc_charges_vec))"
   ]
  },
  {
   "cell_type": "code",
   "execution_count": 16,
   "metadata": {},
   "outputs": [
    {
     "name": "stdout",
     "output_type": "stream",
     "text": [
      "[ 2.46120379e-16  2.63754639e-15 -1.99565068e+00]\n"
     ]
    }
   ],
   "source": [
    "if ac_mol.flag_response_property:\n",
    "    print(ac_mol.get_electric_dipole_APDFT0(nuc_charges_vec))"
   ]
  },
  {
   "cell_type": "code",
   "execution_count": 17,
   "metadata": {},
   "outputs": [
    {
     "name": "stdout",
     "output_type": "stream",
     "text": [
      "[ 2.29110318e-15  2.11232864e-15 -1.94356552e-01]\n"
     ]
    }
   ],
   "source": [
    "if ac_mol.flag_response_property:\n",
    "    print(ac_mol.get_electric_dipole_APDFT1(nuc_charges_vec))"
   ]
  },
  {
   "cell_type": "code",
   "execution_count": 18,
   "metadata": {},
   "outputs": [
    {
     "name": "stdout",
     "output_type": "stream",
     "text": [
      "[[ 1.05017980e+01 -7.32747196e-15  8.93849667e-15]\n",
      " [-7.32747196e-15  1.05017980e+01  1.89884688e-14]\n",
      " [ 8.93849667e-15  1.89884688e-14  1.42035431e+01]]\n"
     ]
    }
   ],
   "source": [
    "if ac_mol.flag_response_property:\n",
    "    print(ac_mol.get_elec_electric_polarizability_APDFT0(nuc_charges_vec))"
   ]
  },
  {
   "cell_type": "code",
   "execution_count": 19,
   "metadata": {},
   "outputs": [
    {
     "name": "stdout",
     "output_type": "stream",
     "text": [
      "[[ 6.70126025e+00 -2.90057920e-15 -1.97613676e-14]\n",
      " [-2.90057920e-15  6.70126025e+00 -2.68895351e-14]\n",
      " [-1.97613676e-14 -2.68895351e-14  1.49342636e+01]]\n"
     ]
    }
   ],
   "source": [
    "if ac_mol.flag_response_property:\n",
    "    print(ac_mol.get_elec_electric_polarizability_APDFT1(nuc_charges_vec))"
   ]
  },
  {
   "cell_type": "code",
   "execution_count": 20,
   "metadata": {},
   "outputs": [
    {
     "name": "stdout",
     "output_type": "stream",
     "text": [
      "[[ 9.22378053e-16 -2.58749940e-15 -5.97727535e-01]\n",
      " [ 2.96736086e-15 -3.11271715e-15  1.20356659e+00]]\n"
     ]
    }
   ],
   "source": [
    "if ac_mol.flag_response_property:\n",
    "    analytical_dipole_gradient = ac_mol.ap.build_elec_electric_dipole_gradient()\n",
    "    print(analytical_dipole_gradient)"
   ]
  },
  {
   "cell_type": "markdown",
   "metadata": {},
   "source": [
    "Fractional charges calculations"
   ]
  },
  {
   "cell_type": "code",
   "execution_count": 21,
   "metadata": {},
   "outputs": [
    {
     "name": "stderr",
     "output_type": "stream",
     "text": [
      "/home/takafumi/program/pyscf/pyscf/gto/mole.py:1213: UserWarning: Function mol.dumps drops attribute with_rinv_at_nucleus because it is not JSON-serializable\n",
      "  warnings.warn(msg)\n"
     ]
    },
    {
     "name": "stdout",
     "output_type": "stream",
     "text": [
      "converged SCF energy = -113.237199661085\n"
     ]
    }
   ],
   "source": [
    "# Without dm0=self.mf.init_guess_by_1e(), the error occurs\n",
    "\n",
    "# ac_mol_fc = ac(target_mol, name_basis_set, dft_functional, sites=[0,1],\n",
    "#                fractional_charges_calc=True, fractional_charges=[-0.001, 0.001])\n",
    "ac_mol_fc = ac(target_mol, name_basis_set, dft_functional, sites=[0,1], guess=\"1e\",\n",
    "               fractional_charges_calc=True, fractional_charges=[-0.001, 0.001])"
   ]
  },
  {
   "cell_type": "code",
   "execution_count": 22,
   "metadata": {},
   "outputs": [
    {
     "data": {
      "text/plain": [
       "array([-18.54294679, -25.14714889])"
      ]
     },
     "execution_count": 22,
     "metadata": {},
     "output_type": "execute_result"
    }
   ],
   "source": [
    "ac_mol_fc.ap.build_elec_gradient()"
   ]
  },
  {
   "cell_type": "code",
   "execution_count": 23,
   "metadata": {},
   "outputs": [],
   "source": [
    "ac_mol_fc.calc_all_derivatives()"
   ]
  },
  {
   "cell_type": "code",
   "execution_count": 24,
   "metadata": {},
   "outputs": [
    {
     "name": "stdout",
     "output_type": "stream",
     "text": [
      "/home/takafumi/program/AQA/aqa/FcMole.py\n"
     ]
    }
   ],
   "source": [
    "import inspect\n",
    "print(inspect.getfile(ac_mol_fc.mol.with_rinv_at_nucleus))"
   ]
  },
  {
   "cell_type": "markdown",
   "metadata": {},
   "source": [
    "Check the difference between analytical and numerical Hessian"
   ]
  },
  {
   "cell_type": "code",
   "execution_count": 25,
   "metadata": {},
   "outputs": [
    {
     "name": "stdout",
     "output_type": "stream",
     "text": [
      "converged SCF energy = -113.244334745095\n",
      "converged SCF energy = -113.214940227739\n",
      "Finite difference gradient:  [-2.90249176 -0.02933379]\n"
     ]
    }
   ],
   "source": [
    "ac_mol_fc1 = ac(target_mol, name_basis_set, dft_functional, sites=[0,1], guess=\"1e\",\n",
    "                fractional_charges_calc=True, fractional_charges=[0.001, 0.0], flag_response_property=True,\n",
    "                charges_for_center=[6,8])\n",
    "grad1 = ac_mol_fc1.ap.build_elec_gradient()\n",
    "dip1 = ac_mol_fc1.ap.ref_elec_electric_dipole_moment * -1\n",
    "\n",
    "ac_mol_fc2 = ac(target_mol, name_basis_set, dft_functional, sites=[0,1], guess=\"1e\",\n",
    "               fractional_charges_calc=True, fractional_charges=[-0.001, 0.0], flag_response_property=True,\n",
    "               charges_for_center=[6,8])\n",
    "grad2 = ac_mol_fc2.ap.build_elec_gradient()\n",
    "dip2 = ac_mol_fc2.ap.ref_elec_electric_dipole_moment * -1\n",
    "\n",
    "print(\"Finite difference gradient: \", (grad1 - grad2) / 0.002)\n",
    "numerical_hessian = (grad1 - grad2) / 0.002\n",
    "\n",
    "numerical_dipole_gradient = (dip1 - dip2) / 0.002"
   ]
  },
  {
   "cell_type": "code",
   "execution_count": 26,
   "metadata": {},
   "outputs": [
    {
     "data": {
      "text/plain": [
       "array([-7.10974405e-06,  1.39281187e-05])"
      ]
     },
     "execution_count": 26,
     "metadata": {},
     "output_type": "execute_result"
    }
   ],
   "source": [
    "analytical_hessian[0] - numerical_hessian"
   ]
  },
  {
   "cell_type": "code",
   "execution_count": 27,
   "metadata": {},
   "outputs": [
    {
     "data": {
      "text/plain": [
       "array([ 1.64299456e-13, -2.03243240e-12, -2.57501389e-05])"
      ]
     },
     "execution_count": 27,
     "metadata": {},
     "output_type": "execute_result"
    }
   ],
   "source": [
    "analytical_dipole_gradient[0] - numerical_dipole_gradient"
   ]
  }
 ],
 "metadata": {
  "kernelspec": {
   "display_name": "aqa",
   "language": "python",
   "name": "python3"
  },
  "language_info": {
   "codemirror_mode": {
    "name": "ipython",
    "version": 3
   },
   "file_extension": ".py",
   "mimetype": "text/x-python",
   "name": "python",
   "nbconvert_exporter": "python",
   "pygments_lexer": "ipython3",
   "version": "3.11.3"
  }
 },
 "nbformat": 4,
 "nbformat_minor": 4
}