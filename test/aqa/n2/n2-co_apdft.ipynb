{
 "cells": [
  {
   "attachments": {},
   "cell_type": "markdown",
   "metadata": {},
   "source": [
    "Analytical APDFT in KSDFT: N2 -> CO"
   ]
  },
  {
   "cell_type": "code",
   "execution_count": 1,
   "metadata": {},
   "outputs": [
    {
     "data": {
      "text/plain": [
       "'2.2.1'"
      ]
     },
     "execution_count": 1,
     "metadata": {},
     "output_type": "execute_result"
    }
   ],
   "source": [
    "from pyscf import gto,scf\n",
    "import pyscf\n",
    "import numpy as np\n",
    "\n",
    "pyscf.__version__"
   ]
  },
  {
   "cell_type": "code",
   "execution_count": 2,
   "metadata": {},
   "outputs": [],
   "source": [
    "from aqa.AP_class import APDFT_perturbator as AP"
   ]
  },
  {
   "cell_type": "code",
   "execution_count": 3,
   "metadata": {},
   "outputs": [
    {
     "name": "stdout",
     "output_type": "stream",
     "text": [
      "converged SCF energy = -109.444982309111\n",
      "-109.44498230911076\n",
      "23.333333333333332\n",
      "--------------- RKS gradients ---------------\n",
      "         x                y                z\n",
      "0 N    -0.0000000000     0.0000000000    -0.0623740387\n",
      "1 N     0.0000000000    -0.0000000000     0.0623740387\n",
      "----------------------------------------------\n",
      "[[0.  0.  0. ]\n",
      " [0.  0.  2.1]]\n"
     ]
    }
   ],
   "source": [
    "mol_NN=gto.M(atom= \"N 0 0 0; N 0 0 2.1\",unit=\"Bohr\",basis=\"def2-TZVP\")\n",
    "mf_nn=scf.RKS(mol_NN)\n",
    "mf_nn.xc = 'pbe0'\n",
    "# mf_nn.xc = 'lda,vwn'\n",
    "# mf_nn.conv_tol = 1e-12\n",
    "# mf_nn.grids.level = 3\n",
    "e = mf_nn.scf(dm0=mf_nn.init_guess_by_1e())\n",
    "print(mf_nn.e_tot)\n",
    "print(mf_nn.energy_nuc())\n",
    "mf_nn.nuc_grad_method().kernel()\n",
    "ap_nn=AP(mf_nn,sites=[0,1])\n",
    "print(mf_nn.mol.atom_coords())"
   ]
  },
  {
   "attachments": {},
   "cell_type": "markdown",
   "metadata": {},
   "source": [
    "Calculate $\\partial E/\\partial Z_i$, hessian $\\partial^2E/\\partial Z_i\\partial Z_j$ and cubic derivatives $\\partial^3E/\\partial Z_i\\partial Z_j\\partial Z_k$"
   ]
  },
  {
   "cell_type": "code",
   "execution_count": 4,
   "metadata": {},
   "outputs": [
    {
     "name": "stdout",
     "output_type": "stream",
     "text": [
      "[-21.63766852 -21.63766852]\n",
      "[[-3.22401997e+00 -2.94149267e-03]\n",
      " [-2.94149267e-03 -3.22401997e+00]]\n",
      "[[[-0.17449351  0.10654678]\n",
      "  [ 0.10654678  0.10654678]]\n",
      "\n",
      " [[ 0.10654678  0.10654678]\n",
      "  [ 0.10654678 -0.17449351]]]\n"
     ]
    }
   ],
   "source": [
    "print(ap_nn.build_elec_gradient())\n",
    "print(ap_nn.build_elec_hessian())\n",
    "print(ap_nn.build_cubic())"
   ]
  },
  {
   "cell_type": "markdown",
   "metadata": {},
   "source": [
    "CO"
   ]
  },
  {
   "cell_type": "code",
   "execution_count": 5,
   "metadata": {},
   "outputs": [
    {
     "name": "stdout",
     "output_type": "stream",
     "text": [
      "-132.77831564244408\n",
      "-132.77831564198607\n",
      "-135.9993941212982\n",
      "-135.99939412130507\n"
     ]
    }
   ],
   "source": [
    "print(ap_nn.elec_APDFT0(np.asarray([-1,1])))\n",
    "print(ap_nn.elec_APDFT1(np.asarray([-1,1])))\n",
    "print(ap_nn.elec_APDFT2(np.asarray([-1,1])))\n",
    "print(ap_nn.elec_APDFT3(np.asarray([-1,1])))"
   ]
  },
  {
   "cell_type": "markdown",
   "metadata": {},
   "source": [
    "OC"
   ]
  },
  {
   "cell_type": "code",
   "execution_count": 6,
   "metadata": {},
   "outputs": [
    {
     "name": "stdout",
     "output_type": "stream",
     "text": [
      "-132.77831564244408\n",
      "-132.7783156429021\n",
      "-135.99939412221423\n",
      "-135.99939412220735\n"
     ]
    }
   ],
   "source": [
    "print(ap_nn.elec_APDFT0(np.asarray([1,-1])))\n",
    "print(ap_nn.elec_APDFT1(np.asarray([1,-1])))\n",
    "print(ap_nn.elec_APDFT2(np.asarray([1,-1])))\n",
    "print(ap_nn.elec_APDFT3(np.asarray([1,-1])))"
   ]
  },
  {
   "cell_type": "code",
   "execution_count": 7,
   "metadata": {},
   "outputs": [
    {
     "name": "stdout",
     "output_type": "stream",
     "text": [
      "converged SCF energy = -113.230628155977\n",
      "-136.08777101312012\n"
     ]
    }
   ],
   "source": [
    "mol_CO=gto.M(atom= \"C 0 0 0; O 0 0 2.1\",unit=\"Bohr\",basis=\"def2-TZVP\")\n",
    "mf_co=scf.RKS(mol_CO)\n",
    "mf_co.xc = 'pbe0'\n",
    "e = mf_co.scf(dm0=mf_co.init_guess_by_1e())\n",
    "print(mf_co.e_tot - mf_co.energy_nuc())"
   ]
  }
 ],
 "metadata": {
  "kernelspec": {
   "display_name": "aqa",
   "language": "python",
   "name": "python3"
  },
  "language_info": {
   "codemirror_mode": {
    "name": "ipython",
    "version": 3
   },
   "file_extension": ".py",
   "mimetype": "text/x-python",
   "name": "python",
   "nbconvert_exporter": "python",
   "pygments_lexer": "ipython3",
   "version": "3.11.3"
  }
 },
 "nbformat": 4,
 "nbformat_minor": 4
}