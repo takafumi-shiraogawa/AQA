{
 "cells": [
  {
   "attachments": {},
   "cell_type": "markdown",
   "metadata": {},
   "source": [
    "N2 -> CO APDFT"
   ]
  },
  {
   "cell_type": "code",
   "execution_count": 1,
   "metadata": {},
   "outputs": [
    {
     "data": {
      "text/plain": [
       "'2.2.1'"
      ]
     },
     "execution_count": 1,
     "metadata": {},
     "output_type": "execute_result"
    }
   ],
   "source": [
    "from pyscf import gto,scf\n",
    "import pyscf\n",
    "import numpy as np\n",
    "\n",
    "pyscf.__version__"
   ]
  },
  {
   "cell_type": "code",
   "execution_count": 2,
   "metadata": {},
   "outputs": [],
   "source": [
    "from AP_class import APDFT_perturbator as AP"
   ]
  },
  {
   "cell_type": "code",
   "execution_count": 3,
   "metadata": {},
   "outputs": [
    {
     "name": "stdout",
     "output_type": "stream",
     "text": [
      "converged SCF energy = -108.984873786865\n",
      "-108.98487378686538\n",
      "23.333333333333332\n",
      "--------------- RHF gradients ---------------\n",
      "         x                y                z\n",
      "0 N    -0.0000000000    -0.0000000000    -0.1456458004\n",
      "1 N     0.0000000000     0.0000000000     0.1456458004\n",
      "----------------------------------------------\n",
      "[[0.  0.  0. ]\n",
      " [0.  0.  2.1]]\n"
     ]
    }
   ],
   "source": [
    "mol_NN=gto.M(atom= \"N 0 0 0; N 0 0 2.1\",unit=\"Bohr\",basis=\"def2-TZVP\")\n",
    "mf_nn=scf.RHF(mol_NN)\n",
    "# mf_nn.xc = 'pbe0'\n",
    "# mf_nn.xc = 'lda,vwn'\n",
    "# mf_nn.conv_tol = 1e-12\n",
    "# mf_nn.grids.level = 3\n",
    "e = mf_nn.scf(dm0=mf_nn.init_guess_by_1e())\n",
    "print(mf_nn.e_tot)\n",
    "print(mf_nn.energy_nuc())\n",
    "mf_nn.nuc_grad_method().kernel()\n",
    "ap_nn=AP(mf_nn,sites=[0,1])\n",
    "print(mf_nn.mol.atom_coords())"
   ]
  },
  {
   "attachments": {},
   "cell_type": "markdown",
   "metadata": {},
   "source": [
    "Calculate $\\partial E/\\partial Z_i$, hessian $\\partial^2E/\\partial Z_i\\partial Z_j$ and cubic derivatives $\\partial^3E/\\partial Z_i\\partial Z_j\\partial Z_k$"
   ]
  },
  {
   "cell_type": "code",
   "execution_count": 4,
   "metadata": {},
   "outputs": [
    {
     "data": {
      "text/plain": [
       "array([[[-0.21518468,  0.11800518],\n",
       "        [ 0.11800518,  0.11800518]],\n",
       "\n",
       "       [[ 0.11800518,  0.11800518],\n",
       "        [ 0.11800518, -0.21518468]]])"
      ]
     },
     "execution_count": 4,
     "metadata": {},
     "output_type": "execute_result"
    }
   ],
   "source": [
    "ap_nn.build_elec_gradient()\n",
    "ap_nn.build_elec_hessian()\n",
    "ap_nn.build_cubic()"
   ]
  },
  {
   "cell_type": "markdown",
   "metadata": {},
   "source": [
    "CO"
   ]
  },
  {
   "cell_type": "code",
   "execution_count": 5,
   "metadata": {},
   "outputs": [
    {
     "name": "stdout",
     "output_type": "stream",
     "text": [
      "-132.3182071201987\n",
      "-132.31820712019987\n",
      "-135.5648258581067\n",
      "-135.5648258581067\n"
     ]
    }
   ],
   "source": [
    "print(ap_nn.elec_APDFT0(np.asarray([-1,1])))\n",
    "print(ap_nn.elec_APDFT1(np.asarray([-1,1])))\n",
    "print(ap_nn.elec_APDFT2(np.asarray([-1,1])))\n",
    "print(ap_nn.elec_APDFT3(np.asarray([-1,1])))"
   ]
  },
  {
   "cell_type": "code",
   "execution_count": 6,
   "metadata": {},
   "outputs": [
    {
     "name": "stdout",
     "output_type": "stream",
     "text": [
      "-132.3182071201987\n",
      "-132.31820712019754\n",
      "-135.56482585810437\n",
      "-135.56482585810437\n"
     ]
    }
   ],
   "source": [
    "print(ap_nn.elec_APDFT0(np.asarray([1,-1])))\n",
    "print(ap_nn.elec_APDFT1(np.asarray([1,-1])))\n",
    "print(ap_nn.elec_APDFT2(np.asarray([1,-1])))\n",
    "print(ap_nn.elec_APDFT3(np.asarray([1,-1])))"
   ]
  },
  {
   "cell_type": "code",
   "execution_count": 7,
   "metadata": {},
   "outputs": [
    {
     "name": "stdout",
     "output_type": "stream",
     "text": [
      "converged SCF energy = -112.786968394493\n",
      "-112.78696839449282\n",
      "22.857142857142854\n",
      "-135.64411125163568\n"
     ]
    }
   ],
   "source": [
    "mol_CO=gto.M(atom= \"C 0 0 0; O 0 0 2.1\",unit=\"Bohr\",basis=\"def2-TZVP\")\n",
    "mf_co=scf.RHF(mol_CO)\n",
    "# mf_co.xc = 'pbe0'\n",
    "e = mf_co.scf(dm0=mf_co.init_guess_by_1e())\n",
    "print(e)\n",
    "print(mf_co.energy_nuc())\n",
    "print(mf_co.e_tot - mf_co.energy_nuc())"
   ]
  },
  {
   "cell_type": "code",
   "execution_count": 8,
   "metadata": {},
   "outputs": [
    {
     "name": "stdout",
     "output_type": "stream",
     "text": [
      "22.857142857142858\n"
     ]
    }
   ],
   "source": [
    "from utils import calc_nuclei_repulsion_energy\n",
    "\n",
    "charges = [6, 8]\n",
    "coords = np.asarray([[0, 0, 0], [0, 0, 2.1]])\n",
    "nuc_repul_ene = calc_nuclei_repulsion_energy(charges, coords, unit_angstrom=False)\n",
    "print(nuc_repul_ene)"
   ]
  },
  {
   "cell_type": "code",
   "execution_count": 9,
   "metadata": {},
   "outputs": [
    {
     "name": "stdout",
     "output_type": "stream",
     "text": [
      "converged SCF energy = -107.49885049543\n",
      "-107.49885049543037\n",
      "23.333333333333332\n",
      "--------------- RHF gradients ---------------\n",
      "         x                y                z\n",
      "0 N    -0.0000000000    -0.0000000000     0.0865931477\n",
      "1 N     0.0000000000     0.0000000000    -0.0865931477\n",
      "----------------------------------------------\n",
      "-107.97504097162084\n",
      "-107.97504097162081\n",
      "-109.0133279713045\n",
      "-109.0133279713045\n"
     ]
    }
   ],
   "source": [
    "mol_NN_sto=gto.M(atom= \"N 0 0 0; N 0 0 2.1\",unit=\"Bohr\",basis=\"sto-3g\")\n",
    "mf_nn_sto=scf.RHF(mol_NN_sto)\n",
    "# Note that the use of dm0=mf_nn_sto.init_guess_by_1e() gives higher energy\n",
    "# e = mf_nn_sto.scf(dm0=mf_nn_sto.init_guess_by_1e())\n",
    "e = mf_nn_sto.scf()\n",
    "print(mf_nn_sto.e_tot)\n",
    "print(mf_nn_sto.energy_nuc())\n",
    "mf_nn_sto.nuc_grad_method().kernel()\n",
    "ap_nn_sto=AP(mf_nn_sto,sites=[0,1])\n",
    "ap_nn_sto.build_elec_gradient()\n",
    "ap_nn_sto.build_elec_hessian()\n",
    "ap_nn_sto.build_cubic()\n",
    "\n",
    "print(ap_nn_sto.elec_APDFT0(np.asarray([-1,1])) + nuc_repul_ene)\n",
    "print(ap_nn_sto.elec_APDFT1(np.asarray([-1,1])) + nuc_repul_ene)\n",
    "print(ap_nn_sto.elec_APDFT2(np.asarray([-1,1])) + nuc_repul_ene)\n",
    "print(ap_nn_sto.elec_APDFT3(np.asarray([-1,1])) + nuc_repul_ene)"
   ]
  },
  {
   "cell_type": "code",
   "execution_count": 10,
   "metadata": {},
   "outputs": [
    {
     "name": "stdout",
     "output_type": "stream",
     "text": [
      "-89.53632873812917\n",
      "-125.73429803367412\n",
      "-143.0149071258722\n"
     ]
    }
   ],
   "source": [
    "charges = [7, 7]\n",
    "charges = [6, 7]\n",
    "nuc_repul_ene = calc_nuclei_repulsion_energy(charges, coords, unit_angstrom=False)\n",
    "print(ap_nn_sto.elec_APDFT1(np.asarray([-1,0])) + nuc_repul_ene)\n",
    "charges = [7, 8]\n",
    "nuc_repul_ene = calc_nuclei_repulsion_energy(charges, coords, unit_angstrom=False)\n",
    "print(ap_nn_sto.elec_APDFT3(np.asarray([0,1])) + nuc_repul_ene)\n",
    "charges = [8, 8]\n",
    "nuc_repul_ene = calc_nuclei_repulsion_energy(charges, coords, unit_angstrom=False)\n",
    "print(ap_nn_sto.elec_APDFT3(np.asarray([1,1])) + nuc_repul_ene)"
   ]
  },
  {
   "cell_type": "markdown",
   "metadata": {},
   "source": [
    "Use of alchemical_calculator class"
   ]
  },
  {
   "cell_type": "code",
   "execution_count": 11,
   "metadata": {},
   "outputs": [
    {
     "name": "stdout",
     "output_type": "stream",
     "text": [
      "Warning: DFT functional not specified. Using HF.\n",
      "converged SCF energy = -107.498850545116\n"
     ]
    }
   ],
   "source": [
    "from alch_calc import alchemical_calculator as ac\n",
    "\n",
    "target_mol = \"N 0 0 0; N 0 0 2.1\"\n",
    "dft_functional = None\n",
    "name_basis_set = \"sto-3g\"\n",
    "nuc_charges_vec = [-1, 1]\n",
    "\n",
    "ac_mol = ac(target_mol, name_basis_set, dft_functional, sites=[0,1], coord_unit=\"Bohr\")\n",
    "ac_mol.calc_all_derivatives()"
   ]
  },
  {
   "cell_type": "code",
   "execution_count": 12,
   "metadata": {},
   "outputs": [],
   "source": [
    "charges = [6, 8]\n",
    "coords = np.asarray([[0, 0, 0], [0, 0, 2.1]])\n",
    "nuc_repul_ene = calc_nuclei_repulsion_energy(charges, coords, unit_angstrom=False)"
   ]
  },
  {
   "cell_type": "code",
   "execution_count": 13,
   "metadata": {},
   "outputs": [
    {
     "name": "stdout",
     "output_type": "stream",
     "text": [
      "-107.9750410213068\n",
      "-107.9750410213068\n",
      "-109.0133280597324\n",
      "-109.0133280597324\n"
     ]
    }
   ],
   "source": [
    "print(ac_mol.get_elec_APDFT0(nuc_charges_vec) + nuc_repul_ene)\n",
    "print(ac_mol.get_elec_APDFT1(nuc_charges_vec) + nuc_repul_ene)\n",
    "print(ac_mol.get_elec_APDFT2(nuc_charges_vec) + nuc_repul_ene)\n",
    "print(ac_mol.get_elec_APDFT3(nuc_charges_vec) + nuc_repul_ene)"
   ]
  }
 ],
 "metadata": {
  "kernelspec": {
   "display_name": "aqa",
   "language": "python",
   "name": "python3"
  },
  "language_info": {
   "codemirror_mode": {
    "name": "ipython",
    "version": 3
   },
   "file_extension": ".py",
   "mimetype": "text/x-python",
   "name": "python",
   "nbconvert_exporter": "python",
   "pygments_lexer": "ipython3",
   "version": "3.11.3"
  }
 },
 "nbformat": 4,
 "nbformat_minor": 4
}
