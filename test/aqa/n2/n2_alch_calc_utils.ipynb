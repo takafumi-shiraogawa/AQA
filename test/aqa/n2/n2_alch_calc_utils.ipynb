{
 "cells": [
  {
   "attachments": {},
   "cell_type": "markdown",
   "metadata": {},
   "source": [
    "Test of alchemical calculater class"
   ]
  },
  {
   "cell_type": "code",
   "execution_count": 1,
   "metadata": {},
   "outputs": [],
   "source": [
    "target_mol = \"N 0 0 0; N 0 0 1.1\"\n",
    "dft_functional = \"pbe0\"  # \"lda,vwn\"\n",
    "name_basis_set = \"def2-TZVP\"\n",
    "nuc_charges_vec = [1, -1]"
   ]
  },
  {
   "cell_type": "code",
   "execution_count": 2,
   "metadata": {},
   "outputs": [],
   "source": [
    "from alch_calc import alchemical_calculator as ac"
   ]
  },
  {
   "cell_type": "code",
   "execution_count": 3,
   "metadata": {},
   "outputs": [
    {
     "name": "stdout",
     "output_type": "stream",
     "text": [
      "converged SCF energy = -109.445984711877\n"
     ]
    }
   ],
   "source": [
    "ac_mol = ac(target_mol, name_basis_set, dft_functional, sites=[0,1], flag_response_property=True)"
   ]
  },
  {
   "cell_type": "code",
   "execution_count": 4,
   "metadata": {},
   "outputs": [],
   "source": [
    "ac_mol.calc_all_derivatives()"
   ]
  },
  {
   "cell_type": "code",
   "execution_count": 5,
   "metadata": {},
   "outputs": [
    {
     "data": {
      "text/plain": [
       "-133.01842410740392"
      ]
     },
     "execution_count": 5,
     "metadata": {},
     "output_type": "execute_result"
    }
   ],
   "source": [
    "ac_mol.get_elec_APDFT0(nuc_charges_vec)"
   ]
  },
  {
   "cell_type": "code",
   "execution_count": 6,
   "metadata": {},
   "outputs": [
    {
     "data": {
      "text/plain": [
       "-133.01842410740383"
      ]
     },
     "execution_count": 6,
     "metadata": {},
     "output_type": "execute_result"
    }
   ],
   "source": [
    "ac_mol.get_elec_APDFT1(nuc_charges_vec)"
   ]
  },
  {
   "cell_type": "code",
   "execution_count": 7,
   "metadata": {},
   "outputs": [
    {
     "data": {
      "text/plain": [
       "-136.23271582592713"
      ]
     },
     "execution_count": 7,
     "metadata": {},
     "output_type": "execute_result"
    }
   ],
   "source": [
    "ac_mol.get_elec_APDFT2(nuc_charges_vec)"
   ]
  },
  {
   "cell_type": "code",
   "execution_count": 8,
   "metadata": {},
   "outputs": [
    {
     "data": {
      "text/plain": [
       "-136.23271582592713"
      ]
     },
     "execution_count": 8,
     "metadata": {},
     "output_type": "execute_result"
    }
   ],
   "source": [
    "ac_mol.get_elec_APDFT3(nuc_charges_vec)"
   ]
  },
  {
   "cell_type": "code",
   "execution_count": 9,
   "metadata": {},
   "outputs": [
    {
     "data": {
      "text/plain": [
       "1.7053025658242404e-13"
      ]
     },
     "execution_count": 9,
     "metadata": {},
     "output_type": "execute_result"
    }
   ],
   "source": [
    "ac_mol.get_relative_elec_APDFT1(nuc_charges_vec)"
   ]
  },
  {
   "cell_type": "code",
   "execution_count": 10,
   "metadata": {},
   "outputs": [
    {
     "data": {
      "text/plain": [
       "1.677639508793997e-13"
      ]
     },
     "execution_count": 10,
     "metadata": {},
     "output_type": "execute_result"
    }
   ],
   "source": [
    "ac_mol.get_relative_elec_APDFT3(nuc_charges_vec)"
   ]
  },
  {
   "cell_type": "code",
   "execution_count": 11,
   "metadata": {},
   "outputs": [
    {
     "name": "stdout",
     "output_type": "stream",
     "text": [
      "[-21.67549157 -21.67549157]\n",
      "[[-3.2215335  -0.00724178]\n",
      " [-0.00724178 -3.2215335 ]]\n",
      "[[[-0.17267082  0.10708009]\n",
      "  [ 0.10708009  0.10708009]]\n",
      "\n",
      " [[ 0.10708009  0.10708009]\n",
      "  [ 0.10708009 -0.17267082]]]\n"
     ]
    }
   ],
   "source": [
    "from alch_calc_utils import get_multi_ele_energies, write_csv_output_APDFT_energies, write_csv_output_ele_ene_derivatives\n",
    "\n",
    "ele_enes_apdft = get_multi_ele_energies(ac_mol)\n",
    "write_csv_output_APDFT_energies(ele_enes_apdft)\n",
    "\n",
    "print(ac_mol.ap.gradient)\n",
    "print(ac_mol.ap.hessian)\n",
    "print(ac_mol.ap.cubic)\n",
    "write_csv_output_ele_ene_derivatives(ac_mol)"
   ]
  },
  {
   "cell_type": "code",
   "execution_count": 12,
   "metadata": {},
   "outputs": [
    {
     "name": "stdout",
     "output_type": "stream",
     "text": [
      "[ 1.05502096e-15 -7.06278258e-15 -3.75255382e-14]\n",
      "[[-2.15452609e-15  7.23060346e-16 -1.04970689e+00]\n",
      " [ 1.26899439e-15 -2.55811937e-15  1.04970689e+00]]\n",
      "\n",
      "[[[ 3.57397854e+00 -1.62507749e-15  1.54267410e-14]\n",
      "  [-1.62507749e-15  3.57397854e+00 -3.32092047e-14]\n",
      "  [ 1.54267410e-14 -3.32092047e-14  6.57397550e+00]]\n",
      "\n",
      " [[ 3.57397854e+00 -6.94241068e-16  1.23866087e-14]\n",
      "  [-6.94241068e-16  3.57397854e+00 -3.71693629e-14]\n",
      "  [ 1.23866087e-14 -3.71693629e-14  6.57397550e+00]]]\n"
     ]
    }
   ],
   "source": [
    "from alch_calc_utils import get_multi_response_properties, write_csv_output_APDFT_response_properties, write_csv_output_ele_response_property_derivatives\n",
    "\n",
    "electric_dipoles_apdft, electric_pols_apdft = get_multi_response_properties(ac_mol)\n",
    "write_csv_output_APDFT_response_properties(electric_dipoles_apdft, electric_pols_apdft)\n",
    "write_csv_output_ele_response_property_derivatives(ac_mol)\n",
    "\n",
    "print(ac_mol.ap.ref_elec_electric_dipole_moment)\n",
    "print(ac_mol.ap.electric_dipole_gradient)\n",
    "print()\n",
    "print(ac_mol.ap.electric_polarizability_gradient)"
   ]
  }
 ],
 "metadata": {
  "kernelspec": {
   "display_name": "aqa",
   "language": "python",
   "name": "python3"
  },
  "language_info": {
   "codemirror_mode": {
    "name": "ipython",
    "version": 3
   },
   "file_extension": ".py",
   "mimetype": "text/x-python",
   "name": "python",
   "nbconvert_exporter": "python",
   "pygments_lexer": "ipython3",
   "version": "3.11.3"
  }
 },
 "nbformat": 4,
 "nbformat_minor": 4
}
