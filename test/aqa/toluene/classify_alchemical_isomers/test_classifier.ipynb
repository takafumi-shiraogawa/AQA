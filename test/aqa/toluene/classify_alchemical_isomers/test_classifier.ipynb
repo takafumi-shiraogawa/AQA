{
 "cells": [
  {
   "cell_type": "code",
   "execution_count": 1,
   "metadata": {},
   "outputs": [],
   "source": [
    "from aqa.alch_calc_utils import get_alch_isomers_indexes"
   ]
  },
  {
   "cell_type": "code",
   "execution_count": 2,
   "metadata": {},
   "outputs": [],
   "source": [
    "# Set parameters\n",
    "path_xyz_file = \"./toluene_cs.xyz\""
   ]
  },
  {
   "cell_type": "code",
   "execution_count": 3,
   "metadata": {},
   "outputs": [
    {
     "name": "stdout",
     "output_type": "stream",
     "text": [
      "2\n",
      "size 0\n",
      "size 36\n",
      "[1, 2]\n",
      "[3, 4]\n",
      "[5, 6]\n",
      "[7, 8]\n",
      "[9, 10]\n",
      "[11, 12]\n",
      "[14, 15]\n",
      "[17, 22]\n",
      "[18, 21]\n",
      "[19, 20]\n",
      "[23, 28]\n",
      "[24, 27]\n",
      "[25, 26]\n",
      "[29, 34]\n",
      "[30, 33]\n",
      "[31, 32]\n",
      "[35, 40]\n",
      "[36, 39]\n",
      "[37, 38]\n",
      "[41, 43]\n",
      "[42, 44]\n",
      "[45, 47]\n",
      "[46, 48]\n",
      "[49, 54]\n",
      "[50, 53]\n",
      "[51, 52]\n",
      "[55, 60]\n",
      "[56, 59]\n",
      "[57, 58]\n",
      "[63, 64]\n",
      "[65, 71]\n",
      "[66, 72]\n",
      "[67, 74]\n",
      "[68, 76]\n",
      "[69, 73]\n",
      "[70, 75]\n"
     ]
    }
   ],
   "source": [
    "alchemical_isomers = get_alch_isomers_indexes(path_xyz_file, mutation_sites=list(range(12)))\n",
    "print(len(alchemical_isomers))\n",
    "for i in alchemical_isomers:\n",
    "    print(\"size\", len(i))\n",
    "    for j in i:\n",
    "        print(j)"
   ]
  },
  {
   "cell_type": "code",
   "execution_count": 4,
   "metadata": {},
   "outputs": [
    {
     "name": "stdout",
     "output_type": "stream",
     "text": [
      "1\n",
      "size 36\n",
      "[1, 2]\n",
      "[3, 4]\n",
      "[5, 6]\n",
      "[7, 8]\n",
      "[9, 10]\n",
      "[11, 12]\n",
      "[14, 15]\n",
      "[17, 22]\n",
      "[18, 21]\n",
      "[19, 20]\n",
      "[23, 28]\n",
      "[24, 27]\n",
      "[25, 26]\n",
      "[29, 34]\n",
      "[30, 33]\n",
      "[31, 32]\n",
      "[35, 40]\n",
      "[36, 39]\n",
      "[37, 38]\n",
      "[41, 43]\n",
      "[42, 44]\n",
      "[45, 47]\n",
      "[46, 48]\n",
      "[49, 54]\n",
      "[50, 53]\n",
      "[51, 52]\n",
      "[55, 60]\n",
      "[56, 59]\n",
      "[57, 58]\n",
      "[63, 64]\n",
      "[65, 71]\n",
      "[66, 72]\n",
      "[67, 74]\n",
      "[68, 76]\n",
      "[69, 73]\n",
      "[70, 75]\n"
     ]
    }
   ],
   "source": [
    "alchemical_isomers = get_alch_isomers_indexes(path_xyz_file, mutation_sites=list(range(12)), distinguish_isomers=False)\n",
    "print(len(alchemical_isomers))\n",
    "for i in alchemical_isomers:\n",
    "    print(\"size\", len(i))\n",
    "    for j in i:\n",
    "        print(j)"
   ]
  }
 ],
 "metadata": {
  "kernelspec": {
   "display_name": "aqa",
   "language": "python",
   "name": "python3"
  },
  "language_info": {
   "codemirror_mode": {
    "name": "ipython",
    "version": 3
   },
   "file_extension": ".py",
   "mimetype": "text/x-python",
   "name": "python",
   "nbconvert_exporter": "python",
   "pygments_lexer": "ipython3",
   "version": "3.11.3"
  }
 },
 "nbformat": 4,
 "nbformat_minor": 2
}