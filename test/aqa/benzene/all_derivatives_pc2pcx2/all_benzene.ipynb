{
 "cells": [
  {
   "attachments": {},
   "cell_type": "markdown",
   "metadata": {},
   "source": [
    "Alchemical calculations of all BN-doped benzene derivatives with PBE0/pc-2 and pcX-2."
   ]
  },
  {
   "cell_type": "markdown",
   "metadata": {},
   "source": [
    "# Calculation"
   ]
  },
  {
   "cell_type": "code",
   "execution_count": 1,
   "metadata": {},
   "outputs": [],
   "source": [
    "import basis_set_exchange as bse"
   ]
  },
  {
   "cell_type": "code",
   "execution_count": 2,
   "metadata": {},
   "outputs": [],
   "source": [
    "# Optimized at PBE0/pc-2(H), pcX-2(C) with Gaussian 16 rev. A.03.\n",
    "target_mol = \"\"\"\n",
    " C                  0.00000000    1.38730200    0.00000000\n",
    " C                  1.20143800    0.69365100    0.00000000\n",
    " C                  1.20143800   -0.69365100    0.00000000\n",
    " C                  0.00000000   -1.38730200    0.00000000\n",
    " C                 -1.20143800   -0.69365100    0.00000000\n",
    " C                 -1.20143800    0.69365100    0.00000000\n",
    " H                  0.00000000    2.47054300    0.00000000\n",
    " H                  2.13955300    1.23527100    0.00000000\n",
    " H                  2.13955300   -1.23527100    0.00000000\n",
    " H                  0.00000000   -2.47054300    0.00000000\n",
    " H                 -2.13955300   -1.23527100    0.00000000\n",
    " H                 -2.13955300    1.23527100    0.00000000\n",
    "\"\"\"\n",
    "dft_functional = \"pbe0\"\n",
    "name_basis_set = {\"H\":bse.get_basis(\"pc-2\",fmt=\"nwchem\",elements=[1]),'C':bse.get_basis(\"pcX-2\",fmt=\"nwchem\",elements=[6])}"
   ]
  },
  {
   "cell_type": "code",
   "execution_count": 3,
   "metadata": {},
   "outputs": [],
   "source": [
    "from aqa.alch_calc import alchemical_calculator as ac"
   ]
  },
  {
   "cell_type": "code",
   "execution_count": 4,
   "metadata": {},
   "outputs": [
    {
     "name": "stdout",
     "output_type": "stream",
     "text": [
      "converged SCF energy = -232.05303470805\n"
     ]
    }
   ],
   "source": [
    "ac_mol = ac(target_mol, name_basis_set, dft_functional, sites=[0,1,2,3,4,5], bse_off=True)"
   ]
  },
  {
   "cell_type": "code",
   "execution_count": 5,
   "metadata": {},
   "outputs": [],
   "source": [
    "ac_mol.calc_all_derivatives()"
   ]
  },
  {
   "cell_type": "code",
   "execution_count": 6,
   "metadata": {},
   "outputs": [],
   "source": [
    "from aqa.alch_calc_utils import get_multi_ele_energies, write_csv_output_APDFT_energies, write_csv_output_ele_ene_derivatives\n",
    "\n",
    "ele_enes_apdft = get_multi_ele_energies(ac_mol)\n",
    "write_csv_output_APDFT_energies(ele_enes_apdft)\n",
    "write_csv_output_ele_ene_derivatives(ac_mol)"
   ]
  }
 ],
 "metadata": {
  "kernelspec": {
   "display_name": "Python 3 (ipykernel)",
   "language": "python",
   "name": "python3"
  },
  "language_info": {
   "codemirror_mode": {
    "name": "ipython",
    "version": 3
   },
   "file_extension": ".py",
   "mimetype": "text/x-python",
   "name": "python",
   "nbconvert_exporter": "python",
   "pygments_lexer": "ipython3",
   "version": "3.11.3"
  }
 },
 "nbformat": 4,
 "nbformat_minor": 4
}