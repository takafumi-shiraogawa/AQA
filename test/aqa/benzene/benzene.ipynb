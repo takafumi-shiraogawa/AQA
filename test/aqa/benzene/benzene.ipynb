{
 "cells": [
  {
   "cell_type": "markdown",
   "metadata": {},
   "source": [
    "# Calculation"
   ]
  },
  {
   "cell_type": "code",
   "execution_count": 1,
   "metadata": {},
   "outputs": [],
   "source": [
    "import numpy as np\n",
    "from pyscf import gto,scf\n",
    "import basis_set_exchange as bse"
   ]
  },
  {
   "cell_type": "code",
   "execution_count": 2,
   "metadata": {},
   "outputs": [],
   "source": [
    "# Optimized at PBE0/def2-TZVP with Gaussian 16 rev. A.03.\n",
    "target_mol = \"\"\"\n",
    " C                  0.00000000    1.39499100    0.00000000\n",
    " C                  1.20809700    0.69749500    0.00000000\n",
    " C                  1.20809700   -0.69749500    0.00000000\n",
    " C                  0.00000000   -1.39499100    0.00000000\n",
    " C                 -1.20809700   -0.69749500    0.00000000\n",
    " C                 -1.20809700    0.69749500    0.00000000\n",
    " H                  0.00000000    2.49460100    0.00000000\n",
    " H                  2.16038800    1.24730000    0.00000000\n",
    " H                  2.16038800   -1.24730000    0.00000000\n",
    " H                  0.00000000   -2.49460100    0.00000000\n",
    " H                 -2.16038800   -1.24730000    0.00000000\n",
    " H                 -2.16038800    1.24730000    0.00000000\n",
    "\"\"\"\n",
    "dft_functional = \"pbe0\"  # \"lda,vwn\"\n",
    "name_basis_set = \"def2-TZVP\""
   ]
  },
  {
   "cell_type": "code",
   "execution_count": 3,
   "metadata": {},
   "outputs": [],
   "source": [
    "from aqa.alch_calc import alchemical_calculator as ac"
   ]
  },
  {
   "cell_type": "code",
   "execution_count": 4,
   "metadata": {},
   "outputs": [
    {
     "name": "stdout",
     "output_type": "stream",
     "text": [
      "converged SCF energy = -232.043964432511\n"
     ]
    }
   ],
   "source": [
    "ac_mol = ac(target_mol, name_basis_set, dft_functional, sites=[0,1,2,3])"
   ]
  },
  {
   "cell_type": "code",
   "execution_count": 5,
   "metadata": {},
   "outputs": [],
   "source": [
    "ac_mol.calc_all_derivatives()"
   ]
  },
  {
   "cell_type": "markdown",
   "metadata": {},
   "source": [
    "BNNBCC"
   ]
  },
  {
   "cell_type": "code",
   "execution_count": 6,
   "metadata": {},
   "outputs": [],
   "source": [
    "# nuc_charges_vec = np.array([-1.0,1.0,1.0,-1.0,0.0,0.0,0.0,0.0,0.0,0.0,0.0,0.0])\n",
    "nuc_charges_vec = np.array([-1.0,1.0,1.0,-1.0])"
   ]
  },
  {
   "cell_type": "code",
   "execution_count": 7,
   "metadata": {},
   "outputs": [],
   "source": [
    "BNNBCC_apdft0 = ac_mol.get_elec_APDFT0(nuc_charges_vec)\n",
    "BNNBCC_apdft1 = ac_mol.get_elec_APDFT1(nuc_charges_vec)\n",
    "BNNBCC_apdft2 = ac_mol.get_elec_APDFT2(nuc_charges_vec)\n",
    "BNNBCC_apdft3 = ac_mol.get_elec_APDFT3(nuc_charges_vec)"
   ]
  },
  {
   "cell_type": "code",
   "execution_count": 8,
   "metadata": {},
   "outputs": [
    {
     "name": "stdout",
     "output_type": "stream",
     "text": [
      "converged SCF energy = -238.809375796808\n",
      "--------------- RKS gradients ---------------\n",
      "         x                y                z\n",
      "0 B    -0.0669821290    -0.0068922582    -0.0000000000\n",
      "1 N    -0.0578447159    -0.0038109238    -0.0000000000\n",
      "2 N    -0.0578447159     0.0038109238     0.0000000000\n",
      "3 B    -0.0669821290     0.0068922582     0.0000000000\n",
      "4 C     0.0907944561    -0.0763331813     0.0000000000\n",
      "5 C     0.0907944561     0.0763331813    -0.0000000000\n",
      "6 H    -0.0110571157    -0.0578586253     0.0000000000\n",
      "7 H     0.0489675901     0.0413172226     0.0000000000\n",
      "8 H     0.0489675901    -0.0413172226     0.0000000000\n",
      "9 H    -0.0110571157     0.0578586253    -0.0000000000\n",
      "10 H    -0.0038821478    -0.0063299596    -0.0000000000\n",
      "11 H    -0.0038821478     0.0063299596    -0.0000000000\n",
      "----------------------------------------------\n",
      "202.40762809609214\n"
     ]
    }
   ],
   "source": [
    "target_mol_BNNBCC = \"\"\"\n",
    " B                  0.00000000    1.39499100    0.00000000\n",
    " N                  1.20809700    0.69749500    0.00000000\n",
    " N                  1.20809700   -0.69749500    0.00000000\n",
    " B                  0.00000000   -1.39499100    0.00000000\n",
    " C                 -1.20809700   -0.69749500    0.00000000\n",
    " C                 -1.20809700    0.69749500    0.00000000\n",
    " H                  0.00000000    2.49460100    0.00000000\n",
    " H                  2.16038800    1.24730000    0.00000000\n",
    " H                  2.16038800   -1.24730000    0.00000000\n",
    " H                  0.00000000   -2.49460100    0.00000000\n",
    " H                 -2.16038800   -1.24730000    0.00000000\n",
    " H                 -2.16038800    1.24730000    0.00000000\n",
    "\"\"\"\n",
    "basis_set = bse.get_basis(name_basis_set,fmt=\"nwchem\")\n",
    "mol_BNNBCC=gto.M(atom=target_mol_BNNBCC, basis=basis_set)\n",
    "mf_BNNBCC=scf.RKS(mol_BNNBCC)\n",
    "mf_BNNBCC.xc = dft_functional\n",
    "mf_BNNBCC.scf()\n",
    "mf_BNNBCC.nuc_grad_method().kernel()\n",
    "BNNBCC_energy = mf_BNNBCC.e_tot - mf_BNNBCC.energy_nuc()\n",
    "print(mf_BNNBCC.energy_nuc())"
   ]
  },
  {
   "cell_type": "markdown",
   "metadata": {},
   "source": [
    "NBBNCC"
   ]
  },
  {
   "cell_type": "code",
   "execution_count": 9,
   "metadata": {},
   "outputs": [],
   "source": [
    "# nuc_charges_vec = np.array([1.0,-1.0,-1.0,1.0,0.0,0.0,0.0,0.0,0.0,0.0,0.0,0.0])\n",
    "nuc_charges_vec = np.array([1.0,-1.0,-1.0,1.0])"
   ]
  },
  {
   "cell_type": "code",
   "execution_count": 10,
   "metadata": {},
   "outputs": [],
   "source": [
    "NBBNCC_apdft0 = ac_mol.get_elec_APDFT0(nuc_charges_vec)\n",
    "NBBNCC_apdft1 = ac_mol.get_elec_APDFT1(nuc_charges_vec)\n",
    "NBBNCC_apdft2 = ac_mol.get_elec_APDFT2(nuc_charges_vec)\n",
    "NBBNCC_apdft3 = ac_mol.get_elec_APDFT3(nuc_charges_vec)"
   ]
  },
  {
   "cell_type": "code",
   "execution_count": 11,
   "metadata": {},
   "outputs": [
    {
     "name": "stdout",
     "output_type": "stream",
     "text": [
      "converged SCF energy = -238.801380394958\n",
      "--------------- RKS gradients ---------------\n",
      "         x                y                z\n",
      "0 N     0.0234734569    -0.0482365115     0.0000000000\n",
      "1 B     0.0269112685    -0.1506867308    -0.0000000000\n",
      "2 B     0.0269112685     0.1506867308    -0.0000000000\n",
      "3 N     0.0234734569     0.0482365115     0.0000000000\n",
      "4 C    -0.0029746201    -0.0202964633     0.0000000000\n",
      "5 C    -0.0029746201     0.0202964633    -0.0000000000\n",
      "6 H     0.0095162434     0.0598683551    -0.0000000000\n",
      "7 H    -0.0455195982    -0.0404565805     0.0000000000\n",
      "8 H    -0.0455195982     0.0404565805     0.0000000000\n",
      "9 H     0.0095162434    -0.0598683551     0.0000000000\n",
      "10 H    -0.0114064272    -0.0053332795    -0.0000000000\n",
      "11 H    -0.0114064272     0.0053332795    -0.0000000000\n",
      "----------------------------------------------\n",
      "202.40762036974854\n"
     ]
    }
   ],
   "source": [
    "target_mol_NBBNCC = \"\"\"\n",
    " N                  0.00000000    1.39499100    0.00000000\n",
    " B                  1.20809700    0.69749500    0.00000000\n",
    " B                  1.20809700   -0.69749500    0.00000000\n",
    " N                  0.00000000   -1.39499100    0.00000000\n",
    " C                 -1.20809700   -0.69749500    0.00000000\n",
    " C                 -1.20809700    0.69749500    0.00000000\n",
    " H                  0.00000000    2.49460100    0.00000000\n",
    " H                  2.16038800    1.24730000    0.00000000\n",
    " H                  2.16038800   -1.24730000    0.00000000\n",
    " H                  0.00000000   -2.49460100    0.00000000\n",
    " H                 -2.16038800   -1.24730000    0.00000000\n",
    " H                 -2.16038800    1.24730000    0.00000000\n",
    "\"\"\"\n",
    "basis_set = bse.get_basis(name_basis_set,fmt=\"nwchem\")\n",
    "mol_NBBNCC=gto.M(atom=target_mol_NBBNCC, basis=basis_set)\n",
    "mf_NBBNCC=scf.RKS(mol_NBBNCC)\n",
    "mf_NBBNCC.xc = dft_functional\n",
    "mf_NBBNCC.scf()\n",
    "mf_NBBNCC.nuc_grad_method().kernel()\n",
    "NBBNCC_energy = mf_NBBNCC.e_tot - mf_NBBNCC.energy_nuc()\n",
    "print(mf_NBBNCC.energy_nuc())"
   ]
  },
  {
   "cell_type": "markdown",
   "metadata": {},
   "source": [
    "BNNBCC - NBBNCC"
   ]
  },
  {
   "cell_type": "code",
   "execution_count": 12,
   "metadata": {},
   "outputs": [],
   "source": [
    "# nuc_charges_vec = np.array([-1.0,1.0,1.0,-1.0,0.0,0.0,0.0,0.0,0.0,0.0,0.0,0.0])\n",
    "nuc_charges_vec = np.array([-1.0,1.0,1.0,-1.0])"
   ]
  },
  {
   "cell_type": "code",
   "execution_count": 13,
   "metadata": {},
   "outputs": [],
   "source": [
    "relative_ene_apdft1 = ac_mol.get_relative_elec_APDFT1(nuc_charges_vec)\n",
    "relative_ene_apdft3 = ac_mol.get_relative_elec_APDFT3(nuc_charges_vec)"
   ]
  },
  {
   "cell_type": "markdown",
   "metadata": {},
   "source": [
    "# Results"
   ]
  },
  {
   "cell_type": "markdown",
   "metadata": {},
   "source": [
    "Calculated values"
   ]
  },
  {
   "cell_type": "code",
   "execution_count": 14,
   "metadata": {},
   "outputs": [
    {
     "name": "stdout",
     "output_type": "stream",
     "text": [
      "BNNBCC energies\n",
      "-435.0792843716443\n",
      "-435.07928725078483\n",
      "-441.051337025019\n",
      "-441.0551482271194\n",
      "\n",
      "NBBNCC energies\n",
      "-435.0792843716443\n",
      "-435.07928149250375\n",
      "-441.0513312667379\n",
      "-441.0475200646375\n",
      "\n",
      "SCF energies\n",
      "BNNBCC -441.2170038928998\n",
      "NBBNCC -441.2090007647065\n",
      "\n",
      "Relative energies\n",
      "-5.75828109106169e-06\n",
      "-0.007628162481904677\n",
      "\n",
      "SCF relative energies\n",
      "-0.00800312819330884\n"
     ]
    }
   ],
   "source": [
    "print(\"BNNBCC energies\")\n",
    "print(BNNBCC_apdft0)\n",
    "print(BNNBCC_apdft1)\n",
    "print(BNNBCC_apdft2)\n",
    "print(BNNBCC_apdft3)\n",
    "print()\n",
    "print(\"NBBNCC energies\")\n",
    "print(NBBNCC_apdft0)\n",
    "print(NBBNCC_apdft1)\n",
    "print(NBBNCC_apdft2)\n",
    "print(NBBNCC_apdft3)\n",
    "print()\n",
    "print(\"SCF energies\")\n",
    "print(\"BNNBCC\", BNNBCC_energy)\n",
    "print(\"NBBNCC\", NBBNCC_energy)\n",
    "print()\n",
    "print(\"Relative energies\")\n",
    "print(relative_ene_apdft1)\n",
    "print(relative_ene_apdft3)\n",
    "print()\n",
    "print(\"SCF relative energies\")\n",
    "print(BNNBCC_energy - NBBNCC_energy)"
   ]
  },
  {
   "cell_type": "markdown",
   "metadata": {},
   "source": [
    "Accuracy"
   ]
  },
  {
   "cell_type": "code",
   "execution_count": 15,
   "metadata": {},
   "outputs": [
    {
     "name": "stdout",
     "output_type": "stream",
     "text": [
      "BNNBCC energies\n",
      "6.137719521255519\n",
      "6.137716642114981\n",
      "0.16566686788081597\n",
      "0.161855665780422\n",
      "\n",
      "NBBNCC energies\n",
      "6.1297163930622105\n",
      "6.129719272202749\n",
      "0.15766949796858398\n",
      "0.16148070006897797\n",
      "\n",
      "Relative energies\n",
      "0.007997369912217778\n",
      "0.0003749657114041627\n"
     ]
    }
   ],
   "source": [
    "print(\"BNNBCC energies\")\n",
    "print(BNNBCC_apdft0 - BNNBCC_energy)\n",
    "print(BNNBCC_apdft1 - BNNBCC_energy)\n",
    "print(BNNBCC_apdft2 - BNNBCC_energy)\n",
    "print(BNNBCC_apdft3 - BNNBCC_energy)\n",
    "print()\n",
    "print(\"NBBNCC energies\")\n",
    "print(NBBNCC_apdft0 - NBBNCC_energy)\n",
    "print(NBBNCC_apdft1 - NBBNCC_energy)\n",
    "print(NBBNCC_apdft2 - NBBNCC_energy)\n",
    "print(NBBNCC_apdft3 - NBBNCC_energy)\n",
    "print()\n",
    "print(\"Relative energies\")\n",
    "print(relative_ene_apdft1 - (BNNBCC_energy - NBBNCC_energy))\n",
    "print(relative_ene_apdft3 - (BNNBCC_energy - NBBNCC_energy))"
   ]
  },
  {
   "cell_type": "markdown",
   "metadata": {},
   "source": [
    "APDFT contributions"
   ]
  },
  {
   "cell_type": "code",
   "execution_count": 16,
   "metadata": {},
   "outputs": [
    {
     "name": "stdout",
     "output_type": "stream",
     "text": [
      "BNNBCC energy contributions\n",
      "-435.0792843716443\n",
      "-2.8791405384254176e-06\n",
      "-5.972049774234165\n",
      "-0.0038112021003939844\n",
      "\n",
      "NBBNCC energies\n",
      "-435.0792843716443\n",
      "2.8791405384254176e-06\n",
      "-5.972049774234165\n",
      "0.0038112021003939844\n"
     ]
    }
   ],
   "source": [
    "print(\"BNNBCC energy contributions\")\n",
    "print(BNNBCC_apdft0)\n",
    "print(BNNBCC_apdft1 - BNNBCC_apdft0)\n",
    "print(BNNBCC_apdft2 - BNNBCC_apdft1)\n",
    "print(BNNBCC_apdft3 - BNNBCC_apdft2)\n",
    "print()\n",
    "print(\"NBBNCC energies\")\n",
    "print(NBBNCC_apdft0)\n",
    "print(NBBNCC_apdft1 - NBBNCC_apdft0)\n",
    "print(NBBNCC_apdft2 - NBBNCC_apdft1)\n",
    "print(NBBNCC_apdft3 - NBBNCC_apdft2)"
   ]
  }
 ],
 "metadata": {
  "kernelspec": {
   "display_name": "aqa",
   "language": "python",
   "name": "python3"
  },
  "language_info": {
   "codemirror_mode": {
    "name": "ipython",
    "version": 3
   },
   "file_extension": ".py",
   "mimetype": "text/x-python",
   "name": "python",
   "nbconvert_exporter": "python",
   "pygments_lexer": "ipython3",
   "version": "3.11.3"
  }
 },
 "nbformat": 4,
 "nbformat_minor": 4
}