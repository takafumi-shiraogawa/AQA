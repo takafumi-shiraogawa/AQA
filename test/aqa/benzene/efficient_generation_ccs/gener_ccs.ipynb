{
 "cells": [
  {
   "cell_type": "markdown",
   "metadata": {},
   "source": [
    "# Calculation"
   ]
  },
  {
   "cell_type": "code",
   "execution_count": 1,
   "metadata": {},
   "outputs": [],
   "source": [
    "import basis_set_exchange as bse\n",
    "from aqa.gener_chem_space import generate_mutated_nuclear_numbers_and_coulomb_group_indexes, generate_bob_group_indexes, \\\n",
    "    generate_eigenvalue_coulomb_group_indexes, generate_unique_nuclear_numbers_list, write_unique_nuclear_numbers_list, \\\n",
    "    write_all_gjf"
   ]
  },
  {
   "cell_type": "code",
   "execution_count": 2,
   "metadata": {},
   "outputs": [],
   "source": [
    "# Optimized at PBE0/def2-TZVP with Gaussian 16 rev. A.03.\n",
    "target_mol = \"\"\"\n",
    " C                  0.00000000    1.39499100    0.00000000\n",
    " C                  1.20809700    0.69749500    0.00000000\n",
    " C                  1.20809700   -0.69749500    0.00000000\n",
    " C                  0.00000000   -1.39499100    0.00000000\n",
    " C                 -1.20809700   -0.69749500    0.00000000\n",
    " C                 -1.20809700    0.69749500    0.00000000\n",
    " H                  0.00000000    2.49460100    0.00000000\n",
    " H                  2.16038800    1.24730000    0.00000000\n",
    " H                  2.16038800   -1.24730000    0.00000000\n",
    " H                  0.00000000   -2.49460100    0.00000000\n",
    " H                 -2.16038800   -1.24730000    0.00000000\n",
    " H                 -2.16038800    1.24730000    0.00000000\n",
    "\"\"\"\n",
    "dft_functional = \"pbe0\"  # \"lda,vwn\"\n",
    "# name_basis_set = \"def2-TZVP\"\n",
    "name_basis_set = {\"H\":\"pc-2\",'C':bse.get_basis(\"pcX-2\",fmt=\"nwchem\",elements=[6])}"
   ]
  },
  {
   "cell_type": "code",
   "execution_count": 3,
   "metadata": {},
   "outputs": [],
   "source": [
    "from aqa.alch_calc import alchemical_calculator as ac"
   ]
  },
  {
   "cell_type": "code",
   "execution_count": 4,
   "metadata": {},
   "outputs": [],
   "source": [
    "ac_mol = ac(target_mol, name_basis_set, dft_functional, sites=[0,1,2,3], bse_off=True, guess=\"1e\", scf_skip=True, AP_skip=True)"
   ]
  },
  {
   "cell_type": "code",
   "execution_count": 5,
   "metadata": {},
   "outputs": [],
   "source": [
    "charges = ac_mol.mol.atom_charges()\n",
    "coords = ac_mol.mol.atom_coords()"
   ]
  },
  {
   "cell_type": "markdown",
   "metadata": {},
   "source": [
    "It is hard to calculate the maximum atom numbers for each species which are used in calculations of molecular representations for BoB representation. \n",
    "We should give a range of atom numbers for each species by hand."
   ]
  },
  {
   "cell_type": "code",
   "execution_count": 6,
   "metadata": {},
   "outputs": [],
   "source": [
    "maximum_atom_numbers_for_each_species = {\"B\":3, \"C\":6, \"N\":3, \"H\":6}"
   ]
  },
  {
   "cell_type": "markdown",
   "metadata": {},
   "source": [
    "The matrix size for Coulomb matrix calculations is given."
   ]
  },
  {
   "cell_type": "code",
   "execution_count": 7,
   "metadata": {},
   "outputs": [],
   "source": [
    "matrix_size = 6"
   ]
  },
  {
   "cell_type": "code",
   "execution_count": 8,
   "metadata": {},
   "outputs": [
    {
     "name": "stdout",
     "output_type": "stream",
     "text": [
      "141\n",
      "[[[0]], [[1, 9, 11, 12, 20, 25, 29, 30], [2, 10, 19, 26], [3, 4, 7, 8, 13, 14, 17, 18, 21, 22, 27, 28], [5, 6, 15, 16, 23, 24]], [[31, 36, 46, 66, 87, 88, 91, 120], [32, 35, 44, 47, 62, 65, 86, 89, 92, 95, 116, 119], [33, 48, 64, 85, 93, 117], [34, 90], [37, 40, 55, 57, 70, 72, 81, 84, 97, 100, 112, 114], [38, 59, 71, 80, 98, 113], [39, 42, 58, 60, 67, 69, 79, 82, 99, 102, 109, 111], [41, 56, 68, 83, 101, 110], [43, 63, 94, 118], [45, 61, 96, 115], [49, 54, 75, 76, 103, 108], [50, 74, 104, 107], [51, 52, 73, 78, 105, 106], [53, 77]], [[121, 124, 130, 131, 137, 140], [122, 123, 125, 127, 128, 129, 132, 133, 134, 136, 138, 139], [126, 135]]]\n",
      "[ 1  4 14  3]\n",
      "141\n"
     ]
    }
   ],
   "source": [
    "all_nuclear_numbers_list, index_same_norm_coulomb, num_subgroup_same_norm_coulomb = generate_mutated_nuclear_numbers_and_coulomb_group_indexes(charges, [0, 1, 2, 3, 4, 5], coords, len(coords))\n",
    "print(len(all_nuclear_numbers_list))\n",
    "print(index_same_norm_coulomb)\n",
    "print(num_subgroup_same_norm_coulomb)\n",
    "\n",
    "count = 0\n",
    "for i in index_same_norm_coulomb:\n",
    "    for j in i:\n",
    "        count += len(j)\n",
    "print(count)"
   ]
  },
  {
   "cell_type": "code",
   "execution_count": 9,
   "metadata": {},
   "outputs": [
    {
     "name": "stdout",
     "output_type": "stream",
     "text": [
      "[[[0]], [[1, 9, 20, 25], [11, 12, 29, 30], [2, 10, 19, 26], [3, 7, 14, 27], [4, 8, 13, 28], [17, 18, 21, 22], [5, 6], [15, 16, 23, 24]], [[31, 36, 87, 88], [46, 66, 91, 120], [32, 35, 86, 89], [44, 62, 92, 119], [47, 65, 95, 116], [33, 85], [48, 64, 93, 117], [34, 90], [37, 81, 100, 112], [40, 84, 97, 114], [55, 57, 70, 72], [38, 80, 98, 113], [59, 71], [39, 79, 102, 109], [42, 82, 99, 111], [58, 60, 67, 69], [41, 83, 101, 110], [56, 68], [43, 63, 94, 118], [45, 61, 96, 115], [49, 54, 75, 76], [103, 108], [50, 74], [104, 107], [51, 52, 73, 78], [105, 106], [53, 77]], [[121, 130, 131, 140], [124, 137], [122, 125, 128, 129], [123, 127, 134, 138], [132, 133, 136, 139], [126, 135]]]\n",
      "[ 1  8 27  6]\n",
      "141\n"
     ]
    }
   ],
   "source": [
    "index_nuclear_numbers_zero_bob_distance, num_subgroup_zero_bob_distance = generate_bob_group_indexes(coords, all_nuclear_numbers_list, index_same_norm_coulomb, num_subgroup_same_norm_coulomb, maximum_atom_numbers_for_each_species, matrix_size)\n",
    "print(index_nuclear_numbers_zero_bob_distance)\n",
    "print(num_subgroup_zero_bob_distance)\n",
    "\n",
    "count = 0\n",
    "for i in index_nuclear_numbers_zero_bob_distance:\n",
    "    for j in i:\n",
    "        count += len(j)\n",
    "print(count)"
   ]
  },
  {
   "cell_type": "code",
   "execution_count": 10,
   "metadata": {},
   "outputs": [
    {
     "name": "stdout",
     "output_type": "stream",
     "text": [
      "42\n"
     ]
    }
   ],
   "source": [
    "unique_nuclear_numbers_list_in_subgroup = generate_eigenvalue_coulomb_group_indexes(coords, all_nuclear_numbers_list,\n",
    "                                                                        index_nuclear_numbers_zero_bob_distance, num_subgroup_zero_bob_distance,\n",
    "                                                                        matrix_size)\n",
    "count = 0\n",
    "for i in unique_nuclear_numbers_list_in_subgroup:\n",
    "    count += len(i)\n",
    "print(count)"
   ]
  },
  {
   "cell_type": "code",
   "execution_count": 11,
   "metadata": {},
   "outputs": [
    {
     "name": "stdout",
     "output_type": "stream",
     "text": [
      "18\n"
     ]
    }
   ],
   "source": [
    "unique_nuclear_numbers_list = generate_unique_nuclear_numbers_list(unique_nuclear_numbers_list_in_subgroup, coords, matrix_size)\n",
    "count = 0\n",
    "for i in unique_nuclear_numbers_list:\n",
    "    count += len(i)\n",
    "print(count)"
   ]
  },
  {
   "cell_type": "code",
   "execution_count": 12,
   "metadata": {},
   "outputs": [
    {
     "name": "stdout",
     "output_type": "stream",
     "text": [
      "[array([6, 6, 6, 6, 6, 6, 1, 1, 1, 1, 1, 1], dtype=int32)]\n",
      "1\n",
      "[array([7, 5, 6, 6, 6, 6, 1, 1, 1, 1, 1, 1], dtype=int32), array([7, 6, 5, 6, 6, 6, 1, 1, 1, 1, 1, 1], dtype=int32), array([7, 6, 6, 5, 6, 6, 1, 1, 1, 1, 1, 1], dtype=int32)]\n",
      "3\n",
      "[array([7, 7, 5, 5, 6, 6, 1, 1, 1, 1, 1, 1], dtype=int32), array([7, 5, 7, 5, 6, 6, 1, 1, 1, 1, 1, 1], dtype=int32), array([7, 5, 5, 7, 6, 6, 1, 1, 1, 1, 1, 1], dtype=int32), array([5, 7, 7, 5, 6, 6, 1, 1, 1, 1, 1, 1], dtype=int32), array([7, 7, 5, 6, 5, 6, 1, 1, 1, 1, 1, 1], dtype=int32), array([7, 5, 7, 6, 5, 6, 1, 1, 1, 1, 1, 1], dtype=int32), array([7, 5, 5, 6, 7, 6, 1, 1, 1, 1, 1, 1], dtype=int32), array([5, 7, 5, 6, 7, 6, 1, 1, 1, 1, 1, 1], dtype=int32), array([7, 7, 6, 5, 5, 6, 1, 1, 1, 1, 1, 1], dtype=int32), array([7, 5, 6, 7, 5, 6, 1, 1, 1, 1, 1, 1], dtype=int32), array([7, 5, 6, 5, 7, 6, 1, 1, 1, 1, 1, 1], dtype=int32)]\n",
      "11\n",
      "[array([7, 7, 7, 5, 5, 5, 1, 1, 1, 1, 1, 1], dtype=int32), array([7, 7, 5, 7, 5, 5, 1, 1, 1, 1, 1, 1], dtype=int32), array([7, 5, 7, 5, 7, 5, 1, 1, 1, 1, 1, 1], dtype=int32)]\n",
      "3\n"
     ]
    }
   ],
   "source": [
    "for a in unique_nuclear_numbers_list:\n",
    "    print(a)\n",
    "    print(len(a))"
   ]
  },
  {
   "cell_type": "code",
   "execution_count": 13,
   "metadata": {},
   "outputs": [],
   "source": [
    "write_unique_nuclear_numbers_list(unique_nuclear_numbers_list)"
   ]
  },
  {
   "cell_type": "code",
   "execution_count": 14,
   "metadata": {},
   "outputs": [],
   "source": [
    "write_all_gjf(unique_nuclear_numbers_list, coords, flag_nested=True)"
   ]
  }
 ],
 "metadata": {
  "kernelspec": {
   "display_name": "aqa",
   "language": "python",
   "name": "python3"
  },
  "language_info": {
   "codemirror_mode": {
    "name": "ipython",
    "version": 3
   },
   "file_extension": ".py",
   "mimetype": "text/x-python",
   "name": "python",
   "nbconvert_exporter": "python",
   "pygments_lexer": "ipython3",
   "version": "3.11.3"
  }
 },
 "nbformat": 4,
 "nbformat_minor": 4
}