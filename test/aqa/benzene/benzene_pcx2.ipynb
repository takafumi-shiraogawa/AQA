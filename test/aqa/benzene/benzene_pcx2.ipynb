{
 "cells": [
  {
   "cell_type": "markdown",
   "metadata": {},
   "source": [
    "# Calculation"
   ]
  },
  {
   "cell_type": "code",
   "execution_count": 1,
   "metadata": {},
   "outputs": [],
   "source": [
    "import numpy as np\n",
    "from pyscf import gto,scf\n",
    "import basis_set_exchange as bse"
   ]
  },
  {
   "cell_type": "code",
   "execution_count": 2,
   "metadata": {},
   "outputs": [],
   "source": [
    "# Optimized at PBE0/def2-TZVP with Gaussian 16 rev. A.03.\n",
    "target_mol = \"\"\"\n",
    " C                  0.00000000    1.39499100    0.00000000\n",
    " C                  1.20809700    0.69749500    0.00000000\n",
    " C                  1.20809700   -0.69749500    0.00000000\n",
    " C                  0.00000000   -1.39499100    0.00000000\n",
    " C                 -1.20809700   -0.69749500    0.00000000\n",
    " C                 -1.20809700    0.69749500    0.00000000\n",
    " H                  0.00000000    2.49460100    0.00000000\n",
    " H                  2.16038800    1.24730000    0.00000000\n",
    " H                  2.16038800   -1.24730000    0.00000000\n",
    " H                  0.00000000   -2.49460100    0.00000000\n",
    " H                 -2.16038800   -1.24730000    0.00000000\n",
    " H                 -2.16038800    1.24730000    0.00000000\n",
    "\"\"\"\n",
    "dft_functional = \"pbe0\"  # \"lda,vwn\"\n",
    "# name_basis_set = \"def2-TZVP\"\n",
    "name_basis_set = {\"H\":\"pc-2\",'C':bse.get_basis(\"pcX-2\",fmt=\"nwchem\",elements=[6])}"
   ]
  },
  {
   "cell_type": "code",
   "execution_count": 3,
   "metadata": {},
   "outputs": [],
   "source": [
    "from alch_calc import alchemical_calculator as ac"
   ]
  },
  {
   "cell_type": "code",
   "execution_count": 4,
   "metadata": {},
   "outputs": [
    {
     "name": "stdout",
     "output_type": "stream",
     "text": [
      "converged SCF energy = -232.051674691146\n"
     ]
    }
   ],
   "source": [
    "ac_mol = ac(target_mol, name_basis_set, dft_functional, sites=[0,1,2,3], bse_off=True, guess=\"1e\")"
   ]
  },
  {
   "cell_type": "code",
   "execution_count": 5,
   "metadata": {},
   "outputs": [],
   "source": [
    "ac_mol.calc_all_derivatives()"
   ]
  },
  {
   "cell_type": "markdown",
   "metadata": {},
   "source": [
    "BNNBCC"
   ]
  },
  {
   "cell_type": "code",
   "execution_count": 6,
   "metadata": {},
   "outputs": [],
   "source": [
    "# nuc_charges_vec = np.array([-1.0,1.0,1.0,-1.0,0.0,0.0,0.0,0.0,0.0,0.0,0.0,0.0])\n",
    "nuc_charges_vec = np.array([-1.0,1.0,1.0,-1.0])"
   ]
  },
  {
   "cell_type": "code",
   "execution_count": 7,
   "metadata": {},
   "outputs": [],
   "source": [
    "BNNBCC_apdft0 = ac_mol.get_elec_APDFT0(nuc_charges_vec)\n",
    "BNNBCC_apdft1 = ac_mol.get_elec_APDFT1(nuc_charges_vec)\n",
    "BNNBCC_apdft2 = ac_mol.get_elec_APDFT2(nuc_charges_vec)\n",
    "BNNBCC_apdft3 = ac_mol.get_elec_APDFT3(nuc_charges_vec)"
   ]
  },
  {
   "cell_type": "code",
   "execution_count": 8,
   "metadata": {},
   "outputs": [
    {
     "name": "stdout",
     "output_type": "stream",
     "text": [
      "converged SCF energy = -238.818870427829\n",
      "--------------- RKS gradients ---------------\n",
      "         x                y                z\n",
      "0 B    -0.0667582952    -0.0070682546     0.0000000000\n",
      "1 N    -0.0578944733    -0.0051004120     0.0000000000\n",
      "2 N    -0.0578944733     0.0051004120     0.0000000000\n",
      "3 B    -0.0667582952     0.0070682546     0.0000000000\n",
      "4 C     0.0905006252    -0.0760391586    -0.0000000000\n",
      "5 C     0.0905006252     0.0760391586    -0.0000000000\n",
      "6 H    -0.0110412968    -0.0568125385    -0.0000000000\n",
      "7 H     0.0496101380     0.0417096878     0.0000000000\n",
      "8 H     0.0496101380    -0.0417096878     0.0000000000\n",
      "9 H    -0.0110412968     0.0568125385    -0.0000000000\n",
      "10 H    -0.0044237152    -0.0066025129     0.0000000000\n",
      "11 H    -0.0044237152     0.0066025129     0.0000000000\n",
      "----------------------------------------------\n",
      "202.40762809609214\n"
     ]
    }
   ],
   "source": [
    "target_mol_BNNBCC = \"\"\"\n",
    " B                  0.00000000    1.39499100    0.00000000\n",
    " N                  1.20809700    0.69749500    0.00000000\n",
    " N                  1.20809700   -0.69749500    0.00000000\n",
    " B                  0.00000000   -1.39499100    0.00000000\n",
    " C                 -1.20809700   -0.69749500    0.00000000\n",
    " C                 -1.20809700    0.69749500    0.00000000\n",
    " H                  0.00000000    2.49460100    0.00000000\n",
    " H                  2.16038800    1.24730000    0.00000000\n",
    " H                  2.16038800   -1.24730000    0.00000000\n",
    " H                  0.00000000   -2.49460100    0.00000000\n",
    " H                 -2.16038800   -1.24730000    0.00000000\n",
    " H                 -2.16038800    1.24730000    0.00000000\n",
    "\"\"\"\n",
    "# basis_set = bse.get_basis(name_basis_set,fmt=\"nwchem\")\n",
    "basis_set = {\"H\":\"pc-2\",'B':bse.get_basis(\"pcX-2\",fmt=\"nwchem\",elements=[5]),\n",
    "             'C':bse.get_basis(\"pcX-2\",fmt=\"nwchem\",elements=[6]),\n",
    "             'N':bse.get_basis(\"pcX-2\",fmt=\"nwchem\",elements=[7])}\n",
    "mol_BNNBCC=gto.M(atom=target_mol_BNNBCC, basis=basis_set)\n",
    "mf_BNNBCC=scf.RKS(mol_BNNBCC)\n",
    "mf_BNNBCC.xc = dft_functional\n",
    "mf_BNNBCC.scf()\n",
    "mf_BNNBCC.nuc_grad_method().kernel()\n",
    "BNNBCC_energy = mf_BNNBCC.e_tot - mf_BNNBCC.energy_nuc()\n",
    "print(mf_BNNBCC.energy_nuc())"
   ]
  },
  {
   "cell_type": "markdown",
   "metadata": {},
   "source": [
    "NBBNCC"
   ]
  },
  {
   "cell_type": "code",
   "execution_count": 9,
   "metadata": {},
   "outputs": [],
   "source": [
    "# nuc_charges_vec = np.array([1.0,-1.0,-1.0,1.0,0.0,0.0,0.0,0.0,0.0,0.0,0.0,0.0])\n",
    "nuc_charges_vec = np.array([1.0,-1.0,-1.0,1.0])"
   ]
  },
  {
   "cell_type": "code",
   "execution_count": 10,
   "metadata": {},
   "outputs": [],
   "source": [
    "NBBNCC_apdft0 = ac_mol.get_elec_APDFT0(nuc_charges_vec)\n",
    "NBBNCC_apdft1 = ac_mol.get_elec_APDFT1(nuc_charges_vec)\n",
    "NBBNCC_apdft2 = ac_mol.get_elec_APDFT2(nuc_charges_vec)\n",
    "NBBNCC_apdft3 = ac_mol.get_elec_APDFT3(nuc_charges_vec)"
   ]
  },
  {
   "cell_type": "code",
   "execution_count": 12,
   "metadata": {},
   "outputs": [
    {
     "name": "stdout",
     "output_type": "stream",
     "text": [
      "converged SCF energy = -238.810861765508\n",
      "--------------- RKS gradients ---------------\n",
      "         x                y                z\n",
      "0 N     0.0230385620    -0.0487535476     0.0000000000\n",
      "1 B     0.0266892974    -0.1500862358    -0.0000000000\n",
      "2 B     0.0266892974     0.1500862358     0.0000000000\n",
      "3 N     0.0230385620     0.0487535476    -0.0000000000\n",
      "4 C    -0.0026203275    -0.0205596102     0.0000000000\n",
      "5 C    -0.0026203275     0.0205596102    -0.0000000000\n",
      "6 H     0.0094648345     0.0606568392     0.0000000000\n",
      "7 H    -0.0446467216    -0.0399019204    -0.0000000000\n",
      "8 H    -0.0446467216     0.0399019204    -0.0000000000\n",
      "9 H     0.0094648345    -0.0606568392     0.0000000000\n",
      "10 H    -0.0119251866    -0.0056161316     0.0000000000\n",
      "11 H    -0.0119251866     0.0056161316     0.0000000000\n",
      "----------------------------------------------\n",
      "202.40762036974854\n"
     ]
    }
   ],
   "source": [
    "target_mol_NBBNCC = \"\"\"\n",
    " N                  0.00000000    1.39499100    0.00000000\n",
    " B                  1.20809700    0.69749500    0.00000000\n",
    " B                  1.20809700   -0.69749500    0.00000000\n",
    " N                  0.00000000   -1.39499100    0.00000000\n",
    " C                 -1.20809700   -0.69749500    0.00000000\n",
    " C                 -1.20809700    0.69749500    0.00000000\n",
    " H                  0.00000000    2.49460100    0.00000000\n",
    " H                  2.16038800    1.24730000    0.00000000\n",
    " H                  2.16038800   -1.24730000    0.00000000\n",
    " H                  0.00000000   -2.49460100    0.00000000\n",
    " H                 -2.16038800   -1.24730000    0.00000000\n",
    " H                 -2.16038800    1.24730000    0.00000000\n",
    "\"\"\"\n",
    "# basis_set = bse.get_basis(name_basis_set,fmt=\"nwchem\")\n",
    "mol_NBBNCC=gto.M(atom=target_mol_NBBNCC, basis=basis_set)\n",
    "mf_NBBNCC=scf.RKS(mol_NBBNCC)\n",
    "mf_NBBNCC.xc = dft_functional\n",
    "mf_NBBNCC.scf()\n",
    "mf_NBBNCC.nuc_grad_method().kernel()\n",
    "NBBNCC_energy = mf_NBBNCC.e_tot - mf_NBBNCC.energy_nuc()\n",
    "print(mf_NBBNCC.energy_nuc())"
   ]
  },
  {
   "cell_type": "markdown",
   "metadata": {},
   "source": [
    "BNNBCC - NBBNCC"
   ]
  },
  {
   "cell_type": "code",
   "execution_count": 13,
   "metadata": {},
   "outputs": [],
   "source": [
    "# nuc_charges_vec = np.array([-1.0,1.0,1.0,-1.0,0.0,0.0,0.0,0.0,0.0,0.0,0.0,0.0])\n",
    "nuc_charges_vec = np.array([-1.0,1.0,1.0,-1.0])"
   ]
  },
  {
   "cell_type": "code",
   "execution_count": 14,
   "metadata": {},
   "outputs": [],
   "source": [
    "relative_ene_apdft1 = ac_mol.get_relative_elec_APDFT1(nuc_charges_vec)\n",
    "relative_ene_apdft3 = ac_mol.get_relative_elec_APDFT3(nuc_charges_vec)"
   ]
  },
  {
   "cell_type": "markdown",
   "metadata": {},
   "source": [
    "# Results"
   ]
  },
  {
   "cell_type": "markdown",
   "metadata": {},
   "source": [
    "Calculated values"
   ]
  },
  {
   "cell_type": "code",
   "execution_count": 15,
   "metadata": {},
   "outputs": [
    {
     "name": "stdout",
     "output_type": "stream",
     "text": [
      "BNNBCC energies\n",
      "-435.0869946302788\n",
      "-435.0869984583827\n",
      "-441.1932309244905\n",
      "-441.1965895808612\n",
      "\n",
      "NBBNCC energies\n",
      "-435.0869946302788\n",
      "-435.0869908021749\n",
      "-441.1932232682827\n",
      "-441.18986461191196\n",
      "\n",
      "SCF energies\n",
      "BNNBCC -441.2264985239208\n",
      "NBBNCC -441.218482135257\n",
      "\n",
      "Relative energies\n",
      "-7.6562077424569e-06\n",
      "-0.006724968949232616\n",
      "\n",
      "SCF relative energies\n",
      "-0.008016388663804719\n"
     ]
    }
   ],
   "source": [
    "print(\"BNNBCC energies\")\n",
    "print(BNNBCC_apdft0)\n",
    "print(BNNBCC_apdft1)\n",
    "print(BNNBCC_apdft2)\n",
    "print(BNNBCC_apdft3)\n",
    "print()\n",
    "print(\"NBBNCC energies\")\n",
    "print(NBBNCC_apdft0)\n",
    "print(NBBNCC_apdft1)\n",
    "print(NBBNCC_apdft2)\n",
    "print(NBBNCC_apdft3)\n",
    "print()\n",
    "print(\"SCF energies\")\n",
    "print(\"BNNBCC\", BNNBCC_energy)\n",
    "print(\"NBBNCC\", NBBNCC_energy)\n",
    "print()\n",
    "print(\"Relative energies\")\n",
    "print(relative_ene_apdft1)\n",
    "print(relative_ene_apdft3)\n",
    "print()\n",
    "print(\"SCF relative energies\")\n",
    "print(BNNBCC_energy - NBBNCC_energy)"
   ]
  },
  {
   "cell_type": "markdown",
   "metadata": {},
   "source": [
    "Accuracy"
   ]
  },
  {
   "cell_type": "code",
   "execution_count": 16,
   "metadata": {},
   "outputs": [
    {
     "name": "stdout",
     "output_type": "stream",
     "text": [
      "BNNBCC energies\n",
      "6.139503893641972\n",
      "6.139500065538073\n",
      "0.03326759943030311\n",
      "0.02990894305958136\n",
      "\n",
      "NBBNCC energies\n",
      "6.131487504978168\n",
      "6.131491333082067\n",
      "0.02525886697429769\n",
      "0.028617523345019436\n",
      "\n",
      "Relative energies\n",
      "0.008008732456062262\n",
      "0.0012914197145721031\n"
     ]
    }
   ],
   "source": [
    "print(\"BNNBCC energies\")\n",
    "print(BNNBCC_apdft0 - BNNBCC_energy)\n",
    "print(BNNBCC_apdft1 - BNNBCC_energy)\n",
    "print(BNNBCC_apdft2 - BNNBCC_energy)\n",
    "print(BNNBCC_apdft3 - BNNBCC_energy)\n",
    "print()\n",
    "print(\"NBBNCC energies\")\n",
    "print(NBBNCC_apdft0 - NBBNCC_energy)\n",
    "print(NBBNCC_apdft1 - NBBNCC_energy)\n",
    "print(NBBNCC_apdft2 - NBBNCC_energy)\n",
    "print(NBBNCC_apdft3 - NBBNCC_energy)\n",
    "print()\n",
    "print(\"Relative energies\")\n",
    "print(relative_ene_apdft1 - (BNNBCC_energy - NBBNCC_energy))\n",
    "print(relative_ene_apdft3 - (BNNBCC_energy - NBBNCC_energy))"
   ]
  },
  {
   "cell_type": "markdown",
   "metadata": {},
   "source": [
    "APDFT contributions"
   ]
  },
  {
   "cell_type": "code",
   "execution_count": 17,
   "metadata": {},
   "outputs": [
    {
     "name": "stdout",
     "output_type": "stream",
     "text": [
      "BNNBCC energy contributions\n",
      "-435.0869946302788\n",
      "-3.828103899650159e-06\n",
      "-6.10623246610777\n",
      "-0.0033586563707217465\n",
      "\n",
      "NBBNCC energies\n",
      "-435.0869946302788\n",
      "3.828103899650159e-06\n",
      "-6.10623246610777\n",
      "0.0033586563707217465\n"
     ]
    }
   ],
   "source": [
    "print(\"BNNBCC energy contributions\")\n",
    "print(BNNBCC_apdft0)\n",
    "print(BNNBCC_apdft1 - BNNBCC_apdft0)\n",
    "print(BNNBCC_apdft2 - BNNBCC_apdft1)\n",
    "print(BNNBCC_apdft3 - BNNBCC_apdft2)\n",
    "print()\n",
    "print(\"NBBNCC energies\")\n",
    "print(NBBNCC_apdft0)\n",
    "print(NBBNCC_apdft1 - NBBNCC_apdft0)\n",
    "print(NBBNCC_apdft2 - NBBNCC_apdft1)\n",
    "print(NBBNCC_apdft3 - NBBNCC_apdft2)"
   ]
  }
 ],
 "metadata": {
  "kernelspec": {
   "display_name": "Python 3 (ipykernel)",
   "language": "python",
   "name": "python3"
  },
  "language_info": {
   "codemirror_mode": {
    "name": "ipython",
    "version": 3
   },
   "file_extension": ".py",
   "mimetype": "text/x-python",
   "name": "python",
   "nbconvert_exporter": "python",
   "pygments_lexer": "ipython3",
   "version": "3.11.3"
  }
 },
 "nbformat": 4,
 "nbformat_minor": 4
}
