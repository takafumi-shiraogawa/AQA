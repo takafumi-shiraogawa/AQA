{
 "cells": [
  {
   "attachments": {},
   "cell_type": "markdown",
   "metadata": {},
   "source": [
    "This notebook compares analytical and numerical evaluations of alchemical derivatives of a CH3OH molecule up to the third order in KSDFT.  \n",
    "The results are summerized in the last section."
   ]
  },
  {
   "cell_type": "code",
   "execution_count": 1,
   "metadata": {},
   "outputs": [
    {
     "data": {
      "text/plain": [
       "'2.2.1'"
      ]
     },
     "execution_count": 1,
     "metadata": {},
     "output_type": "execute_result"
    }
   ],
   "source": [
    "from pyscf import gto,scf\n",
    "import numpy as np\n",
    "import pyscf\n",
    "\n",
    "pyscf.__version__"
   ]
  },
  {
   "cell_type": "code",
   "execution_count": 2,
   "metadata": {},
   "outputs": [],
   "source": [
    "from aqa.FcMole import FcM_like"
   ]
  },
  {
   "cell_type": "code",
   "execution_count": 3,
   "metadata": {},
   "outputs": [],
   "source": [
    "target_mol = \"\"\"\n",
    "C\t-1.27549516\t0.03357710\t0.00000000\n",
    "H\t-2.10170657\t-0.87840808\t1.59107621\n",
    "H\t-2.10170657\t-0.87840808\t-1.59107621\n",
    "H\t-1.76544024\t1.99528228\t0.00000000\n",
    "O\t1.41253482\t-0.22423026\t0.00000000\n",
    "H\t2.19050133\t1.29874374\t0.00000000\n",
    "\"\"\"\n",
    "# Coordinates in Angstrom\n",
    "# C\t-0.67496302\t0.01776824\t0.00000000\n",
    "# H\t-1.11217530\t-0.46483357\t0.84196133\n",
    "# H\t-1.11217530\t-0.46483357\t-0.84196133\n",
    "# H\t-0.93423081\t1.05585799\t0.00000000\n",
    "# O\t0.74748129\t-0.11865755\t0.00000000\n",
    "# H\t1.15916347\t0.68726564\t0.00000000\n",
    "dft_functional = \"pbe0\"  # \"lda,vwn\"\n",
    "basis_set = \"def2-TZVP\""
   ]
  },
  {
   "attachments": {},
   "cell_type": "markdown",
   "metadata": {},
   "source": [
    "### Analytical evaluation"
   ]
  },
  {
   "cell_type": "code",
   "execution_count": 4,
   "metadata": {},
   "outputs": [],
   "source": [
    "%load_ext autoreload\n",
    "from aqa.AP_class import APDFT_perturbator as AP"
   ]
  },
  {
   "cell_type": "code",
   "execution_count": 5,
   "metadata": {},
   "outputs": [
    {
     "name": "stdout",
     "output_type": "stream",
     "text": [
      "converged SCF energy = -115.629838065349\n"
     ]
    }
   ],
   "source": [
    "mol_NN=gto.M(atom=target_mol,unit=\"Bohr\",basis=basis_set)\n",
    "mf_nn=scf.RKS(mol_NN)\n",
    "mf_nn.xc = dft_functional\n",
    "mf_nn.scf()\n",
    "# mf_nn.conv_tol = 1e-12\n",
    "mf_nn.grids.level = 4\n",
    "# mf_nn.nuc_grad_method().kernel()\n",
    "ap_nn=AP(mf_nn,sites=[0,1,2,3,4,5],flag_response_property=True)"
   ]
  },
  {
   "cell_type": "code",
   "execution_count": 6,
   "metadata": {},
   "outputs": [],
   "source": [
    "analytical_1st_alchemical_derivative = ap_nn.build_gradient()\n",
    "analytical_2nd_alchemical_derivative = ap_nn.build_hessian()\n",
    "analytical_3rd_alchemical_derivative = ap_nn.build_cubic()"
   ]
  },
  {
   "attachments": {},
   "cell_type": "markdown",
   "metadata": {},
   "source": [
    "Inefficient alchemical force in KS-DFT which calculates the response matrix for nuclear coordinates"
   ]
  },
  {
   "cell_type": "code",
   "execution_count": 7,
   "metadata": {},
   "outputs": [],
   "source": [
    "inefficient_analytical_alchemical_force = np.zeros((6, 6, 3))\n",
    "for i in range(6):\n",
    "  inefficient_analytical_alchemical_force[i] = ap_nn.build_inefficient_alchemical_force(i)"
   ]
  },
  {
   "attachments": {},
   "cell_type": "markdown",
   "metadata": {},
   "source": [
    "Efficient alchemical force in KS-DFT which calculates the response matrix for nuclear coordinates"
   ]
  },
  {
   "cell_type": "code",
   "execution_count": 8,
   "metadata": {},
   "outputs": [],
   "source": [
    "efficient_analytical_alchemical_force = np.zeros((6, 6, 3))\n",
    "for i in range(6):\n",
    "  efficient_analytical_alchemical_force[i] = ap_nn.build_alchemical_force(i)"
   ]
  },
  {
   "cell_type": "markdown",
   "metadata": {},
   "source": [
    "Electric dipole derivatives $\\partial ^2 E/ \\partial Z_I \\partial \\mathbf{F}$"
   ]
  },
  {
   "cell_type": "code",
   "execution_count": 9,
   "metadata": {},
   "outputs": [],
   "source": [
    "elec_electric_dipole_gradient_z = ap_nn.build_elec_electric_dipole_gradient(perturb_electron_density='Z')\n",
    "elec_electric_dipole_gradient_f = ap_nn.build_elec_electric_dipole_gradient(perturb_electron_density='F')"
   ]
  },
  {
   "cell_type": "markdown",
   "metadata": {},
   "source": [
    "Electric polarizability derivatives $\\partial ^3 E/ \\partial Z_I \\partial ^2 \\mathbf{F}$"
   ]
  },
  {
   "cell_type": "code",
   "execution_count": 10,
   "metadata": {},
   "outputs": [],
   "source": [
    "elec_electric_pol_gradient = ap_nn.build_electric_polarizability_gradient()"
   ]
  },
  {
   "attachments": {},
   "cell_type": "markdown",
   "metadata": {},
   "source": [
    "### Numerical evaluation"
   ]
  },
  {
   "cell_type": "code",
   "execution_count": 11,
   "metadata": {},
   "outputs": [],
   "source": [
    "%autoreload 2\n",
    "mol_NN=gto.M(atom=target_mol,unit=\"Bohr\",basis=basis_set)\n",
    "fc_param = 0.001\n",
    "fcs1 = [fc_param, 0.0, 0.0, 0.0, 0.0, 0.0]\n",
    "fcs2 = [-fc_param, 0.0, 0.0, 0.0, 0.0, 0.0]\n",
    "fcs3 = [0.0, fc_param, 0.0, 0.0, 0.0, 0.0]\n",
    "fcs4 = [0.0, -fc_param, 0.0, 0.0, 0.0, 0.0]\n",
    "fcs5 = [0.0, 0.0, fc_param, 0.0, 0.0, 0.0]\n",
    "fcs6 = [0.0, 0.0, -fc_param, 0.0, 0.0, 0.0]\n",
    "fcs7 = [0.0, 0.0, 0.0, fc_param, 0.0, 0.0]\n",
    "fcs8 = [0.0, 0.0, 0.0, -fc_param, 0.0, 0.0]\n",
    "fcs9 = [0.0, 0.0, 0.0, 0.0, fc_param, 0.0]\n",
    "fcs10 = [0.0, 0.0, 0.0, 0.0, -fc_param, 0.0]\n",
    "fcs11 = [0.0, 0.0, 0.0, 0.0, 0.0, fc_param]\n",
    "fcs12 = [0.0, 0.0, 0.0, 0.0, 0.0, -fc_param]"
   ]
  },
  {
   "attachments": {},
   "cell_type": "markdown",
   "metadata": {},
   "source": [
    "##### Efficient numerical alchemical force"
   ]
  },
  {
   "cell_type": "code",
   "execution_count": 12,
   "metadata": {},
   "outputs": [
    {
     "name": "stdout",
     "output_type": "stream",
     "text": [
      "converged SCF energy = -115.629838047823\n"
     ]
    },
    {
     "name": "stderr",
     "output_type": "stream",
     "text": [
      "/home/takafumi/program/pyscf/pyscf/gto/mole.py:1213: UserWarning: Function mol.dumps drops attribute with_rinv_at_nucleus because it is not JSON-serializable\n",
      "  warnings.warn(msg)\n"
     ]
    },
    {
     "name": "stdout",
     "output_type": "stream",
     "text": [
      "converged SCF energy = -115.644573834733\n",
      "converged SCF energy = -115.615105243849\n",
      "converged SCF energy = -115.630963349913\n",
      "converged SCF energy = -115.628713835226\n",
      "converged SCF energy = -115.630963349912\n",
      "converged SCF energy = -115.628713835226\n",
      "converged SCF energy = -115.630951406925\n",
      "converged SCF energy = -115.628725775637\n",
      "converged SCF energy = -115.652198505842\n",
      "converged SCF energy = -115.607481176071\n",
      "converged SCF energy = -115.630851797099\n",
      "converged SCF energy = -115.628825263996\n"
     ]
    }
   ],
   "source": [
    "fmol1=FcM_like(mol_NN,fcs=fcs1)\n",
    "fmol2=FcM_like(mol_NN,fcs=fcs2)\n",
    "fmol3=FcM_like(mol_NN,fcs=fcs3)\n",
    "fmol4=FcM_like(mol_NN,fcs=fcs4)\n",
    "fmol5=FcM_like(mol_NN,fcs=fcs5)\n",
    "fmol6=FcM_like(mol_NN,fcs=fcs6)\n",
    "fmol7=FcM_like(mol_NN,fcs=fcs7)\n",
    "fmol8=FcM_like(mol_NN,fcs=fcs8)\n",
    "fmol9=FcM_like(mol_NN,fcs=fcs9)\n",
    "fmol10=FcM_like(mol_NN,fcs=fcs10)\n",
    "fmol11=FcM_like(mol_NN,fcs=fcs11)\n",
    "fmol12=FcM_like(mol_NN,fcs=fcs12)\n",
    "mf=scf.RKS(mol_NN)\n",
    "mf1=scf.RKS(fmol1)\n",
    "mf2=scf.RKS(fmol2)\n",
    "mf3=scf.RKS(fmol3)\n",
    "mf4=scf.RKS(fmol4)\n",
    "mf5=scf.RKS(fmol5)\n",
    "mf6=scf.RKS(fmol6)\n",
    "mf7=scf.RKS(fmol7)\n",
    "mf8=scf.RKS(fmol8)\n",
    "mf9=scf.RKS(fmol9)\n",
    "mf10=scf.RKS(fmol10)\n",
    "mf11=scf.RKS(fmol11)\n",
    "mf12=scf.RKS(fmol12)\n",
    "mf.xc = dft_functional\n",
    "mf1.xc = dft_functional\n",
    "mf2.xc = dft_functional\n",
    "mf3.xc = dft_functional\n",
    "mf4.xc = dft_functional\n",
    "mf5.xc = dft_functional\n",
    "mf6.xc = dft_functional\n",
    "mf7.xc = dft_functional\n",
    "mf8.xc = dft_functional\n",
    "mf9.xc = dft_functional\n",
    "mf10.xc = dft_functional\n",
    "mf11.xc = dft_functional\n",
    "mf12.xc = dft_functional\n",
    "# mf.conv_tol = 1e-12\n",
    "# mf1.conv_tol = 1e-12\n",
    "# mf2.conv_tol = 1e-12\n",
    "# mf3.conv_tol = 1e-12\n",
    "# mf4.conv_tol = 1e-12\n",
    "# mf.grids.level = 6\n",
    "# mf1.grids.level = 6\n",
    "# mf2.grids.level = 6\n",
    "# mf3.grids.level = 6\n",
    "# mf4.grids.level = 6\n",
    "# Without dm0=mf.init_guess_by_1e(), some SCFs do not converge.\n",
    "e=mf.scf(dm0=mf.init_guess_by_1e())\n",
    "e1=mf1.scf(dm0=mf1.init_guess_by_1e())\n",
    "e2=mf2.scf(dm0=mf2.init_guess_by_1e())\n",
    "e3=mf3.scf(dm0=mf3.init_guess_by_1e())\n",
    "e4=mf4.scf(dm0=mf4.init_guess_by_1e())\n",
    "e5=mf5.scf(dm0=mf5.init_guess_by_1e())\n",
    "e6=mf6.scf(dm0=mf6.init_guess_by_1e())\n",
    "e7=mf7.scf(dm0=mf7.init_guess_by_1e())\n",
    "e8=mf8.scf(dm0=mf8.init_guess_by_1e())\n",
    "e9=mf9.scf(dm0=mf9.init_guess_by_1e())\n",
    "e10=mf10.scf(dm0=mf10.init_guess_by_1e())\n",
    "e11=mf11.scf(dm0=mf11.init_guess_by_1e())\n",
    "e12=mf12.scf(dm0=mf12.init_guess_by_1e())"
   ]
  },
  {
   "cell_type": "code",
   "execution_count": 13,
   "metadata": {},
   "outputs": [
    {
     "name": "stdout",
     "output_type": "stream",
     "text": [
      "--------------- RKS gradients ---------------\n",
      "         x                y                z\n",
      "0 C    -0.0284772766    -0.0062987150    -0.0000000000\n",
      "1 H     0.0032256614     0.0061432523    -0.0213883992\n",
      "2 H     0.0032256614     0.0061432523     0.0213883992\n",
      "3 H     0.0090051332    -0.0138289974    -0.0000000000\n",
      "4 O     0.0370925169     0.0668973739    -0.0000000000\n",
      "5 H    -0.0240767593    -0.0590538219     0.0000000000\n",
      "----------------------------------------------\n",
      "--------------- RKS gradients ---------------\n",
      "         x                y                z\n",
      "0 C    -0.0284477847    -0.0063068244    -0.0000000000\n",
      "1 H     0.0031918105     0.0061118543    -0.0213340436\n",
      "2 H     0.0031918105     0.0061118543     0.0213340436\n",
      "3 H     0.0089881636    -0.0137599841    -0.0000000000\n",
      "4 O     0.0371472854     0.0669099429    -0.0000000000\n",
      "5 H    -0.0240763460    -0.0590644971     0.0000000000\n",
      "----------------------------------------------\n",
      "--------------- RKS gradients ---------------\n",
      "         x                y                z\n",
      "0 C    -0.0285067738    -0.0062906113     0.0000000000\n",
      "1 H     0.0032595281     0.0061746665    -0.0214427818\n",
      "2 H     0.0032595281     0.0061746665     0.0214427818\n",
      "3 H     0.0090221128    -0.0138980439    -0.0000000000\n",
      "4 O     0.0370377141     0.0668848229     0.0000000000\n",
      "5 H    -0.0240771743    -0.0590431583     0.0000000000\n",
      "----------------------------------------------\n",
      "--------------- RKS gradients ---------------\n",
      "         x                y                z\n",
      "0 C    -0.0285133050    -0.0062937918     0.0000070072\n",
      "1 H     0.0031945126     0.0061173801    -0.0213521706\n",
      "2 H     0.0032287895     0.0061491881     0.0213732405\n",
      "3 H     0.0090112949    -0.0138184333    -0.0000134687\n",
      "4 O     0.0371530096     0.0669076053    -0.0000088716\n",
      "5 H    -0.0240793638    -0.0590596053    -0.0000057363\n",
      "----------------------------------------------\n",
      "--------------- RKS gradients ---------------\n",
      "         x                y                z\n",
      "0 C    -0.0284413158    -0.0063036907    -0.0000069166\n",
      "1 H     0.0032568409     0.0061691583    -0.0214246815\n",
      "2 H     0.0032225442     0.0061373330     0.0214035461\n",
      "3 H     0.0089989799    -0.0138395654     0.0000134536\n",
      "4 O     0.0370320465     0.0668871605     0.0000088649\n",
      "5 H    -0.0240741594    -0.0590480505     0.0000057329\n",
      "----------------------------------------------\n",
      "--------------- RKS gradients ---------------\n",
      "         x                y                z\n",
      "0 C    -0.0285133050    -0.0062937918    -0.0000070072\n",
      "1 H     0.0032287895     0.0061491881    -0.0213732405\n",
      "2 H     0.0031945126     0.0061173801     0.0213521706\n",
      "3 H     0.0090112949    -0.0138184333     0.0000134687\n",
      "4 O     0.0371530096     0.0669076053     0.0000088716\n",
      "5 H    -0.0240793638    -0.0590596053     0.0000057363\n",
      "----------------------------------------------\n",
      "--------------- RKS gradients ---------------\n",
      "         x                y                z\n",
      "0 C    -0.0284413158    -0.0063036907     0.0000069166\n",
      "1 H     0.0032225442     0.0061373330    -0.0214035461\n",
      "2 H     0.0032568409     0.0061691583     0.0214246815\n",
      "3 H     0.0089989799    -0.0138395654    -0.0000134536\n",
      "4 O     0.0370320465     0.0668871605    -0.0000088649\n",
      "5 H    -0.0240741594    -0.0590480505    -0.0000057329\n",
      "----------------------------------------------\n",
      "--------------- RKS gradients ---------------\n",
      "         x                y                z\n",
      "0 C    -0.0285082721    -0.0062980001     0.0000000000\n",
      "1 H     0.0032286304     0.0061257249    -0.0213872432\n",
      "2 H     0.0032286304     0.0061257249     0.0213872432\n",
      "3 H     0.0089913729    -0.0137721995     0.0000000000\n",
      "4 O     0.0371444587     0.0668789991    -0.0000000000\n",
      "5 H    -0.0240898851    -0.0590579024    -0.0000000000\n",
      "----------------------------------------------\n",
      "--------------- RKS gradients ---------------\n",
      "         x                y                z\n",
      "0 C    -0.0284463250    -0.0062993261    -0.0000000000\n",
      "1 H     0.0032227009     0.0061607677    -0.0213895666\n",
      "2 H     0.0032227009     0.0061607677     0.0213895666\n",
      "3 H     0.0090189113    -0.0138858598     0.0000000000\n",
      "4 O     0.0370405917     0.0669157394     0.0000000000\n",
      "5 H    -0.0240636411    -0.0590497474     0.0000000000\n",
      "----------------------------------------------\n",
      "--------------- RKS gradients ---------------\n",
      "         x                y                z\n",
      "0 C    -0.0284235494    -0.0062981708     0.0000000000\n",
      "1 H     0.0032087116     0.0061421102    -0.0213852205\n",
      "2 H     0.0032087116     0.0061421102     0.0213852205\n",
      "3 H     0.0089906205    -0.0138242042    -0.0000000000\n",
      "4 O     0.0370708735     0.0668463004     0.0000000000\n",
      "5 H    -0.0240604273    -0.0590058011    -0.0000000000\n",
      "----------------------------------------------\n",
      "--------------- RKS gradients ---------------\n",
      "         x                y                z\n",
      "0 C    -0.0285309495    -0.0062992589     0.0000000000\n",
      "1 H     0.0032426183     0.0061444013    -0.0213915868\n",
      "2 H     0.0032426183     0.0061444013     0.0213915868\n",
      "3 H     0.0090196433    -0.0138338012     0.0000000000\n",
      "4 O     0.0371141288     0.0669484924     0.0000000000\n",
      "5 H    -0.0240931258    -0.0591018911    -0.0000000000\n",
      "----------------------------------------------\n",
      "--------------- RKS gradients ---------------\n",
      "         x                y                z\n",
      "0 C    -0.0284096993    -0.0063134759    -0.0000000000\n",
      "1 H     0.0032117473     0.0061410664    -0.0213849811\n",
      "2 H     0.0032117473     0.0061410664     0.0213849811\n",
      "3 H     0.0089975955    -0.0138230990    -0.0000000000\n",
      "4 O     0.0370329208     0.0668793542    -0.0000000000\n",
      "5 H    -0.0240493716    -0.0590225708     0.0000000000\n",
      "----------------------------------------------\n",
      "--------------- RKS gradients ---------------\n",
      "         x                y                z\n",
      "0 C    -0.0285448412    -0.0062839600    -0.0000000000\n",
      "1 H     0.0032395800     0.0061454424    -0.0213918274\n",
      "2 H     0.0032395800     0.0061454424     0.0213918274\n",
      "3 H     0.0090126730    -0.0138349056    -0.0000000000\n",
      "4 O     0.0371520951     0.0669154320    -0.0000000000\n",
      "5 H    -0.0241041528    -0.0590851040    -0.0000000000\n",
      "----------------------------------------------\n"
     ]
    }
   ],
   "source": [
    "nuc_grad = mf.nuc_grad_method().kernel()\n",
    "nuc_grad1 = mf1.nuc_grad_method().kernel()\n",
    "nuc_grad2 = mf2.nuc_grad_method().kernel()\n",
    "nuc_grad3 = mf3.nuc_grad_method().kernel()\n",
    "nuc_grad4 = mf4.nuc_grad_method().kernel()\n",
    "nuc_grad5 = mf5.nuc_grad_method().kernel()\n",
    "nuc_grad6 = mf6.nuc_grad_method().kernel()\n",
    "nuc_grad7 = mf7.nuc_grad_method().kernel()\n",
    "nuc_grad8 = mf8.nuc_grad_method().kernel()\n",
    "nuc_grad9 = mf9.nuc_grad_method().kernel()\n",
    "nuc_grad10 = mf10.nuc_grad_method().kernel()\n",
    "nuc_grad11 = mf11.nuc_grad_method().kernel()\n",
    "nuc_grad12 = mf12.nuc_grad_method().kernel()"
   ]
  },
  {
   "cell_type": "code",
   "execution_count": 14,
   "metadata": {},
   "outputs": [],
   "source": [
    "efficient_numerical_alchemical_force = np.zeros((6, 6, 3))\n",
    "efficient_numerical_alchemical_force[0] = (nuc_grad1 - nuc_grad2) / (2 * fc_param)\n",
    "efficient_numerical_alchemical_force[1] = (nuc_grad3 - nuc_grad4) / (2 * fc_param)\n",
    "efficient_numerical_alchemical_force[2] = (nuc_grad5 - nuc_grad6) / (2 * fc_param)\n",
    "efficient_numerical_alchemical_force[3] = (nuc_grad7 - nuc_grad8) / (2 * fc_param)\n",
    "efficient_numerical_alchemical_force[4] = (nuc_grad9 - nuc_grad10) / (2 * fc_param)\n",
    "efficient_numerical_alchemical_force[5] = (nuc_grad11 - nuc_grad12) / (2 * fc_param)"
   ]
  },
  {
   "attachments": {},
   "cell_type": "markdown",
   "metadata": {},
   "source": [
    "#### Numerical alchemical derivatives"
   ]
  },
  {
   "cell_type": "code",
   "execution_count": 15,
   "metadata": {},
   "outputs": [],
   "source": [
    "numerical_1st_alchemical_derivative = np.zeros((6))\n",
    "numerical_1st_alchemical_derivative[0] = (e1 - e2) / (2 * fc_param)\n",
    "numerical_1st_alchemical_derivative[1] = (e3 - e4) / (2 * fc_param)\n",
    "numerical_1st_alchemical_derivative[2] = (e5 - e6) / (2 * fc_param)\n",
    "numerical_1st_alchemical_derivative[3] = (e7 - e8) / (2 * fc_param)\n",
    "numerical_1st_alchemical_derivative[4] = (e9 - e10) / (2 * fc_param)\n",
    "numerical_1st_alchemical_derivative[5] = (e11 - e12) / (2 * fc_param)"
   ]
  },
  {
   "attachments": {},
   "cell_type": "markdown",
   "metadata": {},
   "source": [
    "#### Numerical alchemical hardness"
   ]
  },
  {
   "cell_type": "code",
   "execution_count": 16,
   "metadata": {},
   "outputs": [],
   "source": [
    "ap_nn=AP(mf,sites=[0,1,2,3,4,5])\n",
    "ap_nn1=AP(mf1,sites=[0,1,2,3,4,5],flag_response_property=True,charges_for_center=[6,1,1,1,8,1])\n",
    "ap_nn2=AP(mf2,sites=[0,1,2,3,4,5],flag_response_property=True,charges_for_center=[6,1,1,1,8,1])\n",
    "ap_nn3=AP(mf3,sites=[0,1,2,3,4,5],flag_response_property=True,charges_for_center=[6,1,1,1,8,1])\n",
    "ap_nn4=AP(mf4,sites=[0,1,2,3,4,5],flag_response_property=True,charges_for_center=[6,1,1,1,8,1])\n",
    "ap_nn5=AP(mf5,sites=[0,1,2,3,4,5],flag_response_property=True,charges_for_center=[6,1,1,1,8,1])\n",
    "ap_nn6=AP(mf6,sites=[0,1,2,3,4,5],flag_response_property=True,charges_for_center=[6,1,1,1,8,1])\n",
    "ap_nn7=AP(mf7,sites=[0,1,2,3,4,5],flag_response_property=True,charges_for_center=[6,1,1,1,8,1])\n",
    "ap_nn8=AP(mf8,sites=[0,1,2,3,4,5],flag_response_property=True,charges_for_center=[6,1,1,1,8,1])\n",
    "ap_nn9=AP(mf9,sites=[0,1,2,3,4,5],flag_response_property=True,charges_for_center=[6,1,1,1,8,1])\n",
    "ap_nn10=AP(mf10,sites=[0,1,2,3,4,5],flag_response_property=True,charges_for_center=[6,1,1,1,8,1])\n",
    "ap_nn11=AP(mf11,sites=[0,1,2,3,4,5],flag_response_property=True,charges_for_center=[6,1,1,1,8,1])\n",
    "ap_nn12=AP(mf12,sites=[0,1,2,3,4,5],flag_response_property=True,charges_for_center=[6,1,1,1,8,1])\n",
    "an = ap_nn.build_gradient()\n",
    "an1 = ap_nn1.build_gradient()\n",
    "an2 = ap_nn2.build_gradient()\n",
    "an3 = ap_nn3.build_gradient()\n",
    "an4 = ap_nn4.build_gradient()\n",
    "an5 = ap_nn5.build_gradient()\n",
    "an6 = ap_nn6.build_gradient()\n",
    "an7 = ap_nn7.build_gradient()\n",
    "an8 = ap_nn8.build_gradient()\n",
    "an9 = ap_nn9.build_gradient()\n",
    "an10 = ap_nn10.build_gradient()\n",
    "an11 = ap_nn11.build_gradient()\n",
    "an12 = ap_nn12.build_gradient()\n",
    "ann = ap_nn.build_hessian()\n",
    "ann1 = ap_nn1.build_hessian()\n",
    "ann2 = ap_nn2.build_hessian()\n",
    "ann3 = ap_nn3.build_hessian()\n",
    "ann4 = ap_nn4.build_hessian()\n",
    "ann5 = ap_nn5.build_hessian()\n",
    "ann6 = ap_nn6.build_hessian()\n",
    "ann7 = ap_nn7.build_hessian()\n",
    "ann8 = ap_nn8.build_hessian()\n",
    "ann9 = ap_nn9.build_hessian()\n",
    "ann10 = ap_nn10.build_hessian()\n",
    "ann11 = ap_nn11.build_hessian()\n",
    "ann12 = ap_nn12.build_hessian()\n",
    "dipole1 = ap_nn1.ref_elec_electric_dipole_moment * -1\n",
    "dipole2 = ap_nn2.ref_elec_electric_dipole_moment * -1\n",
    "dipole3 = ap_nn3.ref_elec_electric_dipole_moment * -1\n",
    "dipole4 = ap_nn4.ref_elec_electric_dipole_moment * -1\n",
    "dipole5 = ap_nn5.ref_elec_electric_dipole_moment * -1\n",
    "dipole6 = ap_nn6.ref_elec_electric_dipole_moment * -1\n",
    "dipole7 = ap_nn7.ref_elec_electric_dipole_moment * -1\n",
    "dipole8 = ap_nn8.ref_elec_electric_dipole_moment * -1\n",
    "dipole9 = ap_nn9.ref_elec_electric_dipole_moment * -1\n",
    "dipole10 = ap_nn10.ref_elec_electric_dipole_moment * -1\n",
    "dipole11 = ap_nn11.ref_elec_electric_dipole_moment * -1\n",
    "dipole12 = ap_nn12.ref_elec_electric_dipole_moment * -1\n",
    "pol1 = ap_nn1.ref_elec_electric_polarizability * -1\n",
    "pol2 = ap_nn2.ref_elec_electric_polarizability * -1\n",
    "pol3 = ap_nn3.ref_elec_electric_polarizability * -1\n",
    "pol4 = ap_nn4.ref_elec_electric_polarizability * -1\n",
    "pol5 = ap_nn5.ref_elec_electric_polarizability * -1\n",
    "pol6 = ap_nn6.ref_elec_electric_polarizability * -1\n",
    "pol7 = ap_nn7.ref_elec_electric_polarizability * -1\n",
    "pol8 = ap_nn8.ref_elec_electric_polarizability * -1\n",
    "pol9 = ap_nn9.ref_elec_electric_polarizability * -1\n",
    "pol10 = ap_nn10.ref_elec_electric_polarizability * -1\n",
    "pol11 = ap_nn11.ref_elec_electric_polarizability * -1\n",
    "pol12 = ap_nn12.ref_elec_electric_polarizability * -1"
   ]
  },
  {
   "cell_type": "code",
   "execution_count": 17,
   "metadata": {},
   "outputs": [],
   "source": [
    "numerical_2nd_alchemical_derivative = np.zeros((6, 6))\n",
    "numerical_2nd_alchemical_derivative[0] = (an1 - an2) / (2 * fc_param)\n",
    "numerical_2nd_alchemical_derivative[1] = (an3 - an4) / (2 * fc_param)\n",
    "numerical_2nd_alchemical_derivative[2] = (an5 - an6) / (2 * fc_param)\n",
    "numerical_2nd_alchemical_derivative[3] = (an7 - an8) / (2 * fc_param)\n",
    "numerical_2nd_alchemical_derivative[4] = (an9 - an10) / (2 * fc_param)\n",
    "numerical_2nd_alchemical_derivative[5] = (an11 - an12) / (2 * fc_param)"
   ]
  },
  {
   "attachments": {},
   "cell_type": "markdown",
   "metadata": {},
   "source": [
    "#### Numerical alchemical hardness derivatives"
   ]
  },
  {
   "cell_type": "code",
   "execution_count": 18,
   "metadata": {},
   "outputs": [],
   "source": [
    "numerical_3rd_alchemical_derivative = np.zeros((6, 6, 6))\n",
    "numerical_3rd_alchemical_derivative[0, :, :] = (ann1 - ann2) / (2 * fc_param)\n",
    "numerical_3rd_alchemical_derivative[1, :, :] = (ann3 - ann4) / (2 * fc_param)\n",
    "numerical_3rd_alchemical_derivative[2, :, :] = (ann5 - ann6) / (2 * fc_param)\n",
    "numerical_3rd_alchemical_derivative[3, :, :] = (ann7 - ann8) / (2 * fc_param)\n",
    "numerical_3rd_alchemical_derivative[4, :, :] = (ann9 - ann10) / (2 * fc_param)\n",
    "numerical_3rd_alchemical_derivative[5, :, :] = (ann11 - ann12) / (2 * fc_param)"
   ]
  },
  {
   "attachments": {},
   "cell_type": "markdown",
   "metadata": {},
   "source": [
    "#### Inefficient numerical alchemical force"
   ]
  },
  {
   "cell_type": "code",
   "execution_count": 19,
   "metadata": {},
   "outputs": [],
   "source": [
    "# mol_NN1=gto.M(atom=\"C 0 0 0.001; O 0 0 2.1\",unit=\"Bohr\",basis=basis_set)\n",
    "# mol_NN2=gto.M(atom=\"C 0 0 -0.001; O 0 0 2.1\",unit=\"Bohr\",basis=basis_set)\n",
    "# mol_NN3=gto.M(atom=\"C 0 0 0; O 0 0 2.101\",unit=\"Bohr\",basis=basis_set)\n",
    "# mol_NN4=gto.M(atom=\"C 0 0 0; O 0 0 2.099\",unit=\"Bohr\",basis=basis_set)\n",
    "# mf_nn1=scf.RKS(mol_NN1)\n",
    "# mf_nn2=scf.RKS(mol_NN2)\n",
    "# mf_nn3=scf.RKS(mol_NN3)\n",
    "# mf_nn4=scf.RKS(mol_NN4)\n",
    "# mf_nn1.xc = dft_functional\n",
    "# mf_nn2.xc = dft_functional\n",
    "# mf_nn3.xc = dft_functional\n",
    "# mf_nn4.xc = dft_functional\n",
    "# mf_nn1.scf()\n",
    "# mf_nn2.scf()\n",
    "# mf_nn3.scf()\n",
    "# mf_nn4.scf()\n",
    "# ap_nn1=AP(mf_nn1,sites=[0,1])\n",
    "# ap_nn2=AP(mf_nn2,sites=[0,1])\n",
    "# ap_nn3=AP(mf_nn3,sites=[0,1])\n",
    "# ap_nn4=AP(mf_nn4,sites=[0,1])\n",
    "# ad1 = ap_nn1.build_gradient()\n",
    "# ad2 = ap_nn2.build_gradient()\n",
    "# ad3 = ap_nn3.build_gradient()\n",
    "# ad4 = ap_nn4.build_gradient()"
   ]
  },
  {
   "cell_type": "code",
   "execution_count": 20,
   "metadata": {},
   "outputs": [],
   "source": [
    "# inefficient_numerical_alchemical_force = np.zeros((2, 2))  # only z axis components\n",
    "# inefficient_numerical_alchemical_force[:, 0] = (ad1 - ad2) / (2 * fc_param)\n",
    "# inefficient_numerical_alchemical_force[:, 1] = (ad3 - ad4) / (2 * fc_param)"
   ]
  },
  {
   "cell_type": "markdown",
   "metadata": {},
   "source": [
    "#### Numerical alchemical electric dipole moment"
   ]
  },
  {
   "cell_type": "code",
   "execution_count": 21,
   "metadata": {},
   "outputs": [],
   "source": [
    "numer_elec_electric_dipole_gradient = np.zeros((6, 3))\n",
    "numer_elec_electric_dipole_gradient[0] = (dipole1 - dipole2) / (2 * fc_param)\n",
    "numer_elec_electric_dipole_gradient[1] = (dipole3 - dipole4) / (2 * fc_param)\n",
    "numer_elec_electric_dipole_gradient[2] = (dipole5 - dipole6) / (2 * fc_param)\n",
    "numer_elec_electric_dipole_gradient[3] = (dipole7 - dipole8) / (2 * fc_param)\n",
    "numer_elec_electric_dipole_gradient[4] = (dipole9 - dipole10) / (2 * fc_param)\n",
    "numer_elec_electric_dipole_gradient[5] = (dipole11 - dipole12) / (2 * fc_param)"
   ]
  },
  {
   "cell_type": "markdown",
   "metadata": {},
   "source": [
    "#### Numerical alchemical electric polarizability"
   ]
  },
  {
   "cell_type": "code",
   "execution_count": 22,
   "metadata": {},
   "outputs": [],
   "source": [
    "numer_elec_electric_pol_gradient = np.zeros((6, 3, 3))\n",
    "numer_elec_electric_pol_gradient[0] = (pol1 - pol2) / (2 * fc_param)\n",
    "numer_elec_electric_pol_gradient[1] = (pol3 - pol4) / (2 * fc_param)\n",
    "numer_elec_electric_pol_gradient[2] = (pol5 - pol6) / (2 * fc_param)\n",
    "numer_elec_electric_pol_gradient[3] = (pol7 - pol8) / (2 * fc_param)\n",
    "numer_elec_electric_pol_gradient[4] = (pol9 - pol10) / (2 * fc_param)\n",
    "numer_elec_electric_pol_gradient[5] = (pol11 - pol12) / (2 * fc_param)"
   ]
  },
  {
   "cell_type": "markdown",
   "metadata": {},
   "source": [
    "## Comparison of analytical and numerical evaluations"
   ]
  },
  {
   "cell_type": "markdown",
   "metadata": {},
   "source": [
    "$ \\partial E/\\partial Z_i $"
   ]
  },
  {
   "cell_type": "code",
   "execution_count": 23,
   "metadata": {},
   "outputs": [
    {
     "name": "stdout",
     "output_type": "stream",
     "text": [
      "[-14.73429536  -1.12475727  -1.12475727  -1.11281549 -22.35866411\n",
      "  -1.01326651]\n"
     ]
    }
   ],
   "source": [
    "print(analytical_1st_alchemical_derivative)"
   ]
  },
  {
   "cell_type": "markdown",
   "metadata": {},
   "source": [
    "$ (\\partial E/\\partial Z_i)_\\mathrm{analytical} $ - $ (\\partial E/\\partial Z_i)_\\mathrm{numerical} $"
   ]
  },
  {
   "cell_type": "code",
   "execution_count": 24,
   "metadata": {},
   "outputs": [
    {
     "name": "stdout",
     "output_type": "stream",
     "text": [
      "[8.45393977e-08 7.31566114e-08 7.27444824e-08 1.54603620e-07\n",
      " 7.75386304e-07 4.33062448e-08]\n"
     ]
    }
   ],
   "source": [
    "print(analytical_1st_alchemical_derivative - numerical_1st_alchemical_derivative)"
   ]
  },
  {
   "cell_type": "markdown",
   "metadata": {},
   "source": [
    "$\\partial^2E/\\partial Z_i\\partial Z_j$"
   ]
  },
  {
   "cell_type": "code",
   "execution_count": 25,
   "metadata": {},
   "outputs": [
    {
     "name": "stdout",
     "output_type": "stream",
     "text": [
      "[[-2.98293629  0.39397372  0.39397372  0.39283205  0.2975315   0.27529715]\n",
      " [ 0.39397372 -1.08949187  0.32087833  0.32602965  0.2791038   0.26650417]\n",
      " [ 0.39397372  0.32087833 -1.08949187  0.32602965  0.2791038   0.26650417]\n",
      " [ 0.39283205  0.32602965  0.32602965 -1.08691572  0.27464515  0.27361192]\n",
      " [ 0.2975315   0.2791038   0.2791038   0.27464515 -3.58626745  0.43909326]\n",
      " [ 0.27529715  0.26650417  0.26650417  0.27361192  0.43909326 -0.96544947]]\n"
     ]
    }
   ],
   "source": [
    "print(analytical_2nd_alchemical_derivative)"
   ]
  },
  {
   "cell_type": "markdown",
   "metadata": {},
   "source": [
    "$(\\partial^2E/\\partial Z_i\\partial Z_j)_\\mathrm{analytical}$ - $(\\partial^2E/\\partial Z_i\\partial Z_j)_\\mathrm{numerical}$"
   ]
  },
  {
   "cell_type": "code",
   "execution_count": 26,
   "metadata": {},
   "outputs": [
    {
     "name": "stdout",
     "output_type": "stream",
     "text": [
      "[[-4.06529431e-06 -1.40430865e-06 -1.40431176e-06  1.53639595e-06\n",
      "   8.17353401e-08  1.80893689e-06]\n",
      " [ 5.20449552e-06  1.65354309e-06  2.64328565e-07  1.30163072e-06\n",
      "  -5.35677461e-06 -8.25558528e-07]\n",
      " [ 5.20450973e-06  2.64325013e-07  1.65352976e-06  1.30162850e-06\n",
      "  -5.35673553e-06 -8.25558527e-07]\n",
      " [-4.36628950e-06 -1.55361377e-06 -1.55362043e-06  1.24240460e-06\n",
      "   9.62548466e-07  1.63057260e-06]\n",
      " [ 9.64890223e-07  1.94666034e-07  1.94676693e-07 -8.72528958e-07\n",
      "   3.77376316e-06  1.73813941e-07]\n",
      " [-4.11946705e-05 -8.68440854e-06 -8.68441254e-06 -5.34459451e-06\n",
      "   3.32019981e-05  1.02025968e-05]]\n"
     ]
    }
   ],
   "source": [
    "print(analytical_2nd_alchemical_derivative - numerical_2nd_alchemical_derivative)"
   ]
  },
  {
   "cell_type": "markdown",
   "metadata": {},
   "source": [
    "$\\partial^3E/\\partial Z_i\\partial Z_j\\partial Z_k$"
   ]
  },
  {
   "cell_type": "code",
   "execution_count": 27,
   "metadata": {},
   "outputs": [
    {
     "name": "stdout",
     "output_type": "stream",
     "text": [
      "[[[-0.2278832   0.08235852  0.08235852  0.08131629  0.03559915\n",
      "    0.03376261]\n",
      "  [ 0.08235852  0.11526836  0.07214434  0.0734432   0.04543523\n",
      "    0.04055412]\n",
      "  [ 0.08235852  0.07214434  0.11526836  0.0734432   0.04543523\n",
      "    0.04055412]\n",
      "  [ 0.08131629  0.0734432   0.0734432   0.11349206  0.04294783\n",
      "    0.03649246]\n",
      "  [ 0.03559915  0.04543523  0.04543523  0.04294783  0.02660788\n",
      "    0.01943406]\n",
      "  [ 0.03376261  0.04055412  0.04055412  0.03649246  0.01943406\n",
      "    0.02652831]]\n",
      "\n",
      " [[ 0.08235852  0.11526836  0.07214434  0.0734432   0.04543523\n",
      "    0.04055412]\n",
      "  [ 0.11526836 -0.82306866  0.06684564  0.06732702  0.05367046\n",
      "    0.04364442]\n",
      "  [ 0.07214434  0.06684564  0.06684564  0.03686199  0.02980385\n",
      "    0.02616268]\n",
      "  [ 0.0734432   0.06732702  0.03686199  0.067246    0.0289992\n",
      "    0.02456298]\n",
      "  [ 0.04543523  0.05367046  0.02980385  0.0289992   0.02805294\n",
      "    0.02179797]\n",
      "  [ 0.04055412  0.04364442  0.02616268  0.02456298  0.02179797\n",
      "    0.03203281]]\n",
      "\n",
      " [[ 0.08235852  0.07214434  0.11526836  0.0734432   0.04543523\n",
      "    0.04055412]\n",
      "  [ 0.07214434  0.06684564  0.06684564  0.03686199  0.02980385\n",
      "    0.02616268]\n",
      "  [ 0.11526836  0.06684564 -0.82306866  0.06732702  0.05367046\n",
      "    0.04364442]\n",
      "  [ 0.0734432   0.03686199  0.06732702  0.067246    0.0289992\n",
      "    0.02456298]\n",
      "  [ 0.04543523  0.02980385  0.05367046  0.0289992   0.02805294\n",
      "    0.02179797]\n",
      "  [ 0.04055412  0.02616268  0.04364442  0.02456298  0.02179797\n",
      "    0.03203281]]\n",
      "\n",
      " [[ 0.08131629  0.0734432   0.0734432   0.11349206  0.04294783\n",
      "    0.03649246]\n",
      "  [ 0.0734432   0.06732702  0.03686199  0.067246    0.0289992\n",
      "    0.02456298]\n",
      "  [ 0.0734432   0.03686199  0.06732702  0.067246    0.0289992\n",
      "    0.02456298]\n",
      "  [ 0.11349206  0.067246    0.067246   -0.83073611  0.05049921\n",
      "    0.03984886]\n",
      "  [ 0.04294783  0.0289992   0.0289992   0.05049921  0.03327571\n",
      "    0.01990639]\n",
      "  [ 0.03649246  0.02456298  0.02456298  0.03984886  0.01990639\n",
      "    0.03013306]]\n",
      "\n",
      " [[ 0.03559915  0.04543523  0.04543523  0.04294783  0.02660788\n",
      "    0.01943406]\n",
      "  [ 0.04543523  0.05367046  0.02980385  0.0289992   0.02805294\n",
      "    0.02179797]\n",
      "  [ 0.04543523  0.02980385  0.05367046  0.0289992   0.02805294\n",
      "    0.02179797]\n",
      "  [ 0.04294783  0.0289992   0.0289992   0.05049921  0.03327571\n",
      "    0.01990639]\n",
      "  [ 0.02660788  0.02805294  0.02805294  0.03327571 -0.15161007\n",
      "    0.09237305]\n",
      "  [ 0.01943406  0.02179797  0.02179797  0.01990639  0.09237305\n",
      "    0.11882502]]\n",
      "\n",
      " [[ 0.03376261  0.04055412  0.04055412  0.03649246  0.01943406\n",
      "    0.02652831]\n",
      "  [ 0.04055412  0.04364442  0.02616268  0.02456298  0.02179797\n",
      "    0.03203281]\n",
      "  [ 0.04055412  0.02616268  0.04364442  0.02456298  0.02179797\n",
      "    0.03203281]\n",
      "  [ 0.03649246  0.02456298  0.02456298  0.03984886  0.01990639\n",
      "    0.03013306]\n",
      "  [ 0.01943406  0.02179797  0.02179797  0.01990639  0.09237305\n",
      "    0.11882502]\n",
      "  [ 0.02652831  0.03203281  0.03203281  0.03013306  0.11882502\n",
      "   -0.75998018]]]\n"
     ]
    }
   ],
   "source": [
    "print(analytical_3rd_alchemical_derivative)"
   ]
  },
  {
   "cell_type": "markdown",
   "metadata": {},
   "source": [
    "$(\\partial^3E/\\partial Z_i\\partial Z_j\\partial Z_k)_\\mathrm{analytical}$ - $(\\partial^3E/\\partial Z_i\\partial Z_j\\partial Z_k)_\\mathrm{numerical}$"
   ]
  },
  {
   "cell_type": "code",
   "execution_count": 28,
   "metadata": {},
   "outputs": [
    {
     "name": "stdout",
     "output_type": "stream",
     "text": [
      "[[[ 2.14413885e-06  2.85913542e-07  2.85915369e-07  3.27183412e-08\n",
      "   -7.18067638e-08 -2.81362511e-08]\n",
      "  [ 2.85913542e-07  4.29789492e-07  4.09586204e-07  5.26126408e-08\n",
      "    2.86142503e-08  2.38344076e-08]\n",
      "  [ 2.85915369e-07  4.09586204e-07  4.29781603e-07  5.26108060e-08\n",
      "    2.86142203e-08  2.38344890e-08]\n",
      "  [ 3.27183412e-08  5.26126408e-08  5.26108060e-08  7.39186596e-07\n",
      "    7.15877288e-08  8.80268004e-08]\n",
      "  [-7.18067638e-08  2.86142503e-08  2.86142203e-08  7.15877288e-08\n",
      "    1.70864122e-07 -6.79612948e-08]\n",
      "  [-2.81362511e-08  2.38344076e-08  2.38344890e-08  8.80268004e-08\n",
      "   -6.79612948e-08  5.96522863e-07]]\n",
      "\n",
      " [[ 6.98991780e-07 -4.67958904e-08 -2.40109510e-07 -4.56872119e-07\n",
      "   -3.18819248e-07 -2.84772538e-07]\n",
      "  [-4.67958904e-08 -7.17416423e-07 -8.81593937e-08 -4.30751458e-07\n",
      "   -5.22458281e-07 -3.85508924e-07]\n",
      "  [-2.40109510e-07 -8.81593937e-08 -4.53751203e-07 -3.33662520e-07\n",
      "   -4.12436503e-07 -3.01526959e-07]\n",
      "  [-4.56872119e-07 -4.30751458e-07 -3.33662520e-07 -6.83545603e-07\n",
      "   -1.18605008e-07 -1.40817440e-07]\n",
      "  [-3.18819248e-07 -5.22458281e-07 -4.12436503e-07 -1.18605008e-07\n",
      "    1.46973610e-07  3.95585821e-07]\n",
      "  [-2.84772538e-07 -3.85508924e-07 -3.01526959e-07 -1.40817440e-07\n",
      "    3.95585821e-07  4.13209444e-07]]\n",
      "\n",
      " [[ 6.98986668e-07 -2.40109594e-07 -4.67967017e-08 -4.56873177e-07\n",
      "   -3.18820444e-07 -2.84772679e-07]\n",
      "  [-2.40109594e-07 -4.53750423e-07 -8.81594792e-08 -3.33662548e-07\n",
      "   -4.12436476e-07 -3.01526182e-07]\n",
      "  [-4.67967017e-08 -8.81594792e-08 -7.17420209e-07 -4.30751793e-07\n",
      "   -5.22459254e-07 -3.85509064e-07]\n",
      "  [-4.56873177e-07 -3.33662548e-07 -4.30751793e-07 -6.83552597e-07\n",
      "   -1.18605676e-07 -1.40817303e-07]\n",
      "  [-3.18820444e-07 -4.12436476e-07 -5.22459254e-07 -1.18605676e-07\n",
      "    1.46971390e-07  3.95583794e-07]\n",
      "  [-2.84772679e-07 -3.01526182e-07 -3.85509064e-07 -1.40817303e-07\n",
      "    3.95583794e-07  4.13200173e-07]]\n",
      "\n",
      " [[-7.42080356e-07  1.98574411e-07  1.98574159e-07  2.89329250e-07\n",
      "    2.19570799e-07  1.45120214e-07]\n",
      "  [ 1.98574411e-07  3.03532565e-07  4.24300311e-07  8.50466146e-08\n",
      "    2.44349963e-07  1.85387151e-07]\n",
      "  [ 1.98574159e-07  4.24300311e-07  3.03529121e-07  8.50471143e-08\n",
      "    2.44349879e-07  1.85386899e-07]\n",
      "  [ 2.89329250e-07  8.50466147e-08  8.50471143e-08  1.66373815e-09\n",
      "   -4.25732847e-07 -1.25543222e-07]\n",
      "  [ 2.19570799e-07  2.44349963e-07  2.44349879e-07 -4.25732847e-07\n",
      "    3.62064133e-07 -1.58903183e-08]\n",
      "  [ 1.45120214e-07  1.85387151e-07  1.85386899e-07 -1.25543222e-07\n",
      "   -1.58903183e-08  5.21818138e-07]]\n",
      "\n",
      " [[-1.73450513e-07 -3.59674901e-07 -3.59674098e-07 -1.64481102e-07\n",
      "    5.78393382e-08 -1.56130579e-08]\n",
      "  [-3.59674901e-07 -6.37165469e-07 -4.67869689e-07 -1.01784380e-07\n",
      "    1.88926079e-07  1.85931891e-08]\n",
      "  [-3.59674098e-07 -4.67869689e-07 -6.37163805e-07 -1.01783632e-07\n",
      "    1.88926662e-07  1.85941605e-08]\n",
      "  [-1.64481102e-07 -1.01784380e-07 -1.01783632e-07 -1.09003324e-06\n",
      "    2.49161612e-07  2.55745133e-08]\n",
      "  [ 5.78393382e-08  1.88926079e-07  1.88926662e-07  2.49161612e-07\n",
      "   -3.50396896e-07 -8.60948901e-07]\n",
      "  [-1.56130579e-08  1.85931891e-08  1.85941605e-08  2.55745133e-08\n",
      "   -8.60948901e-07 -4.42936116e-07]]\n",
      "\n",
      " [[-5.10164206e-06  2.52935967e-06  2.52935964e-06  2.87981482e-06\n",
      "    1.48306440e-06  1.40747225e-06]\n",
      "  [ 2.52935967e-06  3.88662700e-06  2.73488294e-06  2.92179825e-06\n",
      "    1.62416067e-06  1.37423370e-06]\n",
      "  [ 2.52935964e-06  2.73488294e-06  3.88662411e-06  2.92179758e-06\n",
      "    1.62416028e-06  1.37423315e-06]\n",
      "  [ 2.87981482e-06  2.92179825e-06  2.92179758e-06  4.60379728e-06\n",
      "    1.11063830e-06  1.30726737e-06]\n",
      "  [ 1.48306440e-06  1.62416067e-06  1.62416028e-06  1.11063830e-06\n",
      "    1.89684596e-07 -2.08743018e-06]\n",
      "  [ 1.40747225e-06  1.37423370e-06  1.37423315e-06  1.30726737e-06\n",
      "   -2.08743018e-06 -8.16000834e-07]]]\n"
     ]
    }
   ],
   "source": [
    "print(analytical_3rd_alchemical_derivative - numerical_3rd_alchemical_derivative)"
   ]
  },
  {
   "cell_type": "markdown",
   "metadata": {},
   "source": [
    "$\\partial^2E/\\partial Z_i\\partial R_j$"
   ]
  },
  {
   "cell_type": "code",
   "execution_count": 29,
   "metadata": {},
   "outputs": [
    {
     "name": "stdout",
     "output_type": "stream",
     "text": [
      "[[[ 2.94931942e-02 -8.11060045e-03 -3.55083016e-15]\n",
      "  [-3.38587437e-02 -3.14059456e-02  5.43689196e-02]\n",
      "  [-3.38587437e-02 -3.14059456e-02 -5.43689196e-02]\n",
      "  [-1.69745412e-02  6.90302587e-02  4.07314044e-16]\n",
      "  [ 5.47847263e-02  1.25598453e-02 -1.22742204e-18]\n",
      "  [ 4.14402127e-04 -1.06682825e-02 -3.13829549e-18]]\n",
      "\n",
      " [[-3.59935455e-02  4.94955118e-03  6.96092823e-03]\n",
      "  [-3.11653225e-02 -2.58882934e-02  3.62558114e-02]\n",
      "  [ 3.12236544e-03  5.92748352e-03 -1.51528382e-02]\n",
      "  [ 6.15725490e-03  1.05663460e-02 -1.34611210e-02]\n",
      "  [ 6.04818688e-02  1.02225742e-02 -8.86832247e-03]\n",
      "  [-2.60260670e-03 -5.77737221e-03 -5.73456519e-03]]\n",
      "\n",
      " [[-3.59935455e-02  4.94955118e-03 -6.96092823e-03]\n",
      "  [ 3.12236544e-03  5.92748352e-03  1.51528382e-02]\n",
      "  [-3.11653225e-02 -2.58882934e-02 -3.62558114e-02]\n",
      "  [ 6.15725490e-03  1.05663460e-02  1.34611210e-02]\n",
      "  [ 6.04818688e-02  1.02225742e-02  8.86832247e-03]\n",
      "  [-2.60260670e-03 -5.77737221e-03  5.73456519e-03]]\n",
      "\n",
      " [[-3.09737728e-02  6.60153978e-04 -1.49986376e-15]\n",
      "  [ 2.96495542e-03 -1.75211756e-02  1.16131201e-03]\n",
      "  [ 2.96495542e-03 -1.75211756e-02 -1.16131201e-03]\n",
      "  [-1.37679376e-02  5.68304806e-02  2.00108881e-16]\n",
      "  [ 5.19332377e-02 -1.83712512e-02 -1.48018568e-16]\n",
      "  [-1.31212895e-02 -4.07706980e-03  9.21302986e-17]]\n",
      "\n",
      " [[ 5.37000819e-02  5.43981749e-04 -1.56214915e-15]\n",
      "  [-1.69533490e-02 -1.14558497e-03  3.18328931e-03]\n",
      "  [-1.69533490e-02 -1.14558497e-03 -3.18328931e-03]\n",
      "  [-1.45112668e-02  4.79827308e-03  6.30485847e-16]\n",
      "  [-2.16307953e-02 -5.10952046e-02 -1.04716795e-15]\n",
      "  [ 1.63489089e-02  4.80452435e-02 -5.67050639e-16]]\n",
      "\n",
      " [[ 6.75626330e-02 -1.47594615e-02 -1.16454155e-15]\n",
      "  [-1.39137961e-02 -2.18637850e-03  3.42119537e-03]\n",
      "  [-1.39137961e-02 -2.18637850e-03 -3.42119537e-03]\n",
      "  [-7.53741360e-03  5.90160095e-03  5.85471879e-16]\n",
      "  [-5.95914830e-02 -1.80388695e-02  3.45683804e-16]\n",
      "  [ 2.73936751e-02  3.12689765e-02 -8.16972564e-16]]]\n"
     ]
    }
   ],
   "source": [
    "print(efficient_analytical_alchemical_force)"
   ]
  },
  {
   "cell_type": "markdown",
   "metadata": {},
   "source": [
    "$(\\partial^2E/\\partial Z_i\\partial R_j)_\\mathrm{analytical}$ - $(\\partial^2E/\\partial Z_i\\partial R_j)_\\mathrm{numerical}$"
   ]
  },
  {
   "cell_type": "code",
   "execution_count": 30,
   "metadata": {},
   "outputs": [
    {
     "name": "stdout",
     "output_type": "stream",
     "text": [
      "[[[-1.34772200e-06 -4.02926122e-06  1.65246186e-12]\n",
      "  [ 5.86685744e-08  1.52545705e-07 -1.92235271e-07]\n",
      "  [ 5.86676879e-08  1.52546317e-07  1.92233057e-07]\n",
      "  [ 5.36929136e-08  3.12906596e-07 -7.84274666e-14]\n",
      "  [-8.96645332e-07 -1.30018600e-07  2.30188631e-12]\n",
      "  [ 2.75324301e-07  1.08150890e-06 -1.04900505e-14]]\n",
      "\n",
      " [[ 1.07107561e-06  9.87061158e-08 -9.96832269e-07]\n",
      "  [-1.18342974e-06  8.39749055e-07  3.70645000e-07]\n",
      "  [-3.21043466e-07 -7.89751524e-08 -5.22328549e-08]\n",
      "  [-2.46774465e-07  3.37907572e-07  4.42600804e-08]\n",
      "  [ 3.11262431e-07  1.69178329e-07 -7.52580928e-08]\n",
      "  [-4.28050674e-07  4.49660488e-08  2.21421937e-08]]\n",
      "\n",
      " [[ 1.07106317e-06  9.87075836e-08  9.96831105e-07]\n",
      "  [-3.21038915e-07 -7.89752630e-08  5.22349652e-08]\n",
      "  [-1.18342919e-06  8.39753778e-07 -3.70647668e-07]\n",
      "  [-2.46776686e-07  3.37910570e-07 -4.42602210e-08]\n",
      "  [ 3.11257096e-07  1.69183881e-07  7.52550049e-08]\n",
      "  [-4.28048786e-07  4.49664930e-08 -2.21423141e-08]]\n",
      "\n",
      " [[-1.98340582e-07 -2.83896692e-06 -1.73539620e-12]\n",
      "  [ 2.29982818e-07  2.51134249e-07 -3.83315574e-07]\n",
      "  [ 2.29988925e-07  2.51131641e-07  3.83312466e-07]\n",
      "  [ 1.29235645e-06  3.10484587e-07  1.16760853e-14]\n",
      "  [-2.78312316e-07 -1.10048084e-06  8.52700130e-13]\n",
      "  [ 6.81247408e-07  4.66637746e-07  1.00760431e-13]]\n",
      "\n",
      " [[ 4.55904368e-08 -4.89463840e-08  1.57298395e-12]\n",
      "  [-1.63894025e-09 -3.97895819e-08  1.33074007e-07]\n",
      "  [-1.63805241e-09 -3.97868066e-08 -1.33075784e-07]\n",
      "  [ 1.47379513e-07 -2.23284027e-07  3.64417136e-13]\n",
      "  [-3.15890411e-06  8.35228110e-07  1.27567593e-12]\n",
      "  [-3.13965494e-07  2.63915554e-07 -5.20896827e-14]]\n",
      "\n",
      " [[-8.32420816e-06 -1.47479227e-06  1.00947711e-12]\n",
      "  [ 2.57363825e-06  1.63545157e-06 -1.95505346e-06]\n",
      "  [ 2.57363082e-06  1.63545196e-06  1.95505113e-06]\n",
      "  [ 1.34233288e-06 -1.73574454e-06 -1.89597804e-14]\n",
      "  [-4.35641340e-06  3.48886107e-08  1.13747747e-12]\n",
      "  [ 3.07020844e-06  2.39752608e-06 -1.00429232e-13]]]\n"
     ]
    }
   ],
   "source": [
    "print(efficient_analytical_alchemical_force - efficient_numerical_alchemical_force)"
   ]
  },
  {
   "cell_type": "markdown",
   "metadata": {},
   "source": [
    "$\\partial^2E/\\partial Z_i\\partial R_j$"
   ]
  },
  {
   "cell_type": "code",
   "execution_count": 31,
   "metadata": {},
   "outputs": [
    {
     "name": "stdout",
     "output_type": "stream",
     "text": [
      "[[[ 2.94931944e-02 -8.11060062e-03 -3.52111650e-15]\n",
      "  [-3.38587437e-02 -3.14059456e-02  5.43689196e-02]\n",
      "  [-3.38587437e-02 -3.14059456e-02 -5.43689196e-02]\n",
      "  [-1.69745412e-02  6.90302588e-02  5.39013835e-16]\n",
      "  [ 5.47847262e-02  1.25598454e-02  3.95553795e-17]\n",
      "  [ 4.14402059e-04 -1.06682826e-02 -1.50543406e-17]]\n",
      "\n",
      " [[-3.59935453e-02  4.94955123e-03  6.96092828e-03]\n",
      "  [-3.11653225e-02 -2.58882934e-02  3.62558114e-02]\n",
      "  [ 3.12236540e-03  5.92748347e-03 -1.51528383e-02]\n",
      "  [ 6.15725489e-03  1.05663460e-02 -1.34611210e-02]\n",
      "  [ 6.04818687e-02  1.02225741e-02 -8.86832246e-03]\n",
      "  [-2.60260666e-03 -5.77737215e-03 -5.73456521e-03]]\n",
      "\n",
      " [[-3.59935453e-02  4.94955123e-03 -6.96092828e-03]\n",
      "  [ 3.12236540e-03  5.92748347e-03  1.51528383e-02]\n",
      "  [-3.11653225e-02 -2.58882934e-02 -3.62558114e-02]\n",
      "  [ 6.15725489e-03  1.05663460e-02  1.34611210e-02]\n",
      "  [ 6.04818687e-02  1.02225741e-02  8.86832246e-03]\n",
      "  [-2.60260666e-03 -5.77737215e-03  5.73456521e-03]]\n",
      "\n",
      " [[-3.09737730e-02  6.60153963e-04 -1.35930553e-15]\n",
      "  [ 2.96495545e-03 -1.75211756e-02  1.16131196e-03]\n",
      "  [ 2.96495545e-03 -1.75211756e-02 -1.16131196e-03]\n",
      "  [-1.37679376e-02  5.68304806e-02  1.95686821e-16]\n",
      "  [ 5.19332379e-02 -1.83712511e-02 -1.10475395e-16]\n",
      "  [-1.31212895e-02 -4.07706985e-03  7.51756159e-17]]\n",
      "\n",
      " [[ 5.37000819e-02  5.43981758e-04 -1.33532800e-15]\n",
      "  [-1.69533490e-02 -1.14558497e-03  3.18328931e-03]\n",
      "  [-1.69533490e-02 -1.14558497e-03 -3.18328931e-03]\n",
      "  [-1.45112668e-02  4.79827307e-03  6.43177616e-16]\n",
      "  [-2.16307953e-02 -5.10952046e-02 -9.26155879e-16]\n",
      "  [ 1.63489089e-02  4.80452435e-02 -5.25415434e-16]]\n",
      "\n",
      " [[ 6.75626331e-02 -1.47594616e-02 -1.17762041e-15]\n",
      "  [-1.39137961e-02 -2.18637850e-03  3.42119539e-03]\n",
      "  [-1.39137961e-02 -2.18637850e-03 -3.42119539e-03]\n",
      "  [-7.53741360e-03  5.90160100e-03  5.62438461e-16]\n",
      "  [-5.95914830e-02 -1.80388695e-02  3.19822225e-16]\n",
      "  [ 2.73936751e-02  3.12689766e-02 -8.00123987e-16]]]\n"
     ]
    }
   ],
   "source": [
    "print(inefficient_analytical_alchemical_force)"
   ]
  },
  {
   "cell_type": "markdown",
   "metadata": {},
   "source": [
    "$(\\partial^2E/\\partial Z_i\\partial R_j)_\\mathrm{analytical}$ - $(\\partial^2E/\\partial Z_i\\partial R_j)_\\mathrm{numerical}$"
   ]
  },
  {
   "cell_type": "code",
   "execution_count": 32,
   "metadata": {},
   "outputs": [],
   "source": [
    "# print(inefficient_analytical_alchemical_force[:, :, 2] - inefficient_numerical_alchemical_force)"
   ]
  },
  {
   "cell_type": "markdown",
   "metadata": {},
   "source": [
    "$(\\partial^2E/\\partial Z_i\\partial R_j)_\\mathrm{analytical,efficient}$ - $(\\partial^2E/\\partial Z_i\\partial R_j)_\\mathrm{analytical,inefficient}$"
   ]
  },
  {
   "cell_type": "code",
   "execution_count": 33,
   "metadata": {},
   "outputs": [
    {
     "name": "stdout",
     "output_type": "stream",
     "text": [
      "[[[-1.27790001e-10  1.67325265e-10 -2.97136634e-17]\n",
      "  [ 7.30471239e-13 -1.90857052e-11  2.62347366e-11]\n",
      "  [ 7.31248395e-13 -1.90854554e-11 -2.62313782e-11]\n",
      "  [ 1.18674376e-11 -7.81535947e-11 -1.31699791e-16]\n",
      "  [ 4.65880667e-11 -1.60520264e-10 -4.07828015e-17]\n",
      "  [ 6.78811729e-11  1.09526263e-10  1.19160451e-17]]\n",
      "\n",
      " [[-1.90457095e-10 -5.22829557e-11 -5.70150593e-11]\n",
      "  [ 2.18869367e-11  2.21062058e-11 -2.34066100e-11]\n",
      "  [ 3.68945222e-11  4.62590660e-11  7.42250011e-11]\n",
      "  [ 7.00702690e-12 -1.73533410e-11  3.91954524e-12]\n",
      "  [ 1.57534208e-10  6.06447392e-11 -1.00896513e-11]\n",
      "  [-3.28639546e-11 -5.93790989e-11  1.23734946e-11]]\n",
      "\n",
      " [[-1.90459093e-10 -5.22851762e-11  5.70203884e-11]\n",
      "  [ 3.68945777e-11  4.62596593e-11 -7.42240991e-11]\n",
      "  [ 2.18864926e-11  2.21094254e-11  2.34079423e-11]\n",
      "  [ 7.00653077e-12 -1.73528275e-11 -3.91806032e-12]\n",
      "  [ 1.57528879e-10  6.06458772e-11  1.00890685e-11]\n",
      "  [-3.28640934e-11 -5.93791613e-11 -1.23734079e-11]]\n",
      "\n",
      " [[ 1.51500534e-10  1.48279167e-11 -1.40558232e-16]\n",
      "  [-2.80163340e-11 -2.40102244e-11  4.89139007e-11]\n",
      "  [-2.80162404e-11 -2.40091003e-11 -4.89133942e-11]\n",
      "  [ 1.43697276e-11  3.45883322e-11  4.42206010e-18]\n",
      "  [-1.41673895e-10 -5.50595125e-11 -3.75431735e-17]\n",
      "  [ 3.18342089e-11  5.36573772e-11  1.69546827e-17]]\n",
      "\n",
      " [[ 1.84025017e-11 -8.70753469e-12 -2.26821149e-16]\n",
      "  [-5.15502918e-12  1.49762494e-12 -5.30193250e-12]\n",
      "  [-5.15694432e-12  1.49807597e-12  5.30132882e-12]\n",
      "  [-8.42365067e-12  6.71958322e-12 -1.26917689e-17]\n",
      "  [ 2.38916664e-11  2.19527729e-11 -1.21012072e-16]\n",
      "  [-2.35534092e-11 -2.29626873e-11 -4.16352055e-17]]\n",
      "\n",
      " [[-8.85072571e-11  8.51967663e-11  1.30788572e-17]\n",
      "  [ 1.83872778e-11 -3.01003666e-12 -1.99888474e-11]\n",
      "  [ 1.83870905e-11 -3.01007830e-12  1.99892013e-11]\n",
      "  [-1.95704564e-13 -5.28410718e-11  2.30334180e-17]\n",
      "  [ 5.48969759e-11  2.21289653e-12  2.58615799e-17]\n",
      "  [-2.97784020e-12 -2.85504953e-11 -1.68485763e-17]]]\n"
     ]
    }
   ],
   "source": [
    "print(efficient_analytical_alchemical_force - inefficient_analytical_alchemical_force)"
   ]
  },
  {
   "cell_type": "markdown",
   "metadata": {},
   "source": [
    "$(\\partial ^2 E/ \\partial Z_I \\partial \\mathbf{F})_\\mathrm{analytical}$"
   ]
  },
  {
   "cell_type": "code",
   "execution_count": 34,
   "metadata": {},
   "outputs": [
    {
     "name": "stdout",
     "output_type": "stream",
     "text": [
      "[[-8.35669955e-02 -5.07162928e-02 -4.02819143e-14]\n",
      " [-8.15774734e-01 -7.20244020e-01  1.14935467e+00]\n",
      " [-8.15774734e-01 -7.20244020e-01 -1.14935467e+00]\n",
      " [-5.34900508e-01  1.39646710e+00 -3.08450664e-14]\n",
      " [ 9.01426861e-01 -2.20952037e-01 -4.97326902e-14]\n",
      " [ 1.45969559e+00  9.74687008e-01 -3.46179962e-14]]\n"
     ]
    }
   ],
   "source": [
    "print(elec_electric_dipole_gradient_f)"
   ]
  },
  {
   "cell_type": "code",
   "execution_count": 35,
   "metadata": {},
   "outputs": [
    {
     "name": "stdout",
     "output_type": "stream",
     "text": [
      "[[-8.35669953e-02 -5.07162930e-02 -3.03751644e-14]\n",
      " [-8.15774734e-01 -7.20244020e-01  1.14935467e+00]\n",
      " [-8.15774734e-01 -7.20244020e-01 -1.14935467e+00]\n",
      " [-5.34900507e-01  1.39646710e+00 -3.37347130e-14]\n",
      " [ 9.01426861e-01 -2.20952037e-01 -4.40385409e-14]\n",
      " [ 1.45969559e+00  9.74687008e-01 -3.17025614e-14]]\n"
     ]
    }
   ],
   "source": [
    "print(elec_electric_dipole_gradient_z)"
   ]
  },
  {
   "cell_type": "markdown",
   "metadata": {},
   "source": [
    "$(\\partial ^2 E/ \\partial Z_I \\partial \\mathbf{F})_\\mathrm{analytical}$ - $(\\partial ^2 E/ \\partial Z_I \\partial \\mathbf{F})_\\mathrm{numerical}$"
   ]
  },
  {
   "cell_type": "code",
   "execution_count": 36,
   "metadata": {},
   "outputs": [
    {
     "name": "stdout",
     "output_type": "stream",
     "text": [
      "[[-3.06981466e-06 -1.18792143e-05  6.07664684e-12]\n",
      " [ 7.15791072e-06 -3.14276956e-06 -4.29408879e-06]\n",
      " [ 7.15786431e-06 -3.14277046e-06  4.29409754e-06]\n",
      " [-3.91976626e-06 -1.06344895e-05  4.12726215e-13]\n",
      " [-4.30074922e-06  4.43662415e-06 -1.61603230e-11]\n",
      " [-5.66423159e-05 -9.74338684e-06  1.95607097e-13]]\n"
     ]
    }
   ],
   "source": [
    "print(elec_electric_dipole_gradient_f - numer_elec_electric_dipole_gradient)"
   ]
  },
  {
   "cell_type": "code",
   "execution_count": 37,
   "metadata": {},
   "outputs": [
    {
     "name": "stdout",
     "output_type": "stream",
     "text": [
      "[[-3.06960189e-06 -1.18793873e-05  6.08655359e-12]\n",
      " [ 7.15755395e-06 -3.14273070e-06 -4.29438317e-06]\n",
      " [ 7.15750754e-06 -3.14273159e-06  4.29439192e-06]\n",
      " [-3.91880474e-06 -1.06348401e-05  4.09836568e-13]\n",
      " [-4.30079910e-06  4.43661288e-06 -1.61546289e-11]\n",
      " [-5.66421733e-05 -9.74330977e-06  1.98522532e-13]]\n"
     ]
    }
   ],
   "source": [
    "print(elec_electric_dipole_gradient_z - numer_elec_electric_dipole_gradient)"
   ]
  },
  {
   "cell_type": "markdown",
   "metadata": {},
   "source": [
    "$(\\partial ^3 E/ \\partial Z_I \\partial ^2 \\mathbf{F})_\\mathrm{analytical}$"
   ]
  },
  {
   "cell_type": "code",
   "execution_count": 38,
   "metadata": {},
   "outputs": [
    {
     "name": "stdout",
     "output_type": "stream",
     "text": [
      "[[[ 2.83814340e+00  5.38588604e-01 -8.04754077e-13]\n",
      "  [ 5.38588604e-01  6.08799423e+00 -7.74607833e-13]\n",
      "  [-8.04754077e-13 -7.74607833e-13  6.24740900e+00]]\n",
      "\n",
      " [[ 4.19188330e+00  1.08909779e+00 -9.05836312e-01]\n",
      "  [ 1.08909779e+00  6.92776496e+00 -1.15320870e+00]\n",
      "  [-9.05836312e-01 -1.15320870e+00  8.51705054e+00]]\n",
      "\n",
      " [[ 4.19188330e+00  1.08909779e+00  9.05836312e-01]\n",
      "  [ 1.08909779e+00  6.92776496e+00  1.15320870e+00]\n",
      "  [ 9.05836312e-01  1.15320870e+00  8.51705054e+00]]\n",
      "\n",
      " [[ 4.28013296e+00 -5.32721315e-02 -6.82060195e-13]\n",
      "  [-5.32721315e-02  8.89199752e+00 -9.03733736e-13]\n",
      "  [-6.82060195e-13 -9.03733736e-13  6.20985616e+00]]\n",
      "\n",
      " [[ 7.80371639e+00  9.58197020e-02 -1.11245734e-12]\n",
      "  [ 9.58197020e-02  5.37194874e+00 -5.84309411e-13]\n",
      "  [-1.11245734e-12 -5.84309411e-13  5.84169467e+00]]\n",
      "\n",
      " [[ 5.99084533e+00  4.02356376e-02 -8.67987260e-13]\n",
      "  [ 4.02356376e-02  4.34561010e+00 -5.41264055e-13]\n",
      "  [-8.67987260e-13 -5.41264055e-13  4.34612940e+00]]]\n"
     ]
    }
   ],
   "source": [
    "print(elec_electric_pol_gradient)"
   ]
  },
  {
   "cell_type": "markdown",
   "metadata": {},
   "source": [
    "$(\\partial ^3 E/ \\partial Z_I \\partial ^2 \\mathbf{F})_\\mathrm{analytical}$ - $(\\partial ^3 E/ \\partial Z_I \\partial ^2 \\mathbf{F})_\\mathrm{numerical}$"
   ]
  },
  {
   "cell_type": "code",
   "execution_count": 39,
   "metadata": {},
   "outputs": [
    {
     "name": "stdout",
     "output_type": "stream",
     "text": [
      "[[[-5.01202533e-06  1.48860459e-05  1.39682993e-10]\n",
      "  [ 1.48860459e-05  1.56302528e-05  5.08298263e-11]\n",
      "  [ 1.39682993e-10  5.08298263e-11  3.26361968e-05]]\n",
      "\n",
      " [[ 2.17389180e-05  2.44078674e-07  5.15139298e-07]\n",
      "  [ 2.44078674e-07 -3.15078187e-05  1.13905293e-05]\n",
      "  [ 5.15139298e-07  1.13905293e-05 -1.94538264e-05]]\n",
      "\n",
      " [[ 2.17386888e-05  2.43847032e-07 -5.14967843e-07]\n",
      "  [ 2.43847032e-07 -3.15085209e-05 -1.13902762e-05]\n",
      "  [-5.14967843e-07 -1.13902762e-05 -1.94542000e-05]]\n",
      "\n",
      " [[ 1.16353032e-05 -1.54751887e-05  3.81561356e-10]\n",
      "  [-1.54751887e-05  3.50609539e-05  3.00648642e-10]\n",
      "  [ 3.81561356e-10  3.00648642e-10  3.04517661e-05]]\n",
      "\n",
      " [[-5.40100090e-05  9.61537154e-06 -6.10728528e-10]\n",
      "  [ 9.61537154e-06 -4.71913100e-05 -4.89160190e-10]\n",
      "  [-6.10728528e-10 -4.89160190e-10 -1.08164566e-05]]\n",
      "\n",
      " [[-1.15336417e-04  3.50155018e-05  2.37990260e-11]\n",
      "  [ 3.50155018e-05  1.89345916e-04  1.04160245e-10]\n",
      "  [ 2.37990260e-11  1.04160245e-10  2.07352923e-04]]]\n"
     ]
    }
   ],
   "source": [
    "print(elec_electric_pol_gradient - numer_elec_electric_pol_gradient)"
   ]
  }
 ],
 "metadata": {
  "kernelspec": {
   "display_name": "aqa",
   "language": "python",
   "name": "python3"
  },
  "language_info": {
   "codemirror_mode": {
    "name": "ipython",
    "version": 3
   },
   "file_extension": ".py",
   "mimetype": "text/x-python",
   "name": "python",
   "nbconvert_exporter": "python",
   "pygments_lexer": "ipython3",
   "version": "3.11.3"
  }
 },
 "nbformat": 4,
 "nbformat_minor": 4
}