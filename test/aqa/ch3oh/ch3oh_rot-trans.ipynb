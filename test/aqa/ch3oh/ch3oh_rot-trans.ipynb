{
 "cells": [
  {
   "attachments": {},
   "cell_type": "markdown",
   "metadata": {},
   "source": [
    "This notebook compares analytical and numerical evaluations of alchemical derivatives of a rotated and translated CH3OH molecule up to the third order in KSDFT.  \n",
    "The results are summerized in the last section."
   ]
  },
  {
   "cell_type": "code",
   "execution_count": 1,
   "metadata": {},
   "outputs": [
    {
     "data": {
      "text/plain": [
       "'2.2.1'"
      ]
     },
     "execution_count": 1,
     "metadata": {},
     "output_type": "execute_result"
    }
   ],
   "source": [
    "from pyscf import gto,scf\n",
    "import numpy as np\n",
    "import pyscf\n",
    "from scipy.spatial.transform import Rotation\n",
    "\n",
    "pyscf.__version__"
   ]
  },
  {
   "cell_type": "code",
   "execution_count": 2,
   "metadata": {},
   "outputs": [],
   "source": [
    "from FcMole import FcM_like"
   ]
  },
  {
   "cell_type": "markdown",
   "metadata": {},
   "source": [
    "Rotating and translating CH3OH."
   ]
  },
  {
   "cell_type": "code",
   "execution_count": 3,
   "metadata": {},
   "outputs": [
    {
     "name": "stdout",
     "output_type": "stream",
     "text": [
      "[[21.51976504  8.14268562 12.53661552]\n",
      " [22.19523369  6.50972431 13.49736794]\n",
      " [19.9104428   7.49931626 11.51581996]\n",
      " [20.96614982  9.55062923 13.87808426]\n",
      " [23.39549112  9.16151172 10.8826461 ]\n",
      " [23.76170114 10.78607451 11.27170604]]\n"
     ]
    }
   ],
   "source": [
    "mol_coord = np.array([[-1.27549516,\t0.03357710,\t0.00000000],\n",
    "                      [-2.10170657,\t-0.87840808,\t1.59107621],\n",
    "                      [-2.10170657,\t-0.87840808,\t-1.59107621],\n",
    "                      [-1.76544024,\t1.99528228,\t0.00000000],\n",
    "                      [1.41253482,\t-0.22423026,\t0.00000000],\n",
    "                      [2.19050133,\t1.29874374,\t0.00000000]])\n",
    "# Coordinates in Angstrom\n",
    "# C\t-0.67496302\t0.01776824\t0.00000000\n",
    "# H\t-1.11217530\t-0.46483357\t0.84196133\n",
    "# H\t-1.11217530\t-0.46483357\t-0.84196133\n",
    "# H\t-0.93423081\t1.05585799\t0.00000000\n",
    "# O\t0.74748129\t-0.11865755\t0.00000000\n",
    "# H\t1.15916347\t0.68726564\t0.00000000\n",
    "rotvec = np.array([1.2 * np.pi, 1.8 * np.pi, 0.8 * np.pi])\n",
    "rot = Rotation.from_rotvec(rotvec)\n",
    "mol_coord = rot.apply(mol_coord)\n",
    "# print(mol_coord)\n",
    "# print(np.linalg.norm(mol_coord[1]))\n",
    "for i in range(6):\n",
    "  mol_coord[i] += [22.4, 8.7, 11.8]\n",
    "print(mol_coord)"
   ]
  },
  {
   "cell_type": "code",
   "execution_count": 4,
   "metadata": {},
   "outputs": [
    {
     "name": "stdout",
     "output_type": "stream",
     "text": [
      " C  21.51976504  8.14268562  12.53661552\n",
      " H  22.19523369  6.50972431  13.49736794\n",
      " H  19.91044280  7.49931626  11.51581996\n",
      " H  20.96614982  9.55062923  13.87808426\n",
      " O  23.39549112  9.16151172  10.88264610\n",
      " H  23.76170114  10.78607451  11.27170604\n",
      "[' C  21.51976504  8.14268562  12.53661552', ' H  22.19523369  6.50972431  13.49736794', ' H  19.91044280  7.49931626  11.51581996', ' H  20.96614982  9.55062923  13.87808426', ' O  23.39549112  9.16151172  10.88264610', ' H  23.76170114  10.78607451  11.27170604']\n"
     ]
    }
   ],
   "source": [
    "# target_mol = \"\"\"\n",
    "# C\t-1.27549516\t0.03357710\t0.00000000\n",
    "# H\t-2.10170657\t-0.87840808\t1.59107621\n",
    "# H\t-2.10170657\t-0.87840808\t-1.59107621\n",
    "# H\t-1.76544024\t1.99528228\t0.00000000\n",
    "# O\t1.41253482\t-0.22423026\t0.00000000\n",
    "# H\t2.19050133\t1.29874374\t0.00000000\n",
    "# \"\"\"\n",
    "target_mol = []\n",
    "atom_symbols = ['C', 'H', 'H', 'H', 'O', 'H']\n",
    "for i, atom_coords in enumerate(mol_coord):\n",
    "    # print(atom_coords)\n",
    "    atom_str = f' {atom_symbols[i]} {atom_coords[0]: .8f} {atom_coords[1]: .8f} {atom_coords[2]: .8f}'\n",
    "    print(atom_str)\n",
    "    target_mol.append(atom_str)\n",
    "print(target_mol)\n",
    "dft_functional = \"pbe0\"  # \"lda,vwn\"\n",
    "basis_set = \"def2-TZVP\""
   ]
  },
  {
   "attachments": {},
   "cell_type": "markdown",
   "metadata": {},
   "source": [
    "### Analytical evaluation"
   ]
  },
  {
   "cell_type": "code",
   "execution_count": 5,
   "metadata": {},
   "outputs": [],
   "source": [
    "%load_ext autoreload\n",
    "from AP_class import APDFT_perturbator as AP"
   ]
  },
  {
   "cell_type": "code",
   "execution_count": 6,
   "metadata": {},
   "outputs": [
    {
     "name": "stdout",
     "output_type": "stream",
     "text": [
      "converged SCF energy = -115.629840939949\n"
     ]
    }
   ],
   "source": [
    "mol_NN=gto.M(atom=target_mol,unit=\"Bohr\",basis=basis_set)\n",
    "mf_nn=scf.RKS(mol_NN)\n",
    "mf_nn.xc = dft_functional\n",
    "mf_nn.scf()\n",
    "# mf_nn.conv_tol = 1e-12\n",
    "# mf_nn.grids.level = 6\n",
    "# mf_nn.nuc_grad_method().kernel()\n",
    "ap_nn=AP(mf_nn,sites=[0,1,2,3,4,5],flag_response_property=True)"
   ]
  },
  {
   "cell_type": "code",
   "execution_count": 7,
   "metadata": {},
   "outputs": [],
   "source": [
    "analytical_1st_alchemical_derivative = ap_nn.build_gradient()\n",
    "analytical_2nd_alchemical_derivative = ap_nn.build_hessian()\n",
    "analytical_3rd_alchemical_derivative = ap_nn.build_cubic()"
   ]
  },
  {
   "attachments": {},
   "cell_type": "markdown",
   "metadata": {},
   "source": [
    "Inefficient alchemical force in KS-DFT which calculates the response matrix for nuclear coordinates"
   ]
  },
  {
   "cell_type": "code",
   "execution_count": 8,
   "metadata": {},
   "outputs": [],
   "source": [
    "inefficient_analytical_alchemical_force = np.zeros((6, 6, 3))\n",
    "for i in range(6):\n",
    "  inefficient_analytical_alchemical_force[i] = ap_nn.build_inefficient_alchemical_force(i)"
   ]
  },
  {
   "attachments": {},
   "cell_type": "markdown",
   "metadata": {},
   "source": [
    "Efficient alchemical force in KS-DFT which calculates the response matrix for nuclear coordinates"
   ]
  },
  {
   "cell_type": "code",
   "execution_count": 9,
   "metadata": {},
   "outputs": [],
   "source": [
    "efficient_analytical_alchemical_force = np.zeros((6, 6, 3))\n",
    "for i in range(6):\n",
    "  efficient_analytical_alchemical_force[i] = ap_nn.build_alchemical_force(i)"
   ]
  },
  {
   "cell_type": "markdown",
   "metadata": {},
   "source": [
    "Electric dipole derivatives $\\partial ^2 E/ \\partial Z_I \\partial \\mathbf{F}$"
   ]
  },
  {
   "cell_type": "code",
   "execution_count": 10,
   "metadata": {},
   "outputs": [],
   "source": [
    "elec_electric_dipole_gradient_z = ap_nn.build_elec_electric_dipole_gradient(perturb_electron_density='Z')\n",
    "elec_electric_dipole_gradient_f = ap_nn.build_elec_electric_dipole_gradient(perturb_electron_density='F')"
   ]
  },
  {
   "cell_type": "markdown",
   "metadata": {},
   "source": [
    "Electric polarizability derivatives $\\partial ^3 E/ \\partial Z_I \\partial ^2 \\mathbf{F}$"
   ]
  },
  {
   "cell_type": "code",
   "execution_count": 11,
   "metadata": {},
   "outputs": [],
   "source": [
    "elec_electric_pol_gradient = ap_nn.build_electric_polarizability_gradient()"
   ]
  },
  {
   "attachments": {},
   "cell_type": "markdown",
   "metadata": {},
   "source": [
    "### Numerical evaluation"
   ]
  },
  {
   "cell_type": "code",
   "execution_count": 12,
   "metadata": {},
   "outputs": [],
   "source": [
    "%autoreload 2\n",
    "mol_NN=gto.M(atom=target_mol,unit=\"Bohr\",basis=basis_set)\n",
    "fc_param = 0.001\n",
    "fcs1 = [fc_param, 0.0, 0.0, 0.0, 0.0, 0.0]\n",
    "fcs2 = [-fc_param, 0.0, 0.0, 0.0, 0.0, 0.0]\n",
    "fcs3 = [0.0, fc_param, 0.0, 0.0, 0.0, 0.0]\n",
    "fcs4 = [0.0, -fc_param, 0.0, 0.0, 0.0, 0.0]\n",
    "fcs5 = [0.0, 0.0, fc_param, 0.0, 0.0, 0.0]\n",
    "fcs6 = [0.0, 0.0, -fc_param, 0.0, 0.0, 0.0]\n",
    "fcs7 = [0.0, 0.0, 0.0, fc_param, 0.0, 0.0]\n",
    "fcs8 = [0.0, 0.0, 0.0, -fc_param, 0.0, 0.0]\n",
    "fcs9 = [0.0, 0.0, 0.0, 0.0, fc_param, 0.0]\n",
    "fcs10 = [0.0, 0.0, 0.0, 0.0, -fc_param, 0.0]\n",
    "fcs11 = [0.0, 0.0, 0.0, 0.0, 0.0, fc_param]\n",
    "fcs12 = [0.0, 0.0, 0.0, 0.0, 0.0, -fc_param]"
   ]
  },
  {
   "attachments": {},
   "cell_type": "markdown",
   "metadata": {},
   "source": [
    "##### Efficient numerical alchemical force"
   ]
  },
  {
   "cell_type": "code",
   "execution_count": 13,
   "metadata": {},
   "outputs": [
    {
     "name": "stdout",
     "output_type": "stream",
     "text": [
      "converged SCF energy = -115.629840925878\n"
     ]
    },
    {
     "name": "stderr",
     "output_type": "stream",
     "text": [
      "/home/takafumi/program/pyscf/pyscf/gto/mole.py:1213: UserWarning: Function mol.dumps drops attribute with_rinv_at_nucleus because it is not JSON-serializable\n",
      "  warnings.warn(msg)\n"
     ]
    },
    {
     "name": "stdout",
     "output_type": "stream",
     "text": [
      "converged SCF energy = -115.644576712914\n",
      "converged SCF energy = -115.615108121776\n",
      "converged SCF energy = -115.630966228464\n",
      "converged SCF energy = -115.628716712783\n",
      "converged SCF energy = -115.630966228716\n",
      "converged SCF energy = -115.62871671253\n",
      "converged SCF energy = -115.630954286492\n",
      "converged SCF energy = -115.628728652182\n",
      "converged SCF energy = -115.652201382516\n",
      "converged SCF energy = -115.60748405551\n",
      "converged SCF energy = -115.630854673112\n",
      "converged SCF energy = -115.628828144093\n"
     ]
    }
   ],
   "source": [
    "fmol1=FcM_like(mol_NN,fcs=fcs1)\n",
    "fmol2=FcM_like(mol_NN,fcs=fcs2)\n",
    "fmol3=FcM_like(mol_NN,fcs=fcs3)\n",
    "fmol4=FcM_like(mol_NN,fcs=fcs4)\n",
    "fmol5=FcM_like(mol_NN,fcs=fcs5)\n",
    "fmol6=FcM_like(mol_NN,fcs=fcs6)\n",
    "fmol7=FcM_like(mol_NN,fcs=fcs7)\n",
    "fmol8=FcM_like(mol_NN,fcs=fcs8)\n",
    "fmol9=FcM_like(mol_NN,fcs=fcs9)\n",
    "fmol10=FcM_like(mol_NN,fcs=fcs10)\n",
    "fmol11=FcM_like(mol_NN,fcs=fcs11)\n",
    "fmol12=FcM_like(mol_NN,fcs=fcs12)\n",
    "mf=scf.RKS(mol_NN)\n",
    "mf1=scf.RKS(fmol1)\n",
    "mf2=scf.RKS(fmol2)\n",
    "mf3=scf.RKS(fmol3)\n",
    "mf4=scf.RKS(fmol4)\n",
    "mf5=scf.RKS(fmol5)\n",
    "mf6=scf.RKS(fmol6)\n",
    "mf7=scf.RKS(fmol7)\n",
    "mf8=scf.RKS(fmol8)\n",
    "mf9=scf.RKS(fmol9)\n",
    "mf10=scf.RKS(fmol10)\n",
    "mf11=scf.RKS(fmol11)\n",
    "mf12=scf.RKS(fmol12)\n",
    "mf.xc = dft_functional\n",
    "mf1.xc = dft_functional\n",
    "mf2.xc = dft_functional\n",
    "mf3.xc = dft_functional\n",
    "mf4.xc = dft_functional\n",
    "mf5.xc = dft_functional\n",
    "mf6.xc = dft_functional\n",
    "mf7.xc = dft_functional\n",
    "mf8.xc = dft_functional\n",
    "mf9.xc = dft_functional\n",
    "mf10.xc = dft_functional\n",
    "mf11.xc = dft_functional\n",
    "mf12.xc = dft_functional\n",
    "# mf.conv_tol = 1e-12\n",
    "# mf1.conv_tol = 1e-12\n",
    "# mf2.conv_tol = 1e-12\n",
    "# mf3.conv_tol = 1e-12\n",
    "# mf4.conv_tol = 1e-12\n",
    "# mf.grids.level = 6\n",
    "# mf1.grids.level = 6\n",
    "# mf2.grids.level = 6\n",
    "# mf3.grids.level = 6\n",
    "# mf4.grids.level = 6\n",
    "# Without dm0=mf.init_guess_by_1e(), some SCFs do not converge.\n",
    "e=mf.scf(dm0=mf.init_guess_by_1e())\n",
    "e1=mf1.scf(dm0=mf1.init_guess_by_1e())\n",
    "e2=mf2.scf(dm0=mf2.init_guess_by_1e())\n",
    "e3=mf3.scf(dm0=mf3.init_guess_by_1e())\n",
    "e4=mf4.scf(dm0=mf4.init_guess_by_1e())\n",
    "e5=mf5.scf(dm0=mf5.init_guess_by_1e())\n",
    "e6=mf6.scf(dm0=mf6.init_guess_by_1e())\n",
    "e7=mf7.scf(dm0=mf7.init_guess_by_1e())\n",
    "e8=mf8.scf(dm0=mf8.init_guess_by_1e())\n",
    "e9=mf9.scf(dm0=mf9.init_guess_by_1e())\n",
    "e10=mf10.scf(dm0=mf10.init_guess_by_1e())\n",
    "e11=mf11.scf(dm0=mf11.init_guess_by_1e())\n",
    "e12=mf12.scf(dm0=mf12.init_guess_by_1e())"
   ]
  },
  {
   "cell_type": "code",
   "execution_count": 14,
   "metadata": {},
   "outputs": [
    {
     "name": "stdout",
     "output_type": "stream",
     "text": [
      "--------------- RKS gradients ---------------\n",
      "         x                y                z\n",
      "0 C    -0.0188774573    -0.0183119558     0.0126138365\n",
      "1 H    -0.0138195679     0.0132451030    -0.0117982143\n",
      "2 H     0.0168940584    -0.0000582282     0.0148394572\n",
      "3 H     0.0077196206    -0.0073763104    -0.0125836040\n",
      "4 O     0.0181346601     0.0727065647     0.0154543403\n",
      "5 H    -0.0100152835    -0.0602003741    -0.0185161921\n",
      "----------------------------------------------\n",
      "--------------- RKS gradients ---------------\n",
      "         x                y                z\n",
      "0 C    -0.0188562980    -0.0183051751     0.0125928191\n",
      "1 H    -0.0138003308     0.0131865336    -0.0117623556\n",
      "2 H     0.0168352403    -0.0000829902     0.0148076205\n",
      "3 H     0.0077003271    -0.0073266564    -0.0125365608\n",
      "4 O     0.0181709070     0.0727421567     0.0154303215\n",
      "5 H    -0.0100138193    -0.0602090693    -0.0185222229\n",
      "----------------------------------------------\n",
      "--------------- RKS gradients ---------------\n",
      "         x                y                z\n",
      "0 C    -0.0188986197    -0.0183187436     0.0126348539\n",
      "1 H    -0.0138388153     0.0133037013    -0.0118340897\n",
      "2 H     0.0169529048    -0.0000334538     0.0148713106\n",
      "3 H     0.0077389247    -0.0074259873    -0.0126306708\n",
      "4 O     0.0180983876     0.0726709719     0.0154783881\n",
      "5 H    -0.0100167476    -0.0601916892    -0.0185101666\n",
      "----------------------------------------------\n",
      "--------------- RKS gradients ---------------\n",
      "         x                y                z\n",
      "0 C    -0.0188977290    -0.0183265705     0.0126411657\n",
      "1 H    -0.0138121011     0.0131980113    -0.0117721635\n",
      "2 H     0.0168846676    -0.0000471382     0.0148314798\n",
      "3 H     0.0077130161    -0.0073605022    -0.0125897232\n",
      "4 O     0.0181687296     0.0727455968     0.0154203024\n",
      "5 H    -0.0100205525    -0.0602045988    -0.0185214385\n",
      "----------------------------------------------\n",
      "--------------- RKS gradients ---------------\n",
      "         x                y                z\n",
      "0 C    -0.0188571613    -0.0182974439     0.0125865734\n",
      "1 H    -0.0138270557     0.0132922535    -0.0118242974\n",
      "2 H     0.0169034463    -0.0000692957     0.0148474301\n",
      "3 H     0.0077262206    -0.0073921132    -0.0125775009\n",
      "4 O     0.0181005991     0.0726675598     0.0154883712\n",
      "5 H    -0.0100100188    -0.0601961603    -0.0185109517\n",
      "----------------------------------------------\n",
      "--------------- RKS gradients ---------------\n",
      "         x                y                z\n",
      "0 C    -0.0189077928    -0.0183222117     0.0126324378\n",
      "1 H    -0.0138071905     0.0132467646    -0.0117873125\n",
      "2 H     0.0168495019    -0.0000827888     0.0148203898\n",
      "3 H     0.0077323569    -0.0073688793    -0.0125729492\n",
      "4 O     0.0181814699     0.0727400790     0.0154313515\n",
      "5 H    -0.0100123152    -0.0602081666    -0.0185142944\n",
      "----------------------------------------------\n",
      "--------------- RKS gradients ---------------\n",
      "         x                y                z\n",
      "0 C    -0.0188472276    -0.0183017464     0.0125951884\n",
      "1 H    -0.0138319311     0.0132434563    -0.0118091058\n",
      "2 H     0.0169386708    -0.0000336420     0.0148585590\n",
      "3 H     0.0077069014    -0.0073837454    -0.0125942561\n",
      "4 O     0.0180878683     0.0726730734     0.0154773304\n",
      "5 H    -0.0100182512    -0.0601925947    -0.0185180915\n",
      "----------------------------------------------\n",
      "--------------- RKS gradients ---------------\n",
      "         x                y                z\n",
      "0 C    -0.0188988353    -0.0183255832     0.0126316807\n",
      "1 H    -0.0138147592     0.0132315173    -0.0118086869\n",
      "2 H     0.0168972068    -0.0000710947     0.0148275448\n",
      "3 H     0.0077038871    -0.0073353502    -0.0125450042\n",
      "4 O     0.0181723880     0.0727151037     0.0154151027\n",
      "5 H    -0.0100238523    -0.0602097937    -0.0185110163\n",
      "----------------------------------------------\n",
      "--------------- RKS gradients ---------------\n",
      "         x                y                z\n",
      "0 C    -0.0188561210    -0.0182982622     0.0125960734\n",
      "1 H    -0.0138243776     0.0132586860    -0.0117877601\n",
      "2 H     0.0168909254    -0.0000453713     0.0148513654\n",
      "3 H     0.0077353736    -0.0074173159    -0.0126222487\n",
      "4 O     0.0180969447     0.0726980255     0.0154935634\n",
      "5 H    -0.0100067192    -0.0601909629    -0.0185213669\n",
      "----------------------------------------------\n",
      "--------------- RKS gradients ---------------\n",
      "         x                y                z\n",
      "0 C    -0.0188405975    -0.0182868499     0.0125838737\n",
      "1 H    -0.0138288072     0.0132353866    -0.0117873088\n",
      "2 H     0.0168802542    -0.0000659677     0.0148464039\n",
      "3 H     0.0077091175    -0.0073789801    -0.0125728270\n",
      "4 O     0.0181254325     0.0726541171     0.0154387920\n",
      "5 H    -0.0100093703    -0.0601529106    -0.0184993071\n",
      "----------------------------------------------\n",
      "--------------- RKS gradients ---------------\n",
      "         x                y                z\n",
      "0 C    -0.0189142800    -0.0183370365     0.0126437689\n",
      "1 H    -0.0138103308     0.0132548311    -0.0118091255\n",
      "2 H     0.0169078731    -0.0000504824     0.0148325158\n",
      "3 H     0.0077301231    -0.0073736506    -0.0125943853\n",
      "4 O     0.0181438610     0.0727590352     0.0154699306\n",
      "5 H    -0.0100212150    -0.0602478936    -0.0185330840\n",
      "----------------------------------------------\n",
      "--------------- RKS gradients ---------------\n",
      "         x                y                z\n",
      "0 C    -0.0188293873    -0.0182932338     0.0125677600\n",
      "1 H    -0.0138264338     0.0132358361    -0.0117894364\n",
      "2 H     0.0168822838    -0.0000653692     0.0148439782\n",
      "3 H     0.0077137885    -0.0073748597    -0.0125761550\n",
      "4 O     0.0180956958     0.0726642229     0.0154781224\n",
      "5 H    -0.0099999186    -0.0601617963    -0.0185146422\n",
      "----------------------------------------------\n",
      "--------------- RKS gradients ---------------\n",
      "         x                y                z\n",
      "0 C    -0.0189255180    -0.0183306769     0.0126599028\n",
      "1 H    -0.0138127066     0.0132543785    -0.0118069986\n",
      "2 H     0.0169058429    -0.0000510848     0.0148349423\n",
      "3 H     0.0077254553    -0.0073777682    -0.0125910594\n",
      "4 O     0.0181736079     0.0727489301     0.0154305890\n",
      "5 H    -0.0100306490    -0.0602389804    -0.0185177556\n",
      "----------------------------------------------\n"
     ]
    }
   ],
   "source": [
    "nuc_grad = mf.nuc_grad_method().kernel()\n",
    "nuc_grad1 = mf1.nuc_grad_method().kernel()\n",
    "nuc_grad2 = mf2.nuc_grad_method().kernel()\n",
    "nuc_grad3 = mf3.nuc_grad_method().kernel()\n",
    "nuc_grad4 = mf4.nuc_grad_method().kernel()\n",
    "nuc_grad5 = mf5.nuc_grad_method().kernel()\n",
    "nuc_grad6 = mf6.nuc_grad_method().kernel()\n",
    "nuc_grad7 = mf7.nuc_grad_method().kernel()\n",
    "nuc_grad8 = mf8.nuc_grad_method().kernel()\n",
    "nuc_grad9 = mf9.nuc_grad_method().kernel()\n",
    "nuc_grad10 = mf10.nuc_grad_method().kernel()\n",
    "nuc_grad11 = mf11.nuc_grad_method().kernel()\n",
    "nuc_grad12 = mf12.nuc_grad_method().kernel()"
   ]
  },
  {
   "cell_type": "code",
   "execution_count": 15,
   "metadata": {},
   "outputs": [],
   "source": [
    "efficient_numerical_alchemical_force = np.zeros((6, 6, 3))\n",
    "efficient_numerical_alchemical_force[0] = (nuc_grad1 - nuc_grad2) / (2 * fc_param)\n",
    "efficient_numerical_alchemical_force[1] = (nuc_grad3 - nuc_grad4) / (2 * fc_param)\n",
    "efficient_numerical_alchemical_force[2] = (nuc_grad5 - nuc_grad6) / (2 * fc_param)\n",
    "efficient_numerical_alchemical_force[3] = (nuc_grad7 - nuc_grad8) / (2 * fc_param)\n",
    "efficient_numerical_alchemical_force[4] = (nuc_grad9 - nuc_grad10) / (2 * fc_param)\n",
    "efficient_numerical_alchemical_force[5] = (nuc_grad11 - nuc_grad12) / (2 * fc_param)"
   ]
  },
  {
   "attachments": {},
   "cell_type": "markdown",
   "metadata": {},
   "source": [
    "#### Numerical alchemical derivatives"
   ]
  },
  {
   "cell_type": "code",
   "execution_count": 16,
   "metadata": {},
   "outputs": [],
   "source": [
    "numerical_1st_alchemical_derivative = np.zeros((6))\n",
    "numerical_1st_alchemical_derivative[0] = (e1 - e2) / (2 * fc_param)\n",
    "numerical_1st_alchemical_derivative[1] = (e3 - e4) / (2 * fc_param)\n",
    "numerical_1st_alchemical_derivative[2] = (e5 - e6) / (2 * fc_param)\n",
    "numerical_1st_alchemical_derivative[3] = (e7 - e8) / (2 * fc_param)\n",
    "numerical_1st_alchemical_derivative[4] = (e9 - e10) / (2 * fc_param)\n",
    "numerical_1st_alchemical_derivative[5] = (e11 - e12) / (2 * fc_param)"
   ]
  },
  {
   "attachments": {},
   "cell_type": "markdown",
   "metadata": {},
   "source": [
    "#### Numerical alchemical hardness"
   ]
  },
  {
   "cell_type": "code",
   "execution_count": 17,
   "metadata": {},
   "outputs": [],
   "source": [
    "ap_nn=AP(mf,sites=[0,1,2,3,4,5])\n",
    "ap_nn1=AP(mf1,sites=[0,1,2,3,4,5],flag_response_property=True,charges_for_center=[6,1,1,1,8,1])\n",
    "ap_nn2=AP(mf2,sites=[0,1,2,3,4,5],flag_response_property=True,charges_for_center=[6,1,1,1,8,1])\n",
    "ap_nn3=AP(mf3,sites=[0,1,2,3,4,5],flag_response_property=True,charges_for_center=[6,1,1,1,8,1])\n",
    "ap_nn4=AP(mf4,sites=[0,1,2,3,4,5],flag_response_property=True,charges_for_center=[6,1,1,1,8,1])\n",
    "ap_nn5=AP(mf5,sites=[0,1,2,3,4,5],flag_response_property=True,charges_for_center=[6,1,1,1,8,1])\n",
    "ap_nn6=AP(mf6,sites=[0,1,2,3,4,5],flag_response_property=True,charges_for_center=[6,1,1,1,8,1])\n",
    "ap_nn7=AP(mf7,sites=[0,1,2,3,4,5],flag_response_property=True,charges_for_center=[6,1,1,1,8,1])\n",
    "ap_nn8=AP(mf8,sites=[0,1,2,3,4,5],flag_response_property=True,charges_for_center=[6,1,1,1,8,1])\n",
    "ap_nn9=AP(mf9,sites=[0,1,2,3,4,5],flag_response_property=True,charges_for_center=[6,1,1,1,8,1])\n",
    "ap_nn10=AP(mf10,sites=[0,1,2,3,4,5],flag_response_property=True,charges_for_center=[6,1,1,1,8,1])\n",
    "ap_nn11=AP(mf11,sites=[0,1,2,3,4,5],flag_response_property=True,charges_for_center=[6,1,1,1,8,1])\n",
    "ap_nn12=AP(mf12,sites=[0,1,2,3,4,5],flag_response_property=True,charges_for_center=[6,1,1,1,8,1])\n",
    "an = ap_nn.build_gradient()\n",
    "an1 = ap_nn1.build_gradient()\n",
    "an2 = ap_nn2.build_gradient()\n",
    "an3 = ap_nn3.build_gradient()\n",
    "an4 = ap_nn4.build_gradient()\n",
    "an5 = ap_nn5.build_gradient()\n",
    "an6 = ap_nn6.build_gradient()\n",
    "an7 = ap_nn7.build_gradient()\n",
    "an8 = ap_nn8.build_gradient()\n",
    "an9 = ap_nn9.build_gradient()\n",
    "an10 = ap_nn10.build_gradient()\n",
    "an11 = ap_nn11.build_gradient()\n",
    "an12 = ap_nn12.build_gradient()\n",
    "ann = ap_nn.build_hessian()\n",
    "ann1 = ap_nn1.build_hessian()\n",
    "ann2 = ap_nn2.build_hessian()\n",
    "ann3 = ap_nn3.build_hessian()\n",
    "ann4 = ap_nn4.build_hessian()\n",
    "ann5 = ap_nn5.build_hessian()\n",
    "ann6 = ap_nn6.build_hessian()\n",
    "ann7 = ap_nn7.build_hessian()\n",
    "ann8 = ap_nn8.build_hessian()\n",
    "ann9 = ap_nn9.build_hessian()\n",
    "ann10 = ap_nn10.build_hessian()\n",
    "ann11 = ap_nn11.build_hessian()\n",
    "ann12 = ap_nn12.build_hessian()\n",
    "dipole1 = ap_nn1.ref_elec_electric_dipole_moment * -1\n",
    "dipole2 = ap_nn2.ref_elec_electric_dipole_moment * -1\n",
    "dipole3 = ap_nn3.ref_elec_electric_dipole_moment * -1\n",
    "dipole4 = ap_nn4.ref_elec_electric_dipole_moment * -1\n",
    "dipole5 = ap_nn5.ref_elec_electric_dipole_moment * -1\n",
    "dipole6 = ap_nn6.ref_elec_electric_dipole_moment * -1\n",
    "dipole7 = ap_nn7.ref_elec_electric_dipole_moment * -1\n",
    "dipole8 = ap_nn8.ref_elec_electric_dipole_moment * -1\n",
    "dipole9 = ap_nn9.ref_elec_electric_dipole_moment * -1\n",
    "dipole10 = ap_nn10.ref_elec_electric_dipole_moment * -1\n",
    "dipole11 = ap_nn11.ref_elec_electric_dipole_moment * -1\n",
    "dipole12 = ap_nn12.ref_elec_electric_dipole_moment * -1\n",
    "pol1 = ap_nn1.ref_elec_electric_polarizability * -1\n",
    "pol2 = ap_nn2.ref_elec_electric_polarizability * -1\n",
    "pol3 = ap_nn3.ref_elec_electric_polarizability * -1\n",
    "pol4 = ap_nn4.ref_elec_electric_polarizability * -1\n",
    "pol5 = ap_nn5.ref_elec_electric_polarizability * -1\n",
    "pol6 = ap_nn6.ref_elec_electric_polarizability * -1\n",
    "pol7 = ap_nn7.ref_elec_electric_polarizability * -1\n",
    "pol8 = ap_nn8.ref_elec_electric_polarizability * -1\n",
    "pol9 = ap_nn9.ref_elec_electric_polarizability * -1\n",
    "pol10 = ap_nn10.ref_elec_electric_polarizability * -1\n",
    "pol11 = ap_nn11.ref_elec_electric_polarizability * -1\n",
    "pol12 = ap_nn12.ref_elec_electric_polarizability * -1"
   ]
  },
  {
   "cell_type": "code",
   "execution_count": 18,
   "metadata": {},
   "outputs": [],
   "source": [
    "numerical_2nd_alchemical_derivative = np.zeros((6, 6))\n",
    "numerical_2nd_alchemical_derivative[0] = (an1 - an2) / (2 * fc_param)\n",
    "numerical_2nd_alchemical_derivative[1] = (an3 - an4) / (2 * fc_param)\n",
    "numerical_2nd_alchemical_derivative[2] = (an5 - an6) / (2 * fc_param)\n",
    "numerical_2nd_alchemical_derivative[3] = (an7 - an8) / (2 * fc_param)\n",
    "numerical_2nd_alchemical_derivative[4] = (an9 - an10) / (2 * fc_param)\n",
    "numerical_2nd_alchemical_derivative[5] = (an11 - an12) / (2 * fc_param)"
   ]
  },
  {
   "attachments": {},
   "cell_type": "markdown",
   "metadata": {},
   "source": [
    "#### Numerical alchemical hardness derivatives"
   ]
  },
  {
   "cell_type": "code",
   "execution_count": 19,
   "metadata": {},
   "outputs": [],
   "source": [
    "numerical_3rd_alchemical_derivative = np.zeros((6, 6, 6))\n",
    "numerical_3rd_alchemical_derivative[0, :, :] = (ann1 - ann2) / (2 * fc_param)\n",
    "numerical_3rd_alchemical_derivative[1, :, :] = (ann3 - ann4) / (2 * fc_param)\n",
    "numerical_3rd_alchemical_derivative[2, :, :] = (ann5 - ann6) / (2 * fc_param)\n",
    "numerical_3rd_alchemical_derivative[3, :, :] = (ann7 - ann8) / (2 * fc_param)\n",
    "numerical_3rd_alchemical_derivative[4, :, :] = (ann9 - ann10) / (2 * fc_param)\n",
    "numerical_3rd_alchemical_derivative[5, :, :] = (ann11 - ann12) / (2 * fc_param)"
   ]
  },
  {
   "attachments": {},
   "cell_type": "markdown",
   "metadata": {},
   "source": [
    "#### Inefficient numerical alchemical force"
   ]
  },
  {
   "cell_type": "code",
   "execution_count": 20,
   "metadata": {},
   "outputs": [],
   "source": [
    "# mol_NN1=gto.M(atom=\"C 0 0 0.001; O 0 0 2.1\",unit=\"Bohr\",basis=basis_set)\n",
    "# mol_NN2=gto.M(atom=\"C 0 0 -0.001; O 0 0 2.1\",unit=\"Bohr\",basis=basis_set)\n",
    "# mol_NN3=gto.M(atom=\"C 0 0 0; O 0 0 2.101\",unit=\"Bohr\",basis=basis_set)\n",
    "# mol_NN4=gto.M(atom=\"C 0 0 0; O 0 0 2.099\",unit=\"Bohr\",basis=basis_set)\n",
    "# mf_nn1=scf.RKS(mol_NN1)\n",
    "# mf_nn2=scf.RKS(mol_NN2)\n",
    "# mf_nn3=scf.RKS(mol_NN3)\n",
    "# mf_nn4=scf.RKS(mol_NN4)\n",
    "# mf_nn1.xc = dft_functional\n",
    "# mf_nn2.xc = dft_functional\n",
    "# mf_nn3.xc = dft_functional\n",
    "# mf_nn4.xc = dft_functional\n",
    "# mf_nn1.scf()\n",
    "# mf_nn2.scf()\n",
    "# mf_nn3.scf()\n",
    "# mf_nn4.scf()\n",
    "# ap_nn1=AP(mf_nn1,sites=[0,1])\n",
    "# ap_nn2=AP(mf_nn2,sites=[0,1])\n",
    "# ap_nn3=AP(mf_nn3,sites=[0,1])\n",
    "# ap_nn4=AP(mf_nn4,sites=[0,1])\n",
    "# ad1 = ap_nn1.build_gradient()\n",
    "# ad2 = ap_nn2.build_gradient()\n",
    "# ad3 = ap_nn3.build_gradient()\n",
    "# ad4 = ap_nn4.build_gradient()"
   ]
  },
  {
   "cell_type": "code",
   "execution_count": 21,
   "metadata": {},
   "outputs": [],
   "source": [
    "# inefficient_numerical_alchemical_force = np.zeros((2, 2))  # only z axis components\n",
    "# inefficient_numerical_alchemical_force[:, 0] = (ad1 - ad2) / (2 * fc_param)\n",
    "# inefficient_numerical_alchemical_force[:, 1] = (ad3 - ad4) / (2 * fc_param)"
   ]
  },
  {
   "cell_type": "markdown",
   "metadata": {},
   "source": [
    "#### Numerical alchemical electric dipole moment"
   ]
  },
  {
   "cell_type": "code",
   "execution_count": 22,
   "metadata": {},
   "outputs": [],
   "source": [
    "numer_elec_electric_dipole_gradient = np.zeros((6, 3))\n",
    "numer_elec_electric_dipole_gradient[0] = (dipole1 - dipole2) / (2 * fc_param)\n",
    "numer_elec_electric_dipole_gradient[1] = (dipole3 - dipole4) / (2 * fc_param)\n",
    "numer_elec_electric_dipole_gradient[2] = (dipole5 - dipole6) / (2 * fc_param)\n",
    "numer_elec_electric_dipole_gradient[3] = (dipole7 - dipole8) / (2 * fc_param)\n",
    "numer_elec_electric_dipole_gradient[4] = (dipole9 - dipole10) / (2 * fc_param)\n",
    "numer_elec_electric_dipole_gradient[5] = (dipole11 - dipole12) / (2 * fc_param)"
   ]
  },
  {
   "cell_type": "markdown",
   "metadata": {},
   "source": [
    "#### Numerical alchemical electric polarizability"
   ]
  },
  {
   "cell_type": "code",
   "execution_count": 23,
   "metadata": {},
   "outputs": [],
   "source": [
    "numer_elec_electric_pol_gradient = np.zeros((6, 3, 3))\n",
    "numer_elec_electric_pol_gradient[0] = (pol1 - pol2) / (2 * fc_param)\n",
    "numer_elec_electric_pol_gradient[1] = (pol3 - pol4) / (2 * fc_param)\n",
    "numer_elec_electric_pol_gradient[2] = (pol5 - pol6) / (2 * fc_param)\n",
    "numer_elec_electric_pol_gradient[3] = (pol7 - pol8) / (2 * fc_param)\n",
    "numer_elec_electric_pol_gradient[4] = (pol9 - pol10) / (2 * fc_param)\n",
    "numer_elec_electric_pol_gradient[5] = (pol11 - pol12) / (2 * fc_param)"
   ]
  },
  {
   "cell_type": "markdown",
   "metadata": {},
   "source": [
    "## Comparison of analytical and numerical evaluations"
   ]
  },
  {
   "cell_type": "markdown",
   "metadata": {},
   "source": [
    "$ \\partial E/\\partial Z_i $"
   ]
  },
  {
   "cell_type": "code",
   "execution_count": 24,
   "metadata": {},
   "outputs": [
    {
     "name": "stdout",
     "output_type": "stream",
     "text": [
      "[-14.73429549  -1.12475777  -1.12475802  -1.112817   -22.35866273\n",
      "  -1.01326447]\n"
     ]
    }
   ],
   "source": [
    "print(analytical_1st_alchemical_derivative)"
   ]
  },
  {
   "cell_type": "markdown",
   "metadata": {},
   "source": [
    "$ (\\partial E/\\partial Z_i)_\\mathrm{analytical} $ - $ (\\partial E/\\partial Z_i)_\\mathrm{numerical} $"
   ]
  },
  {
   "cell_type": "code",
   "execution_count": 25,
   "metadata": {},
   "outputs": [
    {
     "name": "stdout",
     "output_type": "stream",
     "text": [
      "[8.30511659e-08 7.44427862e-08 7.36212433e-08 1.55029585e-07\n",
      " 7.74844757e-07 4.26629629e-08]\n"
     ]
    }
   ],
   "source": [
    "print(analytical_1st_alchemical_derivative - numerical_1st_alchemical_derivative)"
   ]
  },
  {
   "cell_type": "markdown",
   "metadata": {},
   "source": [
    "$\\partial^2E/\\partial Z_i\\partial Z_j$"
   ]
  },
  {
   "cell_type": "code",
   "execution_count": 26,
   "metadata": {},
   "outputs": [
    {
     "name": "stdout",
     "output_type": "stream",
     "text": [
      "[[-2.98293488  0.39397392  0.39397416  0.39283337  0.29753093  0.27529668]\n",
      " [ 0.39397392 -1.08949115  0.32087867  0.32603015  0.27910378  0.26650407]\n",
      " [ 0.39397416  0.32087867 -1.08949071  0.32603002  0.27910405  0.26650438]\n",
      " [ 0.39283337  0.32603015  0.32603002 -1.08691796  0.27464635  0.27361312]\n",
      " [ 0.29753093  0.27910378  0.27910405  0.27464635 -3.58626911  0.43909166]\n",
      " [ 0.27529668  0.26650407  0.26650438  0.27361312  0.43909166 -0.96544979]]\n"
     ]
    }
   ],
   "source": [
    "print(analytical_2nd_alchemical_derivative)"
   ]
  },
  {
   "cell_type": "markdown",
   "metadata": {},
   "source": [
    "$(\\partial^2E/\\partial Z_i\\partial Z_j)_\\mathrm{analytical}$ - $(\\partial^2E/\\partial Z_i\\partial Z_j)_\\mathrm{numerical}$"
   ]
  },
  {
   "cell_type": "code",
   "execution_count": 27,
   "metadata": {},
   "outputs": [
    {
     "name": "stdout",
     "output_type": "stream",
     "text": [
      "[[-3.38645438e-06 -1.47326112e-06 -1.47262626e-06  1.46104895e-06\n",
      "   2.84473355e-07  1.94189384e-06]\n",
      " [ 5.12933201e-06  1.55028473e-06  2.52582127e-07  1.21059683e-06\n",
      "  -5.31589166e-06 -8.00272133e-07]\n",
      " [ 5.15766650e-06  2.57107840e-07  1.55414648e-06  1.21577060e-06\n",
      "  -5.33519028e-06 -8.05404744e-07]\n",
      " [-4.45187453e-06 -1.64566995e-06 -1.64477320e-06  1.48486554e-06\n",
      "   9.14224820e-07  1.55591877e-06]\n",
      " [ 1.18179557e-06  2.39821560e-07  2.39668515e-07 -9.24087349e-07\n",
      "   3.97121363e-06  2.80894321e-07]\n",
      " [-4.10698594e-05 -8.66338363e-06 -8.66090189e-06 -5.42050600e-06\n",
      "   3.33215201e-05  1.02566648e-05]]\n"
     ]
    }
   ],
   "source": [
    "print(analytical_2nd_alchemical_derivative - numerical_2nd_alchemical_derivative)"
   ]
  },
  {
   "cell_type": "markdown",
   "metadata": {},
   "source": [
    "$\\partial^3E/\\partial Z_i\\partial Z_j\\partial Z_k$"
   ]
  },
  {
   "cell_type": "code",
   "execution_count": 28,
   "metadata": {},
   "outputs": [
    {
     "name": "stdout",
     "output_type": "stream",
     "text": [
      "[[[-0.22788707  0.08235853  0.08235857  0.08131596  0.03559971\n",
      "    0.033763  ]\n",
      "  [ 0.08235853  0.11526794  0.07214453  0.07344352  0.0454354\n",
      "    0.04055425]\n",
      "  [ 0.08235857  0.07214453  0.11526727  0.07344334  0.04543542\n",
      "    0.0405542 ]\n",
      "  [ 0.08131596  0.07344352  0.07344334  0.1134919   0.04294746\n",
      "    0.03649194]\n",
      "  [ 0.03559971  0.0454354   0.04543542  0.04294746  0.02660791\n",
      "    0.01943419]\n",
      "  [ 0.033763    0.04055425  0.0405542   0.03649194  0.01943419\n",
      "    0.02652867]]\n",
      "\n",
      " [[ 0.08235853  0.11526794  0.07214453  0.07344352  0.0454354\n",
      "    0.04055425]\n",
      "  [ 0.11526794 -0.82306965  0.06684584  0.06732731  0.0536703\n",
      "    0.04364444]\n",
      "  [ 0.07214453  0.06684584  0.06684532  0.03686229  0.02980391\n",
      "    0.02616275]\n",
      "  [ 0.07344352  0.06732731  0.03686229  0.06724616  0.02899916\n",
      "    0.02456287]\n",
      "  [ 0.0454354   0.0536703   0.02980391  0.02899916  0.02805352\n",
      "    0.02179832]\n",
      "  [ 0.04055425  0.04364444  0.02616275  0.02456287  0.02179832\n",
      "    0.03203328]]\n",
      "\n",
      " [[ 0.08235857  0.07214453  0.11526727  0.07344334  0.04543542\n",
      "    0.0405542 ]\n",
      "  [ 0.07214453  0.06684584  0.06684532  0.03686229  0.02980391\n",
      "    0.02616275]\n",
      "  [ 0.11526727  0.06684532 -0.82307108  0.06732625  0.05367102\n",
      "    0.04364491]\n",
      "  [ 0.07344334  0.03686229  0.06732625  0.06724561  0.02899932\n",
      "    0.02456304]\n",
      "  [ 0.04543542  0.02980391  0.05367102  0.02899932  0.02805277\n",
      "    0.02179781]\n",
      "  [ 0.0405542   0.02616275  0.04364491  0.02456304  0.02179781\n",
      "    0.03203294]]\n",
      "\n",
      " [[ 0.08131596  0.07344352  0.07344334  0.1134919   0.04294746\n",
      "    0.03649194]\n",
      "  [ 0.07344352  0.06732731  0.03686229  0.06724616  0.02899916\n",
      "    0.02456287]\n",
      "  [ 0.07344334  0.03686229  0.06732625  0.06724561  0.02899932\n",
      "    0.02456304]\n",
      "  [ 0.1134919   0.06724616  0.06724561 -0.83073859  0.05049807\n",
      "    0.03984774]\n",
      "  [ 0.04294746  0.02899916  0.02899932  0.05049807  0.03327662\n",
      "    0.01990663]\n",
      "  [ 0.03649194  0.02456287  0.02456304  0.03984774  0.01990663\n",
      "    0.03013395]]\n",
      "\n",
      " [[ 0.03559971  0.0454354   0.04543542  0.04294746  0.02660791\n",
      "    0.01943419]\n",
      "  [ 0.0454354   0.0536703   0.02980391  0.02899916  0.02805352\n",
      "    0.02179832]\n",
      "  [ 0.04543542  0.02980391  0.05367102  0.02899932  0.02805277\n",
      "    0.02179781]\n",
      "  [ 0.04294746  0.02899916  0.02899932  0.05049807  0.03327662\n",
      "    0.01990663]\n",
      "  [ 0.02660791  0.02805352  0.02805277  0.03327662 -0.15160974\n",
      "    0.09237317]\n",
      "  [ 0.01943419  0.02179832  0.02179781  0.01990663  0.09237317\n",
      "    0.11882581]]\n",
      "\n",
      " [[ 0.033763    0.04055425  0.0405542   0.03649194  0.01943419\n",
      "    0.02652867]\n",
      "  [ 0.04055425  0.04364444  0.02616275  0.02456287  0.02179832\n",
      "    0.03203328]\n",
      "  [ 0.0405542   0.02616275  0.04364491  0.02456304  0.02179781\n",
      "    0.03203294]\n",
      "  [ 0.03649194  0.02456287  0.02456304  0.03984774  0.01990663\n",
      "    0.03013395]\n",
      "  [ 0.01943419  0.02179832  0.02179781  0.01990663  0.09237317\n",
      "    0.11882581]\n",
      "  [ 0.02652867  0.03203328  0.03203294  0.03013395  0.11882581\n",
      "   -0.75998203]]]\n"
     ]
    }
   ],
   "source": [
    "print(analytical_3rd_alchemical_derivative)"
   ]
  },
  {
   "cell_type": "markdown",
   "metadata": {},
   "source": [
    "$(\\partial^3E/\\partial Z_i\\partial Z_j\\partial Z_k)_\\mathrm{analytical}$ - $(\\partial^3E/\\partial Z_i\\partial Z_j\\partial Z_k)_\\mathrm{numerical}$"
   ]
  },
  {
   "cell_type": "code",
   "execution_count": 29,
   "metadata": {},
   "outputs": [
    {
     "name": "stdout",
     "output_type": "stream",
     "text": [
      "[[[-4.23679868e-07  2.67890248e-07  2.67321235e-07  2.71887207e-07\n",
      "    1.72370249e-07  9.99939004e-08]\n",
      "  [ 2.67890248e-07  2.47864696e-07  4.02769638e-07  2.14670571e-07\n",
      "    1.94390807e-07  1.15887956e-07]\n",
      "  [ 2.67321235e-07  4.02769638e-07  2.47492986e-07  2.14327430e-07\n",
      "    1.94226393e-07  1.15725727e-07]\n",
      "  [ 2.71887207e-07  2.14670571e-07  2.14327430e-07  8.29898009e-07\n",
      "    5.01590416e-08  7.65841418e-08]\n",
      "  [ 1.72370249e-07  1.94390807e-07  1.94226393e-07  5.01590416e-08\n",
      "   -1.80575969e-08 -9.59696859e-08]\n",
      "  [ 9.99939004e-08  1.15887956e-07  1.15725727e-07  7.65841418e-08\n",
      "   -9.59696859e-08  6.80939076e-07]]\n",
      "\n",
      " [[ 6.78644540e-07 -2.29669871e-07 -2.47410272e-07 -2.95104124e-07\n",
      "   -1.53291853e-07 -1.92911752e-07]\n",
      "  [-2.29669871e-07 -7.72013732e-07 -2.64113509e-07 -3.43223826e-07\n",
      "   -2.07030300e-07 -2.04518682e-07]\n",
      "  [-2.47410272e-07 -2.64113509e-07 -6.29213909e-07 -2.53717271e-07\n",
      "   -1.66382763e-07 -1.75640726e-07]\n",
      "  [-2.95104124e-07 -3.43223826e-07 -2.53717271e-07 -4.56053360e-07\n",
      "   -1.48783231e-07 -1.80578663e-07]\n",
      "  [-1.53291853e-07 -2.07030300e-07 -1.66382763e-07 -1.48783231e-07\n",
      "   -1.37670610e-07  3.31964713e-07]\n",
      "  [-1.92911752e-07 -2.04518682e-07 -1.75640726e-07 -1.80578663e-07\n",
      "    3.31964713e-07  4.50737780e-07]]\n",
      "\n",
      " [[ 6.81533483e-07 -2.49167977e-07 -2.31885579e-07 -2.97435563e-07\n",
      "   -1.54451583e-07 -1.94108098e-07]\n",
      "  [-2.49167977e-07 -6.32581376e-07 -2.65819205e-07 -2.55710427e-07\n",
      "   -1.67488906e-07 -1.76679784e-07]\n",
      "  [-2.31885579e-07 -2.65819205e-07 -7.75095416e-07 -3.45271110e-07\n",
      "   -2.08154727e-07 -2.05537722e-07]\n",
      "  [-2.97435563e-07 -2.55710427e-07 -3.45271110e-07 -4.59157838e-07\n",
      "   -1.49758806e-07 -1.81639830e-07]\n",
      "  [-1.54451583e-07 -1.67488906e-07 -2.08154727e-07 -1.49758806e-07\n",
      "   -1.38394295e-07  3.33071580e-07]\n",
      "  [-1.94108098e-07 -1.76679784e-07 -2.05537722e-07 -1.81639830e-07\n",
      "    3.33071580e-07  4.51074683e-07]]\n",
      "\n",
      " [[-5.05486986e-07  3.60243153e-07  3.59909643e-07  3.78329976e-07\n",
      "    1.98156684e-07  1.33642916e-07]\n",
      "  [ 3.60243153e-07  3.91701378e-07  5.04103979e-07  3.11796035e-07\n",
      "    2.14244432e-07  1.45686963e-07]\n",
      "  [ 3.59909643e-07  5.04103979e-07  3.91881923e-07  3.11677585e-07\n",
      "    2.14113987e-07  1.45556468e-07]\n",
      "  [ 3.78329976e-07  3.11796035e-07  3.11677585e-07  8.48530762e-07\n",
      "    6.31116015e-08  1.00855886e-07]\n",
      "  [ 1.98156684e-07  2.14244432e-07  2.14113987e-07  6.31116015e-08\n",
      "    6.83668533e-08 -5.30476924e-08]\n",
      "  [ 1.33642916e-07  1.45686963e-07  1.45556468e-07  1.00855886e-07\n",
      "   -5.30476924e-08  4.90644913e-07]]\n",
      "\n",
      " [[ 7.30697092e-08 -1.96456158e-07 -1.96591208e-07 -1.88270401e-07\n",
      "   -1.32190744e-07 -4.35640505e-08]\n",
      "  [-1.96456158e-07 -3.25233691e-07 -2.24252638e-07 -1.34246942e-07\n",
      "   -9.70349765e-08 -4.59627814e-08]\n",
      "  [-1.96591208e-07 -2.24252638e-07 -3.25357252e-07 -1.34324818e-07\n",
      "   -9.70639391e-08 -4.60160983e-08]\n",
      "  [-1.88270401e-07 -1.34246943e-07 -1.34324818e-07 -6.05102105e-07\n",
      "   -4.56166638e-08 -1.21124927e-08]\n",
      "  [-1.32190744e-07 -9.70349765e-08 -9.70639391e-08 -4.56166638e-08\n",
      "    1.37613733e-08 -3.06139781e-07]\n",
      "  [-4.35640505e-08 -4.59627814e-08 -4.60160983e-08 -1.21124927e-08\n",
      "   -3.06139781e-07 -6.42138717e-07]]\n",
      "\n",
      " [[-4.97455011e-06  2.62086613e-06  2.62070373e-06  2.86787337e-06\n",
      "    1.45601377e-06  1.49127832e-06]\n",
      "  [ 2.62086613e-06  4.06699740e-06  2.86041921e-06  2.88177315e-06\n",
      "    1.56061490e-06  1.41086451e-06]\n",
      "  [ 2.62070373e-06  2.86041921e-06  4.06729037e-06  2.88143474e-06\n",
      "    1.56047096e-06  1.41065896e-06]\n",
      "  [ 2.86787337e-06  2.88177315e-06  2.88143474e-06  4.83013910e-06\n",
      "    1.07368482e-06  1.27608771e-06]\n",
      "  [ 1.45601377e-06  1.56061490e-06  1.56047096e-06  1.07368482e-06\n",
      "    7.44066641e-07 -2.28612222e-06]\n",
      "  [ 1.49127832e-06  1.41086451e-06  1.41065896e-06  1.27608771e-06\n",
      "   -2.28612222e-06 -9.30267590e-07]]]\n"
     ]
    }
   ],
   "source": [
    "print(analytical_3rd_alchemical_derivative - numerical_3rd_alchemical_derivative)"
   ]
  },
  {
   "cell_type": "markdown",
   "metadata": {},
   "source": [
    "$\\partial^2E/\\partial Z_i\\partial R_j$"
   ]
  },
  {
   "cell_type": "code",
   "execution_count": 30,
   "metadata": {},
   "outputs": [
    {
     "name": "stdout",
     "output_type": "stream",
     "text": [
      "[[[ 0.02116072  0.00678329 -0.02101778]\n",
      "  [ 0.01924209 -0.05858345  0.03586687]\n",
      "  [-0.05883187 -0.02476801 -0.0318448 ]\n",
      "  [-0.01929886  0.04966589  0.04705527]\n",
      "  [ 0.03625935  0.03559136 -0.02403336]\n",
      "  [ 0.00146446 -0.00868908 -0.00602798]]\n",
      "\n",
      " [[-0.02028339 -0.01456263  0.02729521]\n",
      "  [ 0.00747734 -0.04712179  0.0260674 ]\n",
      "  [-0.00938962  0.01107857 -0.00797502]\n",
      "  [-0.00660248  0.01580577 -0.00611081]\n",
      "  [ 0.03406549  0.03901858 -0.03403441]\n",
      "  [-0.00526715 -0.00421938 -0.00524321]]\n",
      "\n",
      " [[-0.0302814  -0.0102323   0.01862439]\n",
      "  [ 0.01237016  0.00165396  0.01089684]\n",
      "  [-0.04458515 -0.02457374 -0.0190848 ]\n",
      "  [ 0.01272761  0.0074333   0.01065381]\n",
      "  [ 0.04680087  0.03350294 -0.02298965]\n",
      "  [ 0.00296782 -0.00778617  0.00189873]]\n",
      "\n",
      " [[-0.02135741 -0.0136617   0.0178034 ]\n",
      "  [ 0.00480906 -0.01358385 -0.01046369]\n",
      "  [ 0.00314119 -0.01286148 -0.01191003]\n",
      "  [-0.01574333  0.04098333  0.0386226 ]\n",
      "  [ 0.03772144  0.00853834 -0.03923043]\n",
      "  [-0.00856627 -0.00941469  0.00517535]]\n",
      "\n",
      " [[ 0.03684125  0.02509375 -0.02994741]\n",
      "  [-0.00923806 -0.00972238  0.01090837]\n",
      "  [-0.01380953 -0.00774265  0.00694393]\n",
      "  [-0.0105027  -0.00266495  0.01077893]\n",
      "  [-0.00921451 -0.05245919 -0.01556908]\n",
      "  [ 0.00592242  0.04749144  0.0168884 ]]\n",
      "\n",
      " [[ 0.04806006  0.01871688 -0.04606765]\n",
      "  [-0.00686342 -0.00926808  0.00877929]\n",
      "  [-0.01177653 -0.0071403   0.00451858]\n",
      "  [-0.00583221  0.00145343  0.00745043]\n",
      "  [-0.0389573  -0.04235673  0.02376656]\n",
      "  [ 0.01536732  0.03859569  0.00155602]]]\n"
     ]
    }
   ],
   "source": [
    "print(efficient_analytical_alchemical_force)"
   ]
  },
  {
   "cell_type": "markdown",
   "metadata": {},
   "source": [
    "$(\\partial^2E/\\partial Z_i\\partial R_j)_\\mathrm{analytical}$ - $(\\partial^2E/\\partial Z_i\\partial R_j)_\\mathrm{numerical}$"
   ]
  },
  {
   "cell_type": "code",
   "execution_count": 31,
   "metadata": {},
   "outputs": [
    {
     "name": "stdout",
     "output_type": "stream",
     "text": [
      "[[[-9.20581814e-08 -9.88529041e-07 -3.87352603e-07]\n",
      "  [-1.30098580e-07  4.03803383e-07 -1.99097058e-07]\n",
      "  [ 3.62561238e-07  1.90413707e-07  2.28987122e-07]\n",
      "  [-3.96473625e-08  4.39958551e-07  2.65744781e-07]\n",
      "  [-3.66319571e-07 -1.03190260e-06 -9.32550407e-08]\n",
      "  [ 2.64073484e-07  9.85210655e-07  1.87561236e-07]]\n",
      "\n",
      " [[ 4.28948521e-07  6.96152795e-07 -9.78435644e-07]\n",
      "  [ 5.06036528e-08 -6.78121321e-07  4.19163873e-07]\n",
      "  [-2.32348121e-07 -1.68748146e-07  9.50167808e-08]\n",
      "  [-2.01510075e-07  2.72236100e-07  3.44287752e-07]\n",
      "  [ 2.06187959e-07  5.38456313e-08 -4.24522673e-08]\n",
      "  [-2.53088171e-07 -1.71321554e-07  1.61179231e-07]]\n",
      "\n",
      " [[ 1.17550778e-06  3.76400915e-07 -3.36032980e-07]\n",
      "  [-1.52821173e-07 -2.05306428e-07  1.64962797e-07]\n",
      "  [-6.78894690e-07 -3.62315350e-07 -2.17066852e-07]\n",
      "  [-1.80604340e-07  2.63962474e-07  3.64547322e-07]\n",
      "  [ 5.64571644e-08  1.20347415e-07 -1.73121558e-07]\n",
      "  [-2.14188126e-07 -1.90332879e-07  1.96517293e-07]]\n",
      "\n",
      " [[-2.93544566e-07 -1.19535758e-06 -2.58333339e-07]\n",
      "  [-1.31484907e-07  4.97600057e-07 -2.74614811e-07]\n",
      "  [ 4.72023913e-07  2.36267731e-07  2.48942079e-07]\n",
      "  [-7.86669800e-08  4.82888394e-07  3.30076019e-07]\n",
      "  [-2.30419084e-07 -7.46154655e-07 -1.07163329e-07]\n",
      "  [ 2.61692641e-07  7.23872318e-07  5.97407436e-08]]\n",
      "\n",
      " [[ 4.41481907e-09  4.35919359e-07  2.12337088e-07]\n",
      "  [ 1.30386902e-07 -9.95657768e-08  1.38760340e-08]\n",
      "  [-6.06578138e-08 -1.67176212e-08 -1.51655786e-07]\n",
      "  [ 1.04648385e-07 -1.73465883e-07 -2.07194571e-07]\n",
      "  [-2.39247073e-07 -1.09260806e-07  2.21041023e-07]\n",
      "  [ 6.01307355e-08 -3.65480691e-08 -8.77384712e-08]]\n",
      "\n",
      " [[-5.29367868e-06 -4.67110473e-06  3.77210900e-06]\n",
      "  [ 2.03192573e-07  3.11217363e-06 -1.81311547e-06]\n",
      "  [ 3.00440775e-06  1.89841301e-06  6.16292221e-07]\n",
      "  [ 1.17175729e-06 -8.33874638e-07 -1.76744531e-06]\n",
      "  [-1.22994892e-06 -3.14003759e-06 -1.51054164e-07]\n",
      "  [ 2.14336615e-06  3.63073636e-06 -6.57217526e-07]]]\n"
     ]
    }
   ],
   "source": [
    "print(efficient_analytical_alchemical_force - efficient_numerical_alchemical_force)"
   ]
  },
  {
   "cell_type": "markdown",
   "metadata": {},
   "source": [
    "$\\partial^2E/\\partial Z_i\\partial R_j$"
   ]
  },
  {
   "cell_type": "code",
   "execution_count": 32,
   "metadata": {},
   "outputs": [
    {
     "name": "stdout",
     "output_type": "stream",
     "text": [
      "[[[ 0.02116072  0.00678329 -0.02101778]\n",
      "  [ 0.01924209 -0.05858345  0.03586686]\n",
      "  [-0.05883187 -0.02476801 -0.0318448 ]\n",
      "  [-0.01929886  0.04966589  0.04705527]\n",
      "  [ 0.03625935  0.03559136 -0.02403336]\n",
      "  [ 0.00146446 -0.00868908 -0.00602798]]\n",
      "\n",
      " [[-0.02028339 -0.01456263  0.02729521]\n",
      "  [ 0.00747734 -0.04712179  0.0260674 ]\n",
      "  [-0.00938962  0.01107857 -0.00797502]\n",
      "  [-0.00660248  0.01580577 -0.00611081]\n",
      "  [ 0.03406549  0.03901858 -0.03403441]\n",
      "  [-0.00526715 -0.00421938 -0.00524321]]\n",
      "\n",
      " [[-0.0302814  -0.0102323   0.01862439]\n",
      "  [ 0.01237016  0.00165396  0.01089684]\n",
      "  [-0.04458515 -0.02457374 -0.0190848 ]\n",
      "  [ 0.01272761  0.0074333   0.01065381]\n",
      "  [ 0.04680087  0.03350294 -0.02298965]\n",
      "  [ 0.00296782 -0.00778617  0.00189873]]\n",
      "\n",
      " [[-0.02135741 -0.0136617   0.0178034 ]\n",
      "  [ 0.00480906 -0.01358385 -0.01046369]\n",
      "  [ 0.00314119 -0.01286148 -0.01191003]\n",
      "  [-0.01574333  0.04098333  0.0386226 ]\n",
      "  [ 0.03772144  0.00853834 -0.03923043]\n",
      "  [-0.00856627 -0.00941469  0.00517535]]\n",
      "\n",
      " [[ 0.03684125  0.02509375 -0.02994741]\n",
      "  [-0.00923806 -0.00972238  0.01090837]\n",
      "  [-0.01380953 -0.00774265  0.00694393]\n",
      "  [-0.0105027  -0.00266495  0.01077893]\n",
      "  [-0.00921451 -0.05245919 -0.01556908]\n",
      "  [ 0.00592242  0.04749144  0.0168884 ]]\n",
      "\n",
      " [[ 0.04806006  0.01871688 -0.04606765]\n",
      "  [-0.00686342 -0.00926808  0.00877929]\n",
      "  [-0.01177653 -0.0071403   0.00451858]\n",
      "  [-0.00583221  0.00145343  0.00745043]\n",
      "  [-0.0389573  -0.04235673  0.02376656]\n",
      "  [ 0.01536732  0.03859569  0.00155602]]]\n"
     ]
    }
   ],
   "source": [
    "print(inefficient_analytical_alchemical_force)"
   ]
  },
  {
   "cell_type": "markdown",
   "metadata": {},
   "source": [
    "$(\\partial^2E/\\partial Z_i\\partial R_j)_\\mathrm{analytical}$ - $(\\partial^2E/\\partial Z_i\\partial R_j)_\\mathrm{numerical}$"
   ]
  },
  {
   "cell_type": "code",
   "execution_count": 33,
   "metadata": {},
   "outputs": [],
   "source": [
    "# print(inefficient_analytical_alchemical_force[:, :, 2] - inefficient_numerical_alchemical_force)"
   ]
  },
  {
   "cell_type": "markdown",
   "metadata": {},
   "source": [
    "$(\\partial^2E/\\partial Z_i\\partial R_j)_\\mathrm{analytical,efficient}$ - $(\\partial^2E/\\partial Z_i\\partial R_j)_\\mathrm{analytical,inefficient}$"
   ]
  },
  {
   "cell_type": "code",
   "execution_count": 34,
   "metadata": {},
   "outputs": [
    {
     "name": "stdout",
     "output_type": "stream",
     "text": [
      "[[[-1.06366915e-10  8.06498202e-11  1.62827751e-10]\n",
      "  [ 2.14643026e-11 -2.37352915e-11  5.56318880e-12]\n",
      "  [-1.61994862e-11 -7.38689665e-12 -2.70930778e-11]\n",
      "  [ 1.68036834e-11 -5.96074301e-11 -4.91410801e-11]\n",
      "  [ 4.97788477e-11 -1.12241771e-10 -1.13405618e-10]\n",
      "  [ 3.45278389e-11  1.22315005e-10  2.12476391e-11]]\n",
      "\n",
      " [[-1.66029523e-10 -1.13160592e-10  4.33522107e-11]\n",
      "  [-4.20585788e-12  3.57200935e-11 -1.49003032e-11]\n",
      "  [ 7.35364825e-11  3.23478883e-11  5.05672032e-11]\n",
      "  [ 9.54659268e-12 -1.24482646e-11 -1.09308881e-11]\n",
      "  [ 9.42946554e-11  1.25891408e-10 -6.20568041e-11]\n",
      "  [-7.13287068e-12 -6.83486739e-11 -6.03601544e-12]]\n",
      "\n",
      " [[-8.41571257e-11 -1.48635326e-10  1.14374510e-10]\n",
      "  [-3.30557803e-11  7.85146809e-11 -4.18754476e-11]\n",
      "  [ 2.93984836e-11  2.11710649e-11  1.42567069e-11]\n",
      "  [ 3.91842114e-12 -1.00112002e-11 -1.58108665e-11]\n",
      "  [ 1.08793974e-10  1.19621146e-10 -4.94955604e-11]\n",
      "  [-2.49012547e-11 -6.06534684e-11 -2.14466309e-11]]\n",
      "\n",
      " [[ 1.02446773e-10  8.18725088e-11 -7.73043851e-11]\n",
      "  [ 1.85323909e-11 -4.80751272e-11  3.32124953e-11]\n",
      "  [-5.16960225e-11 -1.76185178e-11 -2.77048523e-11]\n",
      "  [ 6.04749584e-12  3.53916896e-11  1.07072129e-11]\n",
      "  [-9.12802056e-11 -1.10827444e-10  4.98695529e-11]\n",
      "  [ 1.59467370e-11  5.92539628e-11  1.12207188e-11]]\n",
      "\n",
      " [[ 1.36095579e-11  1.20192745e-12 -1.50943702e-11]\n",
      "  [-7.51346554e-12  5.27355937e-13  4.16756907e-13]\n",
      "  [ 1.01779696e-13 -2.76791090e-12  7.01964528e-12]\n",
      "  [-6.53346127e-12  1.72793724e-12  8.39626979e-12]\n",
      "  [ 1.39854794e-11  2.92296534e-11 -1.52877710e-12]\n",
      "  [-1.36451406e-11 -2.99170688e-11  7.96127053e-13]]\n",
      "\n",
      " [[-7.02761460e-11  3.03239100e-11  9.60718449e-11]\n",
      "  [-1.36112302e-12  1.21299498e-11 -2.44374590e-11]\n",
      "  [ 2.73313039e-11 -2.81247248e-13  4.82693746e-13]\n",
      "  [ 5.71143827e-12 -4.40719405e-11 -2.85908103e-11]\n",
      "  [ 3.75153242e-11  2.70174993e-11 -2.96805913e-11]\n",
      "  [ 1.08468790e-12 -2.51105803e-11 -1.38501988e-11]]]\n"
     ]
    }
   ],
   "source": [
    "print(efficient_analytical_alchemical_force - inefficient_analytical_alchemical_force)"
   ]
  },
  {
   "cell_type": "markdown",
   "metadata": {},
   "source": [
    "$(\\partial ^2 E/ \\partial Z_I \\partial \\mathbf{F})_\\mathrm{analytical}$"
   ]
  },
  {
   "cell_type": "code",
   "execution_count": 35,
   "metadata": {},
   "outputs": [
    {
     "name": "stdout",
     "output_type": "stream",
     "text": [
      "[[-0.05181399 -0.08055338  0.01951721]\n",
      " [ 0.3442823  -1.33121028  0.78395923]\n",
      " [-1.30618976 -0.61635595 -0.64745666]\n",
      " [-0.52200783  0.91686538  1.059782  ]\n",
      " [ 0.64389616  0.22971691 -0.62772051]\n",
      " [ 0.89532632  1.48102332 -0.29271739]]\n"
     ]
    }
   ],
   "source": [
    "print(elec_electric_dipole_gradient_f)"
   ]
  },
  {
   "cell_type": "code",
   "execution_count": 36,
   "metadata": {},
   "outputs": [
    {
     "name": "stdout",
     "output_type": "stream",
     "text": [
      "[[-0.05181399 -0.08055338  0.01951721]\n",
      " [ 0.3442823  -1.33121028  0.78395923]\n",
      " [-1.30618976 -0.61635595 -0.64745666]\n",
      " [-0.52200783  0.91686538  1.059782  ]\n",
      " [ 0.64389616  0.22971691 -0.62772051]\n",
      " [ 0.89532632  1.48102332 -0.29271739]]\n"
     ]
    }
   ],
   "source": [
    "print(elec_electric_dipole_gradient_z)"
   ]
  },
  {
   "cell_type": "markdown",
   "metadata": {},
   "source": [
    "$(\\partial ^2 E/ \\partial Z_I \\partial \\mathbf{F})_\\mathrm{analytical}$ - $(\\partial ^2 E/ \\partial Z_I \\partial \\mathbf{F})_\\mathrm{numerical}$"
   ]
  },
  {
   "cell_type": "code",
   "execution_count": 37,
   "metadata": {},
   "outputs": [
    {
     "name": "stdout",
     "output_type": "stream",
     "text": [
      "[[-1.19532232e-06 -1.16610882e-05 -4.44826753e-06]\n",
      " [ 2.25133774e-06  2.21830367e-06 -8.28957451e-06]\n",
      " [ 8.34768832e-06 -4.00563789e-07 -3.04248221e-06]\n",
      " [-1.20255479e-06 -1.13776981e-05 -4.29580905e-06]\n",
      " [-2.98250303e-06  2.40586598e-06  4.63843681e-06]\n",
      " [-3.77235414e-05 -3.36433459e-05  2.67092971e-05]]\n"
     ]
    }
   ],
   "source": [
    "print(elec_electric_dipole_gradient_f - numer_elec_electric_dipole_gradient)"
   ]
  },
  {
   "cell_type": "code",
   "execution_count": 38,
   "metadata": {},
   "outputs": [
    {
     "name": "stdout",
     "output_type": "stream",
     "text": [
      "[[-1.19515729e-06 -1.16611344e-05 -4.44848165e-06]\n",
      " [ 2.25087693e-06  2.21826387e-06 -8.28953577e-06]\n",
      " [ 8.34765024e-06 -4.00786669e-07 -3.04207685e-06]\n",
      " [-1.20185570e-06 -1.13775484e-05 -4.29654142e-06]\n",
      " [-2.98253611e-06  2.40583375e-06  4.63845870e-06]\n",
      " [-3.77234521e-05 -3.36432162e-05  2.67092584e-05]]\n"
     ]
    }
   ],
   "source": [
    "print(elec_electric_dipole_gradient_z - numer_elec_electric_dipole_gradient)"
   ]
  },
  {
   "cell_type": "markdown",
   "metadata": {},
   "source": [
    "$(\\partial ^3 E/ \\partial Z_I \\partial ^2 \\mathbf{F})_\\mathrm{analytical}$"
   ]
  },
  {
   "cell_type": "code",
   "execution_count": 39,
   "metadata": {},
   "outputs": [
    {
     "name": "stdout",
     "output_type": "stream",
     "text": [
      "[[[ 4.55355541 -0.77962567  1.56365557]\n",
      "  [-0.77962567  5.83054934  0.69073029]\n",
      "  [ 1.56365557  0.69073029  4.78936642]]\n",
      "\n",
      " [[ 5.57875594 -1.48355719  1.85214755]\n",
      "  [-1.48355719  8.19283847 -0.66026941]\n",
      "  [ 1.85214755 -0.66026941  5.86509444]]\n",
      "\n",
      " [[ 7.00032137  0.18380099  2.63542498]\n",
      "  [ 0.18380099  6.48181824  0.98050526]\n",
      "  [ 2.63542498  0.98050526  6.15446482]]\n",
      "\n",
      " [[ 5.33944189 -0.88310123  0.5625039 ]\n",
      "  [-0.88310123  7.62090376  1.72289845]\n",
      "  [ 0.5625039   1.72289845  6.42160196]]\n",
      "\n",
      " [[ 6.74793295  0.71186769 -0.68937714]\n",
      "  [ 0.71186769  6.00256309 -0.74044175]\n",
      "  [-0.68937714 -0.74044175  6.26685385]]\n",
      "\n",
      " [[ 5.11669232  0.53965083 -0.61896997]\n",
      "  [ 0.53965083  4.72279282 -0.43410218]\n",
      "  [-0.61896997 -0.43410218  4.84306106]]]\n"
     ]
    }
   ],
   "source": [
    "print(elec_electric_pol_gradient)"
   ]
  },
  {
   "cell_type": "markdown",
   "metadata": {},
   "source": [
    "$(\\partial ^3 E/ \\partial Z_I \\partial ^2 \\mathbf{F})_\\mathrm{analytical}$ - $(\\partial ^3 E/ \\partial Z_I \\partial ^2 \\mathbf{F})_\\mathrm{numerical}$"
   ]
  },
  {
   "cell_type": "code",
   "execution_count": 40,
   "metadata": {},
   "outputs": [
    {
     "name": "stdout",
     "output_type": "stream",
     "text": [
      "[[[ 1.58612152e-05 -5.12116265e-06  1.10642129e-05]\n",
      "  [-5.12116265e-06  2.62251069e-05  5.12099314e-06]\n",
      "  [ 1.10642129e-05  5.12099314e-06  1.74996579e-05]]\n",
      "\n",
      " [[ 3.30681943e-06  1.30858547e-05 -1.49638836e-05]\n",
      "  [ 1.30858547e-05 -1.58152095e-05 -5.70270776e-06]\n",
      "  [-1.49638836e-05 -5.70270776e-06 -4.63120349e-06]]\n",
      "\n",
      " [[-3.61582002e-06  7.43654585e-06 -1.76713222e-05]\n",
      "  [ 7.43654585e-06 -9.73525532e-06 -1.21485490e-05]\n",
      "  [-1.76713222e-05 -1.21485490e-05 -4.09273327e-06]]\n",
      "\n",
      " [[ 1.96510292e-05 -6.71251296e-06  1.01666893e-05]\n",
      "  [-6.71251296e-06  2.85233090e-05  6.26383871e-06]\n",
      "  [ 1.01666893e-05  6.26383871e-06  2.27871449e-05]]\n",
      "\n",
      " [[-3.23288279e-05 -4.67781014e-06  7.19615123e-06]\n",
      "  [-4.67781014e-06 -2.64339240e-05  4.16091781e-06]\n",
      "  [ 7.19615123e-06  4.16091781e-06 -3.02558864e-05]]\n",
      "\n",
      " [[ 5.01268269e-05 -8.34189118e-05  1.32146592e-04]\n",
      "  [-8.34189118e-05  1.60743193e-04  7.61053159e-05]\n",
      "  [ 1.32146592e-04  7.61053159e-05  8.65184465e-05]]]\n"
     ]
    }
   ],
   "source": [
    "print(elec_electric_pol_gradient - numer_elec_electric_pol_gradient)"
   ]
  }
 ],
 "metadata": {
  "kernelspec": {
   "display_name": "aqa",
   "language": "python",
   "name": "python3"
  },
  "language_info": {
   "codemirror_mode": {
    "name": "ipython",
    "version": 3
   },
   "file_extension": ".py",
   "mimetype": "text/x-python",
   "name": "python",
   "nbconvert_exporter": "python",
   "pygments_lexer": "ipython3",
   "version": "3.11.3"
  }
 },
 "nbformat": 4,
 "nbformat_minor": 4
}
