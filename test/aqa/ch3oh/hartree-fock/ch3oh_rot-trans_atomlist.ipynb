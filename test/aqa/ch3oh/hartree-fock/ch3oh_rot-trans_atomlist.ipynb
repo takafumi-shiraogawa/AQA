{
 "cells": [
  {
   "attachments": {},
   "cell_type": "markdown",
   "metadata": {},
   "source": [
    "This notebook compares analytical and numerical evaluations of alchemical derivatives of a rotated and translated CH3OH molecule up to the third order in Hartree-Fock theory.  \n",
    "The results are summerized in the last section."
   ]
  },
  {
   "cell_type": "code",
   "execution_count": 1,
   "metadata": {},
   "outputs": [
    {
     "data": {
      "text/plain": [
       "'2.2.1'"
      ]
     },
     "execution_count": 1,
     "metadata": {},
     "output_type": "execute_result"
    }
   ],
   "source": [
    "from pyscf import gto,scf\n",
    "import numpy as np\n",
    "import pyscf\n",
    "from scipy.spatial.transform import Rotation\n",
    "\n",
    "pyscf.__version__"
   ]
  },
  {
   "cell_type": "code",
   "execution_count": 2,
   "metadata": {},
   "outputs": [],
   "source": [
    "from aqa.FcMole import FcM_like"
   ]
  },
  {
   "cell_type": "markdown",
   "metadata": {},
   "source": [
    "Rotating and translating CH3OH."
   ]
  },
  {
   "cell_type": "code",
   "execution_count": 3,
   "metadata": {},
   "outputs": [
    {
     "name": "stdout",
     "output_type": "stream",
     "text": [
      "[[21.51976504  8.14268562 12.53661552]\n",
      " [22.19523369  6.50972431 13.49736794]\n",
      " [19.9104428   7.49931626 11.51581996]\n",
      " [20.96614982  9.55062923 13.87808426]\n",
      " [23.39549112  9.16151172 10.8826461 ]\n",
      " [23.76170114 10.78607451 11.27170604]]\n"
     ]
    }
   ],
   "source": [
    "mol_coord = np.array([[-1.27549516,\t0.03357710,\t0.00000000],\n",
    "                      [-2.10170657,\t-0.87840808,\t1.59107621],\n",
    "                      [-2.10170657,\t-0.87840808,\t-1.59107621],\n",
    "                      [-1.76544024,\t1.99528228,\t0.00000000],\n",
    "                      [1.41253482,\t-0.22423026,\t0.00000000],\n",
    "                      [2.19050133,\t1.29874374,\t0.00000000]])\n",
    "# Coordinates in Angstrom\n",
    "# C\t-0.67496302\t0.01776824\t0.00000000\n",
    "# H\t-1.11217530\t-0.46483357\t0.84196133\n",
    "# H\t-1.11217530\t-0.46483357\t-0.84196133\n",
    "# H\t-0.93423081\t1.05585799\t0.00000000\n",
    "# O\t0.74748129\t-0.11865755\t0.00000000\n",
    "# H\t1.15916347\t0.68726564\t0.00000000\n",
    "rotvec = np.array([1.2 * np.pi, 1.8 * np.pi, 0.8 * np.pi])\n",
    "rot = Rotation.from_rotvec(rotvec)\n",
    "mol_coord = rot.apply(mol_coord)\n",
    "# print(mol_coord)\n",
    "# print(np.linalg.norm(mol_coord[1]))\n",
    "for i in range(6):\n",
    "  mol_coord[i] += [22.4, 8.7, 11.8]\n",
    "print(mol_coord)"
   ]
  },
  {
   "cell_type": "code",
   "execution_count": 4,
   "metadata": {},
   "outputs": [
    {
     "name": "stdout",
     "output_type": "stream",
     "text": [
      " C  21.51976504  8.14268562  12.53661552\n",
      " H  22.19523369  6.50972431  13.49736794\n",
      " H  19.91044280  7.49931626  11.51581996\n",
      " H  20.96614982  9.55062923  13.87808426\n",
      " O  23.39549112  9.16151172  10.88264610\n",
      " H  23.76170114  10.78607451  11.27170604\n",
      "[' C  21.51976504  8.14268562  12.53661552', ' H  22.19523369  6.50972431  13.49736794', ' H  19.91044280  7.49931626  11.51581996', ' H  20.96614982  9.55062923  13.87808426', ' O  23.39549112  9.16151172  10.88264610', ' H  23.76170114  10.78607451  11.27170604']\n"
     ]
    }
   ],
   "source": [
    "# target_mol = \"\"\"\n",
    "# C\t-1.27549516\t0.03357710\t0.00000000\n",
    "# H\t-2.10170657\t-0.87840808\t1.59107621\n",
    "# H\t-2.10170657\t-0.87840808\t-1.59107621\n",
    "# H\t-1.76544024\t1.99528228\t0.00000000\n",
    "# O\t1.41253482\t-0.22423026\t0.00000000\n",
    "# H\t2.19050133\t1.29874374\t0.00000000\n",
    "# \"\"\"\n",
    "target_mol = []\n",
    "atom_symbols = ['C', 'H', 'H', 'H', 'O', 'H']\n",
    "for i, atom_coords in enumerate(mol_coord):\n",
    "    # print(atom_coords)\n",
    "    atom_str = f' {atom_symbols[i]} {atom_coords[0]: .8f} {atom_coords[1]: .8f} {atom_coords[2]: .8f}'\n",
    "    print(atom_str)\n",
    "    target_mol.append(atom_str)\n",
    "print(target_mol)\n",
    "# dft_functional = \"pbe0\"  # \"lda,vwn\"\n",
    "basis_set = \"def2-TZVP\""
   ]
  },
  {
   "attachments": {},
   "cell_type": "markdown",
   "metadata": {},
   "source": [
    "### Analytical evaluation"
   ]
  },
  {
   "cell_type": "code",
   "execution_count": 5,
   "metadata": {},
   "outputs": [],
   "source": [
    "%load_ext autoreload\n",
    "from aqa.AP_class import APDFT_perturbator as AP"
   ]
  },
  {
   "cell_type": "code",
   "execution_count": 6,
   "metadata": {},
   "outputs": [
    {
     "name": "stdout",
     "output_type": "stream",
     "text": [
      "converged SCF energy = -115.087746889062\n"
     ]
    }
   ],
   "source": [
    "mol_NN=gto.M(atom=target_mol,unit=\"Bohr\",basis=basis_set)\n",
    "mf_nn=scf.RHF(mol_NN)\n",
    "# mf_nn.xc = dft_functional\n",
    "mf_nn.scf()\n",
    "# mf_nn.conv_tol = 1e-12\n",
    "# mf_nn.grids.level = 6\n",
    "# mf_nn.nuc_grad_method().kernel()\n",
    "# ap_nn=AP(mf_nn,sites=[0,1,2,3,4,5])\n",
    "ap_nn=AP(mf_nn,sites=[1,2,4,5])"
   ]
  },
  {
   "cell_type": "code",
   "execution_count": 7,
   "metadata": {},
   "outputs": [],
   "source": [
    "analytical_1st_alchemical_derivative = ap_nn.build_gradient()\n",
    "analytical_2nd_alchemical_derivative = ap_nn.build_hessian()\n",
    "analytical_3rd_alchemical_derivative = ap_nn.build_cubic()"
   ]
  },
  {
   "attachments": {},
   "cell_type": "markdown",
   "metadata": {},
   "source": [
    "Inefficient alchemical force in HFT which calculates the response matrix for nuclear coordinates"
   ]
  },
  {
   "cell_type": "code",
   "execution_count": 8,
   "metadata": {},
   "outputs": [],
   "source": [
    "# inefficient_analytical_alchemical_force = np.zeros((6, 6, 3))\n",
    "# for i in range(6):\n",
    "#   inefficient_analytical_alchemical_force[i] = ap_nn.build_inefficient_alchemical_force(i)"
   ]
  },
  {
   "attachments": {},
   "cell_type": "markdown",
   "metadata": {},
   "source": [
    "Efficient alchemical force in HFT which calculates the response matrix for nuclear coordinates"
   ]
  },
  {
   "cell_type": "code",
   "execution_count": 9,
   "metadata": {},
   "outputs": [],
   "source": [
    "# efficient_analytical_alchemical_force = np.zeros((6, 6, 3))\n",
    "# for i in range(6):\n",
    "#   efficient_analytical_alchemical_force[i] = ap_nn.build_alchemical_force(i)"
   ]
  },
  {
   "attachments": {},
   "cell_type": "markdown",
   "metadata": {},
   "source": [
    "### Numerical evaluation"
   ]
  },
  {
   "cell_type": "code",
   "execution_count": 10,
   "metadata": {},
   "outputs": [],
   "source": [
    "%autoreload 2\n",
    "mol_NN=gto.M(atom=target_mol,unit=\"Bohr\",basis=basis_set)\n",
    "fc_param = 0.001\n",
    "# fcs1 = [fc_param, 0.0, 0.0, 0.0, 0.0, 0.0]\n",
    "# fcs2 = [-fc_param, 0.0, 0.0, 0.0, 0.0, 0.0]\n",
    "fcs3 = [0.0, fc_param, 0.0, 0.0, 0.0, 0.0]\n",
    "fcs4 = [0.0, -fc_param, 0.0, 0.0, 0.0, 0.0]\n",
    "fcs5 = [0.0, 0.0, fc_param, 0.0, 0.0, 0.0]\n",
    "fcs6 = [0.0, 0.0, -fc_param, 0.0, 0.0, 0.0]\n",
    "# fcs7 = [0.0, 0.0, 0.0, fc_param, 0.0, 0.0]\n",
    "# fcs8 = [0.0, 0.0, 0.0, -fc_param, 0.0, 0.0]\n",
    "fcs9 = [0.0, 0.0, 0.0, 0.0, fc_param, 0.0]\n",
    "fcs10 = [0.0, 0.0, 0.0, 0.0, -fc_param, 0.0]\n",
    "fcs11 = [0.0, 0.0, 0.0, 0.0, 0.0, fc_param]\n",
    "fcs12 = [0.0, 0.0, 0.0, 0.0, 0.0, -fc_param]"
   ]
  },
  {
   "attachments": {},
   "cell_type": "markdown",
   "metadata": {},
   "source": [
    "##### Efficient numerical alchemical force"
   ]
  },
  {
   "cell_type": "code",
   "execution_count": 11,
   "metadata": {},
   "outputs": [
    {
     "name": "stdout",
     "output_type": "stream",
     "text": [
      "converged SCF energy = -115.087746889061\n"
     ]
    },
    {
     "name": "stderr",
     "output_type": "stream",
     "text": [
      "/home/takafumi/program/pyscf/pyscf/gto/mole.py:1213: UserWarning: Function mol.dumps drops attribute with_rinv_at_nucleus because it is not JSON-serializable\n",
      "  warnings.warn(msg)\n"
     ]
    },
    {
     "name": "stdout",
     "output_type": "stream",
     "text": [
      "converged SCF energy = -115.088877458771\n",
      "converged SCF energy = -115.086617404048\n",
      "converged SCF energy = -115.088877458771\n",
      "converged SCF energy = -115.086617404047\n",
      "converged SCF energy = -115.110098300524\n",
      "converged SCF energy = -115.065399080753\n",
      "converged SCF energy = -115.088765014498\n",
      "converged SCF energy = -115.086729720902\n"
     ]
    }
   ],
   "source": [
    "# fmol1=FcM_like(mol_NN,fcs=fcs1)\n",
    "# fmol2=FcM_like(mol_NN,fcs=fcs2)\n",
    "fmol3=FcM_like(mol_NN,fcs=fcs3)\n",
    "fmol4=FcM_like(mol_NN,fcs=fcs4)\n",
    "fmol5=FcM_like(mol_NN,fcs=fcs5)\n",
    "fmol6=FcM_like(mol_NN,fcs=fcs6)\n",
    "# fmol7=FcM_like(mol_NN,fcs=fcs7)\n",
    "# fmol8=FcM_like(mol_NN,fcs=fcs8)\n",
    "fmol9=FcM_like(mol_NN,fcs=fcs9)\n",
    "fmol10=FcM_like(mol_NN,fcs=fcs10)\n",
    "fmol11=FcM_like(mol_NN,fcs=fcs11)\n",
    "fmol12=FcM_like(mol_NN,fcs=fcs12)\n",
    "mf=scf.RHF(mol_NN)\n",
    "# mf1=scf.RKS(fmol1)\n",
    "# mf2=scf.RKS(fmol2)\n",
    "mf3=scf.RHF(fmol3)\n",
    "mf4=scf.RHF(fmol4)\n",
    "mf5=scf.RHF(fmol5)\n",
    "mf6=scf.RHF(fmol6)\n",
    "# mf7=scf.RKS(fmol7)\n",
    "# mf8=scf.RKS(fmol8)\n",
    "mf9=scf.RHF(fmol9)\n",
    "mf10=scf.RHF(fmol10)\n",
    "mf11=scf.RHF(fmol11)\n",
    "mf12=scf.RHF(fmol12)\n",
    "# mf.xc = dft_functional\n",
    "# # mf1.xc = dft_functional\n",
    "# # mf2.xc = dft_functional\n",
    "# mf3.xc = dft_functional\n",
    "# mf4.xc = dft_functional\n",
    "# mf5.xc = dft_functional\n",
    "# mf6.xc = dft_functional\n",
    "# # mf7.xc = dft_functional\n",
    "# # mf8.xc = dft_functional\n",
    "# mf9.xc = dft_functional\n",
    "# mf10.xc = dft_functional\n",
    "# mf11.xc = dft_functional\n",
    "# mf12.xc = dft_functional\n",
    "# mf.conv_tol = 1e-12\n",
    "# mf1.conv_tol = 1e-12\n",
    "# mf2.conv_tol = 1e-12\n",
    "# mf3.conv_tol = 1e-12\n",
    "# mf4.conv_tol = 1e-12\n",
    "# mf.grids.level = 6\n",
    "# mf1.grids.level = 6\n",
    "# mf2.grids.level = 6\n",
    "# mf3.grids.level = 6\n",
    "# mf4.grids.level = 6\n",
    "# Without dm0=mf.init_guess_by_1e(), some SCFs do not converge.\n",
    "e=mf.scf(dm0=mf.init_guess_by_1e())\n",
    "# e1=mf1.scf(dm0=mf1.init_guess_by_1e())\n",
    "# e2=mf2.scf(dm0=mf2.init_guess_by_1e())\n",
    "e3=mf3.scf(dm0=mf3.init_guess_by_1e())\n",
    "e4=mf4.scf(dm0=mf4.init_guess_by_1e())\n",
    "e5=mf5.scf(dm0=mf5.init_guess_by_1e())\n",
    "e6=mf6.scf(dm0=mf6.init_guess_by_1e())\n",
    "# e7=mf7.scf(dm0=mf7.init_guess_by_1e())\n",
    "# e8=mf8.scf(dm0=mf8.init_guess_by_1e())\n",
    "e9=mf9.scf(dm0=mf9.init_guess_by_1e())\n",
    "e10=mf10.scf(dm0=mf10.init_guess_by_1e())\n",
    "e11=mf11.scf(dm0=mf11.init_guess_by_1e())\n",
    "e12=mf12.scf(dm0=mf12.init_guess_by_1e())"
   ]
  },
  {
   "cell_type": "code",
   "execution_count": 12,
   "metadata": {},
   "outputs": [],
   "source": [
    "# nuc_grad = mf.nuc_grad_method().kernel()\n",
    "# # nuc_grad1 = mf1.nuc_grad_method().kernel()\n",
    "# # nuc_grad2 = mf2.nuc_grad_method().kernel()\n",
    "# nuc_grad3 = mf3.nuc_grad_method().kernel()\n",
    "# nuc_grad4 = mf4.nuc_grad_method().kernel()\n",
    "# nuc_grad5 = mf5.nuc_grad_method().kernel()\n",
    "# nuc_grad6 = mf6.nuc_grad_method().kernel()\n",
    "# # nuc_grad7 = mf7.nuc_grad_method().kernel()\n",
    "# # nuc_grad8 = mf8.nuc_grad_method().kernel()\n",
    "# nuc_grad9 = mf9.nuc_grad_method().kernel()\n",
    "# nuc_grad10 = mf10.nuc_grad_method().kernel()\n",
    "# nuc_grad11 = mf11.nuc_grad_method().kernel()\n",
    "# nuc_grad12 = mf12.nuc_grad_method().kernel()"
   ]
  },
  {
   "cell_type": "code",
   "execution_count": 13,
   "metadata": {},
   "outputs": [],
   "source": [
    "# efficient_numerical_alchemical_force = np.zeros((6, 6, 3))\n",
    "# # efficient_numerical_alchemical_force[0] = (nuc_grad1 - nuc_grad2) / (2 * fc_param)\n",
    "# efficient_numerical_alchemical_force[1] = (nuc_grad3 - nuc_grad4) / (2 * fc_param)\n",
    "# efficient_numerical_alchemical_force[2] = (nuc_grad5 - nuc_grad6) / (2 * fc_param)\n",
    "# # efficient_numerical_alchemical_force[3] = (nuc_grad7 - nuc_grad8) / (2 * fc_param)\n",
    "# efficient_numerical_alchemical_force[4] = (nuc_grad9 - nuc_grad10) / (2 * fc_param)\n",
    "# efficient_numerical_alchemical_force[5] = (nuc_grad11 - nuc_grad12) / (2 * fc_param)"
   ]
  },
  {
   "attachments": {},
   "cell_type": "markdown",
   "metadata": {},
   "source": [
    "#### Numerical alchemical derivatives"
   ]
  },
  {
   "cell_type": "code",
   "execution_count": 14,
   "metadata": {},
   "outputs": [],
   "source": [
    "numerical_1st_alchemical_derivative = np.zeros((4))\n",
    "# numerical_1st_alchemical_derivative[0] = (e1 - e2) / (2 * fc_param)\n",
    "numerical_1st_alchemical_derivative[0] = (e3 - e4) / (2 * fc_param)\n",
    "numerical_1st_alchemical_derivative[1] = (e5 - e6) / (2 * fc_param)\n",
    "# numerical_1st_alchemical_derivative[3] = (e7 - e8) / (2 * fc_param)\n",
    "numerical_1st_alchemical_derivative[2] = (e9 - e10) / (2 * fc_param)\n",
    "numerical_1st_alchemical_derivative[3] = (e11 - e12) / (2 * fc_param)"
   ]
  },
  {
   "attachments": {},
   "cell_type": "markdown",
   "metadata": {},
   "source": [
    "#### Numerical alchemical hardness"
   ]
  },
  {
   "cell_type": "code",
   "execution_count": 15,
   "metadata": {},
   "outputs": [],
   "source": [
    "ap_nn=AP(mf,sites=[1,2,4,5])\n",
    "# ap_nn1=AP(mf1,sites=[0,1,2,3,4,5])\n",
    "# ap_nn2=AP(mf2,sites=[0,1,2,3,4,5])\n",
    "ap_nn3=AP(mf3,sites=[1,2,4,5])\n",
    "ap_nn4=AP(mf4,sites=[1,2,4,5])\n",
    "ap_nn5=AP(mf5,sites=[1,2,4,5])\n",
    "ap_nn6=AP(mf6,sites=[1,2,4,5])\n",
    "# ap_nn7=AP(mf7,sites=[0,1,2,3,4,5])\n",
    "# ap_nn8=AP(mf8,sites=[0,1,2,3,4,5])\n",
    "ap_nn9=AP(mf9,sites=[1,2,4,5])\n",
    "ap_nn10=AP(mf10,sites=[1,2,4,5])\n",
    "ap_nn11=AP(mf11,sites=[1,2,4,5])\n",
    "ap_nn12=AP(mf12,sites=[1,2,4,5])\n",
    "an = ap_nn.build_gradient()\n",
    "# an1 = ap_nn1.build_gradient()\n",
    "# an2 = ap_nn2.build_gradient()\n",
    "an3 = ap_nn3.build_gradient()\n",
    "an4 = ap_nn4.build_gradient()\n",
    "an5 = ap_nn5.build_gradient()\n",
    "an6 = ap_nn6.build_gradient()\n",
    "# an7 = ap_nn7.build_gradient()\n",
    "# an8 = ap_nn8.build_gradient()\n",
    "an9 = ap_nn9.build_gradient()\n",
    "an10 = ap_nn10.build_gradient()\n",
    "an11 = ap_nn11.build_gradient()\n",
    "an12 = ap_nn12.build_gradient()\n",
    "ann = ap_nn.build_hessian()\n",
    "# ann1 = ap_nn1.build_hessian()\n",
    "# ann2 = ap_nn2.build_hessian()\n",
    "ann3 = ap_nn3.build_hessian()\n",
    "ann4 = ap_nn4.build_hessian()\n",
    "ann5 = ap_nn5.build_hessian()\n",
    "ann6 = ap_nn6.build_hessian()\n",
    "# ann7 = ap_nn7.build_hessian()\n",
    "# ann8 = ap_nn8.build_hessian()\n",
    "ann9 = ap_nn9.build_hessian()\n",
    "ann10 = ap_nn10.build_hessian()\n",
    "ann11 = ap_nn11.build_hessian()\n",
    "ann12 = ap_nn12.build_hessian()"
   ]
  },
  {
   "cell_type": "code",
   "execution_count": 16,
   "metadata": {},
   "outputs": [],
   "source": [
    "numerical_2nd_alchemical_derivative = np.zeros((4, 4))\n",
    "# numerical_2nd_alchemical_derivative[0] = (an1 - an2) / (2 * fc_param)\n",
    "numerical_2nd_alchemical_derivative[0] = (an3 - an4) / (2 * fc_param)\n",
    "numerical_2nd_alchemical_derivative[1] = (an5 - an6) / (2 * fc_param)\n",
    "# numerical_2nd_alchemical_derivative[3] = (an7 - an8) / (2 * fc_param)\n",
    "numerical_2nd_alchemical_derivative[2] = (an9 - an10) / (2 * fc_param)\n",
    "numerical_2nd_alchemical_derivative[3] = (an11 - an12) / (2 * fc_param)"
   ]
  },
  {
   "attachments": {},
   "cell_type": "markdown",
   "metadata": {},
   "source": [
    "#### Numerical alchemical hardness derivatives"
   ]
  },
  {
   "cell_type": "code",
   "execution_count": 17,
   "metadata": {},
   "outputs": [],
   "source": [
    "numerical_3rd_alchemical_derivative = np.zeros((4, 4, 4))\n",
    "# numerical_3rd_alchemical_derivative[0, :, :] = (ann1 - ann2) / (2 * fc_param)\n",
    "numerical_3rd_alchemical_derivative[0, :, :] = (ann3 - ann4) / (2 * fc_param)\n",
    "numerical_3rd_alchemical_derivative[1, :, :] = (ann5 - ann6) / (2 * fc_param)\n",
    "# numerical_3rd_alchemical_derivative[3, :, :] = (ann7 - ann8) / (2 * fc_param)\n",
    "numerical_3rd_alchemical_derivative[2, :, :] = (ann9 - ann10) / (2 * fc_param)\n",
    "numerical_3rd_alchemical_derivative[3, :, :] = (ann11 - ann12) / (2 * fc_param)"
   ]
  },
  {
   "attachments": {},
   "cell_type": "markdown",
   "metadata": {},
   "source": [
    "#### Inefficient numerical alchemical force"
   ]
  },
  {
   "cell_type": "code",
   "execution_count": 18,
   "metadata": {},
   "outputs": [],
   "source": [
    "# mol_NN1=gto.M(atom=\"C 0 0 0.001; O 0 0 2.1\",unit=\"Bohr\",basis=basis_set)\n",
    "# mol_NN2=gto.M(atom=\"C 0 0 -0.001; O 0 0 2.1\",unit=\"Bohr\",basis=basis_set)\n",
    "# mol_NN3=gto.M(atom=\"C 0 0 0; O 0 0 2.101\",unit=\"Bohr\",basis=basis_set)\n",
    "# mol_NN4=gto.M(atom=\"C 0 0 0; O 0 0 2.099\",unit=\"Bohr\",basis=basis_set)\n",
    "# mf_nn1=scf.RKS(mol_NN1)\n",
    "# mf_nn2=scf.RKS(mol_NN2)\n",
    "# mf_nn3=scf.RKS(mol_NN3)\n",
    "# mf_nn4=scf.RKS(mol_NN4)\n",
    "# mf_nn1.xc = dft_functional\n",
    "# mf_nn2.xc = dft_functional\n",
    "# mf_nn3.xc = dft_functional\n",
    "# mf_nn4.xc = dft_functional\n",
    "# mf_nn1.scf()\n",
    "# mf_nn2.scf()\n",
    "# mf_nn3.scf()\n",
    "# mf_nn4.scf()\n",
    "# ap_nn1=AP(mf_nn1,sites=[0,1])\n",
    "# ap_nn2=AP(mf_nn2,sites=[0,1])\n",
    "# ap_nn3=AP(mf_nn3,sites=[0,1])\n",
    "# ap_nn4=AP(mf_nn4,sites=[0,1])\n",
    "# ad1 = ap_nn1.build_gradient()\n",
    "# ad2 = ap_nn2.build_gradient()\n",
    "# ad3 = ap_nn3.build_gradient()\n",
    "# ad4 = ap_nn4.build_gradient()"
   ]
  },
  {
   "cell_type": "code",
   "execution_count": 19,
   "metadata": {},
   "outputs": [],
   "source": [
    "# inefficient_numerical_alchemical_force = np.zeros((2, 2))  # only z axis components\n",
    "# inefficient_numerical_alchemical_force[:, 0] = (ad1 - ad2) / (2 * fc_param)\n",
    "# inefficient_numerical_alchemical_force[:, 1] = (ad3 - ad4) / (2 * fc_param)"
   ]
  },
  {
   "cell_type": "markdown",
   "metadata": {},
   "source": [
    "## Comparison of analytical and numerical evaluations"
   ]
  },
  {
   "cell_type": "markdown",
   "metadata": {},
   "source": [
    "$ \\partial E/\\partial Z_i $"
   ]
  },
  {
   "cell_type": "code",
   "execution_count": 20,
   "metadata": {},
   "outputs": [
    {
     "name": "stdout",
     "output_type": "stream",
     "text": [
      "[ -1.13002724  -1.13002724 -22.3496097   -1.01764698]\n"
     ]
    }
   ],
   "source": [
    "print(analytical_1st_alchemical_derivative)"
   ]
  },
  {
   "cell_type": "markdown",
   "metadata": {},
   "source": [
    "$ (\\partial E/\\partial Z_i)_\\mathrm{analytical} $ - $ (\\partial E/\\partial Z_i)_\\mathrm{numerical} $"
   ]
  },
  {
   "cell_type": "code",
   "execution_count": 21,
   "metadata": {},
   "outputs": [
    {
     "name": "stdout",
     "output_type": "stream",
     "text": [
      "[ 1.21000269e-07  1.21647476e-07  1.87589968e-07 -1.86182852e-07]\n"
     ]
    }
   ],
   "source": [
    "print(analytical_1st_alchemical_derivative - numerical_1st_alchemical_derivative)"
   ]
  },
  {
   "cell_type": "markdown",
   "metadata": {},
   "source": [
    "$\\partial^2E/\\partial Z_i\\partial Z_j$"
   ]
  },
  {
   "cell_type": "code",
   "execution_count": 22,
   "metadata": {},
   "outputs": [
    {
     "name": "stdout",
     "output_type": "stream",
     "text": [
      "[[-1.08469606  0.32594434  0.28192602  0.26925656]\n",
      " [ 0.32594434 -1.08469606  0.28192602  0.26925656]\n",
      " [ 0.28192602  0.28192602 -3.60315557  0.44664312]\n",
      " [ 0.26925656  0.26925656  0.44664312 -0.95727943]]\n"
     ]
    }
   ],
   "source": [
    "print(analytical_2nd_alchemical_derivative)"
   ]
  },
  {
   "cell_type": "markdown",
   "metadata": {},
   "source": [
    "$(\\partial^2E/\\partial Z_i\\partial Z_j)_\\mathrm{analytical}$ - $(\\partial^2E/\\partial Z_i\\partial Z_j)_\\mathrm{numerical}$"
   ]
  },
  {
   "cell_type": "code",
   "execution_count": 23,
   "metadata": {},
   "outputs": [
    {
     "name": "stdout",
     "output_type": "stream",
     "text": [
      "[[ 5.68423563e-07 -6.27566847e-07 -1.44508015e-07 -2.75701003e-07]\n",
      " [-6.27597489e-07  5.68435757e-07 -1.44478341e-07 -2.75700335e-07]\n",
      " [-2.83373867e-08 -2.83410193e-08 -6.46124310e-08 -8.10414404e-08]\n",
      " [-3.69954052e-07 -3.69957826e-07  1.59160196e-07 -4.98559349e-08]]\n"
     ]
    }
   ],
   "source": [
    "print(analytical_2nd_alchemical_derivative - numerical_2nd_alchemical_derivative)"
   ]
  },
  {
   "cell_type": "markdown",
   "metadata": {},
   "source": [
    "$\\partial^3E/\\partial Z_i\\partial Z_j\\partial Z_k$"
   ]
  },
  {
   "cell_type": "code",
   "execution_count": 24,
   "metadata": {},
   "outputs": [
    {
     "name": "stdout",
     "output_type": "stream",
     "text": [
      "[[[-0.85251327  0.07055889  0.05262468  0.04236894]\n",
      "  [ 0.07055889  0.07055889  0.02811253  0.02466812]\n",
      "  [ 0.05262468  0.02811253  0.02931532  0.02123612]\n",
      "  [ 0.04236894  0.02466812  0.02123612  0.03413623]]\n",
      "\n",
      " [[ 0.07055889  0.07055889  0.02811253  0.02466812]\n",
      "  [ 0.07055889 -0.85251328  0.05262468  0.04236894]\n",
      "  [ 0.02811253  0.05262468  0.02931532  0.02123612]\n",
      "  [ 0.02466812  0.04236894  0.02123612  0.03413623]]\n",
      "\n",
      " [[ 0.05262468  0.02811253  0.02931532  0.02123612]\n",
      "  [ 0.02811253  0.05262468  0.02931532  0.02123612]\n",
      "  [ 0.02931532  0.02931532 -0.17819706  0.09062195]\n",
      "  [ 0.02123612  0.02123612  0.09062195  0.12409645]]\n",
      "\n",
      " [[ 0.04236894  0.02466812  0.02123612  0.03413623]\n",
      "  [ 0.02466812  0.04236894  0.02123612  0.03413623]\n",
      "  [ 0.02123612  0.02123612  0.09062195  0.12409645]\n",
      "  [ 0.03413623  0.03413623  0.12409645 -0.81305105]]]\n"
     ]
    }
   ],
   "source": [
    "print(analytical_3rd_alchemical_derivative)"
   ]
  },
  {
   "cell_type": "markdown",
   "metadata": {},
   "source": [
    "$(\\partial^3E/\\partial Z_i\\partial Z_j\\partial Z_k)_\\mathrm{analytical}$ - $(\\partial^3E/\\partial Z_i\\partial Z_j\\partial Z_k)_\\mathrm{numerical}$"
   ]
  },
  {
   "cell_type": "code",
   "execution_count": 25,
   "metadata": {},
   "outputs": [
    {
     "name": "stdout",
     "output_type": "stream",
     "text": [
      "[[[ 1.03909669e-06  3.87181739e-08  1.70171582e-07  1.58467871e-07]\n",
      "  [ 3.87181739e-08 -9.65259457e-07 -2.08809215e-07 -2.72506542e-07]\n",
      "  [ 1.70171582e-07 -2.08809215e-07 -6.91901996e-08 -9.49163353e-08]\n",
      "  [ 1.58467871e-07 -2.72506542e-07 -9.49163353e-08 -3.55932941e-07]]\n",
      "\n",
      " [[-9.65265417e-07  3.87176948e-08 -2.08808660e-07 -2.72506320e-07]\n",
      "  [ 3.87176948e-08  1.03909625e-06  1.70170724e-07  1.58467022e-07]\n",
      "  [-2.08808660e-07  1.70170724e-07 -6.91894818e-08 -9.49169533e-08]\n",
      "  [-2.72506320e-07  1.58467022e-07 -9.49169533e-08 -3.55929763e-07]]\n",
      "\n",
      " [[ 2.70721612e-08  2.16981760e-08  1.11494243e-08  4.78478263e-08]\n",
      "  [ 2.16981760e-08  2.70757433e-08  1.11500310e-08  4.78483463e-08]\n",
      "  [ 1.11494243e-08  1.11500310e-08 -1.91810264e-07  2.87983533e-07]\n",
      "  [ 4.78478263e-08  4.78483463e-08  2.87983533e-07  1.42428723e-07]]\n",
      "\n",
      " [[ 2.18962342e-07  2.12764920e-07  3.05793896e-08  5.87237849e-08]\n",
      "  [ 2.12764920e-07  2.18970180e-07  3.05784386e-08  5.87232160e-08]\n",
      "  [ 3.05793896e-08  3.05784386e-08  3.20237522e-08  8.31951048e-08]\n",
      "  [ 5.87237848e-08  5.87232161e-08  8.31951048e-08 -7.96787806e-08]]]\n"
     ]
    }
   ],
   "source": [
    "print(analytical_3rd_alchemical_derivative - numerical_3rd_alchemical_derivative)"
   ]
  },
  {
   "cell_type": "markdown",
   "metadata": {},
   "source": [
    "$\\partial^2E/\\partial Z_i\\partial R_j$"
   ]
  },
  {
   "cell_type": "code",
   "execution_count": 26,
   "metadata": {},
   "outputs": [],
   "source": [
    "# print(efficient_analytical_alchemical_force)"
   ]
  },
  {
   "cell_type": "markdown",
   "metadata": {},
   "source": [
    "$(\\partial^2E/\\partial Z_i\\partial R_j)_\\mathrm{analytical}$ - $(\\partial^2E/\\partial Z_i\\partial R_j)_\\mathrm{numerical}$"
   ]
  },
  {
   "cell_type": "code",
   "execution_count": 27,
   "metadata": {},
   "outputs": [],
   "source": [
    "# print(efficient_analytical_alchemical_force - efficient_numerical_alchemical_force)"
   ]
  },
  {
   "cell_type": "markdown",
   "metadata": {},
   "source": [
    "$\\partial^2E/\\partial Z_i\\partial R_j$"
   ]
  },
  {
   "cell_type": "code",
   "execution_count": 28,
   "metadata": {},
   "outputs": [],
   "source": [
    "# print(inefficient_analytical_alchemical_force)"
   ]
  },
  {
   "cell_type": "markdown",
   "metadata": {},
   "source": [
    "$(\\partial^2E/\\partial Z_i\\partial R_j)_\\mathrm{analytical}$ - $(\\partial^2E/\\partial Z_i\\partial R_j)_\\mathrm{numerical}$"
   ]
  },
  {
   "cell_type": "code",
   "execution_count": 29,
   "metadata": {},
   "outputs": [],
   "source": [
    "# print(inefficient_analytical_alchemical_force[:, :, 2] - inefficient_numerical_alchemical_force)"
   ]
  },
  {
   "cell_type": "markdown",
   "metadata": {},
   "source": [
    "$(\\partial^2E/\\partial Z_i\\partial R_j)_\\mathrm{analytical,efficient}$ - $(\\partial^2E/\\partial Z_i\\partial R_j)_\\mathrm{analytical,inefficient}$"
   ]
  },
  {
   "cell_type": "code",
   "execution_count": 30,
   "metadata": {},
   "outputs": [],
   "source": [
    "# print(efficient_analytical_alchemical_force - inefficient_analytical_alchemical_force)"
   ]
  }
 ],
 "metadata": {
  "kernelspec": {
   "display_name": "aqa",
   "language": "python",
   "name": "python3"
  },
  "language_info": {
   "codemirror_mode": {
    "name": "ipython",
    "version": 3
   },
   "file_extension": ".py",
   "mimetype": "text/x-python",
   "name": "python",
   "nbconvert_exporter": "python",
   "pygments_lexer": "ipython3",
   "version": "3.11.3"
  }
 },
 "nbformat": 4,
 "nbformat_minor": 4
}