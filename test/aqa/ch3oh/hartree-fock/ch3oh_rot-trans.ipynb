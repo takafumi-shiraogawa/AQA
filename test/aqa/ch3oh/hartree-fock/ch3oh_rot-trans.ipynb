{
 "cells": [
  {
   "attachments": {},
   "cell_type": "markdown",
   "metadata": {},
   "source": [
    "This notebook compares analytical and numerical evaluations of alchemical derivatives of a rotated and translated CH3OH molecule up to the third order in Hartree-Fock theory.  \n",
    "The results are summerized in the last section."
   ]
  },
  {
   "cell_type": "code",
   "execution_count": 1,
   "metadata": {},
   "outputs": [
    {
     "data": {
      "text/plain": [
       "'2.2.1'"
      ]
     },
     "execution_count": 1,
     "metadata": {},
     "output_type": "execute_result"
    }
   ],
   "source": [
    "from pyscf import gto,scf\n",
    "import numpy as np\n",
    "import pyscf\n",
    "from scipy.spatial.transform import Rotation\n",
    "\n",
    "pyscf.__version__"
   ]
  },
  {
   "cell_type": "code",
   "execution_count": 2,
   "metadata": {},
   "outputs": [],
   "source": [
    "from FcMole import FcM_like"
   ]
  },
  {
   "cell_type": "markdown",
   "metadata": {},
   "source": [
    "Rotating and translating CH3OH."
   ]
  },
  {
   "cell_type": "code",
   "execution_count": 3,
   "metadata": {},
   "outputs": [
    {
     "name": "stdout",
     "output_type": "stream",
     "text": [
      "[[21.51976504  8.14268562 12.53661552]\n",
      " [22.19523369  6.50972431 13.49736794]\n",
      " [19.9104428   7.49931626 11.51581996]\n",
      " [20.96614982  9.55062923 13.87808426]\n",
      " [23.39549112  9.16151172 10.8826461 ]\n",
      " [23.76170114 10.78607451 11.27170604]]\n"
     ]
    }
   ],
   "source": [
    "mol_coord = np.array([[-1.27549516,\t0.03357710,\t0.00000000],\n",
    "                      [-2.10170657,\t-0.87840808,\t1.59107621],\n",
    "                      [-2.10170657,\t-0.87840808,\t-1.59107621],\n",
    "                      [-1.76544024,\t1.99528228,\t0.00000000],\n",
    "                      [1.41253482,\t-0.22423026,\t0.00000000],\n",
    "                      [2.19050133,\t1.29874374,\t0.00000000]])\n",
    "# Coordinates in Angstrom\n",
    "# C\t-0.67496302\t0.01776824\t0.00000000\n",
    "# H\t-1.11217530\t-0.46483357\t0.84196133\n",
    "# H\t-1.11217530\t-0.46483357\t-0.84196133\n",
    "# H\t-0.93423081\t1.05585799\t0.00000000\n",
    "# O\t0.74748129\t-0.11865755\t0.00000000\n",
    "# H\t1.15916347\t0.68726564\t0.00000000\n",
    "rotvec = np.array([1.2 * np.pi, 1.8 * np.pi, 0.8 * np.pi])\n",
    "rot = Rotation.from_rotvec(rotvec)\n",
    "mol_coord = rot.apply(mol_coord)\n",
    "# print(mol_coord)\n",
    "# print(np.linalg.norm(mol_coord[1]))\n",
    "for i in range(6):\n",
    "  mol_coord[i] += [22.4, 8.7, 11.8]\n",
    "print(mol_coord)"
   ]
  },
  {
   "cell_type": "code",
   "execution_count": 4,
   "metadata": {},
   "outputs": [
    {
     "name": "stdout",
     "output_type": "stream",
     "text": [
      " C  21.51976504  8.14268562  12.53661552\n",
      " H  22.19523369  6.50972431  13.49736794\n",
      " H  19.91044280  7.49931626  11.51581996\n",
      " H  20.96614982  9.55062923  13.87808426\n",
      " O  23.39549112  9.16151172  10.88264610\n",
      " H  23.76170114  10.78607451  11.27170604\n",
      "[' C  21.51976504  8.14268562  12.53661552', ' H  22.19523369  6.50972431  13.49736794', ' H  19.91044280  7.49931626  11.51581996', ' H  20.96614982  9.55062923  13.87808426', ' O  23.39549112  9.16151172  10.88264610', ' H  23.76170114  10.78607451  11.27170604']\n"
     ]
    }
   ],
   "source": [
    "# target_mol = \"\"\"\n",
    "# C\t-1.27549516\t0.03357710\t0.00000000\n",
    "# H\t-2.10170657\t-0.87840808\t1.59107621\n",
    "# H\t-2.10170657\t-0.87840808\t-1.59107621\n",
    "# H\t-1.76544024\t1.99528228\t0.00000000\n",
    "# O\t1.41253482\t-0.22423026\t0.00000000\n",
    "# H\t2.19050133\t1.29874374\t0.00000000\n",
    "# \"\"\"\n",
    "target_mol = []\n",
    "atom_symbols = ['C', 'H', 'H', 'H', 'O', 'H']\n",
    "for i, atom_coords in enumerate(mol_coord):\n",
    "    # print(atom_coords)\n",
    "    atom_str = f' {atom_symbols[i]} {atom_coords[0]: .8f} {atom_coords[1]: .8f} {atom_coords[2]: .8f}'\n",
    "    print(atom_str)\n",
    "    target_mol.append(atom_str)\n",
    "print(target_mol)\n",
    "# dft_functional = \"pbe0\"  # \"lda,vwn\"\n",
    "basis_set = \"def2-TZVP\""
   ]
  },
  {
   "attachments": {},
   "cell_type": "markdown",
   "metadata": {},
   "source": [
    "### Analytical evaluation"
   ]
  },
  {
   "cell_type": "code",
   "execution_count": 5,
   "metadata": {},
   "outputs": [],
   "source": [
    "%load_ext autoreload\n",
    "from AP_class import APDFT_perturbator as AP"
   ]
  },
  {
   "cell_type": "code",
   "execution_count": 6,
   "metadata": {},
   "outputs": [
    {
     "name": "stdout",
     "output_type": "stream",
     "text": [
      "converged SCF energy = -115.087746889062\n"
     ]
    }
   ],
   "source": [
    "mol_NN=gto.M(atom=target_mol,unit=\"Bohr\",basis=basis_set)\n",
    "mf_nn=scf.RHF(mol_NN)\n",
    "# mf_nn.xc = dft_functional\n",
    "mf_nn.scf()\n",
    "# mf_nn.conv_tol = 1e-12\n",
    "# mf_nn.grids.level = 6\n",
    "# mf_nn.nuc_grad_method().kernel()\n",
    "ap_nn=AP(mf_nn,sites=[0,1,2,3,4,5],flag_response_property=True)"
   ]
  },
  {
   "cell_type": "code",
   "execution_count": 7,
   "metadata": {},
   "outputs": [],
   "source": [
    "analytical_1st_alchemical_derivative = ap_nn.build_gradient()\n",
    "analytical_2nd_alchemical_derivative = ap_nn.build_hessian()\n",
    "analytical_3rd_alchemical_derivative = ap_nn.build_cubic()"
   ]
  },
  {
   "cell_type": "markdown",
   "metadata": {},
   "source": [
    "Inefficient alchemical force is not implemented in the Hartree-Fock theory"
   ]
  },
  {
   "attachments": {},
   "cell_type": "markdown",
   "metadata": {},
   "source": [
    "Inefficient alchemical force in HFT which calculates the response matrix for nuclear coordinates"
   ]
  },
  {
   "cell_type": "code",
   "execution_count": 8,
   "metadata": {},
   "outputs": [],
   "source": [
    "# inefficient_analytical_alchemical_force = np.zeros((6, 6, 3))\n",
    "# for i in range(6):\n",
    "#   inefficient_analytical_alchemical_force[i] = ap_nn.build_inefficient_alchemical_force(i)"
   ]
  },
  {
   "attachments": {},
   "cell_type": "markdown",
   "metadata": {},
   "source": [
    "Efficient alchemical force in HFT which calculates the response matrix for nuclear coordinates"
   ]
  },
  {
   "cell_type": "code",
   "execution_count": 9,
   "metadata": {},
   "outputs": [],
   "source": [
    "efficient_analytical_alchemical_force = np.zeros((6, 6, 3))\n",
    "for i in range(6):\n",
    "  efficient_analytical_alchemical_force[i] = ap_nn.build_alchemical_force(i)"
   ]
  },
  {
   "cell_type": "markdown",
   "metadata": {},
   "source": [
    "Electric dipole derivatives $\\partial ^2 E/ \\partial Z_I \\partial \\mathbf{F}$"
   ]
  },
  {
   "cell_type": "code",
   "execution_count": 10,
   "metadata": {},
   "outputs": [],
   "source": [
    "elec_electric_dipole_gradient_z = ap_nn.build_elec_electric_dipole_gradient(perturb_electron_density='Z')\n",
    "elec_electric_dipole_gradient_f = ap_nn.build_elec_electric_dipole_gradient(perturb_electron_density='F')"
   ]
  },
  {
   "cell_type": "markdown",
   "metadata": {},
   "source": [
    "Electric polarizability derivatives $\\partial ^3 E/ \\partial Z_I \\partial ^2 \\mathbf{F}$"
   ]
  },
  {
   "cell_type": "code",
   "execution_count": 11,
   "metadata": {},
   "outputs": [],
   "source": [
    "elec_electric_pol_gradient = ap_nn.build_electric_polarizability_gradient()"
   ]
  },
  {
   "attachments": {},
   "cell_type": "markdown",
   "metadata": {},
   "source": [
    "### Numerical evaluation"
   ]
  },
  {
   "cell_type": "code",
   "execution_count": 12,
   "metadata": {},
   "outputs": [],
   "source": [
    "%autoreload 2\n",
    "mol_NN=gto.M(atom=target_mol,unit=\"Bohr\",basis=basis_set)\n",
    "fc_param = 0.001\n",
    "fcs1 = [fc_param, 0.0, 0.0, 0.0, 0.0, 0.0]\n",
    "fcs2 = [-fc_param, 0.0, 0.0, 0.0, 0.0, 0.0]\n",
    "fcs3 = [0.0, fc_param, 0.0, 0.0, 0.0, 0.0]\n",
    "fcs4 = [0.0, -fc_param, 0.0, 0.0, 0.0, 0.0]\n",
    "fcs5 = [0.0, 0.0, fc_param, 0.0, 0.0, 0.0]\n",
    "fcs6 = [0.0, 0.0, -fc_param, 0.0, 0.0, 0.0]\n",
    "fcs7 = [0.0, 0.0, 0.0, fc_param, 0.0, 0.0]\n",
    "fcs8 = [0.0, 0.0, 0.0, -fc_param, 0.0, 0.0]\n",
    "fcs9 = [0.0, 0.0, 0.0, 0.0, fc_param, 0.0]\n",
    "fcs10 = [0.0, 0.0, 0.0, 0.0, -fc_param, 0.0]\n",
    "fcs11 = [0.0, 0.0, 0.0, 0.0, 0.0, fc_param]\n",
    "fcs12 = [0.0, 0.0, 0.0, 0.0, 0.0, -fc_param]"
   ]
  },
  {
   "attachments": {},
   "cell_type": "markdown",
   "metadata": {},
   "source": [
    "##### Efficient numerical alchemical force"
   ]
  },
  {
   "cell_type": "code",
   "execution_count": 13,
   "metadata": {},
   "outputs": [
    {
     "name": "stdout",
     "output_type": "stream",
     "text": [
      "converged SCF energy = -115.08774688906\n",
      "converged SCF energy = -115.102443949\n"
     ]
    },
    {
     "name": "stderr",
     "output_type": "stream",
     "text": [
      "/home/takafumi/program/pyscf/pyscf/gto/mole.py:1213: UserWarning: Function mol.dumps drops attribute with_rinv_at_nucleus because it is not JSON-serializable\n",
      "  warnings.warn(msg)\n"
     ]
    },
    {
     "name": "stdout",
     "output_type": "stream",
     "text": [
      "converged SCF energy = -115.07305281164\n",
      "converged SCF energy = -115.088877458771\n",
      "converged SCF energy = -115.086617404047\n",
      "converged SCF energy = -115.088877458771\n",
      "converged SCF energy = -115.086617404047\n",
      "converged SCF energy = -115.088866074389\n",
      "converged SCF energy = -115.086628787657\n",
      "converged SCF energy = -115.110098300524\n",
      "converged SCF energy = -115.065399080753\n",
      "converged SCF energy = -115.088765014498\n",
      "converged SCF energy = -115.086729720902\n"
     ]
    }
   ],
   "source": [
    "fmol1=FcM_like(mol_NN,fcs=fcs1)\n",
    "fmol2=FcM_like(mol_NN,fcs=fcs2)\n",
    "fmol3=FcM_like(mol_NN,fcs=fcs3)\n",
    "fmol4=FcM_like(mol_NN,fcs=fcs4)\n",
    "fmol5=FcM_like(mol_NN,fcs=fcs5)\n",
    "fmol6=FcM_like(mol_NN,fcs=fcs6)\n",
    "fmol7=FcM_like(mol_NN,fcs=fcs7)\n",
    "fmol8=FcM_like(mol_NN,fcs=fcs8)\n",
    "fmol9=FcM_like(mol_NN,fcs=fcs9)\n",
    "fmol10=FcM_like(mol_NN,fcs=fcs10)\n",
    "fmol11=FcM_like(mol_NN,fcs=fcs11)\n",
    "fmol12=FcM_like(mol_NN,fcs=fcs12)\n",
    "mf=scf.RHF(mol_NN)\n",
    "mf1=scf.RHF(fmol1)\n",
    "mf2=scf.RHF(fmol2)\n",
    "mf3=scf.RHF(fmol3)\n",
    "mf4=scf.RHF(fmol4)\n",
    "mf5=scf.RHF(fmol5)\n",
    "mf6=scf.RHF(fmol6)\n",
    "mf7=scf.RHF(fmol7)\n",
    "mf8=scf.RHF(fmol8)\n",
    "mf9=scf.RHF(fmol9)\n",
    "mf10=scf.RHF(fmol10)\n",
    "mf11=scf.RHF(fmol11)\n",
    "mf12=scf.RHF(fmol12)\n",
    "# mf.xc = dft_functional\n",
    "# mf1.xc = dft_functional\n",
    "# mf2.xc = dft_functional\n",
    "# mf3.xc = dft_functional\n",
    "# mf4.xc = dft_functional\n",
    "# mf5.xc = dft_functional\n",
    "# mf6.xc = dft_functional\n",
    "# mf7.xc = dft_functional\n",
    "# mf8.xc = dft_functional\n",
    "# mf9.xc = dft_functional\n",
    "# mf10.xc = dft_functional\n",
    "# mf11.xc = dft_functional\n",
    "# mf12.xc = dft_functional\n",
    "# mf.conv_tol = 1e-12\n",
    "# mf1.conv_tol = 1e-12\n",
    "# mf2.conv_tol = 1e-12\n",
    "# mf3.conv_tol = 1e-12\n",
    "# mf4.conv_tol = 1e-12\n",
    "# mf.grids.level = 6\n",
    "# mf1.grids.level = 6\n",
    "# mf2.grids.level = 6\n",
    "# mf3.grids.level = 6\n",
    "# mf4.grids.level = 6\n",
    "# Without dm0=mf.init_guess_by_1e(), some SCFs do not converge.\n",
    "e=mf.scf(dm0=mf.init_guess_by_1e())\n",
    "e1=mf1.scf(dm0=mf1.init_guess_by_1e())\n",
    "e2=mf2.scf(dm0=mf2.init_guess_by_1e())\n",
    "e3=mf3.scf(dm0=mf3.init_guess_by_1e())\n",
    "e4=mf4.scf(dm0=mf4.init_guess_by_1e())\n",
    "e5=mf5.scf(dm0=mf5.init_guess_by_1e())\n",
    "e6=mf6.scf(dm0=mf6.init_guess_by_1e())\n",
    "e7=mf7.scf(dm0=mf7.init_guess_by_1e())\n",
    "e8=mf8.scf(dm0=mf8.init_guess_by_1e())\n",
    "e9=mf9.scf(dm0=mf9.init_guess_by_1e())\n",
    "e10=mf10.scf(dm0=mf10.init_guess_by_1e())\n",
    "e11=mf11.scf(dm0=mf11.init_guess_by_1e())\n",
    "e12=mf12.scf(dm0=mf12.init_guess_by_1e())"
   ]
  },
  {
   "cell_type": "code",
   "execution_count": 14,
   "metadata": {},
   "outputs": [
    {
     "name": "stdout",
     "output_type": "stream",
     "text": [
      "--------------- RHF gradients ---------------\n",
      "         x                y                z\n",
      "0 C    -0.0179489258    -0.0152830892     0.0130632867\n",
      "1 H    -0.0130971946     0.0071837271    -0.0085023690\n",
      "2 H     0.0112176449    -0.0033475533     0.0125853470\n",
      "3 H     0.0056759678    -0.0036170712    -0.0083509582\n",
      "4 O     0.0212575044     0.0572799579     0.0040951982\n",
      "5 H    -0.0071049967    -0.0422159713    -0.0128905047\n",
      "----------------------------------------------\n",
      "--------------- RHF gradients ---------------\n",
      "         x                y                z\n",
      "0 C    -0.0179275365    -0.0152769101     0.0130417101\n",
      "1 H    -0.0130747539     0.0071167492    -0.0084613508\n",
      "2 H     0.0111503588    -0.0033756686     0.0125485471\n",
      "3 H     0.0056541683    -0.0035599259    -0.0082972841\n",
      "4 O     0.0213010430     0.0573202136     0.0040651007\n",
      "5 H    -0.0071032797    -0.0422244582    -0.0128967229\n",
      "----------------------------------------------\n",
      "--------------- RHF gradients ---------------\n",
      "         x                y                z\n",
      "0 C    -0.0179703217    -0.0152892791     0.0130848656\n",
      "1 H    -0.0131196463     0.0072507375    -0.0085434062\n",
      "2 H     0.0112849628    -0.0033194241     0.0126221650\n",
      "3 H     0.0056977795    -0.0036742416    -0.0084046589\n",
      "4 O     0.0212139382     0.0572397020     0.0041253276\n",
      "5 H    -0.0071067125    -0.0422074947    -0.0128842931\n",
      "----------------------------------------------\n",
      "--------------- RHF gradients ---------------\n",
      "         x                y                z\n",
      "0 C    -0.0179685272    -0.0153013200     0.0130942138\n",
      "1 H    -0.0130891789     0.0071297801    -0.0084720299\n",
      "2 H     0.0112057590    -0.0033353231     0.0125753416\n",
      "3 H     0.0056678298    -0.0035974227    -0.0083575844\n",
      "4 O     0.0212943386     0.0573251015     0.0040558481\n",
      "5 H    -0.0071102213    -0.0422208158    -0.0128957893\n",
      "----------------------------------------------\n",
      "--------------- RHF gradients ---------------\n",
      "         x                y                z\n",
      "0 C    -0.0179292905    -0.0152649772     0.0130324320\n",
      "1 H    -0.0131052350     0.0072377423    -0.0085327450\n",
      "2 H     0.0112295264    -0.0033597584     0.0125953461\n",
      "3 H     0.0056841003    -0.0036367119    -0.0083443499\n",
      "4 O     0.0212206742     0.0572348425     0.0041345432\n",
      "5 H    -0.0070997754    -0.0422111373    -0.0128852265\n",
      "----------------------------------------------\n",
      "--------------- RHF gradients ---------------\n",
      "         x                y                z\n",
      "0 C    -0.0179841138    -0.0152945692     0.0130806959\n",
      "1 H    -0.0130824170     0.0071844088    -0.0084892497\n",
      "2 H     0.0111661752    -0.0033757360     0.0125640958\n",
      "3 H     0.0056909202    -0.0036074236    -0.0083375586\n",
      "4 O     0.0213117077     0.0573175786     0.0040709119\n",
      "5 H    -0.0071022724    -0.0422242587    -0.0128888953\n",
      "----------------------------------------------\n",
      "--------------- RHF gradients ---------------\n",
      "         x                y                z\n",
      "0 C    -0.0179138567    -0.0152716619     0.0130458174\n",
      "1 H    -0.0131119554     0.0071830614    -0.0085154761\n",
      "2 H     0.0112691786    -0.0033193410     0.0126066383\n",
      "3 H     0.0056610351    -0.0036267219    -0.0083643538\n",
      "4 O     0.0212033183     0.0572423597     0.0041194908\n",
      "5 H    -0.0071077199    -0.0422076963    -0.0128921166\n",
      "----------------------------------------------\n",
      "--------------- RHF gradients ---------------\n",
      "         x                y                z\n",
      "0 C    -0.0179731715    -0.0152923216     0.0130866321\n",
      "1 H    -0.0130910891     0.0071664716    -0.0085138816\n",
      "2 H     0.0112200441    -0.0033632036     0.0125706200\n",
      "3 H     0.0056571981    -0.0035733024    -0.0083074578\n",
      "4 O     0.0213011864     0.0572890335     0.0040493639\n",
      "5 H    -0.0071141681    -0.0422266776    -0.0128852765\n",
      "----------------------------------------------\n",
      "--------------- RHF gradients ---------------\n",
      "         x                y                z\n",
      "0 C    -0.0179247247    -0.0152737714     0.0130400353\n",
      "1 H    -0.0131033004     0.0072009780    -0.0084908766\n",
      "2 H     0.0112152616    -0.0033319147     0.0126000679\n",
      "3 H     0.0056947590    -0.0036608970    -0.0083945119\n",
      "4 O     0.0212138338     0.0572708787     0.0041410177\n",
      "5 H    -0.0070958294    -0.0422052737    -0.0128957325\n",
      "----------------------------------------------\n",
      "--------------- RHF gradients ---------------\n",
      "         x                y                z\n",
      "0 C    -0.0179097361    -0.0152552371     0.0130320091\n",
      "1 H    -0.0131072345     0.0071733136    -0.0084903661\n",
      "2 H     0.0112025732    -0.0033557874     0.0125929859\n",
      "3 H     0.0056635009    -0.0036200233    -0.0083380577\n",
      "4 O     0.0212500895     0.0572185393     0.0040730752\n",
      "5 H    -0.0070991930    -0.0421608052    -0.0128696464\n",
      "----------------------------------------------\n",
      "--------------- RHF gradients ---------------\n",
      "         x                y                z\n",
      "0 C    -0.0179880586    -0.0153109042     0.0130945172\n",
      "1 H    -0.0130871578     0.0071941508    -0.0085143764\n",
      "2 H     0.0112327252    -0.0033393141     0.0125777138\n",
      "3 H     0.0056884331    -0.0036141296    -0.0083638621\n",
      "4 O     0.0212648780     0.0573413951     0.0041173782\n",
      "5 H    -0.0071108199    -0.0422711981    -0.0129113708\n",
      "----------------------------------------------\n",
      "--------------- RHF gradients ---------------\n",
      "         x                y                z\n",
      "0 C    -0.0178932426    -0.0152603144     0.0130104559\n",
      "1 H    -0.0131046644     0.0071740561    -0.0084926935\n",
      "2 H     0.0112049061    -0.0033549422     0.0125904528\n",
      "3 H     0.0056689684    -0.0036158924    -0.0083422989\n",
      "4 O     0.0212094320     0.0572141105     0.0041177430\n",
      "5 H    -0.0070853995    -0.0421570175    -0.0128836592\n",
      "----------------------------------------------\n",
      "--------------- RHF gradients ---------------\n",
      "         x                y                z\n",
      "0 C    -0.0180045870    -0.0153058590     0.0131160946\n",
      "1 H    -0.0130897302     0.0071934057    -0.0085120497\n",
      "2 H     0.0112303918    -0.0033401627     0.0125802477\n",
      "3 H     0.0056829682    -0.0036182574    -0.0083596222\n",
      "4 O     0.0213055504     0.0573458367     0.0040726998\n",
      "5 H    -0.0071245932    -0.0422749633    -0.0128973701\n",
      "----------------------------------------------\n"
     ]
    }
   ],
   "source": [
    "nuc_grad = mf.nuc_grad_method().kernel()\n",
    "nuc_grad1 = mf1.nuc_grad_method().kernel()\n",
    "nuc_grad2 = mf2.nuc_grad_method().kernel()\n",
    "nuc_grad3 = mf3.nuc_grad_method().kernel()\n",
    "nuc_grad4 = mf4.nuc_grad_method().kernel()\n",
    "nuc_grad5 = mf5.nuc_grad_method().kernel()\n",
    "nuc_grad6 = mf6.nuc_grad_method().kernel()\n",
    "nuc_grad7 = mf7.nuc_grad_method().kernel()\n",
    "nuc_grad8 = mf8.nuc_grad_method().kernel()\n",
    "nuc_grad9 = mf9.nuc_grad_method().kernel()\n",
    "nuc_grad10 = mf10.nuc_grad_method().kernel()\n",
    "nuc_grad11 = mf11.nuc_grad_method().kernel()\n",
    "nuc_grad12 = mf12.nuc_grad_method().kernel()"
   ]
  },
  {
   "cell_type": "code",
   "execution_count": 15,
   "metadata": {},
   "outputs": [],
   "source": [
    "efficient_numerical_alchemical_force = np.zeros((6, 6, 3))\n",
    "efficient_numerical_alchemical_force[0] = (nuc_grad1 - nuc_grad2) / (2 * fc_param)\n",
    "efficient_numerical_alchemical_force[1] = (nuc_grad3 - nuc_grad4) / (2 * fc_param)\n",
    "efficient_numerical_alchemical_force[2] = (nuc_grad5 - nuc_grad6) / (2 * fc_param)\n",
    "efficient_numerical_alchemical_force[3] = (nuc_grad7 - nuc_grad8) / (2 * fc_param)\n",
    "efficient_numerical_alchemical_force[4] = (nuc_grad9 - nuc_grad10) / (2 * fc_param)\n",
    "efficient_numerical_alchemical_force[5] = (nuc_grad11 - nuc_grad12) / (2 * fc_param)"
   ]
  },
  {
   "attachments": {},
   "cell_type": "markdown",
   "metadata": {},
   "source": [
    "#### Numerical alchemical derivatives"
   ]
  },
  {
   "cell_type": "code",
   "execution_count": 16,
   "metadata": {},
   "outputs": [],
   "source": [
    "numerical_1st_alchemical_derivative = np.zeros((6))\n",
    "numerical_1st_alchemical_derivative[0] = (e1 - e2) / (2 * fc_param)\n",
    "numerical_1st_alchemical_derivative[1] = (e3 - e4) / (2 * fc_param)\n",
    "numerical_1st_alchemical_derivative[2] = (e5 - e6) / (2 * fc_param)\n",
    "numerical_1st_alchemical_derivative[3] = (e7 - e8) / (2 * fc_param)\n",
    "numerical_1st_alchemical_derivative[4] = (e9 - e10) / (2 * fc_param)\n",
    "numerical_1st_alchemical_derivative[5] = (e11 - e12) / (2 * fc_param)"
   ]
  },
  {
   "attachments": {},
   "cell_type": "markdown",
   "metadata": {},
   "source": [
    "#### Numerical alchemical hardness"
   ]
  },
  {
   "cell_type": "code",
   "execution_count": 17,
   "metadata": {},
   "outputs": [],
   "source": [
    "ap_nn=AP(mf,sites=[0,1,2,3,4,5])\n",
    "ap_nn1=AP(mf1,sites=[0,1,2,3,4,5],flag_response_property=True,charges_for_center=[6,1,1,1,8,1])\n",
    "ap_nn2=AP(mf2,sites=[0,1,2,3,4,5],flag_response_property=True,charges_for_center=[6,1,1,1,8,1])\n",
    "ap_nn3=AP(mf3,sites=[0,1,2,3,4,5],flag_response_property=True,charges_for_center=[6,1,1,1,8,1])\n",
    "ap_nn4=AP(mf4,sites=[0,1,2,3,4,5],flag_response_property=True,charges_for_center=[6,1,1,1,8,1])\n",
    "ap_nn5=AP(mf5,sites=[0,1,2,3,4,5],flag_response_property=True,charges_for_center=[6,1,1,1,8,1])\n",
    "ap_nn6=AP(mf6,sites=[0,1,2,3,4,5],flag_response_property=True,charges_for_center=[6,1,1,1,8,1])\n",
    "ap_nn7=AP(mf7,sites=[0,1,2,3,4,5],flag_response_property=True,charges_for_center=[6,1,1,1,8,1])\n",
    "ap_nn8=AP(mf8,sites=[0,1,2,3,4,5],flag_response_property=True,charges_for_center=[6,1,1,1,8,1])\n",
    "ap_nn9=AP(mf9,sites=[0,1,2,3,4,5],flag_response_property=True,charges_for_center=[6,1,1,1,8,1])\n",
    "ap_nn10=AP(mf10,sites=[0,1,2,3,4,5],flag_response_property=True,charges_for_center=[6,1,1,1,8,1])\n",
    "ap_nn11=AP(mf11,sites=[0,1,2,3,4,5],flag_response_property=True,charges_for_center=[6,1,1,1,8,1])\n",
    "ap_nn12=AP(mf12,sites=[0,1,2,3,4,5],flag_response_property=True,charges_for_center=[6,1,1,1,8,1])\n",
    "an = ap_nn.build_gradient()\n",
    "an1 = ap_nn1.build_gradient()\n",
    "an2 = ap_nn2.build_gradient()\n",
    "an3 = ap_nn3.build_gradient()\n",
    "an4 = ap_nn4.build_gradient()\n",
    "an5 = ap_nn5.build_gradient()\n",
    "an6 = ap_nn6.build_gradient()\n",
    "an7 = ap_nn7.build_gradient()\n",
    "an8 = ap_nn8.build_gradient()\n",
    "an9 = ap_nn9.build_gradient()\n",
    "an10 = ap_nn10.build_gradient()\n",
    "an11 = ap_nn11.build_gradient()\n",
    "an12 = ap_nn12.build_gradient()\n",
    "ann = ap_nn.build_hessian()\n",
    "ann1 = ap_nn1.build_hessian()\n",
    "ann2 = ap_nn2.build_hessian()\n",
    "ann3 = ap_nn3.build_hessian()\n",
    "ann4 = ap_nn4.build_hessian()\n",
    "ann5 = ap_nn5.build_hessian()\n",
    "ann6 = ap_nn6.build_hessian()\n",
    "ann7 = ap_nn7.build_hessian()\n",
    "ann8 = ap_nn8.build_hessian()\n",
    "ann9 = ap_nn9.build_hessian()\n",
    "ann10 = ap_nn10.build_hessian()\n",
    "ann11 = ap_nn11.build_hessian()\n",
    "ann12 = ap_nn12.build_hessian()\n",
    "dipole1 = ap_nn1.ref_elec_electric_dipole_moment * -1\n",
    "dipole2 = ap_nn2.ref_elec_electric_dipole_moment * -1\n",
    "dipole3 = ap_nn3.ref_elec_electric_dipole_moment * -1\n",
    "dipole4 = ap_nn4.ref_elec_electric_dipole_moment * -1\n",
    "dipole5 = ap_nn5.ref_elec_electric_dipole_moment * -1\n",
    "dipole6 = ap_nn6.ref_elec_electric_dipole_moment * -1\n",
    "dipole7 = ap_nn7.ref_elec_electric_dipole_moment * -1\n",
    "dipole8 = ap_nn8.ref_elec_electric_dipole_moment * -1\n",
    "dipole9 = ap_nn9.ref_elec_electric_dipole_moment * -1\n",
    "dipole10 = ap_nn10.ref_elec_electric_dipole_moment * -1\n",
    "dipole11 = ap_nn11.ref_elec_electric_dipole_moment * -1\n",
    "dipole12 = ap_nn12.ref_elec_electric_dipole_moment * -1\n",
    "pol1 = ap_nn1.ref_elec_electric_polarizability * -1\n",
    "pol2 = ap_nn2.ref_elec_electric_polarizability * -1\n",
    "pol3 = ap_nn3.ref_elec_electric_polarizability * -1\n",
    "pol4 = ap_nn4.ref_elec_electric_polarizability * -1\n",
    "pol5 = ap_nn5.ref_elec_electric_polarizability * -1\n",
    "pol6 = ap_nn6.ref_elec_electric_polarizability * -1\n",
    "pol7 = ap_nn7.ref_elec_electric_polarizability * -1\n",
    "pol8 = ap_nn8.ref_elec_electric_polarizability * -1\n",
    "pol9 = ap_nn9.ref_elec_electric_polarizability * -1\n",
    "pol10 = ap_nn10.ref_elec_electric_polarizability * -1\n",
    "pol11 = ap_nn11.ref_elec_electric_polarizability * -1\n",
    "pol12 = ap_nn12.ref_elec_electric_polarizability * -1"
   ]
  },
  {
   "cell_type": "code",
   "execution_count": 18,
   "metadata": {},
   "outputs": [],
   "source": [
    "numerical_2nd_alchemical_derivative = np.zeros((6, 6))\n",
    "numerical_2nd_alchemical_derivative[0] = (an1 - an2) / (2 * fc_param)\n",
    "numerical_2nd_alchemical_derivative[1] = (an3 - an4) / (2 * fc_param)\n",
    "numerical_2nd_alchemical_derivative[2] = (an5 - an6) / (2 * fc_param)\n",
    "numerical_2nd_alchemical_derivative[3] = (an7 - an8) / (2 * fc_param)\n",
    "numerical_2nd_alchemical_derivative[4] = (an9 - an10) / (2 * fc_param)\n",
    "numerical_2nd_alchemical_derivative[5] = (an11 - an12) / (2 * fc_param)"
   ]
  },
  {
   "attachments": {},
   "cell_type": "markdown",
   "metadata": {},
   "source": [
    "#### Numerical alchemical hardness derivatives"
   ]
  },
  {
   "cell_type": "code",
   "execution_count": 19,
   "metadata": {},
   "outputs": [],
   "source": [
    "numerical_3rd_alchemical_derivative = np.zeros((6, 6, 6))\n",
    "numerical_3rd_alchemical_derivative[0, :, :] = (ann1 - ann2) / (2 * fc_param)\n",
    "numerical_3rd_alchemical_derivative[1, :, :] = (ann3 - ann4) / (2 * fc_param)\n",
    "numerical_3rd_alchemical_derivative[2, :, :] = (ann5 - ann6) / (2 * fc_param)\n",
    "numerical_3rd_alchemical_derivative[3, :, :] = (ann7 - ann8) / (2 * fc_param)\n",
    "numerical_3rd_alchemical_derivative[4, :, :] = (ann9 - ann10) / (2 * fc_param)\n",
    "numerical_3rd_alchemical_derivative[5, :, :] = (ann11 - ann12) / (2 * fc_param)"
   ]
  },
  {
   "attachments": {},
   "cell_type": "markdown",
   "metadata": {},
   "source": [
    "#### Inefficient numerical alchemical force"
   ]
  },
  {
   "cell_type": "code",
   "execution_count": 20,
   "metadata": {},
   "outputs": [],
   "source": [
    "# mol_NN1=gto.M(atom=\"C 0 0 0.001; O 0 0 2.1\",unit=\"Bohr\",basis=basis_set)\n",
    "# mol_NN2=gto.M(atom=\"C 0 0 -0.001; O 0 0 2.1\",unit=\"Bohr\",basis=basis_set)\n",
    "# mol_NN3=gto.M(atom=\"C 0 0 0; O 0 0 2.101\",unit=\"Bohr\",basis=basis_set)\n",
    "# mol_NN4=gto.M(atom=\"C 0 0 0; O 0 0 2.099\",unit=\"Bohr\",basis=basis_set)\n",
    "# mf_nn1=scf.RKS(mol_NN1)\n",
    "# mf_nn2=scf.RKS(mol_NN2)\n",
    "# mf_nn3=scf.RKS(mol_NN3)\n",
    "# mf_nn4=scf.RKS(mol_NN4)\n",
    "# mf_nn1.xc = dft_functional\n",
    "# mf_nn2.xc = dft_functional\n",
    "# mf_nn3.xc = dft_functional\n",
    "# mf_nn4.xc = dft_functional\n",
    "# mf_nn1.scf()\n",
    "# mf_nn2.scf()\n",
    "# mf_nn3.scf()\n",
    "# mf_nn4.scf()\n",
    "# ap_nn1=AP(mf_nn1,sites=[0,1])\n",
    "# ap_nn2=AP(mf_nn2,sites=[0,1])\n",
    "# ap_nn3=AP(mf_nn3,sites=[0,1])\n",
    "# ap_nn4=AP(mf_nn4,sites=[0,1])\n",
    "# ad1 = ap_nn1.build_gradient()\n",
    "# ad2 = ap_nn2.build_gradient()\n",
    "# ad3 = ap_nn3.build_gradient()\n",
    "# ad4 = ap_nn4.build_gradient()"
   ]
  },
  {
   "cell_type": "code",
   "execution_count": 21,
   "metadata": {},
   "outputs": [],
   "source": [
    "# inefficient_numerical_alchemical_force = np.zeros((2, 2))  # only z axis components\n",
    "# inefficient_numerical_alchemical_force[:, 0] = (ad1 - ad2) / (2 * fc_param)\n",
    "# inefficient_numerical_alchemical_force[:, 1] = (ad3 - ad4) / (2 * fc_param)"
   ]
  },
  {
   "cell_type": "markdown",
   "metadata": {},
   "source": [
    "#### Numerical alchemical electric dipole moment"
   ]
  },
  {
   "cell_type": "code",
   "execution_count": 22,
   "metadata": {},
   "outputs": [],
   "source": [
    "numer_elec_electric_dipole_gradient = np.zeros((6, 3))\n",
    "numer_elec_electric_dipole_gradient[0] = (dipole1 - dipole2) / (2 * fc_param)\n",
    "numer_elec_electric_dipole_gradient[1] = (dipole3 - dipole4) / (2 * fc_param)\n",
    "numer_elec_electric_dipole_gradient[2] = (dipole5 - dipole6) / (2 * fc_param)\n",
    "numer_elec_electric_dipole_gradient[3] = (dipole7 - dipole8) / (2 * fc_param)\n",
    "numer_elec_electric_dipole_gradient[4] = (dipole9 - dipole10) / (2 * fc_param)\n",
    "numer_elec_electric_dipole_gradient[5] = (dipole11 - dipole12) / (2 * fc_param)"
   ]
  },
  {
   "cell_type": "markdown",
   "metadata": {},
   "source": [
    "#### Numerical alchemical electric polarizability"
   ]
  },
  {
   "cell_type": "code",
   "execution_count": 23,
   "metadata": {},
   "outputs": [],
   "source": [
    "numer_elec_electric_pol_gradient = np.zeros((6, 3, 3))\n",
    "numer_elec_electric_pol_gradient[0] = (pol1 - pol2) / (2 * fc_param)\n",
    "numer_elec_electric_pol_gradient[1] = (pol3 - pol4) / (2 * fc_param)\n",
    "numer_elec_electric_pol_gradient[2] = (pol5 - pol6) / (2 * fc_param)\n",
    "numer_elec_electric_pol_gradient[3] = (pol7 - pol8) / (2 * fc_param)\n",
    "numer_elec_electric_pol_gradient[4] = (pol9 - pol10) / (2 * fc_param)\n",
    "numer_elec_electric_pol_gradient[5] = (pol11 - pol12) / (2 * fc_param)"
   ]
  },
  {
   "cell_type": "markdown",
   "metadata": {},
   "source": [
    "## Comparison of analytical and numerical evaluations"
   ]
  },
  {
   "cell_type": "markdown",
   "metadata": {},
   "source": [
    "$ \\partial E/\\partial Z_i $"
   ]
  },
  {
   "cell_type": "code",
   "execution_count": 24,
   "metadata": {},
   "outputs": [
    {
     "name": "stdout",
     "output_type": "stream",
     "text": [
      "[-14.69556852  -1.13002724  -1.13002724  -1.11864327 -22.3496097\n",
      "  -1.01764698]\n"
     ]
    }
   ],
   "source": [
    "print(analytical_1st_alchemical_derivative)"
   ]
  },
  {
   "cell_type": "markdown",
   "metadata": {},
   "source": [
    "$ (\\partial E/\\partial Z_i)_\\mathrm{analytical} $ - $ (\\partial E/\\partial Z_i)_\\mathrm{numerical} $"
   ]
  },
  {
   "cell_type": "code",
   "execution_count": 25,
   "metadata": {},
   "outputs": [
    {
     "name": "stdout",
     "output_type": "stream",
     "text": [
      "[ 1.56663894e-07  1.21511862e-07  1.21391681e-07  9.54229513e-08\n",
      "  1.87632615e-07 -1.86367585e-07]\n"
     ]
    }
   ],
   "source": [
    "print(analytical_1st_alchemical_derivative - numerical_1st_alchemical_derivative)"
   ]
  },
  {
   "cell_type": "markdown",
   "metadata": {},
   "source": [
    "$\\partial^2E/\\partial Z_i\\partial Z_j$"
   ]
  },
  {
   "cell_type": "code",
   "execution_count": 26,
   "metadata": {},
   "outputs": [
    {
     "name": "stdout",
     "output_type": "stream",
     "text": [
      "[[-2.98251879  0.40535361  0.40535361  0.40313263  0.30192006  0.27684405]\n",
      " [ 0.40535361 -1.08469606  0.32594434  0.33120622  0.28192602  0.26925656]\n",
      " [ 0.40535361  0.32594434 -1.08469606  0.33120622  0.28192602  0.26925656]\n",
      " [ 0.40313263  0.33120622  0.33120622 -1.08392396  0.27796653  0.27601045]\n",
      " [ 0.30192006  0.28192602  0.28192602  0.27796653 -3.60315557  0.44664312]\n",
      " [ 0.27684405  0.26925656  0.26925656  0.27601045  0.44664312 -0.95727943]]\n"
     ]
    }
   ],
   "source": [
    "print(analytical_2nd_alchemical_derivative)"
   ]
  },
  {
   "cell_type": "markdown",
   "metadata": {},
   "source": [
    "$(\\partial^2E/\\partial Z_i\\partial Z_j)_\\mathrm{analytical}$ - $(\\partial^2E/\\partial Z_i\\partial Z_j)_\\mathrm{numerical}$"
   ]
  },
  {
   "cell_type": "code",
   "execution_count": 27,
   "metadata": {},
   "outputs": [
    {
     "name": "stdout",
     "output_type": "stream",
     "text": [
      "[[ 7.39168504e-07 -7.12509994e-08 -7.12564371e-08  1.30480171e-07\n",
      "  -5.55031282e-07 -2.79688045e-07]\n",
      " [ 8.56311472e-07  5.68443107e-07 -6.27556186e-07 -1.01019155e-08\n",
      "  -1.44452946e-07 -2.75699670e-07]\n",
      " [ 8.56244306e-07 -6.27589048e-07  5.68441084e-07 -1.00816385e-08\n",
      "  -1.44478340e-07 -2.75706552e-07]\n",
      " [ 7.58220697e-07 -1.21606943e-07 -1.21603097e-07  2.49678447e-08\n",
      "  -1.40015140e-07  7.65778770e-08]\n",
      " [ 4.73149814e-07 -2.83418254e-08 -2.83419057e-08 -6.05831234e-08\n",
      "  -6.46568421e-08 -8.10436594e-08]\n",
      " [ 4.68552980e-07 -3.69957160e-07 -3.69952052e-07 -7.75124831e-07\n",
      "   1.59149539e-07 -4.98639268e-08]]\n"
     ]
    }
   ],
   "source": [
    "print(analytical_2nd_alchemical_derivative - numerical_2nd_alchemical_derivative)"
   ]
  },
  {
   "cell_type": "markdown",
   "metadata": {},
   "source": [
    "$\\partial^3E/\\partial Z_i\\partial Z_j\\partial Z_k$"
   ]
  },
  {
   "cell_type": "code",
   "execution_count": 28,
   "metadata": {},
   "outputs": [
    {
     "name": "stdout",
     "output_type": "stream",
     "text": [
      "[[[-0.26923386  0.08290763  0.08290763  0.08173221  0.04068338\n",
      "    0.03735554]\n",
      "  [ 0.08290763  0.11297092  0.075523    0.07688749  0.04816134\n",
      "    0.04270145]\n",
      "  [ 0.08290763  0.075523    0.11297092  0.07688749  0.04816134\n",
      "    0.04270145]\n",
      "  [ 0.08173221  0.07688749  0.07688749  0.10926678  0.04615448\n",
      "    0.0386318 ]\n",
      "  [ 0.04068338  0.04816134  0.04816134  0.04615448  0.02184993\n",
      "    0.01430208]\n",
      "  [ 0.03735554  0.04270145  0.04270145  0.0386318   0.01430208\n",
      "    0.02408054]]\n",
      "\n",
      " [[ 0.08290763  0.11297092  0.075523    0.07688749  0.04816134\n",
      "    0.04270145]\n",
      "  [ 0.11297092 -0.85251327  0.07055889  0.07111204  0.05262468\n",
      "    0.04236894]\n",
      "  [ 0.075523    0.07055889  0.07055889  0.03669421  0.02811253\n",
      "    0.02466812]\n",
      "  [ 0.07688749  0.07111204  0.03669421  0.07004581  0.02764435\n",
      "    0.02278396]\n",
      "  [ 0.04816134  0.05262468  0.02811253  0.02764435  0.02931532\n",
      "    0.02123612]\n",
      "  [ 0.04270145  0.04236894  0.02466812  0.02278396  0.02123612\n",
      "    0.03413623]]\n",
      "\n",
      " [[ 0.08290763  0.075523    0.11297092  0.07688749  0.04816134\n",
      "    0.04270145]\n",
      "  [ 0.075523    0.07055889  0.07055889  0.03669421  0.02811253\n",
      "    0.02466812]\n",
      "  [ 0.11297092  0.07055889 -0.85251328  0.07111204  0.05262468\n",
      "    0.04236894]\n",
      "  [ 0.07688749  0.03669421  0.07111204  0.07004581  0.02764435\n",
      "    0.02278396]\n",
      "  [ 0.04816134  0.02811253  0.05262468  0.02764435  0.02931532\n",
      "    0.02123612]\n",
      "  [ 0.04270145  0.02466812  0.04236894  0.02278396  0.02123612\n",
      "    0.03413623]]\n",
      "\n",
      " [[ 0.08173221  0.07688749  0.07688749  0.10926678  0.04615448\n",
      "    0.0386318 ]\n",
      "  [ 0.07688749  0.07111204  0.03669421  0.07004581  0.02764435\n",
      "    0.02278396]\n",
      "  [ 0.07688749  0.03669421  0.07111204  0.07004581  0.02764435\n",
      "    0.02278396]\n",
      "  [ 0.10926678  0.07004581  0.07004581 -0.86139434  0.05157152\n",
      "    0.03903139]\n",
      "  [ 0.04615448  0.02764435  0.02764435  0.05157152  0.03533549\n",
      "    0.01954673]\n",
      "  [ 0.0386318   0.02278396  0.02278396  0.03903139  0.01954673\n",
      "    0.03241175]]\n",
      "\n",
      " [[ 0.04068338  0.04816134  0.04816134  0.04615448  0.02184993\n",
      "    0.01430208]\n",
      "  [ 0.04816134  0.05262468  0.02811253  0.02764435  0.02931532\n",
      "    0.02123612]\n",
      "  [ 0.04816134  0.02811253  0.05262468  0.02764435  0.02931532\n",
      "    0.02123612]\n",
      "  [ 0.04615448  0.02764435  0.02764435  0.05157152  0.03533549\n",
      "    0.01954673]\n",
      "  [ 0.02184993  0.02931532  0.02931532  0.03533549 -0.17819706\n",
      "    0.09062195]\n",
      "  [ 0.01430208  0.02123612  0.02123612  0.01954673  0.09062195\n",
      "    0.12409645]]\n",
      "\n",
      " [[ 0.03735554  0.04270145  0.04270145  0.0386318   0.01430208\n",
      "    0.02408054]\n",
      "  [ 0.04270145  0.04236894  0.02466812  0.02278396  0.02123612\n",
      "    0.03413623]\n",
      "  [ 0.04270145  0.02466812  0.04236894  0.02278396  0.02123612\n",
      "    0.03413623]\n",
      "  [ 0.0386318   0.02278396  0.02278396  0.03903139  0.01954673\n",
      "    0.03241175]\n",
      "  [ 0.01430208  0.02123612  0.02123612  0.01954673  0.09062195\n",
      "    0.12409645]\n",
      "  [ 0.02408054  0.03413623  0.03413623  0.03241175  0.12409645\n",
      "   -0.81305105]]]\n"
     ]
    }
   ],
   "source": [
    "print(analytical_3rd_alchemical_derivative)"
   ]
  },
  {
   "cell_type": "markdown",
   "metadata": {},
   "source": [
    "$(\\partial^3E/\\partial Z_i\\partial Z_j\\partial Z_k)_\\mathrm{analytical}$ - $(\\partial^3E/\\partial Z_i\\partial Z_j\\partial Z_k)_\\mathrm{numerical}$"
   ]
  },
  {
   "cell_type": "code",
   "execution_count": 29,
   "metadata": {},
   "outputs": [
    {
     "name": "stdout",
     "output_type": "stream",
     "text": [
      "[[[ 3.07489434e-07  1.58695652e-07  1.58695056e-07 -2.25697773e-08\n",
      "   -2.24282964e-08 -2.09427951e-07]\n",
      "  [ 1.58695652e-07  1.68140892e-07  3.22039653e-08 -3.93982734e-08\n",
      "    8.12488552e-08 -2.35885891e-08]\n",
      "  [ 1.58695056e-07  3.22039653e-08  1.68136319e-07 -3.93989976e-08\n",
      "    8.12477015e-08 -2.35890434e-08]\n",
      "  [-2.25697773e-08 -3.93982734e-08 -3.93989976e-08 -9.63549260e-08\n",
      "   -4.03270932e-08 -3.90628038e-08]\n",
      "  [-2.24282964e-08  8.12488552e-08  8.12477015e-08 -4.03270932e-08\n",
      "   -3.15027476e-07 -1.11445331e-07]\n",
      "  [-2.09427951e-07 -2.35885891e-08 -2.35890434e-08 -3.90628039e-08\n",
      "   -1.11445331e-07 -1.78219380e-07]]\n",
      "\n",
      " [[ 1.93439665e-07  1.03075657e-06 -9.00710780e-07 -6.27481233e-08\n",
      "   -1.91406749e-08 -1.45173886e-07]\n",
      "  [ 1.03075657e-06  1.03910080e-06  3.87153966e-08  2.02524222e-07\n",
      "    1.70170832e-07  1.58467425e-07]\n",
      "  [-9.00710780e-07  3.87153967e-08 -9.65254684e-07 -2.87952419e-07\n",
      "   -2.08807884e-07 -2.72505377e-07]\n",
      "  [-6.27481233e-08  2.02524222e-07 -2.87952419e-07 -1.18232599e-07\n",
      "   -5.02988239e-08 -7.73898209e-09]\n",
      "  [-1.91406749e-08  1.70170832e-07 -2.08807884e-07 -5.02988239e-08\n",
      "   -6.91817631e-08 -9.49150597e-08]\n",
      "  [-1.45173886e-07  1.58467425e-07 -2.72505377e-07 -7.73898209e-09\n",
      "   -9.49150597e-08 -3.55932886e-07]]\n",
      "\n",
      " [[ 1.93437654e-07 -9.00708060e-07  1.03075904e-06 -6.27471266e-08\n",
      "   -1.91406073e-08 -1.45172814e-07]\n",
      "  [-9.00708060e-07 -9.65260867e-07  3.87194700e-08 -2.87950449e-07\n",
      "   -2.08806690e-07 -2.72504211e-07]\n",
      "  [ 1.03075904e-06  3.87194700e-08  1.03909636e-06  2.02525754e-07\n",
      "    1.70171751e-07  1.58468326e-07]\n",
      "  [-6.27471266e-08 -2.87950449e-07  2.02525754e-07 -1.18237354e-07\n",
      "   -5.02989270e-08 -7.73878451e-09]\n",
      "  [-1.91406073e-08 -2.08806690e-07  1.70171751e-07 -5.02989270e-08\n",
      "   -6.91823770e-08 -9.49140117e-08]\n",
      "  [-1.45172814e-07 -2.72504211e-07  1.58468326e-07 -7.73878450e-09\n",
      "   -9.49140117e-08 -3.55924322e-07]]\n",
      "\n",
      " [[ 4.20644929e-08 -2.66269339e-08 -2.66264646e-08 -1.99301411e-07\n",
      "    6.41967988e-09 -9.05669936e-08]\n",
      "  [-2.66269339e-08  9.15456624e-08 -4.30003998e-09 -1.48720823e-07\n",
      "   -2.55542287e-08 -7.02705176e-08]\n",
      "  [-2.66264646e-08 -4.30003998e-09  9.15434191e-08 -1.48721664e-07\n",
      "   -2.55543873e-08 -7.02704588e-08]\n",
      "  [-1.99301411e-07 -1.48720823e-07 -1.48721664e-07 -5.70657037e-07\n",
      "    7.83499045e-08  2.20310650e-08]\n",
      "  [ 6.41967988e-09 -2.55542287e-08 -2.55543873e-08  7.83499044e-08\n",
      "   -1.48368467e-07 -5.55082445e-09]\n",
      "  [-9.05669936e-08 -7.02705176e-08 -7.02704588e-08  2.20310650e-08\n",
      "   -5.55082445e-09 -7.85819939e-08]]\n",
      "\n",
      " [[ 2.61706281e-07  1.38927190e-07  1.38925619e-07  6.89885214e-09\n",
      "   -1.89437937e-07 -1.13351112e-07]\n",
      "  [ 1.38927190e-07  2.70716047e-08  2.16980362e-08 -1.34008948e-08\n",
      "    1.11508663e-08  4.78486578e-08]\n",
      "  [ 1.38925619e-07  2.16980362e-08  2.70715249e-08 -1.34019693e-08\n",
      "    1.11504745e-08  4.78482625e-08]\n",
      "  [ 6.89885215e-09 -1.34008948e-08 -1.34019693e-08  3.69704768e-08\n",
      "   -1.50655638e-07 -7.83261935e-08]\n",
      "  [-1.89437937e-07  1.11508663e-08  1.11504745e-08 -1.50655638e-07\n",
      "   -1.91820488e-07  2.87983283e-07]\n",
      "  [-1.13351112e-07  4.78486578e-08  4.78482625e-08 -7.83261935e-08\n",
      "    2.87983283e-07  1.42432111e-07]]\n",
      "\n",
      " [[ 4.22559567e-07  2.64448228e-07  2.64448245e-07 -2.55939459e-07\n",
      "   -5.69989112e-09  4.41369482e-08]\n",
      "  [ 2.64448228e-07  2.18968224e-07  2.12766085e-07 -1.01113318e-07\n",
      "    3.05781395e-08  5.87236731e-08]\n",
      "  [ 2.64448245e-07  2.12766085e-07  2.18969957e-07 -1.01112704e-07\n",
      "    3.05784381e-08  5.87237158e-08]\n",
      "  [-2.55939459e-07 -1.01113318e-07 -1.01112704e-07 -5.01965755e-08\n",
      "    3.69435169e-08 -2.27014160e-08]\n",
      "  [-5.69989112e-09  3.05781395e-08  3.05784381e-08  3.69435169e-08\n",
      "    3.20379629e-08  8.31938025e-08]\n",
      "  [ 4.41369482e-08  5.87236731e-08  5.87237158e-08 -2.27014160e-08\n",
      "    8.31938024e-08 -7.96813335e-08]]]\n"
     ]
    }
   ],
   "source": [
    "print(analytical_3rd_alchemical_derivative - numerical_3rd_alchemical_derivative)"
   ]
  },
  {
   "cell_type": "markdown",
   "metadata": {},
   "source": [
    "$\\partial^2E/\\partial Z_i\\partial R_j$"
   ]
  },
  {
   "cell_type": "code",
   "execution_count": 30,
   "metadata": {},
   "outputs": [
    {
     "name": "stdout",
     "output_type": "stream",
     "text": [
      "[[[ 0.0213926   0.00618461 -0.02157777]\n",
      "  [ 0.02244613 -0.06699425  0.04102775]\n",
      "  [-0.06730211 -0.02812237 -0.03680888]\n",
      "  [-0.0218055   0.05715793  0.05368733]\n",
      "  [ 0.04355232  0.04025592 -0.03011333]\n",
      "  [ 0.00171656 -0.00848184 -0.00621511]]\n",
      "\n",
      " [[-0.01961834 -0.01817134  0.03089087]\n",
      "  [ 0.00802809 -0.05398191  0.03035829]\n",
      "  [-0.0118829   0.01221784 -0.01000215]\n",
      "  [-0.00813519  0.01964461 -0.00661723]\n",
      "  [ 0.03683063  0.04513042 -0.03934857]\n",
      "  [-0.00522229 -0.00483963 -0.00528121]]\n",
      "\n",
      " [[-0.03512848 -0.01145356  0.01743927]\n",
      "  [ 0.01476915  0.00067427  0.01311257]\n",
      "  [-0.05150272 -0.02819784 -0.02127145]\n",
      "  [ 0.01494252  0.00964916  0.01339756]\n",
      "  [ 0.05419609  0.03760907 -0.02428789]\n",
      "  [ 0.00272344 -0.00828109  0.00160994]]\n",
      "\n",
      " [[-0.0242235  -0.0092752   0.02329843]\n",
      "  [ 0.0061057  -0.0172533  -0.01150252]\n",
      "  [ 0.00239123 -0.01564448 -0.01472399]\n",
      "  [-0.01878045  0.04379734  0.04352703]\n",
      "  [ 0.04367619  0.00907755 -0.04582674]\n",
      "  [-0.00916917 -0.01070191  0.00522779]]\n",
      "\n",
      " [[ 0.03916132  0.02783394 -0.03125395]\n",
      "  [-0.01003839 -0.01041866  0.01200517]\n",
      "  [-0.01507609 -0.00823673  0.00763609]\n",
      "  [-0.01246605 -0.00294682  0.01290212]\n",
      "  [-0.0073943  -0.06142856 -0.02215176]\n",
      "  [ 0.0058135   0.05519684  0.02086233]]\n",
      "\n",
      " [[ 0.05567164  0.02277354 -0.05281807]\n",
      "  [-0.00746686 -0.00967505  0.00967795]\n",
      "  [-0.01274284 -0.00738991  0.00510221]\n",
      "  [-0.00700006  0.00118197  0.00866158]\n",
      "  [-0.04805908 -0.06586352  0.02252125]\n",
      "  [ 0.0195972   0.05897298  0.00685509]]]\n"
     ]
    }
   ],
   "source": [
    "print(efficient_analytical_alchemical_force)"
   ]
  },
  {
   "cell_type": "markdown",
   "metadata": {},
   "source": [
    "$(\\partial^2E/\\partial Z_i\\partial R_j)_\\mathrm{analytical}$ - $(\\partial^2E/\\partial Z_i\\partial R_j)_\\mathrm{numerical}$"
   ]
  },
  {
   "cell_type": "code",
   "execution_count": 31,
   "metadata": {},
   "outputs": [
    {
     "name": "stdout",
     "output_type": "stream",
     "text": [
      "[[[ 2.16335573e-08  9.38028486e-08  2.19115384e-08]\n",
      "  [-6.49215520e-08 -1.12521838e-07  7.82892342e-08]\n",
      "  [-1.18245021e-07 -8.94337570e-08  3.20434732e-08]\n",
      "  [ 8.62273294e-08  8.46701161e-08 -5.71361158e-08]\n",
      "  [-6.59086796e-08  1.11453090e-07  1.31690226e-07]\n",
      "  [ 1.41234183e-07 -8.79771010e-08 -2.06782989e-07]]\n",
      "\n",
      " [[ 3.88827541e-08  9.58471629e-08 -1.85377959e-08]\n",
      "  [ 4.01901869e-08 -8.01386735e-07  7.66389150e-07]\n",
      "  [ 7.75967058e-07  1.89183857e-07  1.03035841e-07]\n",
      "  [ 3.59133600e-08 -1.65451866e-08  1.22289787e-08]\n",
      "  [-1.56849597e-06  8.93231844e-07 -1.04038807e-06]\n",
      "  [ 6.77547054e-07 -3.60347921e-07  1.77272919e-07]]\n",
      "\n",
      " [[ 5.81743467e-08  8.74975695e-08 -1.82299653e-09]\n",
      "  [-3.17455423e-08  5.39014998e-07 -5.97462785e-07]\n",
      "  [-1.04443102e-06 -3.31604488e-07 -1.74283561e-07]\n",
      "  [-1.94409641e-08  7.42580560e-09 -3.57825977e-08]\n",
      "  [ 1.37791078e-06 -3.82931066e-07  1.51495673e-06]\n",
      "  [-3.40475501e-07  8.05858047e-08 -7.05635487e-07]]\n",
      "\n",
      " [[-9.95211429e-08 -1.15177568e-07  5.72259700e-08]\n",
      "  [ 3.25927344e-08 -6.63101546e-08 -6.82672809e-09]\n",
      "  [-2.45185654e-08 -4.15716158e-08 -5.63651888e-08]\n",
      "  [-7.85225196e-09  3.78285336e-09  1.09570455e-08]\n",
      "  [-8.70577183e-08  1.64638524e-07  1.82580860e-07]\n",
      "  [ 1.86351117e-07  5.46428453e-08 -1.87582638e-07]]\n",
      "\n",
      " [[ 7.26888632e-08  4.21433140e-07  1.26656962e-07]\n",
      "  [-4.30054266e-08 -7.68986327e-08  1.47887409e-08]\n",
      "  [-4.62398599e-08 -7.54921631e-08  1.19970241e-08]\n",
      "  [ 3.84315585e-08 -7.12873266e-09 -4.78639666e-08]\n",
      "  [-6.44320040e-08 -6.56193770e-07 -2.53422041e-07]\n",
      "  [ 4.25386925e-08  3.94269903e-07  1.47853297e-07]]\n",
      "\n",
      " [[-5.47638812e-07  1.22459996e-06  1.24299920e-06]\n",
      "  [ 2.56151923e-07 -2.33646743e-07 -1.44071109e-07]\n",
      "  [ 1.65347518e-08 -1.29864067e-07 -3.51883833e-07]\n",
      "  [-1.89710709e-07 -5.62859201e-07 -6.23523542e-08]\n",
      "  [ 1.17479527e-07 -3.88031668e-07 -3.29244405e-07]\n",
      "  [ 3.47181920e-07  8.98108317e-08 -3.55457956e-07]]]\n"
     ]
    }
   ],
   "source": [
    "print(efficient_analytical_alchemical_force - efficient_numerical_alchemical_force)"
   ]
  },
  {
   "cell_type": "markdown",
   "metadata": {},
   "source": [
    "$\\partial^2E/\\partial Z_i\\partial R_j$"
   ]
  },
  {
   "cell_type": "code",
   "execution_count": 32,
   "metadata": {},
   "outputs": [],
   "source": [
    "# print(inefficient_analytical_alchemical_force)"
   ]
  },
  {
   "cell_type": "markdown",
   "metadata": {},
   "source": [
    "$(\\partial^2E/\\partial Z_i\\partial R_j)_\\mathrm{analytical}$ - $(\\partial^2E/\\partial Z_i\\partial R_j)_\\mathrm{numerical}$"
   ]
  },
  {
   "cell_type": "code",
   "execution_count": 33,
   "metadata": {},
   "outputs": [],
   "source": [
    "# print(inefficient_analytical_alchemical_force[:, :, 2] - inefficient_numerical_alchemical_force)"
   ]
  },
  {
   "cell_type": "markdown",
   "metadata": {},
   "source": [
    "$(\\partial^2E/\\partial Z_i\\partial R_j)_\\mathrm{analytical,efficient}$ - $(\\partial^2E/\\partial Z_i\\partial R_j)_\\mathrm{analytical,inefficient}$"
   ]
  },
  {
   "cell_type": "code",
   "execution_count": 34,
   "metadata": {},
   "outputs": [],
   "source": [
    "# print(efficient_analytical_alchemical_force - inefficient_analytical_alchemical_force)"
   ]
  },
  {
   "cell_type": "markdown",
   "metadata": {},
   "source": [
    "$(\\partial ^2 E/ \\partial Z_I \\partial \\mathbf{F})_\\mathrm{analytical}$"
   ]
  },
  {
   "cell_type": "code",
   "execution_count": 35,
   "metadata": {},
   "outputs": [
    {
     "name": "stdout",
     "output_type": "stream",
     "text": [
      "[[-0.04234378 -0.0730948   0.01231999]\n",
      " [ 0.35743473 -1.34593223  0.78518923]\n",
      " [-1.31427724 -0.62187791 -0.66464914]\n",
      " [-0.52606071  0.93199921  1.07200918]\n",
      " [ 0.63343031  0.21466197 -0.62316334]\n",
      " [ 0.87931238  1.49323811 -0.26814819]]\n"
     ]
    }
   ],
   "source": [
    "print(elec_electric_dipole_gradient_f)"
   ]
  },
  {
   "cell_type": "code",
   "execution_count": 36,
   "metadata": {},
   "outputs": [
    {
     "name": "stdout",
     "output_type": "stream",
     "text": [
      "[[-0.04234378 -0.07309481  0.01231999]\n",
      " [ 0.35743474 -1.34593223  0.78518923]\n",
      " [-1.31427725 -0.6218779  -0.66464914]\n",
      " [-0.52606067  0.93199923  1.07200915]\n",
      " [ 0.63343035  0.21466199 -0.62316336]\n",
      " [ 0.87931236  1.49323809 -0.26814818]]\n"
     ]
    }
   ],
   "source": [
    "print(elec_electric_dipole_gradient_z)"
   ]
  },
  {
   "cell_type": "markdown",
   "metadata": {},
   "source": [
    "$(\\partial ^2 E/ \\partial Z_I \\partial \\mathbf{F})_\\mathrm{analytical}$ - $(\\partial ^2 E/ \\partial Z_I \\partial \\mathbf{F})_\\mathrm{numerical}$"
   ]
  },
  {
   "cell_type": "code",
   "execution_count": 37,
   "metadata": {},
   "outputs": [
    {
     "name": "stdout",
     "output_type": "stream",
     "text": [
      "[[ 2.56996882e-07  1.49369239e-06  4.49635550e-07]\n",
      " [-8.59892862e-06  4.45216920e-06 -5.59905608e-06]\n",
      " [ 7.26195991e-06 -2.41750615e-06  8.15672513e-06]\n",
      " [-1.14467844e-06  1.40442514e-06  2.02122141e-06]\n",
      " [ 3.99526459e-07 -1.48730583e-07 -5.34945715e-07]\n",
      " [-1.90050576e-06  1.61041221e-06  2.99559783e-06]]\n"
     ]
    }
   ],
   "source": [
    "print(elec_electric_dipole_gradient_f - numer_elec_electric_dipole_gradient)"
   ]
  },
  {
   "cell_type": "code",
   "execution_count": 38,
   "metadata": {},
   "outputs": [
    {
     "name": "stdout",
     "output_type": "stream",
     "text": [
      "[[ 2.57646997e-07  1.49010729e-06  4.47095526e-07]\n",
      " [-8.58898181e-06  4.45588602e-06 -5.59127902e-06]\n",
      " [ 7.25635654e-06 -2.40705421e-06  8.15101585e-06]\n",
      " [-1.10348116e-06  1.42533292e-06  1.98416100e-06]\n",
      " [ 4.30373602e-07 -1.29721193e-07 -5.61020142e-07]\n",
      " [-1.91662796e-06  1.58675212e-06  3.00237134e-06]]\n"
     ]
    }
   ],
   "source": [
    "print(elec_electric_dipole_gradient_z - numer_elec_electric_dipole_gradient)"
   ]
  },
  {
   "cell_type": "markdown",
   "metadata": {},
   "source": [
    "$(\\partial ^3 E/ \\partial Z_I \\partial ^2 \\mathbf{F})_\\mathrm{analytical}$"
   ]
  },
  {
   "cell_type": "code",
   "execution_count": 39,
   "metadata": {},
   "outputs": [
    {
     "name": "stdout",
     "output_type": "stream",
     "text": [
      "[[[ 3.50226186 -0.93583965  1.71807968]\n",
      "  [-0.93583965  4.94567969  0.85334074]\n",
      "  [ 1.71807968  0.85334074  3.8428043 ]]\n",
      "\n",
      " [[ 4.98419818 -1.27123916  1.59389107]\n",
      "  [-1.27123916  7.29676063 -0.45408766]\n",
      "  [ 1.59389107 -0.45408766  5.28389194]]\n",
      "\n",
      " [[ 6.17145584  0.1008236   2.23787447]\n",
      "  [ 0.1008236   5.88549838  0.90292598]\n",
      "  [ 2.23787447  0.90292598  5.5078966 ]]\n",
      "\n",
      " [[ 4.80018563 -0.79834151  0.54869179]\n",
      "  [-0.79834151  6.86367628  1.54069547]\n",
      "  [ 0.54869179  1.54069547  5.75860131]]\n",
      "\n",
      " [[ 5.77566248  0.53783799 -0.57259623]\n",
      "  [ 0.53783799  5.28724848 -0.49972143]\n",
      "  [-0.57259623 -0.49972143  5.45677334]]\n",
      "\n",
      " [[ 4.29132533  0.28202384 -0.58605928]\n",
      "  [ 0.28202384  3.63154146 -0.33984395]\n",
      "  [-0.58605928 -0.33984395  4.1669253 ]]]\n"
     ]
    }
   ],
   "source": [
    "print(elec_electric_pol_gradient)"
   ]
  },
  {
   "cell_type": "markdown",
   "metadata": {},
   "source": [
    "$(\\partial ^3 E/ \\partial Z_I \\partial ^2 \\mathbf{F})_\\mathrm{analytical}$ - $(\\partial ^3 E/ \\partial Z_I \\partial ^2 \\mathbf{F})_\\mathrm{numerical}$"
   ]
  },
  {
   "cell_type": "code",
   "execution_count": 40,
   "metadata": {},
   "outputs": [
    {
     "name": "stdout",
     "output_type": "stream",
     "text": [
      "[[[ 2.88996723e-06  1.16818659e-05 -8.98774850e-06]\n",
      "  [ 1.16818659e-05 -7.71718855e-06 -1.23470708e-05]\n",
      "  [-8.98774850e-06 -1.23470708e-05 -5.76770647e-06]]\n",
      "\n",
      " [[-3.72034337e-05 -5.43562424e-06 -1.77798313e-05]\n",
      "  [-5.43562424e-06  4.06140687e-06 -4.40867937e-05]\n",
      "  [-1.77798313e-05 -4.40867937e-05  8.78168825e-06]]\n",
      "\n",
      " [[ 4.21699239e-05  2.94757542e-05 -3.10093454e-06]\n",
      "  [ 2.94757542e-05 -4.10700379e-05  9.64856331e-06]\n",
      "  [-3.10093454e-06  9.64856331e-06 -2.54592185e-05]]\n",
      "\n",
      " [[-4.08984813e-06  1.66180431e-05 -8.10801414e-06]\n",
      "  [ 1.66180431e-05 -2.50874178e-05 -2.25417326e-05]\n",
      "  [-8.10801414e-06 -2.25417326e-05 -2.02278625e-05]]\n",
      "\n",
      " [[ 1.81645885e-06  1.30896167e-05 -1.86575856e-05]\n",
      "  [ 1.30896167e-05  1.33663140e-05  1.58711485e-06]\n",
      "  [-1.86575856e-05  1.58711485e-06  2.27132878e-06]]\n",
      "\n",
      " [[ 2.62561810e-05  2.42552552e-05 -3.98064202e-05]\n",
      "  [ 2.42552552e-05  1.51360921e-05 -1.10330882e-05]\n",
      "  [-3.98064202e-05 -1.10330882e-05  2.16156251e-05]]]\n"
     ]
    }
   ],
   "source": [
    "print(elec_electric_pol_gradient - numer_elec_electric_pol_gradient)"
   ]
  }
 ],
 "metadata": {
  "kernelspec": {
   "display_name": "aqa",
   "language": "python",
   "name": "python3"
  },
  "language_info": {
   "codemirror_mode": {
    "name": "ipython",
    "version": 3
   },
   "file_extension": ".py",
   "mimetype": "text/x-python",
   "name": "python",
   "nbconvert_exporter": "python",
   "pygments_lexer": "ipython3",
   "version": "3.11.3"
  }
 },
 "nbformat": 4,
 "nbformat_minor": 4
}
