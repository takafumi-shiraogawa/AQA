{
 "cells": [
  {
   "attachments": {},
   "cell_type": "markdown",
   "metadata": {},
   "source": [
    "This notebook compares analytical and numerical evaluations of alchemical derivatives of a CH3OH molecule up to the third order in Hartree-Fock theory.  \n",
    "The results are summerized in the last section."
   ]
  },
  {
   "cell_type": "code",
   "execution_count": 1,
   "metadata": {},
   "outputs": [
    {
     "data": {
      "text/plain": [
       "'2.2.1'"
      ]
     },
     "execution_count": 1,
     "metadata": {},
     "output_type": "execute_result"
    }
   ],
   "source": [
    "from pyscf import gto,scf\n",
    "import numpy as np\n",
    "import pyscf\n",
    "\n",
    "pyscf.__version__"
   ]
  },
  {
   "cell_type": "code",
   "execution_count": 2,
   "metadata": {},
   "outputs": [],
   "source": [
    "from FcMole import FcM_like"
   ]
  },
  {
   "cell_type": "code",
   "execution_count": 3,
   "metadata": {},
   "outputs": [],
   "source": [
    "target_mol = \"\"\"\n",
    "C\t-1.27549516\t0.03357710\t0.00000000\n",
    "H\t-2.10170657\t-0.87840808\t1.59107621\n",
    "H\t-2.10170657\t-0.87840808\t-1.59107621\n",
    "H\t-1.76544024\t1.99528228\t0.00000000\n",
    "O\t1.41253482\t-0.22423026\t0.00000000\n",
    "H\t2.19050133\t1.29874374\t0.00000000\n",
    "\"\"\"\n",
    "# Coordinates in Angstrom\n",
    "# C\t-0.67496302\t0.01776824\t0.00000000\n",
    "# H\t-1.11217530\t-0.46483357\t0.84196133\n",
    "# H\t-1.11217530\t-0.46483357\t-0.84196133\n",
    "# H\t-0.93423081\t1.05585799\t0.00000000\n",
    "# O\t0.74748129\t-0.11865755\t0.00000000\n",
    "# H\t1.15916347\t0.68726564\t0.00000000\n",
    "dft_functional = \"pbe0\"  # \"lda,vwn\"\n",
    "basis_set = \"def2-TZVP\""
   ]
  },
  {
   "attachments": {},
   "cell_type": "markdown",
   "metadata": {},
   "source": [
    "### Analytical evaluation"
   ]
  },
  {
   "cell_type": "code",
   "execution_count": 4,
   "metadata": {},
   "outputs": [],
   "source": [
    "%load_ext autoreload\n",
    "from AP_class import APDFT_perturbator as AP"
   ]
  },
  {
   "cell_type": "code",
   "execution_count": 5,
   "metadata": {},
   "outputs": [
    {
     "name": "stdout",
     "output_type": "stream",
     "text": [
      "converged SCF energy = -115.087746889332\n"
     ]
    }
   ],
   "source": [
    "mol_NN=gto.M(atom=target_mol,unit=\"Bohr\",basis=basis_set)\n",
    "mf_nn=scf.RHF(mol_NN)\n",
    "# mf_nn.xc = dft_functional\n",
    "mf_nn.scf()\n",
    "# mf_nn.conv_tol = 1e-12\n",
    "# mf_nn.grids.level = 4\n",
    "# mf_nn.nuc_grad_method().kernel()\n",
    "ap_nn=AP(mf_nn,sites=[0,1,2,3,4,5],flag_response_property=True)"
   ]
  },
  {
   "cell_type": "code",
   "execution_count": 6,
   "metadata": {},
   "outputs": [],
   "source": [
    "analytical_1st_alchemical_derivative = ap_nn.build_gradient()\n",
    "analytical_2nd_alchemical_derivative = ap_nn.build_hessian()\n",
    "analytical_3rd_alchemical_derivative = ap_nn.build_cubic()"
   ]
  },
  {
   "cell_type": "markdown",
   "metadata": {},
   "source": [
    "Inefficient alchemical force is not implemented in the Hartree-Fock theory"
   ]
  },
  {
   "attachments": {},
   "cell_type": "markdown",
   "metadata": {},
   "source": [
    "Inefficient alchemical force in HFT which calculates the response matrix for nuclear coordinates"
   ]
  },
  {
   "cell_type": "code",
   "execution_count": 7,
   "metadata": {},
   "outputs": [],
   "source": [
    "# inefficient_analytical_alchemical_force = np.zeros((6, 6, 3))\n",
    "# for i in range(6):  inefficient_analytical_alchemical_force[i] = ap_nn.build_inefficient_alchemical_force(i)"
   ]
  },
  {
   "attachments": {},
   "cell_type": "markdown",
   "metadata": {},
   "source": [
    "Efficient alchemical force in HFT which calculates the response matrix for nuclear coordinates"
   ]
  },
  {
   "cell_type": "code",
   "execution_count": 8,
   "metadata": {},
   "outputs": [],
   "source": [
    "efficient_analytical_alchemical_force = np.zeros((6, 6, 3))\n",
    "for i in range(6):\n",
    "  efficient_analytical_alchemical_force[i] = ap_nn.build_alchemical_force(i)"
   ]
  },
  {
   "cell_type": "markdown",
   "metadata": {},
   "source": [
    "Electric dipole derivatives $\\partial ^2 E/ \\partial Z_I \\partial \\mathbf{F}$"
   ]
  },
  {
   "cell_type": "code",
   "execution_count": 9,
   "metadata": {},
   "outputs": [],
   "source": [
    "elec_electric_dipole_gradient_z = ap_nn.build_elec_electric_dipole_gradient(perturb_electron_density='Z')\n",
    "elec_electric_dipole_gradient_f = ap_nn.build_elec_electric_dipole_gradient(perturb_electron_density='F')"
   ]
  },
  {
   "cell_type": "markdown",
   "metadata": {},
   "source": [
    "Electric polarizability derivatives $\\partial ^3 E/ \\partial Z_I \\partial ^2 \\mathbf{F}$"
   ]
  },
  {
   "cell_type": "code",
   "execution_count": 10,
   "metadata": {},
   "outputs": [],
   "source": [
    "elec_electric_pol_gradient = ap_nn.build_electric_polarizability_gradient()"
   ]
  },
  {
   "attachments": {},
   "cell_type": "markdown",
   "metadata": {},
   "source": [
    "### Numerical evaluation"
   ]
  },
  {
   "cell_type": "code",
   "execution_count": 11,
   "metadata": {},
   "outputs": [],
   "source": [
    "%autoreload 2\n",
    "mol_NN=gto.M(atom=target_mol,unit=\"Bohr\",basis=basis_set)\n",
    "fc_param = 0.001\n",
    "fcs1 = [fc_param, 0.0, 0.0, 0.0, 0.0, 0.0]\n",
    "fcs2 = [-fc_param, 0.0, 0.0, 0.0, 0.0, 0.0]\n",
    "fcs3 = [0.0, fc_param, 0.0, 0.0, 0.0, 0.0]\n",
    "fcs4 = [0.0, -fc_param, 0.0, 0.0, 0.0, 0.0]\n",
    "fcs5 = [0.0, 0.0, fc_param, 0.0, 0.0, 0.0]\n",
    "fcs6 = [0.0, 0.0, -fc_param, 0.0, 0.0, 0.0]\n",
    "fcs7 = [0.0, 0.0, 0.0, fc_param, 0.0, 0.0]\n",
    "fcs8 = [0.0, 0.0, 0.0, -fc_param, 0.0, 0.0]\n",
    "fcs9 = [0.0, 0.0, 0.0, 0.0, fc_param, 0.0]\n",
    "fcs10 = [0.0, 0.0, 0.0, 0.0, -fc_param, 0.0]\n",
    "fcs11 = [0.0, 0.0, 0.0, 0.0, 0.0, fc_param]\n",
    "fcs12 = [0.0, 0.0, 0.0, 0.0, 0.0, -fc_param]"
   ]
  },
  {
   "attachments": {},
   "cell_type": "markdown",
   "metadata": {},
   "source": [
    "##### Efficient numerical alchemical force"
   ]
  },
  {
   "cell_type": "code",
   "execution_count": 12,
   "metadata": {},
   "outputs": [
    {
     "name": "stdout",
     "output_type": "stream",
     "text": [
      "converged SCF energy = -115.087746889331\n",
      "converged SCF energy = -115.10244394927\n"
     ]
    },
    {
     "name": "stderr",
     "output_type": "stream",
     "text": [
      "/home/takafumi/program/pyscf/pyscf/gto/mole.py:1213: UserWarning: Function mol.dumps drops attribute with_rinv_at_nucleus because it is not JSON-serializable\n",
      "  warnings.warn(msg)\n"
     ]
    },
    {
     "name": "stdout",
     "output_type": "stream",
     "text": [
      "converged SCF energy = -115.073052811911\n",
      "converged SCF energy = -115.088877459041\n",
      "converged SCF energy = -115.086617404318\n",
      "converged SCF energy = -115.088877459041\n",
      "converged SCF energy = -115.086617404318\n",
      "converged SCF energy = -115.088866074659\n",
      "converged SCF energy = -115.086628787927\n",
      "converged SCF energy = -115.110098300794\n",
      "converged SCF energy = -115.065399081023\n",
      "converged SCF energy = -115.088765014768\n",
      "converged SCF energy = -115.086729721173\n"
     ]
    }
   ],
   "source": [
    "fmol1=FcM_like(mol_NN,fcs=fcs1)\n",
    "fmol2=FcM_like(mol_NN,fcs=fcs2)\n",
    "fmol3=FcM_like(mol_NN,fcs=fcs3)\n",
    "fmol4=FcM_like(mol_NN,fcs=fcs4)\n",
    "fmol5=FcM_like(mol_NN,fcs=fcs5)\n",
    "fmol6=FcM_like(mol_NN,fcs=fcs6)\n",
    "fmol7=FcM_like(mol_NN,fcs=fcs7)\n",
    "fmol8=FcM_like(mol_NN,fcs=fcs8)\n",
    "fmol9=FcM_like(mol_NN,fcs=fcs9)\n",
    "fmol10=FcM_like(mol_NN,fcs=fcs10)\n",
    "fmol11=FcM_like(mol_NN,fcs=fcs11)\n",
    "fmol12=FcM_like(mol_NN,fcs=fcs12)\n",
    "mf=scf.RHF(mol_NN)\n",
    "mf1=scf.RHF(fmol1)\n",
    "mf2=scf.RHF(fmol2)\n",
    "mf3=scf.RHF(fmol3)\n",
    "mf4=scf.RHF(fmol4)\n",
    "mf5=scf.RHF(fmol5)\n",
    "mf6=scf.RHF(fmol6)\n",
    "mf7=scf.RHF(fmol7)\n",
    "mf8=scf.RHF(fmol8)\n",
    "mf9=scf.RHF(fmol9)\n",
    "mf10=scf.RHF(fmol10)\n",
    "mf11=scf.RHF(fmol11)\n",
    "mf12=scf.RHF(fmol12)\n",
    "# mf.xc = dft_functional\n",
    "# mf1.xc = dft_functional\n",
    "# mf2.xc = dft_functional\n",
    "# mf3.xc = dft_functional\n",
    "# mf4.xc = dft_functional\n",
    "# mf5.xc = dft_functional\n",
    "# mf6.xc = dft_functional\n",
    "# mf7.xc = dft_functional\n",
    "# mf8.xc = dft_functional\n",
    "# mf9.xc = dft_functional\n",
    "# mf10.xc = dft_functional\n",
    "# mf11.xc = dft_functional\n",
    "# mf12.xc = dft_functional\n",
    "# mf.conv_tol = 1e-12\n",
    "# mf1.conv_tol = 1e-12\n",
    "# mf2.conv_tol = 1e-12\n",
    "# mf3.conv_tol = 1e-12\n",
    "# mf4.conv_tol = 1e-12\n",
    "# mf.grids.level = 6\n",
    "# mf1.grids.level = 6\n",
    "# mf2.grids.level = 6\n",
    "# mf3.grids.level = 6\n",
    "# mf4.grids.level = 6\n",
    "# Without dm0=mf.init_guess_by_1e(), some SCFs do not converge.\n",
    "e=mf.scf(dm0=mf.init_guess_by_1e())\n",
    "e1=mf1.scf(dm0=mf1.init_guess_by_1e())\n",
    "e2=mf2.scf(dm0=mf2.init_guess_by_1e())\n",
    "e3=mf3.scf(dm0=mf3.init_guess_by_1e())\n",
    "e4=mf4.scf(dm0=mf4.init_guess_by_1e())\n",
    "e5=mf5.scf(dm0=mf5.init_guess_by_1e())\n",
    "e6=mf6.scf(dm0=mf6.init_guess_by_1e())\n",
    "e7=mf7.scf(dm0=mf7.init_guess_by_1e())\n",
    "e8=mf8.scf(dm0=mf8.init_guess_by_1e())\n",
    "e9=mf9.scf(dm0=mf9.init_guess_by_1e())\n",
    "e10=mf10.scf(dm0=mf10.init_guess_by_1e())\n",
    "e11=mf11.scf(dm0=mf11.init_guess_by_1e())\n",
    "e12=mf12.scf(dm0=mf12.init_guess_by_1e())"
   ]
  },
  {
   "cell_type": "code",
   "execution_count": 13,
   "metadata": {},
   "outputs": [
    {
     "name": "stdout",
     "output_type": "stream",
     "text": [
      "--------------- RHF gradients ---------------\n",
      "         x                y                z\n",
      "0 C    -0.0267046097    -0.0036400606     0.0000000000\n",
      "1 H    -0.0009154969     0.0028092302    -0.0169322993\n",
      "2 H    -0.0009154969     0.0028092302     0.0169322993\n",
      "3 H     0.0069442222    -0.0081741117     0.0000000000\n",
      "4 O     0.0385846229     0.0475486277    -0.0000000000\n",
      "5 H    -0.0169932415    -0.0413529157     0.0000000000\n",
      "----------------------------------------------\n",
      "--------------- RHF gradients ---------------\n",
      "         x                y                z\n",
      "0 C    -0.0266749234    -0.0036490025    -0.0000000000\n",
      "1 H    -0.0009539105     0.0027732816    -0.0168698156\n",
      "2 H    -0.0009539105     0.0027732816     0.0168698156\n",
      "3 H     0.0069252327    -0.0080949845    -0.0000000000\n",
      "4 O     0.0386499654     0.0475609708     0.0000000000\n",
      "5 H    -0.0169924536    -0.0413635469    -0.0000000000\n",
      "----------------------------------------------\n",
      "--------------- RHF gradients ---------------\n",
      "         x                y                z\n",
      "0 C    -0.0267343068    -0.0036311258     0.0000000000\n",
      "1 H    -0.0008770653     0.0028451967    -0.0169948128\n",
      "2 H    -0.0008770653     0.0028451967     0.0169948128\n",
      "3 H     0.0069632236    -0.0082532755     0.0000000000\n",
      "4 O     0.0385192434     0.0475363048     0.0000000000\n",
      "5 H    -0.0169940296    -0.0413422970    -0.0000000000\n",
      "----------------------------------------------\n",
      "--------------- RHF gradients ---------------\n",
      "         x                y                z\n",
      "0 C    -0.0267438637    -0.0036362685     0.0000108541\n",
      "1 H    -0.0009518296     0.0027799220    -0.0168908750\n",
      "2 H    -0.0009124179     0.0028152894     0.0169137314\n",
      "3 H     0.0069513775    -0.0081604571    -0.0000160796\n",
      "4 O     0.0386528121     0.0475607548    -0.0000120954\n",
      "5 H    -0.0169960784    -0.0413592406    -0.0000055355\n",
      "----------------------------------------------\n",
      "--------------- RHF gradients ---------------\n",
      "         x                y                z\n",
      "0 C    -0.0266654278    -0.0036439161    -0.0000107477\n",
      "1 H    -0.0008791293     0.0028385778    -0.0169737853\n",
      "2 H    -0.0009185639     0.0028031890     0.0169508523\n",
      "3 H     0.0069370768    -0.0081877688     0.0000160621\n",
      "4 O     0.0385164522     0.0475365209     0.0000120863\n",
      "5 H    -0.0169904081    -0.0413466028     0.0000055324\n",
      "----------------------------------------------\n",
      "--------------- RHF gradients ---------------\n",
      "         x                y                z\n",
      "0 C    -0.0267438637    -0.0036362685    -0.0000108541\n",
      "1 H    -0.0009124179     0.0028152894    -0.0169137314\n",
      "2 H    -0.0009518296     0.0027799220     0.0168908750\n",
      "3 H     0.0069513775    -0.0081604571     0.0000160796\n",
      "4 O     0.0386528121     0.0475607548     0.0000120954\n",
      "5 H    -0.0169960784    -0.0413592406     0.0000055355\n",
      "----------------------------------------------\n",
      "--------------- RHF gradients ---------------\n",
      "         x                y                z\n",
      "0 C    -0.0266654278    -0.0036439161     0.0000107477\n",
      "1 H    -0.0009185639     0.0028031890    -0.0169508523\n",
      "2 H    -0.0008791293     0.0028385778     0.0169737853\n",
      "3 H     0.0069370768    -0.0081877688    -0.0000160621\n",
      "4 O     0.0385164522     0.0475365209    -0.0000120863\n",
      "5 H    -0.0169904081    -0.0413466028    -0.0000055324\n",
      "----------------------------------------------\n",
      "--------------- RHF gradients ---------------\n",
      "         x                y                z\n",
      "0 C    -0.0267386561    -0.0036323835     0.0000000000\n",
      "1 H    -0.0009127348     0.0027879398    -0.0169297183\n",
      "2 H    -0.0009127348     0.0027879398     0.0169297183\n",
      "3 H     0.0069269070    -0.0081119789    -0.0000000000\n",
      "4 O     0.0386446201     0.0475264556     0.0000000000\n",
      "5 H    -0.0170074013    -0.0413579728    -0.0000000000\n",
      "----------------------------------------------\n",
      "--------------- RHF gradients ---------------\n",
      "         x                y                z\n",
      "0 C    -0.0266706077    -0.0036476107    -0.0000000000\n",
      "1 H    -0.0009182500     0.0028305058    -0.0169348915\n",
      "2 H    -0.0009182500     0.0028305058     0.0169348915\n",
      "3 H     0.0069615562    -0.0082363232    -0.0000000000\n",
      "4 O     0.0385246402     0.0475707875     0.0000000000\n",
      "5 H    -0.0169790888    -0.0413478652     0.0000000000\n",
      "----------------------------------------------\n",
      "--------------- RHF gradients ---------------\n",
      "         x                y                z\n",
      "0 C    -0.0266472825    -0.0036382014    -0.0000000000\n",
      "1 H    -0.0009339348     0.0028081926    -0.0169287952\n",
      "2 H    -0.0009339348     0.0028081926     0.0169287952\n",
      "3 H     0.0069270347    -0.0081681831     0.0000000000\n",
      "4 O     0.0385638054     0.0474863117     0.0000000000\n",
      "5 H    -0.0169756879    -0.0412963125     0.0000000000\n",
      "----------------------------------------------\n",
      "--------------- RHF gradients ---------------\n",
      "         x                y                z\n",
      "0 C    -0.0267618542    -0.0036419209     0.0000000000\n",
      "1 H    -0.0008970540     0.0028102741    -0.0169358115\n",
      "2 H    -0.0008970540     0.0028102741     0.0169358115\n",
      "3 H     0.0069614058    -0.0081800507     0.0000000000\n",
      "4 O     0.0386053884     0.0476109948     0.0000000000\n",
      "5 H    -0.0170108320    -0.0414095715    -0.0000000000\n",
      "----------------------------------------------\n",
      "--------------- RHF gradients ---------------\n",
      "         x                y                z\n",
      "0 C    -0.0266261389    -0.0036559580    -0.0000000000\n",
      "1 H    -0.0009305171     0.0028072622    -0.0169286300\n",
      "2 H    -0.0009305171     0.0028072622     0.0169286300\n",
      "3 H     0.0069350761    -0.0081676531    -0.0000000000\n",
      "4 O     0.0385086758     0.0475113832     0.0000000000\n",
      "5 H    -0.0169565788    -0.0413022965    -0.0000000000\n",
      "----------------------------------------------\n",
      "--------------- RHF gradients ---------------\n",
      "         x                y                z\n",
      "0 C    -0.0267830503    -0.0036241741    -0.0000000000\n",
      "1 H    -0.0009004740     0.0028112022    -0.0169359779\n",
      "2 H    -0.0009004740     0.0028112022     0.0169359779\n",
      "3 H     0.0069533683    -0.0081805790    -0.0000000000\n",
      "4 O     0.0386605401     0.0475859264     0.0000000000\n",
      "5 H    -0.0170299100    -0.0414035777    -0.0000000000\n",
      "----------------------------------------------\n"
     ]
    }
   ],
   "source": [
    "nuc_grad = mf.nuc_grad_method().kernel()\n",
    "nuc_grad1 = mf1.nuc_grad_method().kernel()\n",
    "nuc_grad2 = mf2.nuc_grad_method().kernel()\n",
    "nuc_grad3 = mf3.nuc_grad_method().kernel()\n",
    "nuc_grad4 = mf4.nuc_grad_method().kernel()\n",
    "nuc_grad5 = mf5.nuc_grad_method().kernel()\n",
    "nuc_grad6 = mf6.nuc_grad_method().kernel()\n",
    "nuc_grad7 = mf7.nuc_grad_method().kernel()\n",
    "nuc_grad8 = mf8.nuc_grad_method().kernel()\n",
    "nuc_grad9 = mf9.nuc_grad_method().kernel()\n",
    "nuc_grad10 = mf10.nuc_grad_method().kernel()\n",
    "nuc_grad11 = mf11.nuc_grad_method().kernel()\n",
    "nuc_grad12 = mf12.nuc_grad_method().kernel()"
   ]
  },
  {
   "cell_type": "code",
   "execution_count": 14,
   "metadata": {},
   "outputs": [],
   "source": [
    "efficient_numerical_alchemical_force = np.zeros((6, 6, 3))\n",
    "efficient_numerical_alchemical_force[0] = (nuc_grad1 - nuc_grad2) / (2 * fc_param)\n",
    "efficient_numerical_alchemical_force[1] = (nuc_grad3 - nuc_grad4) / (2 * fc_param)\n",
    "efficient_numerical_alchemical_force[2] = (nuc_grad5 - nuc_grad6) / (2 * fc_param)\n",
    "efficient_numerical_alchemical_force[3] = (nuc_grad7 - nuc_grad8) / (2 * fc_param)\n",
    "efficient_numerical_alchemical_force[4] = (nuc_grad9 - nuc_grad10) / (2 * fc_param)\n",
    "efficient_numerical_alchemical_force[5] = (nuc_grad11 - nuc_grad12) / (2 * fc_param)"
   ]
  },
  {
   "attachments": {},
   "cell_type": "markdown",
   "metadata": {},
   "source": [
    "#### Numerical alchemical derivatives"
   ]
  },
  {
   "cell_type": "code",
   "execution_count": 15,
   "metadata": {},
   "outputs": [],
   "source": [
    "numerical_1st_alchemical_derivative = np.zeros((6))\n",
    "numerical_1st_alchemical_derivative[0] = (e1 - e2) / (2 * fc_param)\n",
    "numerical_1st_alchemical_derivative[1] = (e3 - e4) / (2 * fc_param)\n",
    "numerical_1st_alchemical_derivative[2] = (e5 - e6) / (2 * fc_param)\n",
    "numerical_1st_alchemical_derivative[3] = (e7 - e8) / (2 * fc_param)\n",
    "numerical_1st_alchemical_derivative[4] = (e9 - e10) / (2 * fc_param)\n",
    "numerical_1st_alchemical_derivative[5] = (e11 - e12) / (2 * fc_param)"
   ]
  },
  {
   "attachments": {},
   "cell_type": "markdown",
   "metadata": {},
   "source": [
    "#### Numerical alchemical hardness"
   ]
  },
  {
   "cell_type": "code",
   "execution_count": 16,
   "metadata": {},
   "outputs": [],
   "source": [
    "ap_nn=AP(mf,sites=[0,1,2,3,4,5])\n",
    "ap_nn1=AP(mf1,sites=[0,1,2,3,4,5],flag_response_property=True,charges_for_center=[6,1,1,1,8,1])\n",
    "ap_nn2=AP(mf2,sites=[0,1,2,3,4,5],flag_response_property=True,charges_for_center=[6,1,1,1,8,1])\n",
    "ap_nn3=AP(mf3,sites=[0,1,2,3,4,5],flag_response_property=True,charges_for_center=[6,1,1,1,8,1])\n",
    "ap_nn4=AP(mf4,sites=[0,1,2,3,4,5],flag_response_property=True,charges_for_center=[6,1,1,1,8,1])\n",
    "ap_nn5=AP(mf5,sites=[0,1,2,3,4,5],flag_response_property=True,charges_for_center=[6,1,1,1,8,1])\n",
    "ap_nn6=AP(mf6,sites=[0,1,2,3,4,5],flag_response_property=True,charges_for_center=[6,1,1,1,8,1])\n",
    "ap_nn7=AP(mf7,sites=[0,1,2,3,4,5],flag_response_property=True,charges_for_center=[6,1,1,1,8,1])\n",
    "ap_nn8=AP(mf8,sites=[0,1,2,3,4,5],flag_response_property=True,charges_for_center=[6,1,1,1,8,1])\n",
    "ap_nn9=AP(mf9,sites=[0,1,2,3,4,5],flag_response_property=True,charges_for_center=[6,1,1,1,8,1])\n",
    "ap_nn10=AP(mf10,sites=[0,1,2,3,4,5],flag_response_property=True,charges_for_center=[6,1,1,1,8,1])\n",
    "ap_nn11=AP(mf11,sites=[0,1,2,3,4,5],flag_response_property=True,charges_for_center=[6,1,1,1,8,1])\n",
    "ap_nn12=AP(mf12,sites=[0,1,2,3,4,5],flag_response_property=True,charges_for_center=[6,1,1,1,8,1])\n",
    "an = ap_nn.build_gradient()\n",
    "an1 = ap_nn1.build_gradient()\n",
    "an2 = ap_nn2.build_gradient()\n",
    "an3 = ap_nn3.build_gradient()\n",
    "an4 = ap_nn4.build_gradient()\n",
    "an5 = ap_nn5.build_gradient()\n",
    "an6 = ap_nn6.build_gradient()\n",
    "an7 = ap_nn7.build_gradient()\n",
    "an8 = ap_nn8.build_gradient()\n",
    "an9 = ap_nn9.build_gradient()\n",
    "an10 = ap_nn10.build_gradient()\n",
    "an11 = ap_nn11.build_gradient()\n",
    "an12 = ap_nn12.build_gradient()\n",
    "ann = ap_nn.build_hessian()\n",
    "ann1 = ap_nn1.build_hessian()\n",
    "ann2 = ap_nn2.build_hessian()\n",
    "ann3 = ap_nn3.build_hessian()\n",
    "ann4 = ap_nn4.build_hessian()\n",
    "ann5 = ap_nn5.build_hessian()\n",
    "ann6 = ap_nn6.build_hessian()\n",
    "ann7 = ap_nn7.build_hessian()\n",
    "ann8 = ap_nn8.build_hessian()\n",
    "ann9 = ap_nn9.build_hessian()\n",
    "ann10 = ap_nn10.build_hessian()\n",
    "ann11 = ap_nn11.build_hessian()\n",
    "ann12 = ap_nn12.build_hessian()\n",
    "dipole1 = ap_nn1.ref_elec_electric_dipole_moment * -1\n",
    "dipole2 = ap_nn2.ref_elec_electric_dipole_moment * -1\n",
    "dipole3 = ap_nn3.ref_elec_electric_dipole_moment * -1\n",
    "dipole4 = ap_nn4.ref_elec_electric_dipole_moment * -1\n",
    "dipole5 = ap_nn5.ref_elec_electric_dipole_moment * -1\n",
    "dipole6 = ap_nn6.ref_elec_electric_dipole_moment * -1\n",
    "dipole7 = ap_nn7.ref_elec_electric_dipole_moment * -1\n",
    "dipole8 = ap_nn8.ref_elec_electric_dipole_moment * -1\n",
    "dipole9 = ap_nn9.ref_elec_electric_dipole_moment * -1\n",
    "dipole10 = ap_nn10.ref_elec_electric_dipole_moment * -1\n",
    "dipole11 = ap_nn11.ref_elec_electric_dipole_moment * -1\n",
    "dipole12 = ap_nn12.ref_elec_electric_dipole_moment * -1\n",
    "pol1 = ap_nn1.ref_elec_electric_polarizability * -1\n",
    "pol2 = ap_nn2.ref_elec_electric_polarizability * -1\n",
    "pol3 = ap_nn3.ref_elec_electric_polarizability * -1\n",
    "pol4 = ap_nn4.ref_elec_electric_polarizability * -1\n",
    "pol5 = ap_nn5.ref_elec_electric_polarizability * -1\n",
    "pol6 = ap_nn6.ref_elec_electric_polarizability * -1\n",
    "pol7 = ap_nn7.ref_elec_electric_polarizability * -1\n",
    "pol8 = ap_nn8.ref_elec_electric_polarizability * -1\n",
    "pol9 = ap_nn9.ref_elec_electric_polarizability * -1\n",
    "pol10 = ap_nn10.ref_elec_electric_polarizability * -1\n",
    "pol11 = ap_nn11.ref_elec_electric_polarizability * -1\n",
    "pol12 = ap_nn12.ref_elec_electric_polarizability * -1"
   ]
  },
  {
   "cell_type": "code",
   "execution_count": 17,
   "metadata": {},
   "outputs": [],
   "source": [
    "numerical_2nd_alchemical_derivative = np.zeros((6, 6))\n",
    "numerical_2nd_alchemical_derivative[0] = (an1 - an2) / (2 * fc_param)\n",
    "numerical_2nd_alchemical_derivative[1] = (an3 - an4) / (2 * fc_param)\n",
    "numerical_2nd_alchemical_derivative[2] = (an5 - an6) / (2 * fc_param)\n",
    "numerical_2nd_alchemical_derivative[3] = (an7 - an8) / (2 * fc_param)\n",
    "numerical_2nd_alchemical_derivative[4] = (an9 - an10) / (2 * fc_param)\n",
    "numerical_2nd_alchemical_derivative[5] = (an11 - an12) / (2 * fc_param)"
   ]
  },
  {
   "attachments": {},
   "cell_type": "markdown",
   "metadata": {},
   "source": [
    "#### Numerical alchemical hardness derivatives"
   ]
  },
  {
   "cell_type": "code",
   "execution_count": 18,
   "metadata": {},
   "outputs": [],
   "source": [
    "numerical_3rd_alchemical_derivative = np.zeros((6, 6, 6))\n",
    "numerical_3rd_alchemical_derivative[0, :, :] = (ann1 - ann2) / (2 * fc_param)\n",
    "numerical_3rd_alchemical_derivative[1, :, :] = (ann3 - ann4) / (2 * fc_param)\n",
    "numerical_3rd_alchemical_derivative[2, :, :] = (ann5 - ann6) / (2 * fc_param)\n",
    "numerical_3rd_alchemical_derivative[3, :, :] = (ann7 - ann8) / (2 * fc_param)\n",
    "numerical_3rd_alchemical_derivative[4, :, :] = (ann9 - ann10) / (2 * fc_param)\n",
    "numerical_3rd_alchemical_derivative[5, :, :] = (ann11 - ann12) / (2 * fc_param)"
   ]
  },
  {
   "attachments": {},
   "cell_type": "markdown",
   "metadata": {},
   "source": [
    "#### Inefficient numerical alchemical force"
   ]
  },
  {
   "cell_type": "code",
   "execution_count": 19,
   "metadata": {},
   "outputs": [],
   "source": [
    "# mol_NN1=gto.M(atom=\"C 0 0 0.001; O 0 0 2.1\",unit=\"Bohr\",basis=basis_set)\n",
    "# mol_NN2=gto.M(atom=\"C 0 0 -0.001; O 0 0 2.1\",unit=\"Bohr\",basis=basis_set)\n",
    "# mol_NN3=gto.M(atom=\"C 0 0 0; O 0 0 2.101\",unit=\"Bohr\",basis=basis_set)\n",
    "# mol_NN4=gto.M(atom=\"C 0 0 0; O 0 0 2.099\",unit=\"Bohr\",basis=basis_set)\n",
    "# mf_nn1=scf.RKS(mol_NN1)\n",
    "# mf_nn2=scf.RKS(mol_NN2)\n",
    "# mf_nn3=scf.RKS(mol_NN3)\n",
    "# mf_nn4=scf.RKS(mol_NN4)\n",
    "# mf_nn1.xc = dft_functional\n",
    "# mf_nn2.xc = dft_functional\n",
    "# mf_nn3.xc = dft_functional\n",
    "# mf_nn4.xc = dft_functional\n",
    "# mf_nn1.scf()\n",
    "# mf_nn2.scf()\n",
    "# mf_nn3.scf()\n",
    "# mf_nn4.scf()\n",
    "# ap_nn1=AP(mf_nn1,sites=[0,1])\n",
    "# ap_nn2=AP(mf_nn2,sites=[0,1])\n",
    "# ap_nn3=AP(mf_nn3,sites=[0,1])\n",
    "# ap_nn4=AP(mf_nn4,sites=[0,1])\n",
    "# ad1 = ap_nn1.build_gradient()\n",
    "# ad2 = ap_nn2.build_gradient()\n",
    "# ad3 = ap_nn3.build_gradient()\n",
    "# ad4 = ap_nn4.build_gradient()"
   ]
  },
  {
   "cell_type": "code",
   "execution_count": 20,
   "metadata": {},
   "outputs": [],
   "source": [
    "# inefficient_numerical_alchemical_force = np.zeros((2, 2))  # only z axis components\n",
    "# inefficient_numerical_alchemical_force[:, 0] = (ad1 - ad2) / (2 * fc_param)\n",
    "# inefficient_numerical_alchemical_force[:, 1] = (ad3 - ad4) / (2 * fc_param)"
   ]
  },
  {
   "cell_type": "markdown",
   "metadata": {},
   "source": [
    "#### Numerical alchemical electric dipole moment"
   ]
  },
  {
   "cell_type": "code",
   "execution_count": 21,
   "metadata": {},
   "outputs": [],
   "source": [
    "numer_elec_electric_dipole_gradient = np.zeros((6, 3))\n",
    "numer_elec_electric_dipole_gradient[0] = (dipole1 - dipole2) / (2 * fc_param)\n",
    "numer_elec_electric_dipole_gradient[1] = (dipole3 - dipole4) / (2 * fc_param)\n",
    "numer_elec_electric_dipole_gradient[2] = (dipole5 - dipole6) / (2 * fc_param)\n",
    "numer_elec_electric_dipole_gradient[3] = (dipole7 - dipole8) / (2 * fc_param)\n",
    "numer_elec_electric_dipole_gradient[4] = (dipole9 - dipole10) / (2 * fc_param)\n",
    "numer_elec_electric_dipole_gradient[5] = (dipole11 - dipole12) / (2 * fc_param)"
   ]
  },
  {
   "cell_type": "markdown",
   "metadata": {},
   "source": [
    "#### Numerical alchemical electric polarizability"
   ]
  },
  {
   "cell_type": "code",
   "execution_count": 22,
   "metadata": {},
   "outputs": [],
   "source": [
    "numer_elec_electric_pol_gradient = np.zeros((6, 3, 3))\n",
    "numer_elec_electric_pol_gradient[0] = (pol1 - pol2) / (2 * fc_param)\n",
    "numer_elec_electric_pol_gradient[1] = (pol3 - pol4) / (2 * fc_param)\n",
    "numer_elec_electric_pol_gradient[2] = (pol5 - pol6) / (2 * fc_param)\n",
    "numer_elec_electric_pol_gradient[3] = (pol7 - pol8) / (2 * fc_param)\n",
    "numer_elec_electric_pol_gradient[4] = (pol9 - pol10) / (2 * fc_param)\n",
    "numer_elec_electric_pol_gradient[5] = (pol11 - pol12) / (2 * fc_param)"
   ]
  },
  {
   "cell_type": "markdown",
   "metadata": {},
   "source": [
    "## Comparison of analytical and numerical evaluations"
   ]
  },
  {
   "cell_type": "markdown",
   "metadata": {},
   "source": [
    "$ \\partial E/\\partial Z_i $"
   ]
  },
  {
   "cell_type": "code",
   "execution_count": 23,
   "metadata": {},
   "outputs": [
    {
     "name": "stdout",
     "output_type": "stream",
     "text": [
      "[-14.69556852  -1.13002724  -1.13002724  -1.11864327 -22.3496097\n",
      "  -1.01764698]\n"
     ]
    }
   ],
   "source": [
    "print(analytical_1st_alchemical_derivative)"
   ]
  },
  {
   "cell_type": "markdown",
   "metadata": {},
   "source": [
    "$ (\\partial E/\\partial Z_i)_\\mathrm{analytical} $ - $ (\\partial E/\\partial Z_i)_\\mathrm{numerical} $"
   ]
  },
  {
   "cell_type": "code",
   "execution_count": 24,
   "metadata": {},
   "outputs": [
    {
     "name": "stdout",
     "output_type": "stream",
     "text": [
      "[ 1.56531915e-07  1.21314558e-07  1.21300353e-07  9.54678123e-08\n",
      "  1.87597983e-07 -1.86552136e-07]\n"
     ]
    }
   ],
   "source": [
    "print(analytical_1st_alchemical_derivative - numerical_1st_alchemical_derivative)"
   ]
  },
  {
   "cell_type": "markdown",
   "metadata": {},
   "source": [
    "$\\partial^2E/\\partial Z_i\\partial Z_j$"
   ]
  },
  {
   "cell_type": "code",
   "execution_count": 25,
   "metadata": {},
   "outputs": [
    {
     "name": "stdout",
     "output_type": "stream",
     "text": [
      "[[-2.98251879  0.40535361  0.40535361  0.40313263  0.30192006  0.27684405]\n",
      " [ 0.40535361 -1.08469606  0.32594434  0.33120622  0.28192602  0.26925656]\n",
      " [ 0.40535361  0.32594434 -1.08469606  0.33120622  0.28192602  0.26925656]\n",
      " [ 0.40313263  0.33120622  0.33120622 -1.08392396  0.27796653  0.27601045]\n",
      " [ 0.30192006  0.28192602  0.28192602  0.27796653 -3.60315557  0.44664312]\n",
      " [ 0.27684405  0.26925656  0.26925656  0.27601045  0.44664312 -0.95727943]]\n"
     ]
    }
   ],
   "source": [
    "print(analytical_2nd_alchemical_derivative)"
   ]
  },
  {
   "cell_type": "markdown",
   "metadata": {},
   "source": [
    "$(\\partial^2E/\\partial Z_i\\partial Z_j)_\\mathrm{analytical}$ - $(\\partial^2E/\\partial Z_i\\partial Z_j)_\\mathrm{numerical}$"
   ]
  },
  {
   "cell_type": "code",
   "execution_count": 26,
   "metadata": {},
   "outputs": [
    {
     "name": "stdout",
     "output_type": "stream",
     "text": [
      "[[ 7.39182608e-07 -7.12461388e-08 -7.12514726e-08  1.30484634e-07\n",
      "  -5.54984972e-07 -2.79695145e-07]\n",
      " [ 8.56204422e-07  5.68431971e-07 -6.27590335e-07 -1.00980450e-08\n",
      "  -1.44541892e-07 -2.75700870e-07]\n",
      " [ 8.56204417e-07 -6.27596553e-07  5.68425762e-07 -1.00922724e-08\n",
      "  -1.44547224e-07 -2.75707978e-07]\n",
      " [ 7.58257134e-07 -1.21585753e-07 -1.21595079e-07  2.49853234e-08\n",
      "  -1.39891417e-07  7.65886338e-08]\n",
      " [ 4.73200564e-07 -2.83530559e-08 -2.83606079e-08 -6.05642059e-08\n",
      "  -6.46092539e-08 -8.10458457e-08]\n",
      " [ 4.68570748e-07 -3.69950368e-07 -3.69947261e-07 -7.75115851e-07\n",
      "   1.59181548e-07 -4.98535759e-08]]\n"
     ]
    }
   ],
   "source": [
    "print(analytical_2nd_alchemical_derivative - numerical_2nd_alchemical_derivative)"
   ]
  },
  {
   "cell_type": "markdown",
   "metadata": {},
   "source": [
    "$\\partial^3E/\\partial Z_i\\partial Z_j\\partial Z_k$"
   ]
  },
  {
   "cell_type": "code",
   "execution_count": 27,
   "metadata": {},
   "outputs": [
    {
     "name": "stdout",
     "output_type": "stream",
     "text": [
      "[[[-0.26923386  0.08290763  0.08290763  0.08173221  0.04068338\n",
      "    0.03735554]\n",
      "  [ 0.08290763  0.11297092  0.075523    0.07688749  0.04816134\n",
      "    0.04270145]\n",
      "  [ 0.08290763  0.075523    0.11297092  0.07688749  0.04816134\n",
      "    0.04270145]\n",
      "  [ 0.08173221  0.07688749  0.07688749  0.10926678  0.04615448\n",
      "    0.0386318 ]\n",
      "  [ 0.04068338  0.04816134  0.04816134  0.04615448  0.02184993\n",
      "    0.01430208]\n",
      "  [ 0.03735554  0.04270145  0.04270145  0.0386318   0.01430208\n",
      "    0.02408054]]\n",
      "\n",
      " [[ 0.08290763  0.11297092  0.075523    0.07688749  0.04816134\n",
      "    0.04270145]\n",
      "  [ 0.11297092 -0.85251327  0.07055889  0.07111204  0.05262468\n",
      "    0.04236894]\n",
      "  [ 0.075523    0.07055889  0.07055889  0.03669421  0.02811253\n",
      "    0.02466812]\n",
      "  [ 0.07688749  0.07111204  0.03669421  0.07004581  0.02764435\n",
      "    0.02278396]\n",
      "  [ 0.04816134  0.05262468  0.02811253  0.02764435  0.02931532\n",
      "    0.02123612]\n",
      "  [ 0.04270145  0.04236894  0.02466812  0.02278396  0.02123612\n",
      "    0.03413624]]\n",
      "\n",
      " [[ 0.08290763  0.075523    0.11297092  0.07688749  0.04816134\n",
      "    0.04270145]\n",
      "  [ 0.075523    0.07055889  0.07055889  0.03669421  0.02811253\n",
      "    0.02466812]\n",
      "  [ 0.11297092  0.07055889 -0.85251327  0.07111204  0.05262468\n",
      "    0.04236894]\n",
      "  [ 0.07688749  0.03669421  0.07111204  0.07004581  0.02764435\n",
      "    0.02278396]\n",
      "  [ 0.04816134  0.02811253  0.05262468  0.02764435  0.02931532\n",
      "    0.02123612]\n",
      "  [ 0.04270145  0.02466812  0.04236894  0.02278396  0.02123612\n",
      "    0.03413624]]\n",
      "\n",
      " [[ 0.08173221  0.07688749  0.07688749  0.10926678  0.04615448\n",
      "    0.0386318 ]\n",
      "  [ 0.07688749  0.07111204  0.03669421  0.07004581  0.02764435\n",
      "    0.02278396]\n",
      "  [ 0.07688749  0.03669421  0.07111204  0.07004581  0.02764435\n",
      "    0.02278396]\n",
      "  [ 0.10926678  0.07004581  0.07004581 -0.86139434  0.05157152\n",
      "    0.03903139]\n",
      "  [ 0.04615448  0.02764435  0.02764435  0.05157152  0.03533549\n",
      "    0.01954673]\n",
      "  [ 0.0386318   0.02278396  0.02278396  0.03903139  0.01954673\n",
      "    0.03241175]]\n",
      "\n",
      " [[ 0.04068338  0.04816134  0.04816134  0.04615448  0.02184993\n",
      "    0.01430208]\n",
      "  [ 0.04816134  0.05262468  0.02811253  0.02764435  0.02931532\n",
      "    0.02123612]\n",
      "  [ 0.04816134  0.02811253  0.05262468  0.02764435  0.02931532\n",
      "    0.02123612]\n",
      "  [ 0.04615448  0.02764435  0.02764435  0.05157152  0.03533549\n",
      "    0.01954673]\n",
      "  [ 0.02184993  0.02931532  0.02931532  0.03533549 -0.17819706\n",
      "    0.09062195]\n",
      "  [ 0.01430208  0.02123612  0.02123612  0.01954673  0.09062195\n",
      "    0.12409645]]\n",
      "\n",
      " [[ 0.03735554  0.04270145  0.04270145  0.0386318   0.01430208\n",
      "    0.02408054]\n",
      "  [ 0.04270145  0.04236894  0.02466812  0.02278396  0.02123612\n",
      "    0.03413624]\n",
      "  [ 0.04270145  0.02466812  0.04236894  0.02278396  0.02123612\n",
      "    0.03413624]\n",
      "  [ 0.0386318   0.02278396  0.02278396  0.03903139  0.01954673\n",
      "    0.03241175]\n",
      "  [ 0.01430208  0.02123612  0.02123612  0.01954673  0.09062195\n",
      "    0.12409645]\n",
      "  [ 0.02408054  0.03413624  0.03413624  0.03241175  0.12409645\n",
      "   -0.81305106]]]\n"
     ]
    }
   ],
   "source": [
    "print(analytical_3rd_alchemical_derivative)"
   ]
  },
  {
   "cell_type": "markdown",
   "metadata": {},
   "source": [
    "$(\\partial^3E/\\partial Z_i\\partial Z_j\\partial Z_k)_\\mathrm{analytical}$ - $(\\partial^3E/\\partial Z_i\\partial Z_j\\partial Z_k)_\\mathrm{numerical}$"
   ]
  },
  {
   "cell_type": "code",
   "execution_count": 28,
   "metadata": {},
   "outputs": [
    {
     "name": "stdout",
     "output_type": "stream",
     "text": [
      "[[[ 3.07488298e-07  1.58695962e-07  1.58693408e-07 -2.25700553e-08\n",
      "   -2.24296106e-08 -2.09427898e-07]\n",
      "  [ 1.58695962e-07  1.68132948e-07  3.22043167e-08 -3.93984564e-08\n",
      "    8.12472483e-08 -2.35882064e-08]\n",
      "  [ 1.58693408e-07  3.22043167e-08  1.68137505e-07 -3.93985113e-08\n",
      "    8.12455831e-08 -2.35896494e-08]\n",
      "  [-2.25700553e-08 -3.93984564e-08 -3.93985113e-08 -9.63573115e-08\n",
      "   -4.03279268e-08 -3.90618896e-08]\n",
      "  [-2.24296106e-08  8.12472483e-08  8.12455831e-08 -4.03279268e-08\n",
      "   -3.15030975e-07 -1.11445580e-07]\n",
      "  [-2.09427898e-07 -2.35882064e-08 -2.35896494e-08 -3.90618896e-08\n",
      "   -1.11445580e-07 -1.78225211e-07]]\n",
      "\n",
      " [[ 1.93434896e-07  1.03075723e-06 -9.00709346e-07 -6.27486393e-08\n",
      "   -1.91415046e-08 -1.45174503e-07]\n",
      "  [ 1.03075723e-06  1.03909408e-06  3.87180414e-08  2.02525059e-07\n",
      "    1.70171642e-07  1.58468049e-07]\n",
      "  [-9.00709346e-07  3.87180413e-08 -9.65259552e-07 -2.87951544e-07\n",
      "   -2.08807865e-07 -2.72505828e-07]\n",
      "  [-6.27486393e-08  2.02525060e-07 -2.87951544e-07 -1.18234879e-07\n",
      "   -5.02992453e-08 -7.73934328e-09]\n",
      "  [-1.91415046e-08  1.70171642e-07 -2.08807865e-07 -5.02992453e-08\n",
      "   -6.91749898e-08 -9.49155382e-08]\n",
      "  [-1.45174503e-07  1.58468049e-07 -2.72505828e-07 -7.73934328e-09\n",
      "   -9.49155382e-08 -3.55930657e-07]]\n",
      "\n",
      " [[ 1.93436894e-07 -9.00709457e-07  1.03075795e-06 -6.27488052e-08\n",
      "   -1.91418653e-08 -1.45174863e-07]\n",
      "  [-9.00709457e-07 -9.65257223e-07  3.87190150e-08 -2.87950961e-07\n",
      "   -2.08807088e-07 -2.72505578e-07]\n",
      "  [ 1.03075795e-06  3.87190150e-08  1.03909410e-06  2.02525756e-07\n",
      "    1.70172449e-07  1.58467829e-07]\n",
      "  [-6.27488052e-08 -2.87950961e-07  2.02525756e-07 -1.18231327e-07\n",
      "   -5.02987730e-08 -7.73998141e-09]\n",
      "  [-1.91418653e-08 -2.08807088e-07  1.70172449e-07 -5.02987730e-08\n",
      "   -6.91858691e-08 -9.49153709e-08]\n",
      "  [-1.45174863e-07 -2.72505578e-07  1.58467829e-07 -7.73998141e-09\n",
      "   -9.49153709e-08 -3.55933654e-07]]\n",
      "\n",
      " [[ 4.20686835e-08 -2.66272556e-08 -2.66278101e-08 -1.99302852e-07\n",
      "    6.41923485e-09 -9.05673284e-08]\n",
      "  [-2.66272557e-08  9.15396442e-08 -4.30019136e-09 -1.48721159e-07\n",
      "   -2.55539561e-08 -7.02712951e-08]\n",
      "  [-2.66278101e-08 -4.30019136e-09  9.15393140e-08 -1.48721382e-07\n",
      "   -2.55547606e-08 -7.02719888e-08]\n",
      "  [-1.99302852e-07 -1.48721159e-07 -1.48721382e-07 -5.70655727e-07\n",
      "    7.83497501e-08  2.20306348e-08]\n",
      "  [ 6.41923485e-09 -2.55539561e-08 -2.55547606e-08  7.83497500e-08\n",
      "   -1.48358810e-07 -5.55067564e-09]\n",
      "  [-9.05673284e-08 -7.02712951e-08 -7.02719888e-08  2.20306348e-08\n",
      "   -5.55067564e-09 -7.85783429e-08]]\n",
      "\n",
      " [[ 2.61707548e-07  1.38924833e-07  1.38924695e-07  6.89615891e-09\n",
      "   -1.89440492e-07 -1.13352971e-07]\n",
      "  [ 1.38924833e-07  2.70719714e-08  2.16982495e-08 -1.34023153e-08\n",
      "    1.11493407e-08  4.78476242e-08]\n",
      "  [ 1.38924695e-07  2.16982495e-08  2.70730831e-08 -1.34034806e-08\n",
      "    1.11491196e-08  4.78472641e-08]\n",
      "  [ 6.89615891e-09 -1.34023153e-08 -1.34034806e-08  3.69707387e-08\n",
      "   -1.50658803e-07 -7.83281264e-08]\n",
      "  [-1.89440492e-07  1.11493407e-08  1.11491196e-08 -1.50658803e-07\n",
      "   -1.91818068e-07  2.87979086e-07]\n",
      "  [-1.13352971e-07  4.78476242e-08  4.78472641e-08 -7.83281264e-08\n",
      "    2.87979086e-07  1.42424962e-07]]\n",
      "\n",
      " [[ 4.22547602e-07  2.64448138e-07  2.64447417e-07 -2.55940294e-07\n",
      "   -5.70022294e-09  4.41358912e-08]\n",
      "  [ 2.64448138e-07  2.18965129e-07  2.12766883e-07 -1.01113041e-07\n",
      "    3.05790487e-08  5.87234318e-08]\n",
      "  [ 2.64447417e-07  2.12766883e-07  2.18970127e-07 -1.01114373e-07\n",
      "    3.05791605e-08  5.87239596e-08]\n",
      "  [-2.55940294e-07 -1.01113041e-07 -1.01114373e-07 -5.02076361e-08\n",
      "    3.69432772e-08 -2.27019006e-08]\n",
      "  [-5.70022294e-09  3.05790487e-08  3.05791605e-08  3.69432772e-08\n",
      "    3.20316008e-08  8.31970341e-08]\n",
      "  [ 4.41358912e-08  5.87234318e-08  5.87239596e-08 -2.27019005e-08\n",
      "    8.31970341e-08 -7.96695583e-08]]]\n"
     ]
    }
   ],
   "source": [
    "print(analytical_3rd_alchemical_derivative - numerical_3rd_alchemical_derivative)"
   ]
  },
  {
   "cell_type": "markdown",
   "metadata": {},
   "source": [
    "$\\partial^2E/\\partial Z_i\\partial R_j$"
   ]
  },
  {
   "cell_type": "code",
   "execution_count": 29,
   "metadata": {},
   "outputs": [
    {
     "name": "stdout",
     "output_type": "stream",
     "text": [
      "[[[ 2.96917535e-02 -8.93827017e-03 -3.60981208e-16]\n",
      "  [-3.84227481e-02 -3.59576124e-02  6.24986218e-02]\n",
      "  [-3.84227481e-02 -3.59576124e-02 -6.24986218e-02]\n",
      "  [-1.89953474e-02  7.91455308e-02 -1.28286134e-16]\n",
      "  [ 6.53609181e-02  1.23331496e-02 -2.44443424e-16]\n",
      "  [ 7.88171970e-04 -1.06251856e-02  2.72906423e-17]]\n",
      "\n",
      " [[-3.92178651e-02  3.82388140e-03  1.08009098e-02]\n",
      "  [-3.63509304e-02 -2.93281689e-02  4.14559011e-02]\n",
      "  [ 3.07357587e-03  6.05029424e-03 -1.85598798e-02]\n",
      "  [ 7.15033669e-03  1.36558467e-02 -1.60707974e-02]\n",
      "  [ 6.81798525e-02  1.21173141e-02 -1.20929105e-02]\n",
      "  [-2.83496949e-03 -6.31916755e-03 -5.53322332e-03]]\n",
      "\n",
      " [[-3.92178651e-02  3.82388140e-03 -1.08009098e-02]\n",
      "  [ 3.07357587e-03  6.05029424e-03  1.85598798e-02]\n",
      "  [-3.63509304e-02 -2.93281689e-02 -4.14559011e-02]\n",
      "  [ 7.15033669e-03  1.36558467e-02  1.60707974e-02]\n",
      "  [ 6.81798525e-02  1.21173141e-02  1.20929105e-02]\n",
      "  [-2.83496949e-03 -6.31916755e-03  5.53322332e-03]]\n",
      "\n",
      " [[-3.40243707e-02  7.61357308e-03  5.52717806e-16]\n",
      "  [ 2.75755775e-03 -2.12830641e-02  2.58667099e-03]\n",
      "  [ 2.75755775e-03 -2.12830641e-02 -2.58667099e-03]\n",
      "  [-1.73246062e-02  6.21721271e-02 -4.68174723e-16]\n",
      "  [ 5.99898668e-02 -2.21656802e-02  1.50325796e-16]\n",
      "  [-1.41560055e-02 -5.05389187e-03 -1.68301973e-16]]\n",
      "\n",
      " [[ 5.72860046e-02  1.86017496e-03 -2.51653447e-16]\n",
      "  [-1.84404876e-02 -1.04080662e-03  3.50813725e-03]\n",
      "  [-1.84404876e-02 -1.04080662e-03 -3.50813725e-03]\n",
      "  [-1.71855017e-02  5.93375105e-03  8.93327697e-17]\n",
      "  [-2.07916791e-02 -6.23422022e-02 -7.05718086e-16]\n",
      "  [ 1.75721514e-02  5.66298894e-02  5.38581412e-17]]\n",
      "\n",
      " [[ 7.84551803e-02 -1.58901916e-02 -6.07117735e-17]\n",
      "  [-1.50213962e-02 -1.97030398e-03  3.67407495e-03]\n",
      "  [-1.50213962e-02 -1.97030398e-03 -3.67407495e-03]\n",
      "  [-9.14643012e-03  6.46247268e-03  3.92196581e-17]\n",
      "  [-7.59320494e-02 -3.72720953e-02 -7.86429991e-16]\n",
      "  [ 3.66660917e-02  5.06404222e-02  2.69188706e-18]]]\n"
     ]
    }
   ],
   "source": [
    "print(efficient_analytical_alchemical_force)"
   ]
  },
  {
   "cell_type": "markdown",
   "metadata": {},
   "source": [
    "$(\\partial^2E/\\partial Z_i\\partial R_j)_\\mathrm{analytical}$ - $(\\partial^2E/\\partial Z_i\\partial R_j)_\\mathrm{numerical}$"
   ]
  },
  {
   "cell_type": "code",
   "execution_count": 30,
   "metadata": {},
   "outputs": [
    {
     "name": "stdout",
     "output_type": "stream",
     "text": [
      "[[[ 4.55705909e-08  8.75813501e-08  1.19974345e-12]\n",
      "  [-1.40337216e-07 -4.39494842e-08  3.71305725e-08]\n",
      "  [-1.40335882e-07 -4.39494279e-08 -3.71322365e-08]\n",
      "  [ 1.30286610e-07  2.99067288e-08  1.45882431e-13]\n",
      "  [-6.83426997e-08  1.71568340e-07  9.55029970e-14]\n",
      "  [ 1.73154641e-07 -2.01143102e-07 -1.28382957e-13]]\n",
      "\n",
      " [[ 8.11400154e-08  6.54037633e-08 -1.34287936e-08]\n",
      "  [-7.71739443e-07 -2.55169470e-07  7.55310435e-07]\n",
      "  [ 5.62025113e-07  1.27622878e-07  5.62466490e-07]\n",
      "  [ 1.01991650e-08 -1.11015452e-08  3.85481074e-08]\n",
      "  [-8.20490650e-08  3.51795545e-07 -2.05182471e-06]\n",
      "  [ 2.00424619e-07 -2.78554278e-07  7.08927929e-07]]\n",
      "\n",
      " [[ 8.11426824e-08  6.54060683e-08  1.34297825e-08]\n",
      "  [ 5.62026335e-07  1.27620492e-07 -5.62467158e-07]\n",
      "  [-7.71741549e-07 -2.55170080e-07 -7.55303774e-07]\n",
      "  [ 1.02014419e-08 -1.11026549e-08 -3.85482502e-08]\n",
      "  [-8.20415183e-08  3.51793105e-07  2.05182533e-06]\n",
      "  [ 2.00426729e-07 -2.78556277e-07 -7.08928063e-07]]\n",
      "\n",
      " [[-1.53481738e-07 -5.37721043e-08 -4.69211833e-13]\n",
      "  [-4.18651655e-09 -6.25005378e-08  3.97656888e-08]\n",
      "  [-4.18751645e-09 -6.25026484e-08 -3.97694657e-08]\n",
      "  [-9.82442006e-09  9.97967775e-09 -6.29017187e-14]\n",
      "  [-8.71109186e-08  2.45831914e-07  7.58022583e-14]\n",
      "  [ 2.58778375e-07 -7.70241723e-08  1.02486534e-14]]\n",
      "\n",
      " [[ 1.71996876e-07  4.11518784e-07  9.71968111e-14]\n",
      "  [-7.31674345e-08 -5.12042640e-08  2.25037112e-09]\n",
      "  [-7.31673229e-08 -5.12102600e-08 -2.25270338e-09]\n",
      "  [ 5.00953591e-08 -3.61946603e-08 -1.30643897e-13]\n",
      "  [-2.02622424e-07 -6.76679563e-07  9.70116133e-14]\n",
      "  [ 1.26871278e-07  4.03759916e-07 -7.57843580e-14]]\n",
      "\n",
      " [[-5.14510080e-07  1.75495949e-06 -5.64601813e-14]\n",
      "  [ 1.49963127e-07 -3.01051152e-07  1.66868403e-07]\n",
      "  [ 1.49964016e-07 -3.01051320e-07 -1.66869403e-07]\n",
      "  [-3.53520509e-07 -4.81375468e-07 -1.77948905e-13]\n",
      "  [ 8.81333049e-08 -5.14791171e-07 -2.53799452e-13]\n",
      "  [ 4.79987571e-07 -1.56712743e-07  4.76659451e-16]]]\n"
     ]
    }
   ],
   "source": [
    "print(efficient_analytical_alchemical_force - efficient_numerical_alchemical_force)"
   ]
  },
  {
   "cell_type": "markdown",
   "metadata": {},
   "source": [
    "$\\partial^2E/\\partial Z_i\\partial R_j$"
   ]
  },
  {
   "cell_type": "code",
   "execution_count": 31,
   "metadata": {},
   "outputs": [],
   "source": [
    "# print(inefficient_analytical_alchemical_force)"
   ]
  },
  {
   "cell_type": "markdown",
   "metadata": {},
   "source": [
    "$(\\partial^2E/\\partial Z_i\\partial R_j)_\\mathrm{analytical}$ - $(\\partial^2E/\\partial Z_i\\partial R_j)_\\mathrm{numerical}$"
   ]
  },
  {
   "cell_type": "code",
   "execution_count": 32,
   "metadata": {},
   "outputs": [],
   "source": [
    "# print(inefficient_analytical_alchemical_force[:, :, 2] - inefficient_numerical_alchemical_force)"
   ]
  },
  {
   "cell_type": "markdown",
   "metadata": {},
   "source": [
    "$(\\partial^2E/\\partial Z_i\\partial R_j)_\\mathrm{analytical,efficient}$ - $(\\partial^2E/\\partial Z_i\\partial R_j)_\\mathrm{analytical,inefficient}$"
   ]
  },
  {
   "cell_type": "code",
   "execution_count": 33,
   "metadata": {},
   "outputs": [],
   "source": [
    "# print(efficient_analytical_alchemical_force - inefficient_analytical_alchemical_force)"
   ]
  },
  {
   "cell_type": "markdown",
   "metadata": {},
   "source": [
    "$(\\partial ^2 E/ \\partial Z_I \\partial \\mathbf{F})_\\mathrm{analytical}$"
   ]
  },
  {
   "cell_type": "code",
   "execution_count": 34,
   "metadata": {},
   "outputs": [
    {
     "name": "stdout",
     "output_type": "stream",
     "text": [
      "[[-6.95770662e-02 -4.94637258e-02  2.01976787e-15]\n",
      " [-8.14181657e-01 -7.33278122e-01  1.16414205e+00]\n",
      " [-8.14181657e-01 -7.33278122e-01 -1.16414205e+00]\n",
      " [-5.37633116e-01  1.41616267e+00  2.99776527e-15]\n",
      " [ 8.84766638e-01 -2.29857064e-01 -4.42959032e-15]\n",
      " [ 1.44046214e+00  9.99961311e-01 -1.32271518e-15]]\n"
     ]
    }
   ],
   "source": [
    "print(elec_electric_dipole_gradient_f)"
   ]
  },
  {
   "cell_type": "code",
   "execution_count": 35,
   "metadata": {},
   "outputs": [
    {
     "name": "stdout",
     "output_type": "stream",
     "text": [
      "[[-6.95770660e-02 -4.94637303e-02  8.31287034e-15]\n",
      " [-8.14181653e-01 -7.33278116e-01  1.16414206e+00]\n",
      " [-8.14181653e-01 -7.33278116e-01 -1.16414206e+00]\n",
      " [-5.37633058e-01  1.41616266e+00  3.88568853e-16]\n",
      " [ 8.84766682e-01 -2.29857066e-01 -3.93730975e-15]\n",
      " [ 1.44046211e+00  9.99961297e-01 -1.61345041e-15]]\n"
     ]
    }
   ],
   "source": [
    "print(elec_electric_dipole_gradient_z)"
   ]
  },
  {
   "cell_type": "markdown",
   "metadata": {},
   "source": [
    "$(\\partial ^2 E/ \\partial Z_I \\partial \\mathbf{F})_\\mathrm{analytical}$ - $(\\partial ^2 E/ \\partial Z_I \\partial \\mathbf{F})_\\mathrm{numerical}$"
   ]
  },
  {
   "cell_type": "code",
   "execution_count": 36,
   "metadata": {},
   "outputs": [
    {
     "name": "stdout",
     "output_type": "stream",
     "text": [
      "[[ 6.08718772e-07  1.45905845e-06 -4.04672487e-13]\n",
      " [-7.12865943e-07  1.61528205e-06 -1.10451438e-05]\n",
      " [-7.12880679e-07  1.61526385e-06  1.10451414e-05]\n",
      " [-1.28061220e-06  2.39335248e-06 -2.03628016e-12]\n",
      " [ 5.07601144e-07 -4.58539005e-07  9.92368581e-13]\n",
      " [-2.25421875e-06  3.17761180e-06 -4.64008547e-12]]\n"
     ]
    }
   ],
   "source": [
    "print(elec_electric_dipole_gradient_f - numer_elec_electric_dipole_gradient)"
   ]
  },
  {
   "cell_type": "code",
   "execution_count": 37,
   "metadata": {},
   "outputs": [
    {
     "name": "stdout",
     "output_type": "stream",
     "text": [
      "[[ 6.08951086e-07  1.45462299e-06 -3.98379384e-13]\n",
      " [-7.08705168e-07  1.62149990e-06 -1.10343150e-05]\n",
      " [-7.08719909e-07  1.62148171e-06  1.10343126e-05]\n",
      " [-1.22183487e-06  2.38606894e-06 -2.03888936e-12]\n",
      " [ 5.52207311e-07 -4.60290931e-07  9.92860861e-13]\n",
      " [-2.27996933e-06  3.16338107e-06 -4.64037621e-12]]\n"
     ]
    }
   ],
   "source": [
    "print(elec_electric_dipole_gradient_z - numer_elec_electric_dipole_gradient)"
   ]
  },
  {
   "cell_type": "markdown",
   "metadata": {},
   "source": [
    "$(\\partial ^3 E/ \\partial Z_I \\partial ^2 \\mathbf{F})_\\mathrm{analytical}$"
   ]
  },
  {
   "cell_type": "code",
   "execution_count": 38,
   "metadata": {},
   "outputs": [
    {
     "name": "stdout",
     "output_type": "stream",
     "text": [
      "[[[ 1.55300779e+00  5.20240386e-01 -1.01597402e-13]\n",
      "  [ 5.20240386e-01  5.34009192e+00 -3.09355066e-13]\n",
      "  [-1.01597402e-13 -3.09355066e-13  5.39764612e+00]]\n",
      "\n",
      " [[ 3.76535404e+00  9.22795296e-01 -7.54006038e-01]\n",
      "  [ 9.22795296e-01  6.30660148e+00 -9.47413118e-01]\n",
      "  [-7.54006038e-01 -9.47413118e-01  7.49289527e+00]]\n",
      "\n",
      " [[ 3.76535404e+00  9.22795296e-01  7.54006038e-01]\n",
      "  [ 9.22795296e-01  6.30660148e+00  9.47413118e-01]\n",
      "  [ 7.54006038e-01  9.47413118e-01  7.49289527e+00]]\n",
      "\n",
      " [[ 3.81412903e+00 -2.05196128e-02 -1.03859444e-13]\n",
      "  [-2.05196128e-02  7.98650160e+00 -4.39919446e-13]\n",
      "  [-1.03859444e-13 -4.39919446e-13  5.62183256e+00]]\n",
      "\n",
      " [[ 6.61238448e+00  5.16808867e-02 -2.30907494e-13]\n",
      "  [ 5.16808867e-02  4.86118643e+00 -2.15278417e-13]\n",
      "  [-2.30907494e-13 -2.15278417e-13  5.04611341e+00]]\n",
      "\n",
      " [[ 4.92011962e+00 -2.47565066e-01 -1.60486566e-13]\n",
      "  [-2.47565066e-01  3.50877382e+00 -1.72318917e-13]\n",
      "  [-1.60486566e-13 -1.72318917e-13  3.66089866e+00]]]\n"
     ]
    }
   ],
   "source": [
    "print(elec_electric_pol_gradient)"
   ]
  },
  {
   "cell_type": "markdown",
   "metadata": {},
   "source": [
    "$(\\partial ^3 E/ \\partial Z_I \\partial ^2 \\mathbf{F})_\\mathrm{analytical}$ - $(\\partial ^3 E/ \\partial Z_I \\partial ^2 \\mathbf{F})_\\mathrm{numerical}$"
   ]
  },
  {
   "cell_type": "code",
   "execution_count": 39,
   "metadata": {},
   "outputs": [
    {
     "name": "stdout",
     "output_type": "stream",
     "text": [
      "[[[ 1.86161602e-05  3.48239463e-06  5.85306977e-11]\n",
      "  [ 3.48239463e-06 -1.92472790e-05 -5.60778035e-11]\n",
      "  [ 5.85306977e-11 -5.60778035e-11 -9.96524186e-06]]\n",
      "\n",
      " [[ 1.91937402e-05  7.93701861e-07 -4.33822924e-05]\n",
      "  [ 7.93701861e-07 -3.17760031e-05 -1.96748987e-05]\n",
      "  [-4.33822924e-05 -1.96748987e-05 -1.17773652e-05]]\n",
      "\n",
      " [[ 1.91935484e-05  7.93688505e-07  4.33823583e-05]\n",
      "  [ 7.93688505e-07 -3.17761064e-05  1.96748686e-05]\n",
      "  [ 4.33823583e-05  1.96748686e-05 -1.17780150e-05]]\n",
      "\n",
      " [[ 1.47776479e-05  6.99735270e-06  9.37864363e-11]\n",
      "  [ 6.99735270e-06 -4.58633407e-05  1.16059180e-10]\n",
      "  [ 9.37864363e-11  1.16059180e-10 -1.83187486e-05]]\n",
      "\n",
      " [[ 2.62692469e-05  2.61989369e-06 -2.29463119e-10]\n",
      "  [ 2.61989369e-06  1.12187794e-05 -2.34061870e-10]\n",
      "  [-2.29463119e-10 -2.34061870e-10 -2.00341976e-05]]\n",
      "\n",
      " [[ 7.42552682e-05 -5.09958457e-06 -2.19692228e-11]\n",
      "  [-5.09958457e-06  7.52500951e-06  5.31322958e-12]\n",
      "  [-2.19692228e-11  5.31322958e-12 -1.87730692e-05]]]\n"
     ]
    }
   ],
   "source": [
    "print(elec_electric_pol_gradient - numer_elec_electric_pol_gradient)"
   ]
  }
 ],
 "metadata": {
  "kernelspec": {
   "display_name": "aqa",
   "language": "python",
   "name": "python3"
  },
  "language_info": {
   "codemirror_mode": {
    "name": "ipython",
    "version": 3
   },
   "file_extension": ".py",
   "mimetype": "text/x-python",
   "name": "python",
   "nbconvert_exporter": "python",
   "pygments_lexer": "ipython3",
   "version": "3.11.3"
  }
 },
 "nbformat": 4,
 "nbformat_minor": 4
}
